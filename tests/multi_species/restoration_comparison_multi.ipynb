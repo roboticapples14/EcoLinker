{
 "cells": [
  {
   "cell_type": "code",
   "execution_count": 1,
   "metadata": {},
   "outputs": [],
   "source": [
    "import os\n",
    "import sys\n",
    "from scgt import GeoTiff\n",
    "sys.path.append('/Users/nvalett/Documents/Natalie/Species Dist Research/Code/ecoscape-earth/')\n",
    "sys.path.append('/Users/nvalett/Documents/Natalie/Species Dist Research/Code/ecoscape-earth/ecoscape-connectivity/')\n",
    "from EcoLinker.EcoLinker.restorationOptimizer import restorationOptimizer, defecitRestoration, lowResDefecitRestoration, noisyDefecitRestoration, utopianRestoration, flowRestoration, lowResFlowRestoration, greedyFlowRestoration, bfsFlowRestoration, lowResFlowRestoration, utopianRestorationMult, FlowDivPermRestoration, multiFlowRestoration\n",
    "from ecoscape_connectivity_local import repopulation, util\n",
    "import matplotlib.pyplot as plt\n",
    "import ecoscape_connectivity\n",
    "from scgt import GeoTiff, Tile\n",
    "import numpy as np\n",
    "import torch\n",
    "import rasterio"
   ]
  },
  {
   "cell_type": "code",
   "execution_count": 6,
   "metadata": {},
   "outputs": [
    {
     "name": "stdout",
     "output_type": "stream",
     "text": [
      "/Users/nvalett/Documents/Natalie/Species Dist Research/Thesis/EcoLinker/tests/assets/smol/oaktit/transmission_refined_1.csv\n",
      "/Users/nvalett/Documents/Natalie/Species Dist Research/Thesis/EcoLinker/tests/assets/paper_repro/transmission_refined_1.csv\n"
     ]
    }
   ],
   "source": [
    "# OAKTIT\n",
    "DATA_PATH=\"/Users/nvalett/Documents/Natalie/Species Dist Research/Thesis/EcoLinker/tests/assets\"\n",
    "TERRAIN_PATH = os.path.join(DATA_PATH, \"smol/terrain.tif\")\n",
    "AVG_FLOW_PATH = os.path.join(DATA_PATH, \"smol/avg_flow.tif\")\n",
    "\n",
    "OAKTIT_HABITAT_PATH = os.path.join(DATA_PATH, \"smol/oaktit/habitat.tif\")\n",
    "OAKTIT_TERRAIN_PATH = os.path.join(DATA_PATH, \"smol/oaktit/terrain.tif\")\n",
    "OAKTIT_RESTORED_TERRAIN_PATH = os.path.join(DATA_PATH, \"smol/oaktit/restored_terrain.tif\")\n",
    "OAKTIT_PERMEABILITY_PATH = os.path.join(DATA_PATH, \"smol/oaktit/transmission_refined_1.csv\")\n",
    "\n",
    "OAKTIT_CONNECTIVITY_PATH = os.path.join(DATA_PATH, \"smol/oaktit/repop.tif\")\n",
    "OAKTIT_RESTORED_CONNECTIVITY_PATH = os.path.join(DATA_PATH, \"smol/oaktit/repop_after_restoration.tif\")\n",
    "OAKTIT_FLOW_PATH = os.path.join(DATA_PATH, \"smol/oaktit/grad.tif\")\n",
    "OAKTIT_DEATH_PATH = os.path.join(DATA_PATH, \"smol/oaktit/death.tif\")\n",
    "OAKTIT_RESTORED_FLOW_PATH = os.path.join(DATA_PATH, \"smol/oaktit/grad_after_restoration.tif\")\n",
    "OAKTIT_LOW_RES_FLOW_PATH = os.path.join(DATA_PATH, \"smol/oaktit/flow_low_res.tif\")\n",
    "\n",
    "ACOWOO_HABITAT_PATH = os.path.join(DATA_PATH, \"smol/hab_smol.tif\")\n",
    "ACOWOO_RESTORED_TERRAIN_PATH = os.path.join(DATA_PATH, \"smol/restored_ter_smol.tif\")\n",
    "ACOWOO_PERMEABILITY_PATH = os.path.join(DATA_PATH, \"paper_repro/transmission_refined_1.csv\")\n",
    "\n",
    "ACOWOO_CONNECTIVITY_PATH = os.path.join(DATA_PATH, \"smol/repop.tif\")\n",
    "ACOWOO_RESTORED_CONNECTIVITY_PATH = os.path.join(DATA_PATH, \"smol/repop_after_restoration.tif\")\n",
    "ACOWOO_FLOW_PATH = os.path.join(DATA_PATH, \"smol/grad.tif\")\n",
    "ACOWOO_DEATH_PATH = os.path.join(DATA_PATH, \"smol/death.tif\")\n",
    "ACOWOO_RESTORED_FLOW_PATH = os.path.join(DATA_PATH, \"smol/grad_after_restoration.tif\")\n",
    "ACOWOO_LOW_RES_FLOW_PATH = os.path.join(DATA_PATH, \"smol/flow_low_res.tif\")\n",
    "\n",
    "unrestorable = [104,500, 501, 502, 503,504,505,506,507,508,509,510,511,512,513,514,515,516,517,518,900, 901, 902, 903, 904, 905, 906,907,980,981,982,983,984,985,986,909,910,1000,1001,1002,1003,1004,1100,1101,1111,1112,1102,1103,1104,1105,1106,1200,1201,1202,1203,1204,1205,1206,1207,1300,1301,1302,1303,1304,1305,    1402]\n",
    "\n",
    "with GeoTiff.from_file(OAKTIT_HABITAT_PATH) as hab:\n",
    "    hab_mat = hab.get_all_as_tile().m.squeeze(0)\n",
    "\n",
    "multiFlowOptimizer = multiFlowRestoration([OAKTIT_HABITAT_PATH, ACOWOO_HABITAT_PATH], TERRAIN_PATH, [OAKTIT_RESTORED_TERRAIN_PATH, ACOWOO_RESTORED_TERRAIN_PATH], [OAKTIT_CONNECTIVITY_PATH, ACOWOO_CONNECTIVITY_PATH], [OAKTIT_FLOW_PATH, ACOWOO_FLOW_PATH], [OAKTIT_RESTORED_CONNECTIVITY_PATH, ACOWOO_RESTORED_CONNECTIVITY_PATH], [OAKTIT_RESTORED_FLOW_PATH, ACOWOO_RESTORED_FLOW_PATH], [OAKTIT_PERMEABILITY_PATH, ACOWOO_PERMEABILITY_PATH], [(1, 10), (2, 40)], AVG_FLOW_PATH, 50)"
   ]
  },
  {
   "cell_type": "markdown",
   "metadata": {},
   "source": [
    "# Test multiFlowRestoration"
   ]
  },
  {
   "cell_type": "code",
   "execution_count": 3,
   "metadata": {},
   "outputs": [
    {
     "name": "stderr",
     "output_type": "stream",
     "text": [
      "ERROR 1: PROJ: internal_proj_create_from_name: /Users/nvalett/opt/anaconda3/share/proj/proj.db lacks DATABASE.LAYOUT.VERSION.MAJOR / DATABASE.LAYOUT.VERSION.MINOR metadata. It comes from another PROJ installation.\n",
      "ERROR 1: PROJ: internal_proj_create_from_name: /Users/nvalett/opt/anaconda3/share/proj/proj.db lacks DATABASE.LAYOUT.VERSION.MAJOR / DATABASE.LAYOUT.VERSION.MINOR metadata. It comes from another PROJ installation.\n",
      "ERROR 1: PROJ: internal_proj_create_from_name: /Users/nvalett/opt/anaconda3/share/proj/proj.db lacks DATABASE.LAYOUT.VERSION.MAJOR / DATABASE.LAYOUT.VERSION.MINOR metadata. It comes from another PROJ installation.\n",
      "ERROR 1: PROJ: internal_proj_create_from_name: /Users/nvalett/opt/anaconda3/share/proj/proj.db lacks DATABASE.LAYOUT.VERSION.MAJOR / DATABASE.LAYOUT.VERSION.MINOR metadata. It comes from another PROJ installation.\n",
      "ERROR 1: PROJ: internal_proj_create_from_name: /Users/nvalett/opt/anaconda3/share/proj/proj.db lacks DATABASE.LAYOUT.VERSION.MAJOR / DATABASE.LAYOUT.VERSION.MINOR metadata. It comes from another PROJ installation.\n",
      "ERROR 1: PROJ: internal_proj_create_from_name: /Users/nvalett/opt/anaconda3/share/proj/proj.db lacks DATABASE.LAYOUT.VERSION.MAJOR / DATABASE.LAYOUT.VERSION.MINOR metadata. It comes from another PROJ installation.\n",
      "ERROR 1: PROJ: internal_proj_create_from_name: /Users/nvalett/opt/anaconda3/share/proj/proj.db lacks DATABASE.LAYOUT.VERSION.MAJOR / DATABASE.LAYOUT.VERSION.MINOR metadata. It comes from another PROJ installation.\n",
      "ERROR 1: PROJ: internal_proj_create_from_name: /Users/nvalett/opt/anaconda3/share/proj/proj.db lacks DATABASE.LAYOUT.VERSION.MAJOR / DATABASE.LAYOUT.VERSION.MINOR metadata. It comes from another PROJ installation.\n",
      "ERROR 1: PROJ: internal_proj_create_from_name: /Users/nvalett/opt/anaconda3/share/proj/proj.db lacks DATABASE.LAYOUT.VERSION.MAJOR / DATABASE.LAYOUT.VERSION.MINOR metadata. It comes from another PROJ installation.\n",
      "ERROR 1: PROJ: internal_proj_create_from_name: /Users/nvalett/opt/anaconda3/share/proj/proj.db lacks DATABASE.LAYOUT.VERSION.MAJOR / DATABASE.LAYOUT.VERSION.MINOR metadata. It comes from another PROJ installation.\n"
     ]
    },
    {
     "name": "stdout",
     "output_type": "stream",
     "text": [
      "Delta connectivity: 48415\n",
      "Permiability Restored: 38.85304753921684\n",
      "Connectivity/permiability_restored: 1246.11\n",
      "Connectivity/permiability_restored: 968.3\n",
      "Delta connectivity: 5984\n",
      "Permiability Restored: 4.972583941605838\n",
      "Connectivity/permiability_restored: 1203.4\n",
      "Connectivity/permiability_restored: 119.68\n"
     ]
    }
   ],
   "source": [
    "# Flow restoration\n",
    "\n",
    "multiFlowOptimizer.run_connectivity()\n",
    "permiability_restoreds = multiFlowOptimizer.restore()\n",
    "multiFlowOptimizer.run_connectivity(gap_crossing=1, num_gaps=10, restored=True)\n",
    "\n",
    "delta_conns = multiFlowOptimizer.get_delta_connectivity()\n",
    "\n",
    "for delta_conn, permiability_restored in zip(delta_conns, permiability_restoreds):\n",
    "    print(f\"Delta connectivity: {delta_conn}\")\n",
    "    print(f\"Permiability Restored: {permiability_restored}\")\n",
    "    print(f\"Connectivity/permiability_restored: {round(delta_conn/permiability_restored, 2)}\")\n",
    "    print(f\"Connectivity/permiability_restored: {round(delta_conn/multiFlowOptimizer.pixels, 2)}\")"
   ]
  },
  {
   "cell_type": "code",
   "execution_count": 9,
   "metadata": {},
   "outputs": [
    {
     "ename": "TypeError",
     "evalue": "list indices must be integers or slices, not tuple",
     "output_type": "error",
     "traceback": [
      "\u001b[0;31m---------------------------------------------------------------------------\u001b[0m",
      "\u001b[0;31mTypeError\u001b[0m                                 Traceback (most recent call last)",
      "Cell \u001b[0;32mIn[9], line 1\u001b[0m\n\u001b[0;32m----> 1\u001b[0m \u001b[38;5;28;01mfor\u001b[39;00m r, bird \u001b[38;5;129;01min\u001b[39;00m \u001b[38;5;28mzip\u001b[39m(\u001b[43mmultiFlowOptimizer\u001b[49m\u001b[38;5;241;43m.\u001b[39;49m\u001b[43mrestorers\u001b[49m\u001b[43m[\u001b[49m\u001b[38;5;124;43m'\u001b[39;49m\u001b[38;5;124;43moaktit\u001b[39;49m\u001b[38;5;124;43m'\u001b[39;49m\u001b[43m,\u001b[49m\u001b[43m \u001b[49m\u001b[38;5;124;43m'\u001b[39;49m\u001b[38;5;124;43macowoo\u001b[39;49m\u001b[38;5;124;43m'\u001b[39;49m\u001b[43m]\u001b[49m):\n\u001b[1;32m      2\u001b[0m     TERRAIN_CHANGED_UTOPIAN \u001b[38;5;241m=\u001b[39m os\u001b[38;5;241m.\u001b[39mpath\u001b[38;5;241m.\u001b[39mjoin(DATA_PATH, \u001b[38;5;124mf\u001b[39m\u001b[38;5;124m\"\u001b[39m\u001b[38;5;124msmol/changed_terrain_flow_multi_species_multi_\u001b[39m\u001b[38;5;132;01m{\u001b[39;00mbird\u001b[38;5;132;01m}\u001b[39;00m\u001b[38;5;124m.tif\u001b[39m\u001b[38;5;124m\"\u001b[39m)\n\u001b[1;32m      3\u001b[0m     CONNECTIVITY_DIFF_UTOPIAN \u001b[38;5;241m=\u001b[39m os\u001b[38;5;241m.\u001b[39mpath\u001b[38;5;241m.\u001b[39mjoin(DATA_PATH, \u001b[38;5;124mf\u001b[39m\u001b[38;5;124m\"\u001b[39m\u001b[38;5;124msmol/connectivity_diff_flow_multi_species_multi_\u001b[39m\u001b[38;5;132;01m{\u001b[39;00mbird\u001b[38;5;132;01m}\u001b[39;00m\u001b[38;5;124m.tif\u001b[39m\u001b[38;5;124m\"\u001b[39m)\n",
      "\u001b[0;31mTypeError\u001b[0m: list indices must be integers or slices, not tuple"
     ]
    }
   ],
   "source": [
    "for r, bird in zip(multiFlowOptimizer.restorers, ['oaktit', 'acowoo']):\n",
    "    TERRAIN_CHANGED_UTOPIAN = os.path.join(DATA_PATH, f\"smol/changed_terrain_flow_multi_species_multi_{bird}.tif\")\n",
    "    CONNECTIVITY_DIFF_UTOPIAN = os.path.join(DATA_PATH, f\"smol/connectivity_diff_flow_multi_species_multi_{bird}.tif\")\n",
    "\n",
    "    # paint changed terrain pixels\n",
    "    r.paint_changed_terrain_geotiff(TERRAIN_CHANGED_UTOPIAN, value=1)\n",
    "    # view diff of before and after\n",
    "    r.get_connectivity_difference_tif(CONNECTIVITY_DIFF_UTOPIAN)"
   ]
  },
  {
   "cell_type": "code",
   "execution_count": 6,
   "metadata": {},
   "outputs": [
    {
     "name": "stdout",
     "output_type": "stream",
     "text": [
      "/Users/nvalett/Documents/Natalie/Species Dist Research/Thesis/EcoLinker/tests/assets/smol/oaktit/habitat.tif\n",
      "/Users/nvalett/Documents/Natalie/Species Dist Research/Thesis/EcoLinker/tests/assets/smol/hab_smol.tif\n"
     ]
    }
   ],
   "source": [
    "for r in multiFlowOptimizer.restorers:\n",
    "    print(r.habitat_fn)"
   ]
  },
  {
   "cell_type": "code",
   "execution_count": 12,
   "metadata": {},
   "outputs": [],
   "source": [
    "# ACOWOO\n",
    "DATA_PATH=\"/Users/nvalett/Documents/Natalie/Species Dist Research/Thesis/EcoLinker/tests/assets\"\n",
    "HABITAT_PATH = os.path.join(DATA_PATH, \"smol/hab_smol.tif\")\n",
    "TERRAIN_PATH = os.path.join(DATA_PATH, \"smol/terrain.tif\")\n",
    "RESTORED_TERRAIN_PATH = os.path.join(DATA_PATH, \"smol/restored_ter_smol.tif\")\n",
    "PERMEABILITY_PATH = os.path.join(DATA_PATH, \"paper_repro/transmission_refined_1.csv\")\n",
    "\n",
    "CONNECTIVITY_PATH = os.path.join(DATA_PATH, \"smol/repop.tif\")\n",
    "RESTORED_CONNECTIVITY_PATH = os.path.join(DATA_PATH, \"smol/repop_after_restoration.tif\")\n",
    "FLOW_PATH = os.path.join(DATA_PATH, \"smol/grad.tif\")\n",
    "DEATH_PATH = os.path.join(DATA_PATH, \"smol/death.tif\")\n",
    "RESTORED_FLOW_PATH = os.path.join(DATA_PATH, \"smol/grad_after_restoration.tif\")\n",
    "LOW_RES_FLOW_PATH = os.path.join(DATA_PATH, \"smol/flow_low_res.tif\")\n",
    "\n",
    "unrestorable = [104,500, 501, 502, 503,504,505,506,507,508,509,510,511,512,513,514,515,516,517,518,900, 901, 902, 903, 904, 905, 906,907,980,981,982,983,984,985,986,909,910,1000,1001,1002,1003,1004,1100,1101,1111,1112,1102,1103,1104,1105,1106,1200,1201,1202,1203,1204,1205,1206,1207,1300,1301,1302,1303,1304,1305,    1402]\n",
    "\n",
    "with GeoTiff.from_file(HABITAT_PATH) as hab:\n",
    "    hab_mat = hab.get_all_as_tile().m.squeeze(0)\n",
    "\n",
    "flowOptimizerAcowoo = flowRestoration(HABITAT_PATH, TERRAIN_PATH, RESTORED_TERRAIN_PATH, CONNECTIVITY_PATH, FLOW_PATH, RESTORED_CONNECTIVITY_PATH, RESTORED_FLOW_PATH, PERMEABILITY_PATH, 50)"
   ]
  },
  {
   "cell_type": "code",
   "execution_count": 13,
   "metadata": {},
   "outputs": [
    {
     "name": "stdout",
     "output_type": "stream",
     "text": [
      "Restoring pixel (176, 109) from permiability 0.22064423422344628 to 1.0\n",
      "Restoring pixel (277, 36) from permiability 0.22064423422344628 to 1.0\n",
      "Restoring pixel (245, 102) from permiability 0.22064423422344628 to 1.0\n",
      "Restoring pixel (245, 122) from permiability 0.22064423422344628 to 1.0\n",
      "Restoring pixel (11, 115) from permiability 0.22064423422344628 to 1.0\n",
      "Restoring pixel (155, 139) from permiability 0.258891150760388 to 1.0\n",
      "Restoring pixel (175, 109) from permiability 0.22064423422344628 to 1.0\n",
      "Restoring pixel (243, 122) from permiability 0.22064423422344628 to 1.0\n",
      "Restoring pixel (246, 122) from permiability 0.22064423422344628 to 1.0\n",
      "Restoring pixel (41, 74) from permiability 0.22064423422344628 to 1.0\n",
      "Restoring pixel (109, 141) from permiability 0.22064423422344628 to 1.0\n",
      "Restoring pixel (89, 132) from permiability 0.22064423422344628 to 1.0\n",
      "Restoring pixel (109, 142) from permiability 0.22064423422344628 to 1.0\n",
      "Restoring pixel (43, 72) from permiability 0.22064423422344628 to 1.0\n",
      "Restoring pixel (278, 36) from permiability 0.22064423422344628 to 1.0\n",
      "Restoring pixel (134, 141) from permiability 0.22064423422344628 to 1.0\n",
      "Restoring pixel (119, 145) from permiability 0.22064423422344628 to 1.0\n",
      "Restoring pixel (118, 145) from permiability 0.22064423422344628 to 1.0\n",
      "Restoring pixel (241, 188) from permiability 0.258891150760388 to 1.0\n",
      "Restoring pixel (244, 122) from permiability 0.22064423422344628 to 1.0\n",
      "Restoring pixel (203, 115) from permiability 0.22064423422344628 to 1.0\n",
      "Restoring pixel (100, 140) from permiability 0.22064423422344628 to 1.0\n",
      "Restoring pixel (133, 141) from permiability 0.22064423422344628 to 1.0\n",
      "Restoring pixel (103, 117) from permiability 0.22064423422344628 to 1.0\n",
      "Restoring pixel (242, 122) from permiability 0.22064423422344628 to 1.0\n",
      "Restoring pixel (41, 85) from permiability 0.22064423422344628 to 1.0\n",
      "Restoring pixel (202, 115) from permiability 0.22064423422344628 to 1.0\n",
      "Restoring pixel (203, 109) from permiability 0.22064423422344628 to 1.0\n",
      "Restoring pixel (204, 109) from permiability 0.22064423422344628 to 1.0\n",
      "Restoring pixel (277, 118) from permiability 0.22064423422344628 to 1.0\n",
      "Restoring pixel (91, 8) from permiability 0.22064423422344628 to 1.0\n",
      "Restoring pixel (95, 103) from permiability 0.22064423422344628 to 1.0\n",
      "Restoring pixel (102, 140) from permiability 0.22064423422344628 to 1.0\n",
      "Restoring pixel (188, 108) from permiability 0.22064423422344628 to 1.0\n",
      "Restoring pixel (101, 141) from permiability 0.22064423422344628 to 1.0\n",
      "Restoring pixel (107, 142) from permiability 0.22064423422344628 to 1.0\n",
      "Restoring pixel (98, 79) from permiability 0.22064423422344628 to 1.0\n",
      "Restoring pixel (244, 102) from permiability 0.22064423422344628 to 1.0\n",
      "Restoring pixel (163, 105) from permiability 0.22064423422344628 to 1.0\n",
      "Restoring pixel (117, 144) from permiability 0.22064423422344628 to 1.0\n",
      "Restoring pixel (202, 109) from permiability 0.22064423422344628 to 1.0\n",
      "Restoring pixel (44, 75) from permiability 0.22064423422344628 to 1.0\n",
      "Restoring pixel (116, 58) from permiability 0.22064423422344628 to 1.0\n",
      "Restoring pixel (43, 75) from permiability 0.22064423422344628 to 1.0\n",
      "Restoring pixel (82, 123) from permiability 0.22064423422344628 to 1.0\n",
      "Restoring pixel (92, 135) from permiability 0.22064423422344628 to 1.0\n",
      "Restoring pixel (118, 183) from permiability 0.22064423422344628 to 1.0\n",
      "Restoring pixel (215, 186) from permiability 0.258891150760388 to 1.0\n",
      "Restoring pixel (201, 115) from permiability 0.22064423422344628 to 1.0\n",
      "Restoring pixel (44, 73) from permiability 0.22064423422344628 to 1.0\n"
     ]
    },
    {
     "name": "stderr",
     "output_type": "stream",
     "text": [
      "ERROR 1: PROJ: internal_proj_create_from_name: /Users/nvalett/opt/anaconda3/share/proj/proj.db lacks DATABASE.LAYOUT.VERSION.MAJOR / DATABASE.LAYOUT.VERSION.MINOR metadata. It comes from another PROJ installation.\n",
      "ERROR 1: PROJ: internal_proj_create_from_name: /Users/nvalett/opt/anaconda3/share/proj/proj.db lacks DATABASE.LAYOUT.VERSION.MAJOR / DATABASE.LAYOUT.VERSION.MINOR metadata. It comes from another PROJ installation.\n"
     ]
    },
    {
     "name": "stdout",
     "output_type": "stream",
     "text": [
      "Delta connectivity: 152596\n",
      "Permiability Restored: 38.85304753921684\n",
      "Connectivity/permiability_restored: 3927.516878720394\n",
      "Connectivity/pixels restored: 3051.92\n",
      "Restoring pixel (176, 109) from permiability 0.9 to 1.0\n",
      "Restoring pixel (277, 36) from permiability 0.9 to 1.0\n",
      "Restoring pixel (245, 102) from permiability 0.9 to 1.0\n",
      "Restoring pixel (245, 122) from permiability 0.9 to 1.0\n",
      "Restoring pixel (11, 115) from permiability 0.9 to 1.0\n",
      "Restoring pixel (155, 139) from permiability 0.9091386861313868 to 1.0\n",
      "Restoring pixel (175, 109) from permiability 0.9 to 1.0\n",
      "Restoring pixel (243, 122) from permiability 0.9 to 1.0\n",
      "Restoring pixel (246, 122) from permiability 0.9 to 1.0\n",
      "Restoring pixel (41, 74) from permiability 0.9 to 1.0\n",
      "Restoring pixel (109, 141) from permiability 0.9 to 1.0\n",
      "Restoring pixel (89, 132) from permiability 0.9 to 1.0\n",
      "Restoring pixel (109, 142) from permiability 0.9 to 1.0\n",
      "Restoring pixel (43, 72) from permiability 0.9 to 1.0\n",
      "Restoring pixel (278, 36) from permiability 0.9 to 1.0\n",
      "Restoring pixel (134, 141) from permiability 0.9 to 1.0\n",
      "Restoring pixel (119, 145) from permiability 0.9 to 1.0\n",
      "Restoring pixel (118, 145) from permiability 0.9 to 1.0\n",
      "Restoring pixel (241, 188) from permiability 0.9091386861313868 to 1.0\n",
      "Restoring pixel (244, 122) from permiability 0.9 to 1.0\n",
      "Restoring pixel (203, 115) from permiability 0.9 to 1.0\n",
      "Restoring pixel (100, 140) from permiability 0.9 to 1.0\n",
      "Restoring pixel (133, 141) from permiability 0.9 to 1.0\n",
      "Restoring pixel (103, 117) from permiability 0.9 to 1.0\n",
      "Restoring pixel (242, 122) from permiability 0.9 to 1.0\n",
      "Restoring pixel (41, 85) from permiability 0.9 to 1.0\n",
      "Restoring pixel (202, 115) from permiability 0.9 to 1.0\n",
      "Restoring pixel (203, 109) from permiability 0.9 to 1.0\n",
      "Restoring pixel (204, 109) from permiability 0.9 to 1.0\n",
      "Restoring pixel (277, 118) from permiability 0.9 to 1.0\n",
      "Restoring pixel (91, 8) from permiability 0.9 to 1.0\n",
      "Restoring pixel (95, 103) from permiability 0.9 to 1.0\n",
      "Restoring pixel (102, 140) from permiability 0.9 to 1.0\n",
      "Restoring pixel (188, 108) from permiability 0.9 to 1.0\n",
      "Restoring pixel (101, 141) from permiability 0.9 to 1.0\n",
      "Restoring pixel (107, 142) from permiability 0.9 to 1.0\n",
      "Restoring pixel (98, 79) from permiability 0.9 to 1.0\n",
      "Restoring pixel (244, 102) from permiability 0.9 to 1.0\n",
      "Restoring pixel (163, 105) from permiability 0.9 to 1.0\n",
      "Restoring pixel (117, 144) from permiability 0.9 to 1.0\n",
      "Restoring pixel (202, 109) from permiability 0.9 to 1.0\n",
      "Restoring pixel (44, 75) from permiability 0.9 to 1.0\n",
      "Restoring pixel (116, 58) from permiability 0.9 to 1.0\n",
      "Restoring pixel (43, 75) from permiability 0.9 to 1.0\n",
      "Restoring pixel (82, 123) from permiability 0.9 to 1.0\n",
      "Restoring pixel (92, 135) from permiability 0.9 to 1.0\n",
      "Restoring pixel (118, 183) from permiability 0.9 to 1.0\n",
      "Restoring pixel (215, 186) from permiability 0.9091386861313868 to 1.0\n",
      "Restoring pixel (201, 115) from permiability 0.9 to 1.0\n",
      "Restoring pixel (44, 73) from permiability 0.9 to 1.0\n"
     ]
    },
    {
     "name": "stderr",
     "output_type": "stream",
     "text": [
      "ERROR 1: PROJ: internal_proj_create_from_name: /Users/nvalett/opt/anaconda3/share/proj/proj.db lacks DATABASE.LAYOUT.VERSION.MAJOR / DATABASE.LAYOUT.VERSION.MINOR metadata. It comes from another PROJ installation.\n",
      "ERROR 1: PROJ: internal_proj_create_from_name: /Users/nvalett/opt/anaconda3/share/proj/proj.db lacks DATABASE.LAYOUT.VERSION.MAJOR / DATABASE.LAYOUT.VERSION.MINOR metadata. It comes from another PROJ installation.\n"
     ]
    },
    {
     "name": "stdout",
     "output_type": "stream",
     "text": [
      "Delta connectivity: 35071\n",
      "Permiability Restored: 4.972583941605839\n",
      "Connectivity/permiability_restored: 7052.872392270611\n",
      "Connectivity/pixels restored: 701.42\n"
     ]
    }
   ],
   "source": [
    "# flowOptimizerOaktit.run_connectivity(gap_crossing=2, num_gaps=40)\n",
    "# flowOptimizerAcowoo.run_connectivity(gap_crossing=2, num_gaps=40)\n",
    "\n",
    "with GeoTiff.from_file(flowOptimizerOaktit.flow_fn) as flow_oaktit_tif:\n",
    "    flow_oaktit = flow_oaktit_tif.get_all_as_tile()\n",
    "    with GeoTiff.from_file(flowOptimizerAcowoo.flow_fn) as flow_acowoo_tif:\n",
    "        flow_acowoo = flow_acowoo_tif.get_all_as_tile()\n",
    "        flow = (flow_oaktit.m + flow_acowoo.m) / 2\n",
    "        flow_oaktit.m = flow\n",
    "        \n",
    "        flow_acowoo_tif.set_tile(flow_oaktit)\n",
    "        flow_oaktit_tif.set_tile(flow_oaktit)\n",
    "\n",
    "# restore oaktit\n",
    "permiability_restored = flowOptimizerOaktit.restore(verbose=True)\n",
    "flowOptimizerOaktit.run_connectivity(gap_crossing=2, num_gaps=40, restored=True)\n",
    "\n",
    "print(f\"Delta connectivity: {flowOptimizerOaktit.get_delta_connectivity()}\")\n",
    "print(f\"Permiability Restored: {permiability_restored}\")\n",
    "print(f\"Connectivity/permiability_restored: {flowOptimizerOaktit.get_delta_connectivity()/permiability_restored}\")\n",
    "print(f\"Connectivity/pixels restored: {flowOptimizerOaktit.get_delta_connectivity()/flowOptimizerOaktit.pixels}\")\n",
    "\n",
    "# restore acowoo\n",
    "permiability_restored = flowOptimizerAcowoo.restore(verbose=True)\n",
    "flowOptimizerAcowoo.run_connectivity(gap_crossing=2, num_gaps=40, restored=True)\n",
    "\n",
    "print(f\"Delta connectivity: {flowOptimizerAcowoo.get_delta_connectivity()}\")\n",
    "print(f\"Permiability Restored: {permiability_restored}\")\n",
    "print(f\"Connectivity/permiability_restored: {flowOptimizerAcowoo.get_delta_connectivity()/permiability_restored}\")\n",
    "print(f\"Connectivity/pixels restored: {flowOptimizerAcowoo.get_delta_connectivity()/flowOptimizerAcowoo.pixels}\")"
   ]
  },
  {
   "cell_type": "code",
   "execution_count": null,
   "metadata": {},
   "outputs": [],
   "source": [
    "DATA_PATH=\"/Users/nvalett/Documents/Natalie/Species Dist Research/Thesis/EcoLinker/tests/assets\"\n",
    "HABITAT_PATH = os.path.join(DATA_PATH, \"smol/hab_smol.tif\")\n",
    "TERRAIN_PATH = os.path.join(DATA_PATH, \"smol/terrain.tif\")\n",
    "RESTORED_TERRAIN_PATH = os.path.join(DATA_PATH, \"smol/restored_ter_smol.tif\")\n",
    "PERMEABILITY_PATH = os.path.join(DATA_PATH, \"paper_repro/transmission_refined_1.csv\")\n",
    "\n",
    "CONNECTIVITY_PATH = os.path.join(DATA_PATH, \"smol/repop.tif\")\n",
    "NOISY_CONNECTIVITY_PATH = os.path.join(DATA_PATH, \"smol/repop_noisy.tif\")\n",
    "UTOPIAN_CONNECTIVITY_PATH = os.path.join(DATA_PATH, \"smol/repop_utopian.tif\")\n",
    "RESTORED_CONNECTIVITY_PATH = os.path.join(DATA_PATH, \"smol/repop_after_restoration.tif\")\n",
    "FLOW_PATH = os.path.join(DATA_PATH, \"smol/grad.tif\")\n",
    "NOISY_FLOW_PATH = os.path.join(DATA_PATH, \"smol/grad_noisy.tif\")\n",
    "UTOPIAN_FLOW_PATH = os.path.join(DATA_PATH, \"smol/grad_utopian.tif\")\n",
    "RESTORED_FLOW_PATH = os.path.join(DATA_PATH, \"smol/grad_after_restoration.tif\")\n",
    "DEATH_PATH = os.path.join(DATA_PATH, \"smol/death.tif\")\n",
    "LOW_RES_DEATH_PATH = os.path.join(DATA_PATH, \"smol/death.tif\")\n",
    "\n",
    "# terrain changed tiffs\n",
    "TERRAIN_CHANGED_DEFICIT = os.path.join(DATA_PATH, \"smol/changed_terrain_defecit_100.tif\")\n",
    "TERRAIN_CHANGED_NOISY = os.path.join(DATA_PATH, \"smol/changed_terrain_noisy.tif\")\n",
    "TERRAIN_CHANGED_UTOPIAN = os.path.join(DATA_PATH, \"smol/changed_terrain_utopian.tif\")\n",
    "TERRAIN_CHANGED_PROBALISTIC = os.path.join(DATA_PATH, \"smol/changed_terrain_prob_100.tif\")\n",
    "# changed connectivity\n",
    "CONNECTIVITY_DIFF_DEFECIT = os.path.join(DATA_PATH, \"smol/connectivity_diff_defecit_100.tif\")\n",
    "CONNECTIVITY_DIFF_NOISY = os.path.join(DATA_PATH, \"smol/connectivity_diff_noisy.tif\")\n",
    "CONNECTIVITY_DIFF_UTOPIAN = os.path.join(DATA_PATH, \"smol/connectivity_diff_utopian.tif\")\n",
    "CONNECTIVITY_DIFF_PROBALISTIC = os.path.join(DATA_PATH, \"smol/connectivity_diff_prob_100.tif\")\n",
    "\n",
    "PERMIABILITY_TIFF_PATH = os.path.join(DATA_PATH, \"smol/permiability.tif\")\n",
    "\n",
    "\n",
    "unrestorable = [104,500, 501, 502, 503,504,505,506,507,508,509,510,511,512,513,514,515,516,517,518,900, 901, 902, 903, 904, 905, 906,907,980,981,982,983,984,985,986,909,910,1000,1001,1002,1003,1004,1100,1101,1111,1112,1102,1103,1104,1105,1106,1200,1201,1202,1203,1204,1205,1206,1207,1300,1301,1302,1303,1304,1305,    1402]\n",
    "\n",
    "with GeoTiff.from_file(HABITAT_PATH) as hab:\n",
    "    hab_mat = hab.get_all_as_tile().m.squeeze(0)\n",
    "\n",
    "defecitOptimizer = defecitRestoration(HABITAT_PATH, TERRAIN_PATH, RESTORED_TERRAIN_PATH, CONNECTIVITY_PATH, FLOW_PATH, RESTORED_CONNECTIVITY_PATH, RESTORED_FLOW_PATH, DEATH_PATH, PERMEABILITY_PATH, 50) #, hab_mat, unrestorable)\n",
    "flowDivPermOptimizer = FlowDivPermRestoration(HABITAT_PATH, TERRAIN_PATH, RESTORED_TERRAIN_PATH, CONNECTIVITY_PATH, FLOW_PATH, RESTORED_CONNECTIVITY_PATH, RESTORED_FLOW_PATH, DEATH_PATH, PERMEABILITY_PATH, 50, flow_power=3) #, hab_mat, unrestorable)\n",
    "noisyOptimizer = noisyDefecitRestoration(HABITAT_PATH, TERRAIN_PATH, RESTORED_TERRAIN_PATH, CONNECTIVITY_PATH, FLOW_PATH, RESTORED_CONNECTIVITY_PATH, RESTORED_FLOW_PATH, DEATH_PATH, PERMEABILITY_PATH, 50, NOISY_CONNECTIVITY_PATH, NOISY_FLOW_PATH, 1, hab_mat, unrestorable)\n",
    "lowResDefecitOptimizer = lowResDefecitRestoration(HABITAT_PATH, TERRAIN_PATH, RESTORED_TERRAIN_PATH, CONNECTIVITY_PATH, RESTORED_CONNECTIVITY_PATH, FLOW_PATH, RESTORED_FLOW_PATH, DEATH_PATH, LOW_RES_DEATH_PATH, PERMEABILITY_PATH, 2, 2, 50, hab_mat, unrestorable)\n",
    "\n",
    "utopianOptimizer = utopianRestoration(HABITAT_PATH, TERRAIN_PATH, RESTORED_TERRAIN_PATH, CONNECTIVITY_PATH, FLOW_PATH, RESTORED_CONNECTIVITY_PATH, RESTORED_FLOW_PATH, PERMEABILITY_PATH, 50, UTOPIAN_CONNECTIVITY_PATH, UTOPIAN_FLOW_PATH, 1.0, hab_mat, unrestorable)\n",
    "flowOptimizer = flowRestoration(HABITAT_PATH, TERRAIN_PATH, RESTORED_TERRAIN_PATH, CONNECTIVITY_PATH, FLOW_PATH, RESTORED_CONNECTIVITY_PATH, RESTORED_FLOW_PATH, PERMEABILITY_PATH, 50, hab_mat, unrestorable)"
   ]
  },
  {
   "cell_type": "code",
   "execution_count": 14,
   "metadata": {},
   "outputs": [
    {
     "name": "stderr",
     "output_type": "stream",
     "text": [
      "ERROR 1: PROJ: internal_proj_create_from_name: /Users/nvalett/opt/anaconda3/share/proj/proj.db lacks DATABASE.LAYOUT.VERSION.MAJOR / DATABASE.LAYOUT.VERSION.MINOR metadata. It comes from another PROJ installation.\n",
      "ERROR 1: PROJ: internal_proj_create_from_name: /Users/nvalett/opt/anaconda3/share/proj/proj.db lacks DATABASE.LAYOUT.VERSION.MAJOR / DATABASE.LAYOUT.VERSION.MINOR metadata. It comes from another PROJ installation.\n"
     ]
    }
   ],
   "source": [
    "TERRAIN_CHANGED_UTOPIAN = os.path.join(DATA_PATH, \"smol/changed_terrain_flow_multi_species_acowoo.tif\")\n",
    "CONNECTIVITY_DIFF_UTOPIAN = os.path.join(DATA_PATH, \"smol/connectivity_diff_flow_multi_species_acowoo.tif\")\n",
    "\n",
    "# paint changed terrain pixels\n",
    "flowOptimizerAcowoo.paint_changed_terrain_geotiff(TERRAIN_CHANGED_UTOPIAN, value=1)\n",
    "# view diff of before and after\n",
    "flowOptimizerAcowoo.get_connectivity_difference_tif(CONNECTIVITY_DIFF_UTOPIAN)"
   ]
  },
  {
   "cell_type": "code",
   "execution_count": 15,
   "metadata": {},
   "outputs": [
    {
     "name": "stderr",
     "output_type": "stream",
     "text": [
      "ERROR 1: PROJ: internal_proj_create_from_name: /Users/nvalett/opt/anaconda3/share/proj/proj.db lacks DATABASE.LAYOUT.VERSION.MAJOR / DATABASE.LAYOUT.VERSION.MINOR metadata. It comes from another PROJ installation.\n",
      "ERROR 1: PROJ: internal_proj_create_from_name: /Users/nvalett/opt/anaconda3/share/proj/proj.db lacks DATABASE.LAYOUT.VERSION.MAJOR / DATABASE.LAYOUT.VERSION.MINOR metadata. It comes from another PROJ installation.\n"
     ]
    }
   ],
   "source": [
    "TERRAIN_CHANGED_UTOPIAN = os.path.join(DATA_PATH, \"smol/changed_terrain_flow_multi_species_oaktit.tif\")\n",
    "CONNECTIVITY_DIFF_UTOPIAN = os.path.join(DATA_PATH, \"smol/connectivity_diff_flow_multi_species_oaktit.tif\")\n",
    "\n",
    "# paint changed terrain pixels\n",
    "flowOptimizerOaktit.paint_changed_terrain_geotiff(TERRAIN_CHANGED_UTOPIAN, value=1)\n",
    "# view diff of before and after\n",
    "flowOptimizerOaktit.get_connectivity_difference_tif(CONNECTIVITY_DIFF_UTOPIAN)"
   ]
  },
  {
   "cell_type": "markdown",
   "metadata": {},
   "source": [
    "# Flow based restoration"
   ]
  },
  {
   "cell_type": "code",
   "execution_count": 16,
   "metadata": {},
   "outputs": [
    {
     "name": "stderr",
     "output_type": "stream",
     "text": [
      "ERROR 1: PROJ: internal_proj_create_from_name: /Users/nvalett/opt/anaconda3/share/proj/proj.db lacks DATABASE.LAYOUT.VERSION.MAJOR / DATABASE.LAYOUT.VERSION.MINOR metadata. It comes from another PROJ installation.\n",
      "ERROR 1: PROJ: internal_proj_create_from_name: /Users/nvalett/opt/anaconda3/share/proj/proj.db lacks DATABASE.LAYOUT.VERSION.MAJOR / DATABASE.LAYOUT.VERSION.MINOR metadata. It comes from another PROJ installation.\n",
      "ERROR 1: PROJ: internal_proj_create_from_name: /Users/nvalett/opt/anaconda3/share/proj/proj.db lacks DATABASE.LAYOUT.VERSION.MAJOR / DATABASE.LAYOUT.VERSION.MINOR metadata. It comes from another PROJ installation.\n",
      "ERROR 1: PROJ: internal_proj_create_from_name: /Users/nvalett/opt/anaconda3/share/proj/proj.db lacks DATABASE.LAYOUT.VERSION.MAJOR / DATABASE.LAYOUT.VERSION.MINOR metadata. It comes from another PROJ installation.\n"
     ]
    },
    {
     "name": "stdout",
     "output_type": "stream",
     "text": [
      "Delta connectivity: 95236\n",
      "Permiability Restored: 38.92954137229072\n",
      "Percent connectivity changed: 0.0440790067458894%\n",
      "Connectivity/permiability_restored: 2446.37\n",
      "Connectivity/permiability_restored: 1904.72\n"
     ]
    }
   ],
   "source": [
    "# Flow restoration\n",
    "flowOptimizer = flowRestoration(HABITAT_PATH, TERRAIN_PATH, RESTORED_TERRAIN_PATH, CONNECTIVITY_PATH, FLOW_PATH, RESTORED_CONNECTIVITY_PATH, RESTORED_FLOW_PATH, DEATH_PATH, PERMEABILITY_PATH, 50) #hab_mat, unrestorable)\n",
    "\n",
    "flowOptimizer.run_connectivity(gap_crossing=1, num_gaps=10)\n",
    "permiability_restored = flowOptimizer.restore()\n",
    "flowOptimizer.run_connectivity(gap_crossing=1, num_gaps=10, restored=True)\n",
    "\n",
    "print(f\"Delta connectivity: {flowOptimizer.get_delta_connectivity()}\")\n",
    "print(f\"Permiability Restored: {permiability_restored}\")\n",
    "print(f\"Percent connectivity changed: {flowOptimizer.get_connectivity_percent_changed()}%\")\n",
    "print(f\"Connectivity/permiability_restored: {round(flowOptimizer.get_delta_connectivity()/permiability_restored, 2)}\")\n",
    "print(f\"Connectivity/permiability_restored: {round(flowOptimizer.get_delta_connectivity()/flowOptimizer.pixels, 2)}\")"
   ]
  },
  {
   "cell_type": "code",
   "execution_count": 11,
   "metadata": {},
   "outputs": [
    {
     "name": "stdout",
     "output_type": "stream",
     "text": [
      "Connectivity/permiability_restored: 1904.72\n"
     ]
    }
   ],
   "source": [
    "print(f\"Connectivity/pixels restored: {round(flowOptimizer.get_delta_connectivity()/flowOptimizer.pixels, 2)}\")"
   ]
  },
  {
   "cell_type": "code",
   "execution_count": 12,
   "metadata": {},
   "outputs": [
    {
     "name": "stderr",
     "output_type": "stream",
     "text": [
      "ERROR 1: PROJ: internal_proj_create_from_name: /Users/nvalett/opt/anaconda3/share/proj/proj.db lacks DATABASE.LAYOUT.VERSION.MAJOR / DATABASE.LAYOUT.VERSION.MINOR metadata. It comes from another PROJ installation.\n",
      "ERROR 1: PROJ: internal_proj_create_from_name: /Users/nvalett/opt/anaconda3/share/proj/proj.db lacks DATABASE.LAYOUT.VERSION.MAJOR / DATABASE.LAYOUT.VERSION.MINOR metadata. It comes from another PROJ installation.\n",
      "ERROR 1: PROJ: internal_proj_create_from_name: /Users/nvalett/opt/anaconda3/share/proj/proj.db lacks DATABASE.LAYOUT.VERSION.MAJOR / DATABASE.LAYOUT.VERSION.MINOR metadata. It comes from another PROJ installation.\n",
      "ERROR 1: PROJ: internal_proj_create_from_name: /Users/nvalett/opt/anaconda3/share/proj/proj.db lacks DATABASE.LAYOUT.VERSION.MAJOR / DATABASE.LAYOUT.VERSION.MINOR metadata. It comes from another PROJ installation.\n"
     ]
    },
    {
     "name": "stdout",
     "output_type": "stream",
     "text": [
      "Delta connectivity: 22113\n",
      "Permiability Restored: 4.981722627737225\n",
      "Percent connectivity changed: 0.008361933745864978%\n",
      "Connectivity/permiability_restored: 4438.83\n"
     ]
    }
   ],
   "source": [
    "# Flow restoration\n",
    "flowOptimizer = flowRestoration(HABITAT_PATH, TERRAIN_PATH, RESTORED_TERRAIN_PATH, CONNECTIVITY_PATH, FLOW_PATH, RESTORED_CONNECTIVITY_PATH, RESTORED_FLOW_PATH, DEATH_PATH, PERMEABILITY_PATH, 50)\n",
    "\n",
    "flowOptimizer.run_connectivity(gap_crossing=2, num_gaps=40)\n",
    "permiability_restored = flowOptimizer.restore()\n",
    "flowOptimizer.run_connectivity(gap_crossing=2, num_gaps=40, restored=True)\n",
    "print(f\"Delta connectivity: {flowOptimizer.get_delta_connectivity()}\")\n",
    "print(f\"Permiability Restored: {permiability_restored}\")\n",
    "print(f\"Percent connectivity changed: {flowOptimizer.get_connectivity_percent_changed()}%\")\n",
    "print(f\"Connectivity/permiability_restored: {round(flowOptimizer.get_delta_connectivity()/permiability_restored, 2)}\")"
   ]
  },
  {
   "cell_type": "code",
   "execution_count": 6,
   "metadata": {},
   "outputs": [
    {
     "name": "stderr",
     "output_type": "stream",
     "text": [
      "ERROR 1: PROJ: internal_proj_create_from_name: /Users/nvalett/opt/anaconda3/share/proj/proj.db lacks DATABASE.LAYOUT.VERSION.MAJOR / DATABASE.LAYOUT.VERSION.MINOR metadata. It comes from another PROJ installation.\n",
      "ERROR 1: PROJ: internal_proj_create_from_name: /Users/nvalett/opt/anaconda3/share/proj/proj.db lacks DATABASE.LAYOUT.VERSION.MAJOR / DATABASE.LAYOUT.VERSION.MINOR metadata. It comes from another PROJ installation.\n"
     ]
    },
    {
     "name": "stdout",
     "output_type": "stream",
     "text": [
      "Delta connectivity: 15522\n",
      "Permiability Restored: 4.999999999999998\n",
      "Percent connectivity changed: 0.005763508990026924%\n",
      "Connectivity/permiability_restored: 3104.400000000001\n"
     ]
    }
   ],
   "source": [
    "# Flow restoration\n",
    "flowOptimizer = flowRestoration(HABITAT_PATH, TERRAIN_PATH, RESTORED_TERRAIN_PATH, CONNECTIVITY_PATH, FLOW_PATH, RESTORED_CONNECTIVITY_PATH, RESTORED_FLOW_PATH, DEATH_PATH, PERMEABILITY_PATH, 50) #hab_mat, unrestorable)\n",
    "\n",
    "# flowOptimizer.run_connectivity()\n",
    "permiability_restored = flowOptimizer.restore()\n",
    "flowOptimizer.run_connectivity(restored=True)\n",
    "print(f\"Delta connectivity: {flowOptimizer.get_delta_connectivity()}\")\n",
    "print(f\"Permiability Restored: {permiability_restored}\")\n",
    "print(f\"Percent connectivity changed: {flowOptimizer.get_connectivity_percent_changed()}%\")\n",
    "print(f\"Connectivity/permiability_restored: {flowOptimizer.get_delta_connectivity()/permiability_restored}\")"
   ]
  },
  {
   "cell_type": "code",
   "execution_count": 7,
   "metadata": {},
   "outputs": [
    {
     "name": "stdout",
     "output_type": "stream",
     "text": [
      "{(277, 36): 79, (278, 36): 71, (103, 117): 69, (188, 108): 67, (89, 132): 66, (11, 115): 66, (176, 109): 65, (155, 139): 64, (248, 143): 63, (15, 115): 63, (250, 141): 63, (15, 113): 63, (143, 87): 63, (118, 145): 63, (109, 142): 63, (220, 198): 63, (183, 173): 62, (176, 174): 62, (277, 118): 62, (104, 66): 62, (270, 33): 62, (199, 159): 62, (21, 102): 62, (163, 105): 62, (216, 114): 62, (45, 25): 61, (41, 85): 61, (190, 175): 61, (204, 109): 61, (23, 102): 61, (270, 32): 60, (267, 188): 60, (283, 38): 60, (271, 40): 60, (289, 131): 60, (186, 114): 60, (236, 197): 60, (177, 174): 60, (95, 103): 60, (41, 74): 59, (43, 72): 59, (163, 89): 59, (109, 141): 59, (276, 146): 59, (245, 102): 59, (22, 102): 59, (226, 162): 59, (119, 145): 59, (198, 160): 59, (205, 205): 59}\n"
     ]
    }
   ],
   "source": [
    "print(flowOptimizer.changed_pixels)"
   ]
  },
  {
   "cell_type": "code",
   "execution_count": 12,
   "metadata": {},
   "outputs": [
    {
     "name": "stderr",
     "output_type": "stream",
     "text": [
      "ERROR 1: PROJ: internal_proj_create_from_name: /Users/nvalett/opt/anaconda3/share/proj/proj.db lacks DATABASE.LAYOUT.VERSION.MAJOR / DATABASE.LAYOUT.VERSION.MINOR metadata. It comes from another PROJ installation.\n",
      "ERROR 1: PROJ: internal_proj_create_from_name: /Users/nvalett/opt/anaconda3/share/proj/proj.db lacks DATABASE.LAYOUT.VERSION.MAJOR / DATABASE.LAYOUT.VERSION.MINOR metadata. It comes from another PROJ installation.\n"
     ]
    }
   ],
   "source": [
    "TERRAIN_CHANGED_UTOPIAN = os.path.join(DATA_PATH, \"smol/changed_terrain_low_flow.tif\")\n",
    "CONNECTIVITY_DIFF_UTOPIAN = os.path.join(DATA_PATH, \"smol/connectivity_diff_low_flow.tif\")\n",
    "\n",
    "def get_connectivity_difference_tif(flowOptimizer, connectivity_diff_fn):\n",
    "    # get origional connectivity\n",
    "    with GeoTiff.from_file(flowOptimizer.connectivity_fn) as connectivity_tif:\n",
    "        connectivity_tile = connectivity_tif.get_all_as_tile()\n",
    "        # create connectivity diff tif from clone of connectivity_tif\n",
    "        connectivity_tif.clone_shape(connectivity_diff_fn, dtype='int16')\n",
    "\n",
    "    # get restored connectivity\n",
    "    with GeoTiff.from_file(flowOptimizer.restored_connectivity_fn) as restored_connectivity_tif:\n",
    "        restored_connectivity_tile = restored_connectivity_tif.get_all_as_tile()\n",
    "\n",
    "    # get the difference of the two in a tile\n",
    "    diff = Tile(connectivity_tile.w, connectivity_tile.h, connectivity_tile.b, connectivity_tile.c, connectivity_tile.x, connectivity_tile.y, (restored_connectivity_tile.m.astype('int16') - connectivity_tile.m.astype('int16')))\n",
    "    # write the tile to connectivity diff tif\n",
    "    with GeoTiff.from_file(connectivity_diff_fn) as connectivity_diff:\n",
    "        connectivity_diff.set_tile(diff)\n",
    "\n",
    "\n",
    "# paint changed terrain pixels\n",
    "flowOptimizer.paint_changed_terrain_geotiff(TERRAIN_CHANGED_UTOPIAN, flowOptimizer.changed_pixels, value=1)\n",
    "# view diff of before and after\n",
    "get_connectivity_difference_tif(flowOptimizer, CONNECTIVITY_DIFF_UTOPIAN)"
   ]
  },
  {
   "cell_type": "markdown",
   "metadata": {},
   "source": [
    "# Low Res Flow"
   ]
  },
  {
   "cell_type": "code",
   "execution_count": 14,
   "metadata": {},
   "outputs": [
    {
     "name": "stderr",
     "output_type": "stream",
     "text": [
      "ERROR 1: PROJ: internal_proj_create_from_name: /Users/nvalett/opt/anaconda3/share/proj/proj.db lacks DATABASE.LAYOUT.VERSION.MAJOR / DATABASE.LAYOUT.VERSION.MINOR metadata. It comes from another PROJ installation.\n",
      "ERROR 1: PROJ: internal_proj_create_from_name: /Users/nvalett/opt/anaconda3/share/proj/proj.db lacks DATABASE.LAYOUT.VERSION.MAJOR / DATABASE.LAYOUT.VERSION.MINOR metadata. It comes from another PROJ installation.\n",
      "ERROR 1: PROJ: internal_proj_create_from_name: /Users/nvalett/opt/anaconda3/share/proj/proj.db lacks DATABASE.LAYOUT.VERSION.MAJOR / DATABASE.LAYOUT.VERSION.MINOR metadata. It comes from another PROJ installation.\n"
     ]
    },
    {
     "name": "stdout",
     "output_type": "stream",
     "text": [
      "[(234, 21), (49, 107), (21, 21), (34, 42), (166, 160), (188, 160), (152, 164), (220, 105), (125, 89), (234, 30), (190, 159), (128, 90), (13, 17), (130, 101), (269, 58), (269, 20), (122, 122), (163, 164), (242, 8), (30, 97), (278, 57), (65, 52), (285, 103), (7, 83), (272, 48), (119, 100), (243, 7), (222, 141), (85, 49), (108, 94), (32, 37), (120, 96), (281, 27), (61, 48), (158, 161), (272, 63), (236, 163), (240, 11), (294, 117), (295, 117), (198, 92), (108, 91), (72, 117), (112, 107), (193, 83), (218, 102), (107, 80), (229, 137), (119, 83), (11, 82)]\n"
     ]
    },
    {
     "name": "stderr",
     "output_type": "stream",
     "text": [
      "ERROR 1: PROJ: internal_proj_create_from_name: /Users/nvalett/opt/anaconda3/share/proj/proj.db lacks DATABASE.LAYOUT.VERSION.MAJOR / DATABASE.LAYOUT.VERSION.MINOR metadata. It comes from another PROJ installation.\n",
      "ERROR 1: PROJ: internal_proj_create_from_name: /Users/nvalett/opt/anaconda3/share/proj/proj.db lacks DATABASE.LAYOUT.VERSION.MAJOR / DATABASE.LAYOUT.VERSION.MINOR metadata. It comes from another PROJ installation.\n"
     ]
    },
    {
     "name": "stdout",
     "output_type": "stream",
     "text": [
      "Delta connectivity: 17791\n",
      "Permiability Restored: 38.7611543527721\n",
      "Percent connectivity changed: 0.008234382051074367%\n",
      "Connectivity/permiability_restored: 458.99\n",
      "Connectivity/pixels restored: 355.82\n"
     ]
    }
   ],
   "source": [
    "# Flow restoration\n",
    "lowResFlowOptimizer = lowResFlowRestoration(HABITAT_PATH, TERRAIN_PATH, RESTORED_TERRAIN_PATH, CONNECTIVITY_PATH, FLOW_PATH, RESTORED_CONNECTIVITY_PATH, RESTORED_FLOW_PATH, DEATH_PATH, LOW_RES_FLOW_PATH, PERMEABILITY_PATH, 2, 2, 50, percent_impermiable=0.25) #hab_mat, unrestorable)\n",
    "\n",
    "lowResFlowOptimizer.run_connectivity(gap_crossing=1, num_gaps=10)\n",
    "permiability_restored = lowResFlowOptimizer.restore()\n",
    "lowResFlowOptimizer.run_connectivity(gap_crossing=1, num_gaps=10, restored=True)\n",
    "\n",
    "print(f\"Delta connectivity: {lowResFlowOptimizer.get_delta_connectivity()}\")\n",
    "print(f\"Permiability Restored: {permiability_restored}\")\n",
    "print(f\"Percent connectivity changed: {lowResFlowOptimizer.get_connectivity_percent_changed()}%\")\n",
    "print(f\"Connectivity/permiability_restored: {round(lowResFlowOptimizer.get_delta_connectivity()/permiability_restored, 2)}\")\n",
    "print(f\"Connectivity/pixels restored: {round(lowResFlowOptimizer.get_delta_connectivity()/lowResFlowOptimizer.pixels, 2)}\")"
   ]
  },
  {
   "cell_type": "code",
   "execution_count": null,
   "metadata": {},
   "outputs": [],
   "source": [
    "DATA_PATH=\"/Users/nvalett/Documents/Natalie/Species Dist Research/Thesis/EcoLinker/tests/assets\"\n",
    "HABITAT_PATH = os.path.join(DATA_PATH, \"smol/hab_smol.tif\")\n",
    "TERRAIN_PATH = os.path.join(DATA_PATH, \"smol/terrain.tif\")\n",
    "RESTORED_TERRAIN_PATH = os.path.join(DATA_PATH, \"smol/restored_ter_smol.tif\")\n",
    "PERMEABILITY_PATH = os.path.join(DATA_PATH, \"paper_repro/transmission_refined_1.csv\")\n",
    "\n",
    "CONNECTIVITY_PATH = os.path.join(DATA_PATH, \"smol/repop.tif\")\n",
    "NOISY_CONNECTIVITY_PATH = os.path.join(DATA_PATH, \"smol/repop_noisy.tif\")\n",
    "UTOPIAN_CONNECTIVITY_PATH = os.path.join(DATA_PATH, \"smol/repop_utopian.tif\")\n",
    "RESTORED_CONNECTIVITY_PATH = os.path.join(DATA_PATH, \"smol/repop_after_restoration.tif\")\n",
    "FLOW_PATH = os.path.join(DATA_PATH, \"smol/grad.tif\")\n",
    "NOISY_FLOW_PATH = os.path.join(DATA_PATH, \"smol/grad_noisy.tif\")\n",
    "UTOPIAN_FLOW_PATH = os.path.join(DATA_PATH, \"smol/grad_utopian.tif\")\n",
    "RESTORED_FLOW_PATH = os.path.join(DATA_PATH, \"smol/grad_after_restoration.tif\")\n",
    "DEATH_PATH = os.path.join(DATA_PATH, \"smol/death.tif\")\n",
    "LOW_RES_DEATH_PATH = os.path.join(DATA_PATH, \"smol/death.tif\")\n",
    "\n",
    "# terrain changed tiffs\n",
    "TERRAIN_CHANGED_DEFICIT = os.path.join(DATA_PATH, \"smol/changed_terrain_defecit_100.tif\")\n",
    "TERRAIN_CHANGED_NOISY = os.path.join(DATA_PATH, \"smol/changed_terrain_noisy.tif\")\n",
    "TERRAIN_CHANGED_UTOPIAN = os.path.join(DATA_PATH, \"smol/changed_terrain_utopian.tif\")\n",
    "TERRAIN_CHANGED_PROBALISTIC = os.path.join(DATA_PATH, \"smol/changed_terrain_prob_100.tif\")\n",
    "# changed connectivity\n",
    "CONNECTIVITY_DIFF_DEFECIT = os.path.join(DATA_PATH, \"smol/connectivity_diff_defecit_100.tif\")\n",
    "CONNECTIVITY_DIFF_NOISY = os.path.join(DATA_PATH, \"smol/connectivity_diff_noisy.tif\")\n",
    "CONNECTIVITY_DIFF_UTOPIAN = os.path.join(DATA_PATH, \"smol/connectivity_diff_utopian.tif\")\n",
    "CONNECTIVITY_DIFF_PROBALISTIC = os.path.join(DATA_PATH, \"smol/connectivity_diff_prob_100.tif\")\n",
    "\n",
    "PERMIABILITY_TIFF_PATH = os.path.join(DATA_PATH, \"smol/permiability.tif\")\n",
    "\n",
    "\n",
    "unrestorable = [104,500, 501, 502, 503,504,505,506,507,508,509,510,511,512,513,514,515,516,517,518,900, 901, 902, 903, 904, 905, 906,907,980,981,982,983,984,985,986,909,910,1000,1001,1002,1003,1004,1100,1101,1111,1112,1102,1103,1104,1105,1106,1200,1201,1202,1203,1204,1205,1206,1207,1300,1301,1302,1303,1304,1305,    1402]\n",
    "\n",
    "with GeoTiff.from_file(HABITAT_PATH) as hab:\n",
    "    hab_mat = hab.get_all_as_tile().m.squeeze(0)\n",
    "\n",
    "defecitOptimizer = defecitRestoration(HABITAT_PATH, TERRAIN_PATH, RESTORED_TERRAIN_PATH, CONNECTIVITY_PATH, FLOW_PATH, RESTORED_CONNECTIVITY_PATH, RESTORED_FLOW_PATH, DEATH_PATH, PERMEABILITY_PATH, 50) #, hab_mat, unrestorable)\n",
    "flowDivPermOptimizer = FlowDivPermRestoration(HABITAT_PATH, TERRAIN_PATH, RESTORED_TERRAIN_PATH, CONNECTIVITY_PATH, FLOW_PATH, RESTORED_CONNECTIVITY_PATH, RESTORED_FLOW_PATH, DEATH_PATH, PERMEABILITY_PATH, 50, flow_power=3) #, hab_mat, unrestorable)\n",
    "noisyOptimizer = noisyDefecitRestoration(HABITAT_PATH, TERRAIN_PATH, RESTORED_TERRAIN_PATH, CONNECTIVITY_PATH, FLOW_PATH, RESTORED_CONNECTIVITY_PATH, RESTORED_FLOW_PATH, DEATH_PATH, PERMEABILITY_PATH, 50, NOISY_CONNECTIVITY_PATH, NOISY_FLOW_PATH, 1, hab_mat, unrestorable)\n",
    "lowResDefecitOptimizer = lowResDefecitRestoration(HABITAT_PATH, TERRAIN_PATH, RESTORED_TERRAIN_PATH, CONNECTIVITY_PATH, RESTORED_CONNECTIVITY_PATH, FLOW_PATH, RESTORED_FLOW_PATH, DEATH_PATH, LOW_RES_DEATH_PATH, PERMEABILITY_PATH, 2, 2, 50, hab_mat, unrestorable)\n",
    "\n",
    "utopianOptimizer = utopianRestoration(HABITAT_PATH, TERRAIN_PATH, RESTORED_TERRAIN_PATH, CONNECTIVITY_PATH, FLOW_PATH, RESTORED_CONNECTIVITY_PATH, RESTORED_FLOW_PATH, PERMEABILITY_PATH, 50, UTOPIAN_CONNECTIVITY_PATH, UTOPIAN_FLOW_PATH, 1.0, hab_mat, unrestorable)\n",
    "flowOptimizer = flowRestoration(HABITAT_PATH, TERRAIN_PATH, RESTORED_TERRAIN_PATH, CONNECTIVITY_PATH, FLOW_PATH, RESTORED_CONNECTIVITY_PATH, RESTORED_FLOW_PATH, PERMEABILITY_PATH, 50, hab_mat, unrestorable)"
   ]
  },
  {
   "cell_type": "code",
   "execution_count": 15,
   "metadata": {},
   "outputs": [
    {
     "name": "stderr",
     "output_type": "stream",
     "text": [
      "ERROR 1: PROJ: internal_proj_create_from_name: /Users/nvalett/opt/anaconda3/share/proj/proj.db lacks DATABASE.LAYOUT.VERSION.MAJOR / DATABASE.LAYOUT.VERSION.MINOR metadata. It comes from another PROJ installation.\n",
      "ERROR 1: PROJ: internal_proj_create_from_name: /Users/nvalett/opt/anaconda3/share/proj/proj.db lacks DATABASE.LAYOUT.VERSION.MAJOR / DATABASE.LAYOUT.VERSION.MINOR metadata. It comes from another PROJ installation.\n"
     ]
    }
   ],
   "source": [
    "TERRAIN_CHANGED_UTOPIAN = os.path.join(DATA_PATH, \"smol/changed_terrain_flow_low_res.tif\")\n",
    "CONNECTIVITY_DIFF_UTOPIAN = os.path.join(DATA_PATH, \"smol/connectivity_diff_flow_low_res.tif\")\n",
    "\n",
    "# paint changed terrain pixels\n",
    "lowResFlowOptimizer.paint_changed_terrain_geotiff(TERRAIN_CHANGED_UTOPIAN, value=1)\n",
    "# view diff of before and after\n",
    "lowResFlowOptimizer.get_connectivity_difference_tif(CONNECTIVITY_DIFF_UTOPIAN)"
   ]
  },
  {
   "cell_type": "code",
   "execution_count": 22,
   "metadata": {},
   "outputs": [
    {
     "name": "stderr",
     "output_type": "stream",
     "text": [
      "ERROR 1: PROJ: internal_proj_create_from_name: /Users/nvalett/opt/anaconda3/share/proj/proj.db lacks DATABASE.LAYOUT.VERSION.MAJOR / DATABASE.LAYOUT.VERSION.MINOR metadata. It comes from another PROJ installation.\n",
      "ERROR 1: PROJ: internal_proj_create_from_name: /Users/nvalett/opt/anaconda3/share/proj/proj.db lacks DATABASE.LAYOUT.VERSION.MAJOR / DATABASE.LAYOUT.VERSION.MINOR metadata. It comes from another PROJ installation.\n"
     ]
    },
    {
     "name": "stdout",
     "output_type": "stream",
     "text": [
      "Delta connectivity: 32602\n",
      "Permiability Restored: 4.936029197080292\n",
      "Percent connectivity changed: 0.0009304348014693804%\n",
      "Connectivity/permiability_restored: 6604.9\n"
     ]
    }
   ],
   "source": [
    "# Flow restoration\n",
    "flowOptimizer = flowRestoration(HABITAT_PATH, TERRAIN_PATH, RESTORED_TERRAIN_PATH, CONNECTIVITY_PATH, FLOW_PATH, RESTORED_CONNECTIVITY_PATH, RESTORED_FLOW_PATH, DEATH_PATH, PERMEABILITY_PATH, 50) #hab_mat, unrestorable)\n",
    "\n",
    "# flowOptimizer.run_connectivity(gap_crossing=2, num_gaps=40)\n",
    "permiability_restored = flowOptimizer.restore()\n",
    "flowOptimizer.run_connectivity(gap_crossing=2, num_gaps=40, restored=True)\n",
    "print(f\"Delta connectivity: {flowOptimizer.get_delta_connectivity()}\")\n",
    "print(f\"Permiability Restored: {permiability_restored}\")\n",
    "print(f\"Percent connectivity changed: {flowOptimizer.get_connectivity_percent_changed()}%\")\n",
    "print(f\"Connectivity/permiability_restored: {round(flowOptimizer.get_delta_connectivity()/permiability_restored, 2)}\")"
   ]
  },
  {
   "cell_type": "code",
   "execution_count": 23,
   "metadata": {},
   "outputs": [
    {
     "name": "stderr",
     "output_type": "stream",
     "text": [
      "ERROR 1: PROJ: internal_proj_create_from_name: /Users/nvalett/opt/anaconda3/share/proj/proj.db lacks DATABASE.LAYOUT.VERSION.MAJOR / DATABASE.LAYOUT.VERSION.MINOR metadata. It comes from another PROJ installation.\n",
      "ERROR 1: PROJ: internal_proj_create_from_name: /Users/nvalett/opt/anaconda3/share/proj/proj.db lacks DATABASE.LAYOUT.VERSION.MAJOR / DATABASE.LAYOUT.VERSION.MINOR metadata. It comes from another PROJ installation.\n"
     ]
    }
   ],
   "source": [
    "TERRAIN_CHANGED_UTOPIAN = os.path.join(DATA_PATH, \"smol_fragmented/changed_terrain_flow.tif\")\n",
    "CONNECTIVITY_DIFF_UTOPIAN = os.path.join(DATA_PATH, \"smol_fragmented/connectivity_diff_flow.tif\")\n",
    "\n",
    "# paint changed terrain pixels\n",
    "flowOptimizer.paint_changed_terrain_geotiff(TERRAIN_CHANGED_UTOPIAN, value=1)\n",
    "# view diff of before and after\n",
    "flowOptimizer.get_connectivity_difference_tif(CONNECTIVITY_DIFF_UTOPIAN)"
   ]
  },
  {
   "cell_type": "markdown",
   "metadata": {},
   "source": [
    "# Combining both species"
   ]
  },
  {
   "cell_type": "code",
   "execution_count": 4,
   "metadata": {},
   "outputs": [],
   "source": [
    "DATA_PATH=\"/Users/nvalett/Documents/Natalie/Species Dist Research/Thesis/EcoLinker/tests/assets\"\n",
    "HABITAT_PATH_ACOWOO = os.path.join(DATA_PATH, \"smol/acowoo/habitat.tif\")\n",
    "TERRAIN_PATH_ACOWOO = os.path.join(DATA_PATH, \"smol/acowoo/terrain.tif\")\n",
    "RESTORED_TERRAIN_PATH_ACOWOO = os.path.join(DATA_PATH, \"smol/acowoo/restored_terrain.tif\")\n",
    "PERMEABILITY_PATH_ACOWOO = os.path.join(DATA_PATH, \"smol/acowoo/transmission_refined_1.csv\")\n",
    "\n",
    "CONNECTIVITY_PATH_ACOWOO = os.path.join(DATA_PATH, \"smol/acowoo/repop.tif\")\n",
    "RESTORED_CONNECTIVITY_PATH_ACOWOO = os.path.join(DATA_PATH, \"smol/acowoo/repop_after_restoration.tif\")\n",
    "FLOW_PATH_ACOWOO = os.path.join(DATA_PATH, \"smol/acowoo/grad.tif\")\n",
    "DEATH_PATH_ACOWOO = os.path.join(DATA_PATH, \"smol/acowoo/death.tif\")\n",
    "RESTORED_FLOW_PATH_ACOWOO = os.path.join(DATA_PATH, \"smol/acowoo/grad_after_restoration.tif\")\n",
    "LOW_RES_FLOW_PATH_ACOWOO = os.path.join(DATA_PATH, \"smol/acowoo/flow_low_res.tif\")\n",
    "\n",
    "unrestorable = [104,500, 501, 502, 503,504,505,506,507,508,509,510,511,512,513,514,515,516,517,518,900, 901, 902, 903, 904, 905, 906,907,980,981,982,983,984,985,986,909,910,1000,1001,1002,1003,1004,1100,1101,1111,1112,1102,1103,1104,1105,1106,1200,1201,1202,1203,1204,1205,1206,1207,1300,1301,1302,1303,1304,1305,    1402]\n",
    "\n",
    "with GeoTiff.from_file(HABITAT_PATH_ACOWOO) as hab:\n",
    "    hab_mat = hab.get_all_as_tile().m.squeeze(0)\n",
    "\n",
    "flowOptimizerAcowoo = flowRestoration(HABITAT_PATH_ACOWOO, TERRAIN_PATH_ACOWOO, RESTORED_TERRAIN_PATH_ACOWOO, CONNECTIVITY_PATH_ACOWOO, FLOW_PATH_ACOWOO, RESTORED_CONNECTIVITY_PATH_ACOWOO, RESTORED_FLOW_PATH_ACOWOO, DEATH_PATH_ACOWOO, PERMEABILITY_PATH_ACOWOO, 50, hab_mat, unrestorable)\n",
    "lowResFlowOptimizerAcowoo = lowResFlowRestoration(HABITAT_PATH_ACOWOO, TERRAIN_PATH_ACOWOO, RESTORED_TERRAIN_PATH_ACOWOO, CONNECTIVITY_PATH_ACOWOO, FLOW_PATH_ACOWOO, RESTORED_CONNECTIVITY_PATH_ACOWOO, RESTORED_FLOW_PATH_ACOWOO, DEATH_PATH_ACOWOO, LOW_RES_FLOW_PATH_ACOWOO, PERMEABILITY_PATH_ACOWOO, 2, 2, 50)"
   ]
  },
  {
   "cell_type": "code",
   "execution_count": 6,
   "metadata": {},
   "outputs": [],
   "source": [
    "DATA_PATH=\"/Users/nvalett/Documents/Natalie/Species Dist Research/Thesis/EcoLinker/tests/assets\"\n",
    "HABITAT_PATH_OAKTIT = os.path.join(DATA_PATH, \"smol/oaktit/habitat.tif\")\n",
    "TERRAIN_PATH_OAKTIT = os.path.join(DATA_PATH, \"smol/oaktit/terrain.tif\")\n",
    "RESTORED_TERRAIN_PATH_OAKTIT = os.path.join(DATA_PATH, \"smol/oaktit/restored_terrain.tif\")\n",
    "PERMEABILITY_PATH_OAKTIT = os.path.join(DATA_PATH, \"smol/oaktit/transmission_refined_1.csv\")\n",
    "\n",
    "CONNECTIVITY_PATH_OAKTIT = os.path.join(DATA_PATH, \"smol/oaktit/repop.tif\")\n",
    "RESTORED_CONNECTIVITY_PATH_OAKTIT = os.path.join(DATA_PATH, \"smol/oaktit/repop_after_restoration.tif\")\n",
    "FLOW_PATH_OAKTIT = os.path.join(DATA_PATH, \"smol/oaktit/grad.tif\")\n",
    "DEATH_PATH_OAKTIT = os.path.join(DATA_PATH, \"smol/oaktit/death.tif\")\n",
    "RESTORED_FLOW_PATH_OAKTIT = os.path.join(DATA_PATH, \"smol/oaktit/grad_after_restoration.tif\")\n",
    "LOW_RES_FLOW_PATH_OAKTIT = os.path.join(DATA_PATH, \"smol/oaktit/flow_low_res.tif\")\n",
    "\n",
    "unrestorable = [104,500, 501, 502, 503,504,505,506,507,508,509,510,511,512,513,514,515,516,517,518,900, 901, 902, 903, 904, 905, 906,907,980,981,982,983,984,985,986,909,910,1000,1001,1002,1003,1004,1100,1101,1111,1112,1102,1103,1104,1105,1106,1200,1201,1202,1203,1204,1205,1206,1207,1300,1301,1302,1303,1304,1305,    1402]\n",
    "\n",
    "with GeoTiff.from_file(HABITAT_PATH_OAKTIT) as hab:\n",
    "    hab_mat = hab.get_all_as_tile().m.squeeze(0)\n",
    "\n",
    "flowOptimizerOaktit = flowRestoration(HABITAT_PATH_OAKTIT, TERRAIN_PATH_OAKTIT, RESTORED_TERRAIN_PATH_OAKTIT, CONNECTIVITY_PATH_OAKTIT, FLOW_PATH_OAKTIT, RESTORED_CONNECTIVITY_PATH_OAKTIT, RESTORED_FLOW_PATH_OAKTIT, DEATH_PATH_OAKTIT, PERMEABILITY_PATH_OAKTIT, 50, hab_mat, unrestorable)\n",
    "lowResFlowOptimizerOaktit = lowResFlowRestoration(HABITAT_PATH_OAKTIT, TERRAIN_PATH_OAKTIT, RESTORED_TERRAIN_PATH_OAKTIT, CONNECTIVITY_PATH_OAKTIT, RESTORED_CONNECTIVITY_PATH_OAKTIT, FLOW_PATH_OAKTIT, RESTORED_FLOW_PATH_OAKTIT, DEATH_PATH_OAKTIT, LOW_RES_FLOW_PATH_OAKTIT, PERMEABILITY_PATH_OAKTIT, 2, 2, 50)"
   ]
  },
  {
   "cell_type": "code",
   "execution_count": 14,
   "metadata": {},
   "outputs": [
    {
     "name": "stdout",
     "output_type": "stream",
     "text": [
      "{0: 0.0, 100: 0.0, 104: 1.0, 105: 1.0, 107: 0.0, 108: 0.009635036, 201: 0.033518248, 300: 0.0, 303: 0.0, 304: 0.3585985401459854, 305: 0.098744526, 308: 1.0, 400: 0.0, 401: 0.001868613, 404: 0.9, 405: 0.9, 500: 0.031532846715328466, 501: 0.001693431, 502: 0.000175182, 505: 0.045255474, 506: 0.001284672, 507: 0.0, 510: 0.0, 511: 0.001226277, 513: 0.000817518, 514: 0.0, 515: 0.0, 600: 0.00070073, 801: 0.000817518, 802: 0.000350365, 803: 0.000583942, 900: 0.014540146, 909: 0.006014599, 1101: 0.0, 1102: 0.0, 1103: 0.0, 1105: 0.0, 1106: 0.0, 1200: 0.000934307, 1206: 0.0, 1401: 0.2715912408759124, 1402: 0.9, 1403: 0.9091386861313868, 1405: 0.0}\n",
      "{0: 0.0, 100: 0.0, 104: 1.0, 105: 0.9, 107: 0.0, 108: 0.007304514429409652, 201: 0.0004310860974733565, 300: 0.0, 303: 0.001029816788408574, 304: 0.3239612022512274, 305: 0.052496706981199855, 308: 0.2124056999161777, 400: 0.0, 401: 0.015351454915578973, 404: 0.040210753203209194, 405: 0.000862172194946713, 500: 0.016644713207999044, 501: 0.0006945276014848521, 502: 4.7898455274817386e-05, 505: 0.032211711172314694, 506: 0.0003831876421985391, 507: 0.0, 510: 0.0006705783738474435, 511: 0.0077116512992456, 513: 0.0016524967069811998, 514: 0.0, 515: 0.00023949227637408692, 600: 0.006514189917375165, 801: 9.579691054963477e-05, 802: 0.0004310860974733565, 803: 0.0005029337803855825, 900: 0.006346545323913304, 909: 0.005532271584241408, 1101: 0.0, 1102: 0.0, 1103: 0.0, 1105: 0.0, 1106: 0.0, 1200: 0.0009819183331337565, 1206: 2.3949227637408693e-05, 1401: 0.03767213507364388, 1402: 0.22064423422344628, 1403: 0.258891150760388, 1405: 0.0}\n",
      "{0: 0.0, 513: 0.0012350073534905998, 514: 0.0, 515: 0.00011974613818704346, 801: 0.00045665745527481743, 802: 0.00039072554873667825, 803: 0.0005434378901927912, 300: 0.0, 303: 0.000514908394204287, 304: 0.34127987119860637, 305: 0.07562061649059992, 308: 0.6062028499580888, 1101: 0.0, 1102: 0.0, 1103: 0.0, 1105: 0.0, 1106: 0.0, 600: 0.0036074599586875824, 100: 0.0, 104: 1.0, 105: 0.95, 107: 0.0, 108: 0.008469775214704826, 1401: 0.15463168797477814, 1402: 0.5603221171117232, 1403: 0.5840149184458874, 1405: 0.0, 900: 0.010443345661956652, 909: 0.005773435292120704, 400: 0.0, 401: 0.008610033957789486, 404: 0.4701053766016046, 405: 0.45043108609747334, 1200: 0.0009581126665668782, 1206: 1.1974613818704346e-05, 201: 0.01697466704873668, 500: 0.024088779961663753, 501: 0.0011939793007424261, 502: 0.00011154022763740868, 505: 0.03873359258615734, 506: 0.0008339298210992695, 507: 0.0, 510: 0.00033528918692372173, 511: 0.0044689641496228}\n"
     ]
    }
   ],
   "source": [
    "import csv\n",
    "PERMEABILITY_PATH_1 = os.path.join(DATA_PATH, \"smol/acowoo/transmission_refined_1.csv\")\n",
    "PERMEABILITY_PATH_2 = os.path.join(DATA_PATH, \"smol/oaktit/transmission_refined_1.csv\")\n",
    "PERMEABILITY_PATH_MERGED = os.path.join(DATA_PATH, \"smol/transmission_refined_merged.csv\")\n",
    "\n",
    "perm1 = ecoscape_connectivity.util.read_transmission_csv(PERMEABILITY_PATH_1)\n",
    "perm2 = ecoscape_connectivity.util.read_transmission_csv(PERMEABILITY_PATH_2)\n",
    "print(perm1)\n",
    "print(perm2)\n",
    "\n",
    "combined_permiability_dict = {k: (perm1.get(k, 0) + perm2.get(k, 0))/ 2 for k in set(perm1) | set(perm2)}\n",
    "print(combined_permiability_dict)\n",
    "with open(PERMEABILITY_PATH_MERGED, 'w') as csv_file:  \n",
    "    writer = csv.writer(csv_file)\n",
    "    for key, value in combined_permiability_dict.items():\n",
    "       writer.writerow([key, value])"
   ]
  },
  {
   "cell_type": "code",
   "execution_count": 15,
   "metadata": {},
   "outputs": [
    {
     "name": "stderr",
     "output_type": "stream",
     "text": [
      "ERROR 1: PROJ: internal_proj_create_from_name: /Users/nvalett/opt/anaconda3/share/proj/proj.db lacks DATABASE.LAYOUT.VERSION.MAJOR / DATABASE.LAYOUT.VERSION.MINOR metadata. It comes from another PROJ installation.\n",
      "ERROR 1: PROJ: internal_proj_create_from_name: /Users/nvalett/opt/anaconda3/share/proj/proj.db lacks DATABASE.LAYOUT.VERSION.MAJOR / DATABASE.LAYOUT.VERSION.MINOR metadata. It comes from another PROJ installation.\n",
      "ERROR 1: PROJ: internal_proj_create_from_name: /Users/nvalett/opt/anaconda3/share/proj/proj.db lacks DATABASE.LAYOUT.VERSION.MAJOR / DATABASE.LAYOUT.VERSION.MINOR metadata. It comes from another PROJ installation.\n",
      "ERROR 1: PROJ: internal_proj_create_from_name: /Users/nvalett/opt/anaconda3/share/proj/proj.db lacks DATABASE.LAYOUT.VERSION.MAJOR / DATABASE.LAYOUT.VERSION.MINOR metadata. It comes from another PROJ installation.\n",
      "ERROR 1: PROJ: internal_proj_create_from_name: /Users/nvalett/opt/anaconda3/share/proj/proj.db lacks DATABASE.LAYOUT.VERSION.MAJOR / DATABASE.LAYOUT.VERSION.MINOR metadata. It comes from another PROJ installation.\n",
      "ERROR 1: PROJ: internal_proj_create_from_name: /Users/nvalett/opt/anaconda3/share/proj/proj.db lacks DATABASE.LAYOUT.VERSION.MAJOR / DATABASE.LAYOUT.VERSION.MINOR metadata. It comes from another PROJ installation.\n",
      "ERROR 1: PROJ: internal_proj_create_from_name: /Users/nvalett/opt/anaconda3/share/proj/proj.db lacks DATABASE.LAYOUT.VERSION.MAJOR / DATABASE.LAYOUT.VERSION.MINOR metadata. It comes from another PROJ installation.\n",
      "ERROR 1: PROJ: internal_proj_create_from_name: /Users/nvalett/opt/anaconda3/share/proj/proj.db lacks DATABASE.LAYOUT.VERSION.MAJOR / DATABASE.LAYOUT.VERSION.MINOR metadata. It comes from another PROJ installation.\n"
     ]
    },
    {
     "name": "stdout",
     "output_type": "stream",
     "text": [
      "ACOWOO\n",
      "Delta connectivity: 1646\n",
      "Permiability Restored: 1.6639403262164505\n",
      "Connectivity/permiability_restored: 989.22\n",
      "Connectivity/restored pixels: 32.92\n",
      "OAKTIT\n",
      "Delta connectivity: 2269\n",
      "Permiability Restored: 1.6639403262164505\n",
      "Connectivity/permiability_restored: 1363.63\n",
      "Connectivity/restored pixels: 45.38\n"
     ]
    }
   ],
   "source": [
    "# Flow restoration\n",
    "\n",
    "flowOptimizerAcowoo.run_connectivity(gap_crossing=2, num_gaps=40)\n",
    "flowOptimizerOaktit.run_connectivity(gap_crossing=1, num_gaps=10)\n",
    "\n",
    "with GeoTiff.from_file(flowOptimizerAcowoo.flow_fn) as acowooFlow:\n",
    "    rawAcowooFlow = acowooFlow.get_all_as_tile()\n",
    "    with GeoTiff.from_file(flowOptimizerAcowoo.flow_fn) as oaktitFlow:\n",
    "        rawOaktitFlow = oaktitFlow.get_all_as_tile()\n",
    "\n",
    "        avgFlow = (rawAcowooFlow.m + rawOaktitFlow.m) / 2\n",
    "\n",
    "        rawAcowooFlow.m = avgFlow\n",
    "        rawOaktitFlow.m = avgFlow\n",
    "\n",
    "        oaktitFlow.set_tile(rawOaktitFlow)\n",
    "        acowooFlow.set_tile(rawAcowooFlow)\n",
    "\n",
    "flowOptimizerAcowoo.permeability_dict = combined_permiability_dict\n",
    "flowOptimizerOaktit.permeability_dict = combined_permiability_dict\n",
    "\n",
    "permiability_restored = flowOptimizerAcowoo.restore()\n",
    "permiability_restored = flowOptimizerOaktit.restore()\n",
    "\n",
    "flowOptimizerAcowoo.permeability_dict = perm1\n",
    "flowOptimizerOaktit.permeability_dict = perm2\n",
    "\n",
    "flowOptimizerAcowoo.run_connectivity(gap_crossing=2, num_gaps=40, restored=True)\n",
    "flowOptimizerOaktit.run_connectivity(gap_crossing=1, num_gaps=10, restored=True)\n",
    "print(\"ACOWOO\")\n",
    "print(f\"Delta connectivity: {flowOptimizerAcowoo.get_delta_connectivity()}\")\n",
    "print(f\"Permiability Restored: {permiability_restored}\")\n",
    "print(f\"Connectivity/permiability_restored: {round(flowOptimizerAcowoo.get_delta_connectivity()/permiability_restored, 2)}\")\n",
    "print(f\"Connectivity/restored pixels: {round(flowOptimizerAcowoo.get_delta_connectivity()/flowOptimizerAcowoo.pixels, 2)}\")\n",
    "\n",
    "print(\"OAKTIT\")\n",
    "print(f\"Delta connectivity: {flowOptimizerOaktit.get_delta_connectivity()}\")\n",
    "print(f\"Permiability Restored: {permiability_restored}\")\n",
    "print(f\"Connectivity/permiability_restored: {round(flowOptimizerOaktit.get_delta_connectivity()/permiability_restored, 2)}\")\n",
    "print(f\"Connectivity/restored pixels: {round(flowOptimizerOaktit.get_delta_connectivity()/flowOptimizerOaktit.pixels, 2)}\")"
   ]
  },
  {
   "cell_type": "code",
   "execution_count": 16,
   "metadata": {},
   "outputs": [
    {
     "name": "stdout",
     "output_type": "stream",
     "text": [
      "{(225, 55): 78, (223, 57): 78, (220, 66): 78, (219, 68): 77, (222, 59): 74, (221, 64): 73, (155, 139): 73, (220, 64): 72, (222, 62): 72, (223, 60): 70, (220, 70): 70, (222, 61): 69, (221, 70): 69, (224, 51): 69, (221, 58): 69, (224, 53): 68, (221, 60): 67}\n",
      "{(256, 177): 43, (258, 181): 42, (184, 198): 42, (54, 130): 41}\n"
     ]
    }
   ],
   "source": [
    "print(flowOptimizerAcowoo.changed_pixels)\n",
    "print(flowOptimizerOaktit.changed_pixels)"
   ]
  },
  {
   "cell_type": "code",
   "execution_count": 17,
   "metadata": {},
   "outputs": [
    {
     "name": "stderr",
     "output_type": "stream",
     "text": [
      "ERROR 1: PROJ: internal_proj_create_from_name: /Users/nvalett/opt/anaconda3/share/proj/proj.db lacks DATABASE.LAYOUT.VERSION.MAJOR / DATABASE.LAYOUT.VERSION.MINOR metadata. It comes from another PROJ installation.\n",
      "ERROR 1: PROJ: internal_proj_create_from_name: /Users/nvalett/opt/anaconda3/share/proj/proj.db lacks DATABASE.LAYOUT.VERSION.MAJOR / DATABASE.LAYOUT.VERSION.MINOR metadata. It comes from another PROJ installation.\n",
      "ERROR 1: PROJ: internal_proj_create_from_name: /Users/nvalett/opt/anaconda3/share/proj/proj.db lacks DATABASE.LAYOUT.VERSION.MAJOR / DATABASE.LAYOUT.VERSION.MINOR metadata. It comes from another PROJ installation.\n",
      "ERROR 1: PROJ: internal_proj_create_from_name: /Users/nvalett/opt/anaconda3/share/proj/proj.db lacks DATABASE.LAYOUT.VERSION.MAJOR / DATABASE.LAYOUT.VERSION.MINOR metadata. It comes from another PROJ installation.\n"
     ]
    }
   ],
   "source": [
    "TERRAIN_CHANGED_ACOWOO = os.path.join(DATA_PATH, \"smol/acowoo_changed_terrain_flow.tif\")\n",
    "CONNECTIVITY_DIFF_ACOWOO = os.path.join(DATA_PATH, \"smol/acowoo_connectivity_diff_flow.tif\")\n",
    "TERRAIN_CHANGED_OAKTIT = os.path.join(DATA_PATH, \"smol/oaktit_changed_terrain_flow.tif\")\n",
    "CONNECTIVITY_DIFF_OAKTIT = os.path.join(DATA_PATH, \"smol/oaktit_connectivity_diff_flow.tif\")\n",
    "\n",
    "# paint changed terrain pixels\n",
    "flowOptimizerAcowoo.paint_changed_terrain_geotiff(TERRAIN_CHANGED_ACOWOO, value=1)\n",
    "# view diff of before and after\n",
    "flowOptimizerAcowoo.get_connectivity_difference_tif(CONNECTIVITY_DIFF_ACOWOO)\n",
    "\n",
    "# paint changed terrain pixels\n",
    "flowOptimizerOaktit.paint_changed_terrain_geotiff(TERRAIN_CHANGED_OAKTIT, value=1)\n",
    "# view diff of before and after\n",
    "flowOptimizerOaktit.get_connectivity_difference_tif(CONNECTIVITY_DIFF_OAKTIT)"
   ]
  }
 ],
 "metadata": {
  "interpreter": {
   "hash": "cf1cc9488f986e55b9ad02ec3dbe006a9544ef0e041cc52f3db2baca54acebc8"
  },
  "kernelspec": {
   "display_name": "Python 3.9.7 64-bit ('base': conda)",
   "language": "python",
   "name": "python3"
  },
  "language_info": {
   "codemirror_mode": {
    "name": "ipython",
    "version": 3
   },
   "file_extension": ".py",
   "mimetype": "text/x-python",
   "name": "python",
   "nbconvert_exporter": "python",
   "pygments_lexer": "ipython3",
   "version": "3.9.18"
  },
  "orig_nbformat": 4
 },
 "nbformat": 4,
 "nbformat_minor": 2
}
