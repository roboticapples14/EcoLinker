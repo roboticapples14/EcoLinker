{
 "cells": [
  {
   "cell_type": "code",
   "execution_count": 1,
   "metadata": {},
   "outputs": [],
   "source": [
    "import os\n",
    "import sys\n",
    "from scgt import GeoTiff\n",
    "sys.path.append('/Users/nvalett/Documents/Natalie/Species Dist Research/Code/ecoscape-earth/')\n",
    "sys.path.append('/Users/nvalett/Documents/Natalie/Species Dist Research/Code/ecoscape-earth/ecoscape-connectivity/')\n",
    "from EcoLinker.EcoLinker.restorationOptimizer import restorationOptimizer, defecitRestoration, noisyDefecitRestoration, utopianRestoration\n",
    "from ecoscape_connectivity_local import repopulation, util\n",
    "import matplotlib.pyplot as plt\n",
    "# import ecoscape_connectivity\n",
    "from scgt import GeoTiff, Tile\n",
    "import numpy as np\n",
    "import torch\n",
    "import rasterio"
   ]
  },
  {
   "cell_type": "code",
   "execution_count": 32,
   "metadata": {},
   "outputs": [],
   "source": [
    "DATA_PATH=\"/Users/nvalett/Documents/Natalie/Species Dist Research/Thesis/EcoLinker/tests/assets\"\n",
    "HABITAT_PATH = os.path.join(DATA_PATH, \"smol/hab_smol.tif\")\n",
    "TERRAIN_PATH = os.path.join(DATA_PATH, \"smol/terrain.tif\")\n",
    "RESTORED_TERRAIN_PATH = os.path.join(DATA_PATH, \"smol/restored_ter_smol.tif\")\n",
    "PERMEABILITY_PATH = os.path.join(DATA_PATH, \"paper_repro/transmission_refined_1.csv\")\n",
    "\n",
    "CONNECTIVITY_PATH = os.path.join(DATA_PATH, \"smol/repop.tif\")\n",
    "NOISY_CONNECTIVITY_PATH = os.path.join(DATA_PATH, \"smol/repop_noisy.tif\")\n",
    "UTOPIAN_CONNECTIVITY_PATH = os.path.join(DATA_PATH, \"smol/repop_utopian.tif\")\n",
    "RESTORED_CONNECTIVITY_PATH = os.path.join(DATA_PATH, \"smol/repop_after_restoration.tif\")\n",
    "FLOW_PATH = os.path.join(DATA_PATH, \"smol/grad.tif\")\n",
    "NOISY_FLOW_PATH = os.path.join(DATA_PATH, \"smol/grad_noisy.tif\")\n",
    "UTOPIAN_FLOW_PATH = os.path.join(DATA_PATH, \"smol/grad_utopian.tif\")\n",
    "RESTORED_FLOW_PATH = os.path.join(DATA_PATH, \"smol/grad_after_restoration.tif\")\n",
    "DEATH_PATH = os.path.join(DATA_PATH, \"smol/death.tif\")\n",
    "\n",
    "# terrain changed tiffs\n",
    "TERRAIN_CHANGED_DEFICIT = os.path.join(DATA_PATH, \"smol/changed_terrain_defecit.tif\")\n",
    "TERRAIN_CHANGED_NOISY = os.path.join(DATA_PATH, \"smol/changed_terrain_noisy.tif\")\n",
    "TERRAIN_CHANGED_UTOPIAN = os.path.join(DATA_PATH, \"smol/changed_terrain_utopian.tif\")\n",
    "# changed connectivity\n",
    "CONNECTIVITY_DIFF_DEFECIT = os.path.join(DATA_PATH, \"smol/connectivity_diff_defecit.tif\")\n",
    "CONNECTIVITY_DIFF_NOISY = os.path.join(DATA_PATH, \"smol/connectivity_diff_noisy.tif\")\n",
    "CONNECTIVITY_DIFF_UTOPIAN = os.path.join(DATA_PATH, \"smol/connectivity_diff_utopian.tif\")\n",
    "\n",
    "defecitOptimizer = defecitRestoration(HABITAT_PATH, TERRAIN_PATH, RESTORED_TERRAIN_PATH, CONNECTIVITY_PATH, FLOW_PATH, RESTORED_CONNECTIVITY_PATH, RESTORED_FLOW_PATH, DEATH_PATH, PERMEABILITY_PATH, 50)\n",
    "noisyOptimizer = noisyDefecitRestoration(HABITAT_PATH, TERRAIN_PATH, RESTORED_TERRAIN_PATH, CONNECTIVITY_PATH, FLOW_PATH, RESTORED_CONNECTIVITY_PATH, RESTORED_FLOW_PATH, DEATH_PATH, PERMEABILITY_PATH, 50, NOISY_CONNECTIVITY_PATH, NOISY_FLOW_PATH, rand_divisor=1)\n",
    "utopianOptimizer = utopianRestoration(HABITAT_PATH, TERRAIN_PATH, RESTORED_TERRAIN_PATH, CONNECTIVITY_PATH, FLOW_PATH, RESTORED_CONNECTIVITY_PATH, RESTORED_FLOW_PATH, DEATH_PATH, PERMEABILITY_PATH, 50, UTOPIAN_CONNECTIVITY_PATH, UTOPIAN_FLOW_PATH, permiability=1.0)"
   ]
  },
  {
   "cell_type": "markdown",
   "metadata": {},
   "source": [
    "Results:\n",
    "n=100\n",
    "------------------------\n",
    "Delta connectivity: 2797\n",
    "Percent connectivity changed: 0.0008208559029576346%\n",
    "Connectivity/death: 0.9335781041388518\n",
    "\n",
    "n=50\n",
    "------------------------"
   ]
  },
  {
   "cell_type": "code",
   "execution_count": 33,
   "metadata": {},
   "outputs": [
    {
     "name": "stderr",
     "output_type": "stream",
     "text": [
      "ERROR 1: PROJ: internal_proj_create_from_name: /Users/nvalett/opt/anaconda3/share/proj/proj.db lacks DATABASE.LAYOUT.VERSION.MAJOR / DATABASE.LAYOUT.VERSION.MINOR metadata. It comes from another PROJ installation.\n",
      "ERROR 1: PROJ: internal_proj_create_from_name: /Users/nvalett/opt/anaconda3/share/proj/proj.db lacks DATABASE.LAYOUT.VERSION.MAJOR / DATABASE.LAYOUT.VERSION.MINOR metadata. It comes from another PROJ installation.\n",
      "ERROR 1: PROJ: internal_proj_create_from_name: /Users/nvalett/opt/anaconda3/share/proj/proj.db lacks DATABASE.LAYOUT.VERSION.MAJOR / DATABASE.LAYOUT.VERSION.MINOR metadata. It comes from another PROJ installation.\n",
      "ERROR 1: PROJ: internal_proj_create_from_name: /Users/nvalett/opt/anaconda3/share/proj/proj.db lacks DATABASE.LAYOUT.VERSION.MAJOR / DATABASE.LAYOUT.VERSION.MINOR metadata. It comes from another PROJ installation.\n",
      "ERROR 1: PROJ: internal_proj_create_from_name: /Users/nvalett/opt/anaconda3/share/proj/proj.db lacks DATABASE.LAYOUT.VERSION.MAJOR / DATABASE.LAYOUT.VERSION.MINOR metadata. It comes from another PROJ installation.\n"
     ]
    },
    {
     "name": "stdout",
     "output_type": "stream",
     "text": [
      "Delta connectivity: 4040\n",
      "Permiability Restored: 36.41313868702188\n",
      "Percent connectivity changed: 0.00122998720995973%\n",
      "Connectivity/permiability_restored: 110.9489636343793\n"
     ]
    }
   ],
   "source": [
    "defecitOptimizer.run_connectivity()\n",
    "permiability_restored = defecitOptimizer.restore()\n",
    "defecitOptimizer.run_connectivity(restored=True)\n",
    "print(f\"Delta connectivity: {defecitOptimizer.get_delta_connectivity()}\")\n",
    "print(f\"Permiability Restored: {permiability_restored}\")\n",
    "print(f\"Percent connectivity changed: {defecitOptimizer.get_connectivity_percent_changed()}%\")\n",
    "print(f\"Connectivity/permiability_restored: {defecitOptimizer.get_delta_connectivity()/permiability_restored}\")"
   ]
  },
  {
   "cell_type": "code",
   "execution_count": 34,
   "metadata": {},
   "outputs": [
    {
     "name": "stderr",
     "output_type": "stream",
     "text": [
      "ERROR 1: PROJ: internal_proj_create_from_name: /Users/nvalett/opt/anaconda3/share/proj/proj.db lacks DATABASE.LAYOUT.VERSION.MAJOR / DATABASE.LAYOUT.VERSION.MINOR metadata. It comes from another PROJ installation.\n"
     ]
    }
   ],
   "source": [
    "# paint changed terrain pixels\n",
    "defecitOptimizer.paint_changed_terrain_geotiff(TERRAIN_CHANGED_DEFICIT)"
   ]
  },
  {
   "cell_type": "code",
   "execution_count": 35,
   "metadata": {},
   "outputs": [
    {
     "name": "stderr",
     "output_type": "stream",
     "text": [
      "ERROR 1: PROJ: internal_proj_create_from_name: /Users/nvalett/opt/anaconda3/share/proj/proj.db lacks DATABASE.LAYOUT.VERSION.MAJOR / DATABASE.LAYOUT.VERSION.MINOR metadata. It comes from another PROJ installation.\n"
     ]
    }
   ],
   "source": [
    "# view diff of before and after\n",
    "defecitOptimizer.get_connectivity_difference_tif(CONNECTIVITY_DIFF_DEFECIT)"
   ]
  },
  {
   "cell_type": "code",
   "execution_count": 24,
   "metadata": {},
   "outputs": [
    {
     "name": "stderr",
     "output_type": "stream",
     "text": [
      "ERROR 1: PROJ: internal_proj_create_from_name: /Users/nvalett/opt/anaconda3/share/proj/proj.db lacks DATABASE.LAYOUT.VERSION.MAJOR / DATABASE.LAYOUT.VERSION.MINOR metadata. It comes from another PROJ installation.\n",
      "ERROR 1: PROJ: internal_proj_create_from_name: /Users/nvalett/opt/anaconda3/share/proj/proj.db lacks DATABASE.LAYOUT.VERSION.MAJOR / DATABASE.LAYOUT.VERSION.MINOR metadata. It comes from another PROJ installation.\n",
      "ERROR 1: PROJ: internal_proj_create_from_name: /Users/nvalett/opt/anaconda3/share/proj/proj.db lacks DATABASE.LAYOUT.VERSION.MAJOR / DATABASE.LAYOUT.VERSION.MINOR metadata. It comes from another PROJ installation.\n",
      "ERROR 1: PROJ: internal_proj_create_from_name: /Users/nvalett/opt/anaconda3/share/proj/proj.db lacks DATABASE.LAYOUT.VERSION.MAJOR / DATABASE.LAYOUT.VERSION.MINOR metadata. It comes from another PROJ installation.\n",
      "ERROR 1: PROJ: internal_proj_create_from_name: /Users/nvalett/opt/anaconda3/share/proj/proj.db lacks DATABASE.LAYOUT.VERSION.MAJOR / DATABASE.LAYOUT.VERSION.MINOR metadata. It comes from another PROJ installation.\n",
      "ERROR 1: PROJ: internal_proj_create_from_name: /Users/nvalett/opt/anaconda3/share/proj/proj.db lacks DATABASE.LAYOUT.VERSION.MAJOR / DATABASE.LAYOUT.VERSION.MINOR metadata. It comes from another PROJ installation.\n",
      "ERROR 1: PROJ: internal_proj_create_from_name: /Users/nvalett/opt/anaconda3/share/proj/proj.db lacks DATABASE.LAYOUT.VERSION.MAJOR / DATABASE.LAYOUT.VERSION.MINOR metadata. It comes from another PROJ installation.\n"
     ]
    },
    {
     "name": "stdout",
     "output_type": "stream",
     "text": [
      "Delta connectivity: 1356\n",
      "Permiability Restored: 36.277781022350354\n",
      "Percent connectivity changed: 0.0004128372912637114%\n",
      "Connectivity/permiability_restored: 37.37825086833681\n"
     ]
    }
   ],
   "source": [
    "noisyOptimizer.run_connectivity()\n",
    "noisyOptimizer.run_noisy_connectivity()\n",
    "permiability_restored = noisyOptimizer.restore()\n",
    "noisyOptimizer.run_connectivity(restored=True)\n",
    "print(f\"Delta connectivity: {noisyOptimizer.get_delta_connectivity()}\")\n",
    "print(f\"Permiability Restored: {permiability_restored}\")\n",
    "print(f\"Percent connectivity changed: {noisyOptimizer.get_connectivity_percent_changed()}%\")\n",
    "print(f\"Connectivity/permiability_restored: {noisyOptimizer.get_delta_connectivity()/permiability_restored}\")"
   ]
  },
  {
   "cell_type": "code",
   "execution_count": 26,
   "metadata": {},
   "outputs": [
    {
     "name": "stderr",
     "output_type": "stream",
     "text": [
      "ERROR 1: PROJ: internal_proj_create_from_name: /Users/nvalett/opt/anaconda3/share/proj/proj.db lacks DATABASE.LAYOUT.VERSION.MAJOR / DATABASE.LAYOUT.VERSION.MINOR metadata. It comes from another PROJ installation.\n"
     ]
    }
   ],
   "source": [
    "# paint changed terrain pixels\n",
    "noisyOptimizer.paint_changed_terrain_geotiff(TERRAIN_CHANGED_NOISY)"
   ]
  },
  {
   "cell_type": "code",
   "execution_count": 27,
   "metadata": {},
   "outputs": [
    {
     "name": "stderr",
     "output_type": "stream",
     "text": [
      "ERROR 1: PROJ: internal_proj_create_from_name: /Users/nvalett/opt/anaconda3/share/proj/proj.db lacks DATABASE.LAYOUT.VERSION.MAJOR / DATABASE.LAYOUT.VERSION.MINOR metadata. It comes from another PROJ installation.\n"
     ]
    }
   ],
   "source": [
    "# view diff of before and after\n",
    "noisyOptimizer.get_connectivity_difference_tif(CONNECTIVITY_DIFF_NOISY)"
   ]
  },
  {
   "cell_type": "code",
   "execution_count": 28,
   "metadata": {},
   "outputs": [
    {
     "name": "stderr",
     "output_type": "stream",
     "text": [
      "ERROR 1: PROJ: internal_proj_create_from_name: /Users/nvalett/opt/anaconda3/share/proj/proj.db lacks DATABASE.LAYOUT.VERSION.MAJOR / DATABASE.LAYOUT.VERSION.MINOR metadata. It comes from another PROJ installation.\n",
      "ERROR 1: PROJ: internal_proj_create_from_name: /Users/nvalett/opt/anaconda3/share/proj/proj.db lacks DATABASE.LAYOUT.VERSION.MAJOR / DATABASE.LAYOUT.VERSION.MINOR metadata. It comes from another PROJ installation.\n",
      "ERROR 1: PROJ: internal_proj_create_from_name: /Users/nvalett/opt/anaconda3/share/proj/proj.db lacks DATABASE.LAYOUT.VERSION.MAJOR / DATABASE.LAYOUT.VERSION.MINOR metadata. It comes from another PROJ installation.\n",
      "ERROR 1: PROJ: internal_proj_create_from_name: /Users/nvalett/opt/anaconda3/share/proj/proj.db lacks DATABASE.LAYOUT.VERSION.MAJOR / DATABASE.LAYOUT.VERSION.MINOR metadata. It comes from another PROJ installation.\n"
     ]
    },
    {
     "name": "stdout",
     "output_type": "stream",
     "text": [
      "{(19, 4): 62, (235, 14): 60, (233, 23): 60, (228, 11): 59, (233, 13): 58, (230, 15): 58, (223, 13): 57, (230, 28): 57, (224, 12): 57, (226, 13): 57, (226, 14): 57, (119, 100): 57, (230, 16): 57, (226, 10): 57, (242, 164): 56, (230, 14): 56, (223, 10): 56, (182, 162): 56, (231, 12): 56, (245, 17): 56, (238, 13): 56, (229, 15): 56, (229, 14): 56, (122, 97): 56, (243, 159): 56, (121, 98): 56, (235, 28): 56, (195, 87): 56, (239, 23): 56, (283, 50): 56, (50, 97): 55, (209, 143): 55, (231, 17): 55, (156, 166): 55, (224, 11): 55, (223, 11): 55, (284, 51): 55, (238, 22): 55, (238, 24): 55, (227, 12): 55, (238, 23): 55, (10, 4): 55, (237, 23): 55, (225, 14): 54, (162, 162): 54, (48, 112): 54, (181, 161): 54, (175, 155): 54, (231, 15): 54, (242, 19): 54}\n"
     ]
    },
    {
     "name": "stderr",
     "output_type": "stream",
     "text": [
      "ERROR 1: PROJ: internal_proj_create_from_name: /Users/nvalett/opt/anaconda3/share/proj/proj.db lacks DATABASE.LAYOUT.VERSION.MAJOR / DATABASE.LAYOUT.VERSION.MINOR metadata. It comes from another PROJ installation.\n",
      "ERROR 1: PROJ: internal_proj_create_from_name: /Users/nvalett/opt/anaconda3/share/proj/proj.db lacks DATABASE.LAYOUT.VERSION.MAJOR / DATABASE.LAYOUT.VERSION.MINOR metadata. It comes from another PROJ installation.\n"
     ]
    },
    {
     "name": "stdout",
     "output_type": "stream",
     "text": [
      "Delta connectivity: 1118\n",
      "Permiability Restored: 31.91635036510222\n",
      "Percent connectivity changed: 0.0003403776486967768%\n",
      "Connectivity/permiability_restored: 35.02906777281267\n"
     ]
    }
   ],
   "source": [
    "# utopian restoration\n",
    "utopianOptimizer.run_connectivity()\n",
    "utopianOptimizer.run_utopian_connectivity()\n",
    "permiability_restored = utopianOptimizer.restore()\n",
    "utopianOptimizer.run_connectivity(restored=True)\n",
    "print(f\"Delta connectivity: {utopianOptimizer.get_delta_connectivity()}\")\n",
    "print(f\"Permiability Restored: {permiability_restored}\")\n",
    "print(f\"Percent connectivity changed: {utopianOptimizer.get_connectivity_percent_changed()}%\")\n",
    "print(f\"Connectivity/permiability_restored: {utopianOptimizer.get_delta_connectivity()/permiability_restored}\")"
   ]
  },
  {
   "cell_type": "code",
   "execution_count": 29,
   "metadata": {},
   "outputs": [
    {
     "name": "stderr",
     "output_type": "stream",
     "text": [
      "ERROR 1: PROJ: internal_proj_create_from_name: /Users/nvalett/opt/anaconda3/share/proj/proj.db lacks DATABASE.LAYOUT.VERSION.MAJOR / DATABASE.LAYOUT.VERSION.MINOR metadata. It comes from another PROJ installation.\n"
     ]
    }
   ],
   "source": [
    "# paint changed terrain pixels\n",
    "diff = utopianOptimizer.get_flow_diff()\n",
    "highest_diff = utopianOptimizer.get_highest_diff_pixels(diff)\n",
    "utopianOptimizer.paint_changed_terrain_geotiff(TERRAIN_CHANGED_UTOPIAN, highest_diff)"
   ]
  },
  {
   "cell_type": "code",
   "execution_count": 30,
   "metadata": {},
   "outputs": [
    {
     "name": "stderr",
     "output_type": "stream",
     "text": [
      "ERROR 1: PROJ: internal_proj_create_from_name: /Users/nvalett/opt/anaconda3/share/proj/proj.db lacks DATABASE.LAYOUT.VERSION.MAJOR / DATABASE.LAYOUT.VERSION.MINOR metadata. It comes from another PROJ installation.\n"
     ]
    }
   ],
   "source": [
    "# view diff of before and after\n",
    "utopianOptimizer.get_connectivity_difference_tif(CONNECTIVITY_DIFF_UTOPIAN)"
   ]
  },
  {
   "cell_type": "markdown",
   "metadata": {},
   "source": [
    "## Now with more pixels restored..."
   ]
  },
  {
   "cell_type": "code",
   "execution_count": 43,
   "metadata": {},
   "outputs": [],
   "source": [
    "DATA_PATH=\"/Users/nvalett/Documents/Natalie/Species Dist Research/Thesis/EcoLinker/tests/assets\"\n",
    "HABITAT_PATH = os.path.join(DATA_PATH, \"smol/hab_smol.tif\")\n",
    "TERRAIN_PATH = os.path.join(DATA_PATH, \"smol/terrain.tif\")\n",
    "RESTORED_TERRAIN_PATH = os.path.join(DATA_PATH, \"smol/restored_ter_smol.tif\")\n",
    "PERMEABILITY_PATH = os.path.join(DATA_PATH, \"paper_repro/transmission_refined_1.csv\")\n",
    "\n",
    "CONNECTIVITY_PATH = os.path.join(DATA_PATH, \"smol/repop.tif\")\n",
    "NOISY_CONNECTIVITY_PATH = os.path.join(DATA_PATH, \"smol/repop_noisy.tif\")\n",
    "UTOPIAN_CONNECTIVITY_PATH = os.path.join(DATA_PATH, \"smol/repop_utopian.tif\")\n",
    "RESTORED_CONNECTIVITY_PATH = os.path.join(DATA_PATH, \"smol/repop_after_restoration.tif\")\n",
    "FLOW_PATH = os.path.join(DATA_PATH, \"smol/grad.tif\")\n",
    "NOISY_FLOW_PATH = os.path.join(DATA_PATH, \"smol/grad_noisy.tif\")\n",
    "UTOPIAN_FLOW_PATH = os.path.join(DATA_PATH, \"smol/grad_utopian.tif\")\n",
    "RESTORED_FLOW_PATH = os.path.join(DATA_PATH, \"smol/grad_after_restoration.tif\")\n",
    "DEATH_PATH = os.path.join(DATA_PATH, \"smol/death.tif\")\n",
    "\n",
    "# terrain changed tiffs\n",
    "TERRAIN_CHANGED_DEFICIT = os.path.join(DATA_PATH, \"smol/changed_terrain_defecit_100.tif\")\n",
    "TERRAIN_CHANGED_NOISY = os.path.join(DATA_PATH, \"smol/changed_terrain_noisy_100.tif\")\n",
    "TERRAIN_CHANGED_UTOPIAN = os.path.join(DATA_PATH, \"smol/changed_terrain_utopian_100.tif\")\n",
    "# changed connectivity\n",
    "CONNECTIVITY_DIFF_DEFECIT = os.path.join(DATA_PATH, \"smol/connectivity_diff_defecit_100.tif\")\n",
    "CONNECTIVITY_DIFF_NOISY = os.path.join(DATA_PATH, \"smol/connectivity_diff_noisy_100.tif\")\n",
    "CONNECTIVITY_DIFF_UTOPIAN = os.path.join(DATA_PATH, \"smol/connectivity_diff_utopian_100.tif\")\n",
    "\n",
    "defecitOptimizer = defecitRestoration(HABITAT_PATH, TERRAIN_PATH, RESTORED_TERRAIN_PATH, CONNECTIVITY_PATH, FLOW_PATH, RESTORED_CONNECTIVITY_PATH, RESTORED_FLOW_PATH, DEATH_PATH, PERMEABILITY_PATH, 250)\n",
    "noisyOptimizer = noisyDefecitRestoration(HABITAT_PATH, TERRAIN_PATH, RESTORED_TERRAIN_PATH, CONNECTIVITY_PATH, FLOW_PATH, RESTORED_CONNECTIVITY_PATH, RESTORED_FLOW_PATH, DEATH_PATH, PERMEABILITY_PATH, 100, NOISY_CONNECTIVITY_PATH, NOISY_FLOW_PATH, rand_divisor=1)\n",
    "utopianOptimizer = utopianRestoration(HABITAT_PATH, TERRAIN_PATH, RESTORED_TERRAIN_PATH, CONNECTIVITY_PATH, FLOW_PATH, RESTORED_CONNECTIVITY_PATH, RESTORED_FLOW_PATH, DEATH_PATH, PERMEABILITY_PATH, 100, UTOPIAN_CONNECTIVITY_PATH, UTOPIAN_FLOW_PATH, permiability=1.0)"
   ]
  },
  {
   "cell_type": "code",
   "execution_count": 44,
   "metadata": {},
   "outputs": [
    {
     "name": "stderr",
     "output_type": "stream",
     "text": [
      "ERROR 1: PROJ: internal_proj_create_from_name: /Users/nvalett/opt/anaconda3/share/proj/proj.db lacks DATABASE.LAYOUT.VERSION.MAJOR / DATABASE.LAYOUT.VERSION.MINOR metadata. It comes from another PROJ installation.\n",
      "ERROR 1: PROJ: internal_proj_create_from_name: /Users/nvalett/opt/anaconda3/share/proj/proj.db lacks DATABASE.LAYOUT.VERSION.MAJOR / DATABASE.LAYOUT.VERSION.MINOR metadata. It comes from another PROJ installation.\n",
      "ERROR 1: PROJ: internal_proj_create_from_name: /Users/nvalett/opt/anaconda3/share/proj/proj.db lacks DATABASE.LAYOUT.VERSION.MAJOR / DATABASE.LAYOUT.VERSION.MINOR metadata. It comes from another PROJ installation.\n",
      "ERROR 1: PROJ: internal_proj_create_from_name: /Users/nvalett/opt/anaconda3/share/proj/proj.db lacks DATABASE.LAYOUT.VERSION.MAJOR / DATABASE.LAYOUT.VERSION.MINOR metadata. It comes from another PROJ installation.\n",
      "ERROR 1: PROJ: internal_proj_create_from_name: /Users/nvalett/opt/anaconda3/share/proj/proj.db lacks DATABASE.LAYOUT.VERSION.MAJOR / DATABASE.LAYOUT.VERSION.MINOR metadata. It comes from another PROJ installation.\n"
     ]
    },
    {
     "name": "stdout",
     "output_type": "stream",
     "text": [
      "Delta connectivity: 13359\n",
      "Permiability Restored: 135.31962044291953\n",
      "Percent connectivity changed: 0.004067178004418821%\n",
      "Connectivity/permiability_restored: 98.72182582447523\n"
     ]
    },
    {
     "name": "stderr",
     "output_type": "stream",
     "text": [
      "ERROR 1: PROJ: internal_proj_create_from_name: /Users/nvalett/opt/anaconda3/share/proj/proj.db lacks DATABASE.LAYOUT.VERSION.MAJOR / DATABASE.LAYOUT.VERSION.MINOR metadata. It comes from another PROJ installation.\n",
      "ERROR 1: PROJ: internal_proj_create_from_name: /Users/nvalett/opt/anaconda3/share/proj/proj.db lacks DATABASE.LAYOUT.VERSION.MAJOR / DATABASE.LAYOUT.VERSION.MINOR metadata. It comes from another PROJ installation.\n"
     ]
    }
   ],
   "source": [
    "defecitOptimizer.run_connectivity()\n",
    "permiability_restored = defecitOptimizer.restore()\n",
    "defecitOptimizer.run_connectivity(restored=True)\n",
    "print(f\"Delta connectivity: {defecitOptimizer.get_delta_connectivity()}\")\n",
    "print(f\"Permiability Restored: {permiability_restored}\")\n",
    "print(f\"Percent connectivity changed: {defecitOptimizer.get_connectivity_percent_changed()}%\")\n",
    "print(f\"Connectivity/permiability_restored: {defecitOptimizer.get_delta_connectivity()/permiability_restored}\")\n",
    "\n",
    "# paint changed terrain pixels\n",
    "defecitOptimizer.paint_changed_terrain_geotiff(TERRAIN_CHANGED_DEFICIT)\n",
    "\n",
    "# view diff of before and after\n",
    "defecitOptimizer.get_connectivity_difference_tif(CONNECTIVITY_DIFF_DEFECIT)"
   ]
  },
  {
   "cell_type": "code",
   "execution_count": 39,
   "metadata": {},
   "outputs": [
    {
     "name": "stderr",
     "output_type": "stream",
     "text": [
      "ERROR 1: PROJ: internal_proj_create_from_name: /Users/nvalett/opt/anaconda3/share/proj/proj.db lacks DATABASE.LAYOUT.VERSION.MAJOR / DATABASE.LAYOUT.VERSION.MINOR metadata. It comes from another PROJ installation.\n",
      "ERROR 1: PROJ: internal_proj_create_from_name: /Users/nvalett/opt/anaconda3/share/proj/proj.db lacks DATABASE.LAYOUT.VERSION.MAJOR / DATABASE.LAYOUT.VERSION.MINOR metadata. It comes from another PROJ installation.\n",
      "ERROR 1: PROJ: internal_proj_create_from_name: /Users/nvalett/opt/anaconda3/share/proj/proj.db lacks DATABASE.LAYOUT.VERSION.MAJOR / DATABASE.LAYOUT.VERSION.MINOR metadata. It comes from another PROJ installation.\n",
      "ERROR 1: PROJ: internal_proj_create_from_name: /Users/nvalett/opt/anaconda3/share/proj/proj.db lacks DATABASE.LAYOUT.VERSION.MAJOR / DATABASE.LAYOUT.VERSION.MINOR metadata. It comes from another PROJ installation.\n",
      "ERROR 1: PROJ: internal_proj_create_from_name: /Users/nvalett/opt/anaconda3/share/proj/proj.db lacks DATABASE.LAYOUT.VERSION.MAJOR / DATABASE.LAYOUT.VERSION.MINOR metadata. It comes from another PROJ installation.\n",
      "ERROR 1: PROJ: internal_proj_create_from_name: /Users/nvalett/opt/anaconda3/share/proj/proj.db lacks DATABASE.LAYOUT.VERSION.MAJOR / DATABASE.LAYOUT.VERSION.MINOR metadata. It comes from another PROJ installation.\n",
      "ERROR 1: PROJ: internal_proj_create_from_name: /Users/nvalett/opt/anaconda3/share/proj/proj.db lacks DATABASE.LAYOUT.VERSION.MAJOR / DATABASE.LAYOUT.VERSION.MINOR metadata. It comes from another PROJ installation.\n"
     ]
    },
    {
     "name": "stdout",
     "output_type": "stream",
     "text": [
      "Delta connectivity: 2328\n",
      "Permiability Restored: 72.68116788502192\n",
      "Percent connectivity changed: 0.0007087649071253098%\n",
      "Connectivity/permiability_restored: 32.03030534240703\n"
     ]
    },
    {
     "name": "stderr",
     "output_type": "stream",
     "text": [
      "ERROR 1: PROJ: internal_proj_create_from_name: /Users/nvalett/opt/anaconda3/share/proj/proj.db lacks DATABASE.LAYOUT.VERSION.MAJOR / DATABASE.LAYOUT.VERSION.MINOR metadata. It comes from another PROJ installation.\n",
      "ERROR 1: PROJ: internal_proj_create_from_name: /Users/nvalett/opt/anaconda3/share/proj/proj.db lacks DATABASE.LAYOUT.VERSION.MAJOR / DATABASE.LAYOUT.VERSION.MINOR metadata. It comes from another PROJ installation.\n"
     ]
    }
   ],
   "source": [
    "noisyOptimizer.run_connectivity()\n",
    "noisyOptimizer.run_noisy_connectivity()\n",
    "permiability_restored = noisyOptimizer.restore()\n",
    "noisyOptimizer.run_connectivity(restored=True)\n",
    "print(f\"Delta connectivity: {noisyOptimizer.get_delta_connectivity()}\")\n",
    "print(f\"Permiability Restored: {permiability_restored}\")\n",
    "print(f\"Percent connectivity changed: {noisyOptimizer.get_connectivity_percent_changed()}%\")\n",
    "print(f\"Connectivity/permiability_restored: {noisyOptimizer.get_delta_connectivity()/permiability_restored}\")\n",
    "\n",
    "# paint changed terrain pixels\n",
    "noisyOptimizer.paint_changed_terrain_geotiff(TERRAIN_CHANGED_NOISY)\n",
    "\n",
    "# view diff of before and after\n",
    "noisyOptimizer.get_connectivity_difference_tif(CONNECTIVITY_DIFF_NOISY)"
   ]
  },
  {
   "cell_type": "code",
   "execution_count": 40,
   "metadata": {},
   "outputs": [
    {
     "name": "stderr",
     "output_type": "stream",
     "text": [
      "ERROR 1: PROJ: internal_proj_create_from_name: /Users/nvalett/opt/anaconda3/share/proj/proj.db lacks DATABASE.LAYOUT.VERSION.MAJOR / DATABASE.LAYOUT.VERSION.MINOR metadata. It comes from another PROJ installation.\n",
      "ERROR 1: PROJ: internal_proj_create_from_name: /Users/nvalett/opt/anaconda3/share/proj/proj.db lacks DATABASE.LAYOUT.VERSION.MAJOR / DATABASE.LAYOUT.VERSION.MINOR metadata. It comes from another PROJ installation.\n",
      "ERROR 1: PROJ: internal_proj_create_from_name: /Users/nvalett/opt/anaconda3/share/proj/proj.db lacks DATABASE.LAYOUT.VERSION.MAJOR / DATABASE.LAYOUT.VERSION.MINOR metadata. It comes from another PROJ installation.\n",
      "ERROR 1: PROJ: internal_proj_create_from_name: /Users/nvalett/opt/anaconda3/share/proj/proj.db lacks DATABASE.LAYOUT.VERSION.MAJOR / DATABASE.LAYOUT.VERSION.MINOR metadata. It comes from another PROJ installation.\n"
     ]
    },
    {
     "name": "stdout",
     "output_type": "stream",
     "text": [
      "{(19, 4): 62, (235, 14): 60, (233, 23): 60, (228, 11): 59, (230, 15): 58, (233, 13): 58, (119, 100): 57, (226, 14): 57, (230, 28): 57, (226, 10): 57, (226, 13): 57, (223, 13): 57, (224, 12): 57, (230, 16): 57, (239, 23): 56, (245, 17): 56, (122, 97): 56, (229, 15): 56, (230, 14): 56, (238, 13): 56, (243, 159): 56, (229, 14): 56, (235, 28): 56, (242, 164): 56, (195, 87): 56, (121, 98): 56, (283, 50): 56, (182, 162): 56, (223, 10): 56, (231, 12): 56, (10, 4): 55, (238, 23): 55, (237, 23): 55, (50, 97): 55, (209, 143): 55, (238, 24): 55, (227, 12): 55, (231, 17): 55, (156, 166): 55, (284, 51): 55, (224, 11): 55, (223, 11): 55, (238, 22): 55, (224, 9): 54, (175, 155): 54, (68, 48): 54, (261, 30): 54, (226, 11): 54, (225, 12): 54, (225, 11): 54, (222, 141): 54, (227, 10): 54, (225, 10): 54, (224, 10): 54, (227, 11): 54, (162, 162): 54, (242, 19): 54, (225, 14): 54, (234, 22): 54, (145, 168): 54, (231, 15): 54, (152, 160): 54, (42, 17): 54, (227, 16): 54, (181, 161): 54, (48, 112): 54, (176, 154): 53, (39, 58): 53, (188, 81): 53, (193, 83): 53, (52, 33): 53, (58, 125): 53, (57, 126): 53, (202, 80): 53, (70, 131): 53, (142, 170): 53, (243, 150): 53, (241, 131): 53, (265, 14): 53, (237, 14): 53, (227, 15): 53, (141, 177): 53, (155, 161): 53, (147, 166): 53, (231, 29): 53, (110, 159): 53, (146, 168): 53, (233, 22): 53, (119, 94): 53, (85, 15): 53, (99, 151): 53, (75, 20): 52, (228, 27): 52, (196, 166): 52, (142, 175): 52, (288, 41): 52, (148, 160): 52, (130, 172): 52, (230, 140): 52, (67, 41): 52}\n"
     ]
    },
    {
     "name": "stderr",
     "output_type": "stream",
     "text": [
      "ERROR 1: PROJ: internal_proj_create_from_name: /Users/nvalett/opt/anaconda3/share/proj/proj.db lacks DATABASE.LAYOUT.VERSION.MAJOR / DATABASE.LAYOUT.VERSION.MINOR metadata. It comes from another PROJ installation.\n",
      "ERROR 1: PROJ: internal_proj_create_from_name: /Users/nvalett/opt/anaconda3/share/proj/proj.db lacks DATABASE.LAYOUT.VERSION.MAJOR / DATABASE.LAYOUT.VERSION.MINOR metadata. It comes from another PROJ installation.\n"
     ]
    },
    {
     "name": "stdout",
     "output_type": "stream",
     "text": [
      "Delta connectivity: 2421\n",
      "Permiability Restored: 60.72183941678838\n",
      "Percent connectivity changed: 0.0007370789691367591%\n",
      "Connectivity/permiability_restored: 39.87033369299814\n"
     ]
    },
    {
     "name": "stderr",
     "output_type": "stream",
     "text": [
      "ERROR 1: PROJ: internal_proj_create_from_name: /Users/nvalett/opt/anaconda3/share/proj/proj.db lacks DATABASE.LAYOUT.VERSION.MAJOR / DATABASE.LAYOUT.VERSION.MINOR metadata. It comes from another PROJ installation.\n",
      "ERROR 1: PROJ: internal_proj_create_from_name: /Users/nvalett/opt/anaconda3/share/proj/proj.db lacks DATABASE.LAYOUT.VERSION.MAJOR / DATABASE.LAYOUT.VERSION.MINOR metadata. It comes from another PROJ installation.\n"
     ]
    }
   ],
   "source": [
    "# utopian restoration\n",
    "utopianOptimizer.run_connectivity()\n",
    "utopianOptimizer.run_utopian_connectivity()\n",
    "permiability_restored = utopianOptimizer.restore()\n",
    "utopianOptimizer.run_connectivity(restored=True)\n",
    "print(f\"Delta connectivity: {utopianOptimizer.get_delta_connectivity()}\")\n",
    "print(f\"Permiability Restored: {permiability_restored}\")\n",
    "print(f\"Percent connectivity changed: {utopianOptimizer.get_connectivity_percent_changed()}%\")\n",
    "print(f\"Connectivity/permiability_restored: {utopianOptimizer.get_delta_connectivity()/permiability_restored}\")\n",
    "\n",
    "# paint changed terrain pixels\n",
    "diff = utopianOptimizer.get_flow_diff()\n",
    "highest_diff = utopianOptimizer.get_highest_diff_pixels(diff)\n",
    "utopianOptimizer.paint_changed_terrain_geotiff(TERRAIN_CHANGED_UTOPIAN, highest_diff)\n",
    "\n",
    "# view diff of before and after\n",
    "utopianOptimizer.get_connectivity_difference_tif(CONNECTIVITY_DIFF_UTOPIAN)"
   ]
  },
  {
   "cell_type": "markdown",
   "metadata": {},
   "source": [
    "## Test corridor"
   ]
  },
  {
   "cell_type": "code",
   "execution_count": 64,
   "metadata": {},
   "outputs": [
    {
     "name": "stdout",
     "output_type": "stream",
     "text": [
      "44\n"
     ]
    },
    {
     "name": "stderr",
     "output_type": "stream",
     "text": [
      "ERROR 1: PROJ: internal_proj_create_from_name: /Users/nvalett/opt/anaconda3/share/proj/proj.db lacks DATABASE.LAYOUT.VERSION.MAJOR / DATABASE.LAYOUT.VERSION.MINOR metadata. It comes from another PROJ installation.\n",
      "ERROR 1: PROJ: internal_proj_create_from_name: /Users/nvalett/opt/anaconda3/share/proj/proj.db lacks DATABASE.LAYOUT.VERSION.MAJOR / DATABASE.LAYOUT.VERSION.MINOR metadata. It comes from another PROJ installation.\n",
      "ERROR 1: PROJ: internal_proj_create_from_name: /Users/nvalett/opt/anaconda3/share/proj/proj.db lacks DATABASE.LAYOUT.VERSION.MAJOR / DATABASE.LAYOUT.VERSION.MINOR metadata. It comes from another PROJ installation.\n",
      "ERROR 1: PROJ: internal_proj_create_from_name: /Users/nvalett/opt/anaconda3/share/proj/proj.db lacks DATABASE.LAYOUT.VERSION.MAJOR / DATABASE.LAYOUT.VERSION.MINOR metadata. It comes from another PROJ installation.\n"
     ]
    },
    {
     "name": "stdout",
     "output_type": "stream",
     "text": [
      "Delta connectivity: 77\n",
      "Permiability Restored: 3.700000000000002\n",
      "Percent connectivity changed: 2.344282553636119e-05%\n",
      "Connectivity/permiability_restored: 20.8108108108108\n"
     ]
    }
   ],
   "source": [
    "# xys = [(235, 67), (234, 67), (236, 67), (235, 66), (235, 68), (234, 66), (236, 68), (235, 69), (229, 71)]\n",
    "defecitOptimizer2 = defecitRestoration(HABITAT_PATH, TERRAIN_PATH, RESTORED_TERRAIN_PATH, CONNECTIVITY_PATH, FLOW_PATH, RESTORED_CONNECTIVITY_PATH, RESTORED_FLOW_PATH, DEATH_PATH, PERMEABILITY_PATH, 250)\n",
    "\n",
    "# reset restored terrain tif\n",
    "current_terr_tile = GeoTiff.from_file(defecitOptimizer2.terrain_fn).get_all_as_tile()\n",
    "with GeoTiff.from_file(defecitOptimizer2.restored_terr_fn) as restored_terr:\n",
    "    restored_terr.set_tile(current_terr_tile)\n",
    "\n",
    "xys = {}\n",
    "for rows in range(45, 100, 5):\n",
    "    for cols in range(238, 245, 2):\n",
    "        xys[(cols, rows)] = 1\n",
    "\n",
    "print(len(xys))\n",
    "\n",
    "defecitOptimizer2.run_connectivity()\n",
    "permiability_change = 0\n",
    "for x, y in xys.keys():\n",
    "    permiability_change += defecitOptimizer2.change_terrain(x, y)\n",
    "defecitOptimizer2.run_connectivity(restored=True)\n",
    "print(f\"Delta connectivity: {defecitOptimizer2.get_delta_connectivity()}\")\n",
    "print(f\"Permiability Restored: {permiability_change}\")\n",
    "print(f\"Percent connectivity changed: {defecitOptimizer2.get_connectivity_percent_changed()}%\")\n",
    "print(f\"Connectivity/permiability_restored: {defecitOptimizer2.get_delta_connectivity()/permiability_change}\")"
   ]
  },
  {
   "cell_type": "code",
   "execution_count": 61,
   "metadata": {},
   "outputs": [
    {
     "name": "stderr",
     "output_type": "stream",
     "text": [
      "ERROR 1: PROJ: internal_proj_create_from_name: /Users/nvalett/opt/anaconda3/share/proj/proj.db lacks DATABASE.LAYOUT.VERSION.MAJOR / DATABASE.LAYOUT.VERSION.MINOR metadata. It comes from another PROJ installation.\n",
      "ERROR 1: PROJ: internal_proj_create_from_name: /Users/nvalett/opt/anaconda3/share/proj/proj.db lacks DATABASE.LAYOUT.VERSION.MAJOR / DATABASE.LAYOUT.VERSION.MINOR metadata. It comes from another PROJ installation.\n"
     ]
    }
   ],
   "source": [
    "# paint changed terrain pixels\n",
    "defecitOptimizer2.paint_changed_terrain_geotiff(TERRAIN_CHANGED_DEFICIT, changed_pixels=xys)\n",
    "\n",
    "# view diff of before and after\n",
    "defecitOptimizer2.get_connectivity_difference_tif(CONNECTIVITY_DIFF_DEFECIT)"
   ]
  },
  {
   "cell_type": "code",
   "execution_count": null,
   "metadata": {},
   "outputs": [],
   "source": []
  }
 ],
 "metadata": {
  "interpreter": {
   "hash": "cf1cc9488f986e55b9ad02ec3dbe006a9544ef0e041cc52f3db2baca54acebc8"
  },
  "kernelspec": {
   "display_name": "Python 3.9.7 64-bit ('base': conda)",
   "language": "python",
   "name": "python3"
  },
  "language_info": {
   "codemirror_mode": {
    "name": "ipython",
    "version": 3
   },
   "file_extension": ".py",
   "mimetype": "text/x-python",
   "name": "python",
   "nbconvert_exporter": "python",
   "pygments_lexer": "ipython3",
   "version": "3.9.18"
  },
  "orig_nbformat": 4
 },
 "nbformat": 4,
 "nbformat_minor": 2
}
