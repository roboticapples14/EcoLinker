{
 "cells": [
  {
   "cell_type": "code",
   "execution_count": 1,
   "metadata": {},
   "outputs": [],
   "source": [
    "import os\n",
    "import sys\n",
    "from scgt import GeoTiff\n",
    "sys.path.append('/Users/nvalett/Documents/Natalie/Species Dist Research/Code/ecoscape-earth/')\n",
    "sys.path.append('/Users/nvalett/Documents/Natalie/Species Dist Research/Code/ecoscape-earth/ecoscape-connectivity/')\n",
    "from EcoLinker.EcoLinker.restorationOptimizer import restorationOptimizer, defecitRestoration, lowResDefecitRestoration, probalisticDeficitRestoration, noisyDefecitRestoration, utopianRestoration, flowRestoration, lowResFlowRestoration, greedyFlowRestoration, bfsFlowRestoration\n",
    "from ecoscape_connectivity_local import repopulation, util\n",
    "import matplotlib.pyplot as plt\n",
    "import ecoscape_connectivity\n",
    "from scgt import GeoTiff, Tile\n",
    "import numpy as np\n",
    "import torch\n",
    "import rasterio"
   ]
  },
  {
   "cell_type": "code",
   "execution_count": 8,
   "metadata": {},
   "outputs": [],
   "source": [
    "DATA_PATH=\"/Users/nvalett/Documents/Natalie/Species Dist Research/Thesis/EcoLinker/tests/assets\"\n",
    "HABITAT_PATH = os.path.join(DATA_PATH, \"smol/hab_smol.tif\")\n",
    "TERRAIN_PATH = os.path.join(DATA_PATH, \"smol/terrain.tif\")\n",
    "RESTORED_TERRAIN_PATH = os.path.join(DATA_PATH, \"smol/restored_ter_smol.tif\")\n",
    "PERMEABILITY_PATH = os.path.join(DATA_PATH, \"paper_repro/transmission_refined_1.csv\")\n",
    "\n",
    "CONNECTIVITY_PATH = os.path.join(DATA_PATH, \"smol/repop.tif\")\n",
    "RESTORED_CONNECTIVITY_PATH = os.path.join(DATA_PATH, \"smol/repop_after_restoration.tif\")\n",
    "FLOW_PATH = os.path.join(DATA_PATH, \"smol/grad.tif\")\n",
    "DEATH_PATH = os.path.join(DATA_PATH, \"smol/death.tif\")\n",
    "RESTORED_FLOW_PATH = os.path.join(DATA_PATH, \"smol/grad_after_restoration.tif\")\n",
    "LOW_RES_FLOW_PATH = os.path.join(DATA_PATH, \"smol/flow_low_res.tif\")\n",
    "\n",
    "unrestorable = [104,500, 501, 502, 503,504,505,506,507,508,509,510,511,512,513,514,515,516,517,518,900, 901, 902, 903, 904, 905, 906,907,980,981,982,983,984,985,986,909,910,1000,1001,1002,1003,1004,1100,1101,1111,1112,1102,1103,1104,1105,1106,1200,1201,1202,1203,1204,1205,1206,1207,1300,1301,1302,1303,1304,1305,    1402]\n",
    "\n",
    "with GeoTiff.from_file(HABITAT_PATH) as hab:\n",
    "    hab_mat = hab.get_all_as_tile().m.squeeze(0)\n",
    "\n",
    "flowOptimizer = flowRestoration(HABITAT_PATH, TERRAIN_PATH, RESTORED_TERRAIN_PATH, CONNECTIVITY_PATH, FLOW_PATH, RESTORED_CONNECTIVITY_PATH, RESTORED_FLOW_PATH, DEATH_PATH, PERMEABILITY_PATH, 50, hab_mat, unrestorable)\n",
    "lowResFlowOptimizer = lowResFlowRestoration(HABITAT_PATH, TERRAIN_PATH, RESTORED_TERRAIN_PATH, CONNECTIVITY_PATH, RESTORED_CONNECTIVITY_PATH, FLOW_PATH, RESTORED_FLOW_PATH, DEATH_PATH, LOW_RES_FLOW_PATH, PERMEABILITY_PATH, 2, 2, 50)\n",
    "greedyFlowOptimizer = greedyFlowRestoration(HABITAT_PATH, TERRAIN_PATH, RESTORED_TERRAIN_PATH, CONNECTIVITY_PATH, RESTORED_CONNECTIVITY_PATH, FLOW_PATH, RESTORED_FLOW_PATH, DEATH_PATH, PERMEABILITY_PATH, 50)\n",
    "bfsFlowOptimizer = bfsFlowRestoration(HABITAT_PATH, TERRAIN_PATH, RESTORED_TERRAIN_PATH, CONNECTIVITY_PATH, RESTORED_CONNECTIVITY_PATH, FLOW_PATH, RESTORED_FLOW_PATH, DEATH_PATH, PERMEABILITY_PATH, 50)"
   ]
  },
  {
   "cell_type": "code",
   "execution_count": 9,
   "metadata": {},
   "outputs": [
    {
     "name": "stdout",
     "output_type": "stream",
     "text": [
      "[(277, 36), (43, 72), (41, 74), (176, 109), (188, 108), (245, 102), (155, 139), (203, 115), (278, 36), (44, 75)]\n",
      "13\n",
      "29\n",
      "33\n",
      "[(43, 72), (41, 74), (176, 109), (188, 108), (245, 102), (155, 139), (203, 115), (278, 36), (44, 75), (277, 37)]\n",
      "41\n",
      "59\n",
      "69\n",
      "[(41, 74), (176, 109), (188, 108), (245, 102), (155, 139), (203, 115), (278, 36), (44, 75), (277, 37), (44, 73)]\n",
      "45\n",
      "65\n",
      "[(176, 109), (188, 108), (245, 102), (155, 139), (203, 115), (278, 36), (44, 75), (277, 37), (44, 73), (42, 74)]\n",
      "68\n",
      "[(188, 108), (245, 102), (155, 139), (203, 115), (278, 36), (44, 75), (277, 37), (44, 73), (42, 74), (175, 109)]\n",
      "44\n",
      "[(245, 102), (155, 139), (203, 115), (278, 36), (44, 75), (277, 37), (44, 73), (42, 74), (175, 109), (187, 108)]\n",
      "61\n",
      "[(155, 139), (203, 115), (278, 36), (44, 75), (277, 37), (44, 73), (42, 74), (175, 109), (187, 108), (244, 102)]\n",
      "60\n",
      "75\n",
      "[(203, 115), (278, 36), (44, 75), (277, 37), (44, 73), (42, 74), (175, 109), (187, 108), (244, 102), (156, 140)]\n",
      "69\n",
      "[(278, 36), (44, 75), (277, 37), (44, 73), (42, 74), (175, 109), (187, 108), (244, 102), (156, 140), (202, 115)]\n",
      "9\n",
      "25\n",
      "29\n",
      "32\n",
      "[(44, 75), (277, 37), (44, 73), (42, 74), (175, 109), (187, 108), (244, 102), (156, 140), (202, 115), (279, 35)]\n",
      "70\n",
      "[(277, 37), (44, 73), (42, 74), (175, 109), (187, 108), (244, 102), (156, 140), (202, 115), (279, 35), (43, 75)]\n",
      "32\n",
      "78\n",
      "[(44, 73), (42, 74), (175, 109), (187, 108), (244, 102), (156, 140), (202, 115), (279, 35), (43, 75), (276, 38)]\n",
      "23\n",
      "69\n",
      "[(42, 74), (175, 109), (187, 108), (244, 102), (156, 140), (202, 115), (279, 35), (43, 75), (276, 38), (45, 73)]\n",
      "12\n",
      "30\n",
      "60\n",
      "[(175, 109), (187, 108), (244, 102), (156, 140), (202, 115), (279, 35), (43, 75), (276, 38), (45, 73), (42, 75)]\n",
      "47\n",
      "[(187, 108), (244, 102), (156, 140), (202, 115), (279, 35), (43, 75), (276, 38), (45, 73), (42, 75), (174, 109)]\n",
      "10\n",
      "28\n",
      "[(244, 102), (156, 140), (202, 115), (279, 35), (43, 75), (276, 38), (45, 73), (42, 75), (174, 109), (187, 107)]\n",
      "3\n",
      "8\n",
      "20\n",
      "24\n",
      "42\n",
      "[(156, 140), (202, 115), (279, 35), (43, 75), (276, 38), (45, 73), (42, 75), (174, 109), (187, 107), (245, 103)]\n",
      "[(202, 115), (279, 35), (43, 75), (276, 38), (45, 73), (42, 75), (174, 109), (187, 107), (245, 103), (75, 118)]\n",
      "66\n",
      "[(279, 35), (43, 75), (276, 38), (45, 73), (42, 75), (174, 109), (187, 107), (245, 103), (75, 118), (201, 115)]\n",
      "25\n",
      "82\n",
      "[(43, 75), (276, 38), (45, 73), (42, 75), (174, 109), (187, 107), (245, 103), (75, 118), (201, 115), (279, 34)]\n",
      "12\n",
      "15\n",
      "49\n",
      "[(276, 38), (45, 73), (42, 75), (174, 109), (187, 107), (245, 103), (75, 118), (201, 115), (279, 34), (44, 76)]\n",
      "[(45, 73), (42, 75), (174, 109), (187, 107), (245, 103), (75, 118), (201, 115), (279, 34), (44, 76), (132, 122)]\n",
      "66\n",
      "[(42, 75), (174, 109), (187, 107), (245, 103), (75, 118), (201, 115), (279, 34), (44, 76), (132, 122), (46, 73)]\n",
      "32\n",
      "[(174, 109), (187, 107), (245, 103), (75, 118), (201, 115), (279, 34), (44, 76), (132, 122), (46, 73), (41, 75)]\n",
      "52\n",
      "[(187, 107), (245, 103), (75, 118), (201, 115), (279, 34), (44, 76), (132, 122), (46, 73), (41, 75), (173, 109)]\n",
      "2\n",
      "20\n",
      "45\n",
      "[(245, 103), (75, 118), (201, 115), (279, 34), (44, 76), (132, 122), (46, 73), (41, 75), (173, 109), (186, 106)]\n",
      "20\n",
      "33\n",
      "46\n",
      "53\n",
      "[(75, 118), (201, 115), (279, 34), (44, 76), (132, 122), (46, 73), (41, 75), (173, 109), (186, 106), (246, 104)]\n",
      "[(201, 115), (279, 34), (44, 76), (132, 122), (46, 73), (41, 75), (173, 109), (186, 106), (246, 104), (192, 173)]\n",
      "39\n",
      "52\n",
      "[(279, 34), (44, 76), (132, 122), (46, 73), (41, 75), (173, 109), (186, 106), (246, 104), (192, 173), (201, 114)]\n",
      "[(44, 76), (132, 122), (46, 73), (41, 75), (173, 109), (186, 106), (246, 104), (192, 173), (201, 114), (43, 75)]\n",
      "15\n",
      "46\n",
      "[(132, 122), (46, 73), (41, 75), (173, 109), (186, 106), (246, 104), (192, 173), (201, 114), (43, 75), (45, 76)]\n",
      "[(46, 73), (41, 75), (173, 109), (186, 106), (246, 104), (192, 173), (201, 114), (43, 75), (45, 76), (222, 146)]\n",
      "41\n",
      "55\n",
      "[(41, 75), (173, 109), (186, 106), (246, 104), (192, 173), (201, 114), (43, 75), (45, 76), (222, 146), (46, 74)]\n",
      "22\n",
      "45\n",
      "67\n",
      "[(173, 109), (186, 106), (246, 104), (192, 173), (201, 114), (43, 75), (45, 76), (222, 146), (46, 74), (40, 76)]\n",
      "59\n",
      "[(186, 106), (246, 104), (192, 173), (201, 114), (43, 75), (45, 76), (222, 146), (46, 74), (40, 76), (172, 109)]\n",
      "6\n",
      "19\n",
      "[(246, 104), (192, 173), (201, 114), (43, 75), (45, 76), (222, 146), (46, 74), (40, 76), (172, 109), (185, 105)]\n",
      "[(192, 173), (201, 114), (43, 75), (45, 76), (222, 146), (46, 74), (40, 76), (172, 109), (185, 105), (88, 120)]\n",
      "[(201, 114), (43, 75), (45, 76), (222, 146), (46, 74), (40, 76), (172, 109), (185, 105), (88, 120), (56, 16)]\n",
      "44\n",
      "45\n",
      "79\n",
      "[(43, 75), (45, 76), (222, 146), (46, 74), (40, 76), (172, 109), (185, 105), (88, 120), (56, 16), (201, 113)]\n",
      "12\n",
      "15\n",
      "20\n",
      "[(45, 76), (222, 146), (46, 74), (40, 76), (172, 109), (185, 105), (88, 120), (56, 16), (201, 113), (44, 74)]\n",
      "34\n",
      "42\n",
      "58\n",
      "[(222, 146), (46, 74), (40, 76), (172, 109), (185, 105), (88, 120), (56, 16), (201, 113), (44, 74), (46, 77)]\n",
      "[(46, 74), (40, 76), (172, 109), (185, 105), (88, 120), (56, 16), (201, 113), (44, 74), (46, 77), (249, 149)]\n",
      "18\n",
      "46\n",
      "51\n",
      "[(40, 76), (172, 109), (185, 105), (88, 120), (56, 16), (201, 113), (44, 74), (46, 77), (249, 149), (46, 75)]\n",
      "[(172, 109), (185, 105), (88, 120), (56, 16), (201, 113), (44, 74), (46, 77), (249, 149), (46, 75), (99, 123)]\n",
      "43\n",
      "45\n",
      "[(185, 105), (88, 120), (56, 16), (201, 113), (44, 74), (46, 77), (249, 149), (46, 75), (99, 123), (171, 108)]\n",
      "34\n",
      "63\n",
      "68\n",
      "[(88, 120), (56, 16), (201, 113), (44, 74), (46, 77), (249, 149), (46, 75), (99, 123), (171, 108), (186, 104)]\n",
      "[(56, 16), (201, 113), (44, 74), (46, 77), (249, 149), (46, 75), (99, 123), (171, 108), (186, 104), (101, 123)]\n",
      "[(201, 113), (44, 74), (46, 77), (249, 149), (46, 75), (99, 123), (171, 108), (186, 104), (101, 123), (102, 123)]\n",
      "[(44, 74), (46, 77), (249, 149), (46, 75), (99, 123), (171, 108), (186, 104), (101, 123), (102, 123), (103, 123)]\n",
      "12\n",
      "18\n",
      "23\n",
      "42\n",
      "[(46, 77), (249, 149), (46, 75), (99, 123), (171, 108), (186, 104), (101, 123), (102, 123), (103, 123), (45, 75)]\n",
      "[(249, 149), (46, 75), (99, 123), (171, 108), (186, 104), (101, 123), (102, 123), (103, 123), (45, 75), (73, 117)]\n",
      "[(46, 75), (99, 123), (171, 108), (186, 104), (101, 123), (102, 123), (103, 123), (45, 75), (73, 117), (233, 149)]\n",
      "45\n",
      "46\n",
      "[(99, 123), (171, 108), (186, 104), (101, 123), (102, 123), (103, 123), (45, 75), (73, 117), (233, 149), (47, 74)]\n",
      "[(171, 108), (186, 104), (101, 123), (102, 123), (103, 123), (45, 75), (73, 117), (233, 149), (47, 74), (59, 108)]\n",
      "7\n",
      "40\n",
      "43\n",
      "[(186, 104), (101, 123), (102, 123), (103, 123), (45, 75), (73, 117), (233, 149), (47, 74), (59, 108), (171, 109)]\n",
      "[(101, 123), (102, 123), (103, 123), (45, 75), (73, 117), (233, 149), (47, 74), (59, 108), (171, 109), (109, 123)]\n",
      "[(102, 123), (103, 123), (45, 75), (73, 117), (233, 149), (47, 74), (59, 108), (171, 109), (109, 123), (279, 116)]\n",
      "[(103, 123), (45, 75), (73, 117), (233, 149), (47, 74), (59, 108), (171, 109), (109, 123), (279, 116), (111, 123)]\n",
      "[(45, 75), (73, 117), (233, 149), (47, 74), (59, 108), (171, 109), (109, 123), (279, 116), (111, 123), (230, 149)]\n",
      "18\n",
      "34\n",
      "[(73, 117), (233, 149), (47, 74), (59, 108), (171, 109), (109, 123), (279, 116), (111, 123), (230, 149), (46, 76)]\n",
      "[(233, 149), (47, 74), (59, 108), (171, 109), (109, 123), (279, 116), (111, 123), (230, 149), (46, 76), (112, 123)]\n",
      "[(47, 74), (59, 108), (171, 109), (109, 123), (279, 116), (111, 123), (230, 149), (46, 76), (112, 123), (52, 14)]\n",
      "40\n",
      "41\n",
      "45\n",
      "51\n",
      "[(59, 108), (171, 109), (109, 123), (279, 116), (111, 123), (230, 149), (46, 76), (112, 123), (52, 14), (48, 73)]\n",
      "[(171, 109), (109, 123), (279, 116), (111, 123), (230, 149), (46, 76), (112, 123), (52, 14), (48, 73), (39, 87)]\n",
      "14\n",
      "40\n",
      "[(109, 123), (279, 116), (111, 123), (230, 149), (46, 76), (112, 123), (52, 14), (48, 73), (39, 87), (171, 110)]\n",
      "[(279, 116), (111, 123), (230, 149), (46, 76), (112, 123), (52, 14), (48, 73), (39, 87), (171, 110), (118, 123)]\n",
      "[(111, 123), (230, 149), (46, 76), (112, 123), (52, 14), (48, 73), (39, 87), (171, 110), (118, 123), (120, 123)]\n",
      "[(230, 149), (46, 76), (112, 123), (52, 14), (48, 73), (39, 87), (171, 110), (118, 123), (120, 123), (41, 87)]\n",
      "[(46, 76), (112, 123), (52, 14), (48, 73), (39, 87), (171, 110), (118, 123), (120, 123), (41, 87), (247, 149)]\n",
      "41\n",
      "45\n",
      "[(112, 123), (52, 14), (48, 73), (39, 87), (171, 110), (118, 123), (120, 123), (41, 87), (247, 149), (47, 75)]\n",
      "[(52, 14), (48, 73), (39, 87), (171, 110), (118, 123), (120, 123), (41, 87), (247, 149), (47, 75), (80, 117)]\n",
      "[(48, 73), (39, 87), (171, 110), (118, 123), (120, 123), (41, 87), (247, 149), (47, 75), (80, 117), (119, 131)]\n",
      "41\n",
      "54\n",
      "62\n",
      "[(39, 87), (171, 110), (118, 123), (120, 123), (41, 87), (247, 149), (47, 75), (80, 117), (119, 131), (48, 72)]\n",
      "[(171, 110), (118, 123), (120, 123), (41, 87), (247, 149), (47, 75), (80, 117), (119, 131), (48, 72), (94, 123)]\n",
      "32\n",
      "45\n",
      "[(118, 123), (120, 123), (41, 87), (247, 149), (47, 75), (80, 117), (119, 131), (48, 72), (94, 123), (171, 111)]\n",
      "[(120, 123), (41, 87), (247, 149), (47, 75), (80, 117), (119, 131), (48, 72), (94, 123), (171, 111), (118, 131)]\n",
      "[(41, 87), (247, 149), (47, 75), (80, 117), (119, 131), (48, 72), (94, 123), (171, 111), (118, 131), (151, 117)]\n",
      "[(247, 149), (47, 75), (80, 117), (119, 131), (48, 72), (94, 123), (171, 111), (118, 131), (151, 117), (127, 117)]\n",
      "[(47, 75), (80, 117), (119, 131), (48, 72), (94, 123), (171, 111), (118, 131), (151, 117), (127, 117), (81, 54)]\n",
      "45\n",
      "[(80, 117), (119, 131), (48, 72), (94, 123), (171, 111), (118, 131), (151, 117), (127, 117), (81, 54), (48, 75)]\n",
      "[(119, 131), (48, 72), (94, 123), (171, 111), (118, 131), (151, 117), (127, 117), (81, 54), (48, 75), (126, 117)]\n",
      "[(48, 72), (94, 123), (171, 111), (118, 131), (151, 117), (127, 117), (81, 54), (48, 75), (126, 117), (172, 113)]\n",
      "[(94, 123), (171, 111), (118, 131), (151, 117), (127, 117), (81, 54), (48, 75), (126, 117), (172, 113), (71, 54)]\n",
      "[(171, 111), (118, 131), (151, 117), (127, 117), (81, 54), (48, 75), (126, 117), (172, 113), (71, 54), (116, 131)]\n",
      "26\n",
      "64\n",
      "68\n",
      "69\n",
      "[(118, 131), (151, 117), (127, 117), (81, 54), (48, 75), (126, 117), (172, 113), (71, 54), (116, 131), (170, 112)]\n",
      "[(151, 117), (127, 117), (81, 54), (48, 75), (126, 117), (172, 113), (71, 54), (116, 131), (170, 112), (68, 54)]\n",
      "[(127, 117), (81, 54), (48, 75), (126, 117), (172, 113), (71, 54), (116, 131), (170, 112), (68, 54), (280, 186)]\n",
      "[(81, 54), (48, 75), (126, 117), (172, 113), (71, 54), (116, 131), (170, 112), (68, 54), (280, 186), (119, 117)]\n",
      "[(48, 75), (126, 117), (172, 113), (71, 54), (116, 131), (170, 112), (68, 54), (280, 186), (119, 117), (269, 53)]\n",
      "2\n",
      "40\n",
      "41\n",
      "[(126, 117), (172, 113), (71, 54), (116, 131), (170, 112), (68, 54), (280, 186), (119, 117), (269, 53), (47, 76)]\n",
      "[(172, 113), (71, 54), (116, 131), (170, 112), (68, 54), (280, 186), (119, 117), (269, 53), (47, 76), (175, 113)]\n",
      "[(71, 54), (116, 131), (170, 112), (68, 54), (280, 186), (119, 117), (269, 53), (47, 76), (175, 113), (282, 181)]\n",
      "[(116, 131), (170, 112), (68, 54), (280, 186), (119, 117), (269, 53), (47, 76), (175, 113), (282, 181), (183, 86)]\n",
      "[(170, 112), (68, 54), (280, 186), (119, 117), (269, 53), (47, 76), (175, 113), (282, 181), (183, 86), (282, 149)]\n",
      "[(68, 54), (280, 186), (119, 117), (269, 53), (47, 76), (175, 113), (282, 181), (183, 86), (282, 149), (155, 73)]\n",
      "[(280, 186), (119, 117), (269, 53), (47, 76), (175, 113), (282, 181), (183, 86), (282, 149), (155, 73), (133, 109)]\n",
      "[(119, 117), (269, 53), (47, 76), (175, 113), (282, 181), (183, 86), (282, 149), (155, 73), (133, 109), (89, 122)]\n",
      "[(269, 53), (47, 76), (175, 113), (282, 181), (183, 86), (282, 149), (155, 73), (133, 109), (89, 122), (48, 14)]\n",
      "[(47, 76), (175, 113), (282, 181), (183, 86), (282, 149), (155, 73), (133, 109), (89, 122), (48, 14), (119, 79)]\n",
      "34\n",
      "[(175, 113), (282, 181), (183, 86), (282, 149), (155, 73), (133, 109), (89, 122), (48, 14), (119, 79), (48, 76)]\n",
      "[(282, 181), (183, 86), (282, 149), (155, 73), (133, 109), (89, 122), (48, 14), (119, 79), (48, 76), (91, 60)]\n",
      "[(183, 86), (282, 149), (155, 73), (133, 109), (89, 122), (48, 14), (119, 79), (48, 76), (91, 60), (210, 177)]\n",
      "[(282, 149), (155, 73), (133, 109), (89, 122), (48, 14), (119, 79), (48, 76), (91, 60), (210, 177), (43, 62)]\n",
      "[(155, 73), (133, 109), (89, 122), (48, 14), (119, 79), (48, 76), (91, 60), (210, 177), (43, 62), (165, 78)]\n",
      "[(133, 109), (89, 122), (48, 14), (119, 79), (48, 76), (91, 60), (210, 177), (43, 62), (165, 78), (168, 79)]\n",
      "[(89, 122), (48, 14), (119, 79), (48, 76), (91, 60), (210, 177), (43, 62), (165, 78), (168, 79), (41, 60)]\n",
      "[(48, 14), (119, 79), (48, 76), (91, 60), (210, 177), (43, 62), (165, 78), (168, 79), (41, 60), (37, 60)]\n",
      "[(119, 79), (48, 76), (91, 60), (210, 177), (43, 62), (165, 78), (168, 79), (41, 60), (37, 60), (268, 79)]\n",
      "[(48, 76), (91, 60), (210, 177), (43, 62), (165, 78), (168, 79), (41, 60), (37, 60), (268, 79), (109, 80)]\n",
      "12\n",
      "18\n",
      "[(91, 60), (210, 177), (43, 62), (165, 78), (168, 79), (41, 60), (37, 60), (268, 79), (109, 80), (49, 77)]\n",
      "[(210, 177), (43, 62), (165, 78), (168, 79), (41, 60), (37, 60), (268, 79), (109, 80), (49, 77), (116, 80)]\n",
      "[(43, 62), (165, 78), (168, 79), (41, 60), (37, 60), (268, 79), (109, 80), (49, 77), (116, 80), (153, 80)]\n",
      "[(165, 78), (168, 79), (41, 60), (37, 60), (268, 79), (109, 80), (49, 77), (116, 80), (153, 80), (190, 80)]\n",
      "[(168, 79), (41, 60), (37, 60), (268, 79), (109, 80), (49, 77), (116, 80), (153, 80), (190, 80), (280, 188)]\n",
      "[(41, 60), (37, 60), (268, 79), (109, 80), (49, 77), (116, 80), (153, 80), (190, 80), (280, 188), (93, 62)]\n",
      "[(37, 60), (268, 79), (109, 80), (49, 77), (116, 80), (153, 80), (190, 80), (280, 188), (93, 62), (163, 111)]\n",
      "[(268, 79), (109, 80), (49, 77), (116, 80), (153, 80), (190, 80), (280, 188), (93, 62), (163, 111), (107, 62)]\n",
      "38\n",
      "65\n"
     ]
    },
    {
     "name": "stderr",
     "output_type": "stream",
     "text": [
      "ERROR 1: PROJ: internal_proj_create_from_name: /Users/nvalett/opt/anaconda3/share/proj/proj.db lacks DATABASE.LAYOUT.VERSION.MAJOR / DATABASE.LAYOUT.VERSION.MINOR metadata. It comes from another PROJ installation.\n",
      "ERROR 1: PROJ: internal_proj_create_from_name: /Users/nvalett/opt/anaconda3/share/proj/proj.db lacks DATABASE.LAYOUT.VERSION.MAJOR / DATABASE.LAYOUT.VERSION.MINOR metadata. It comes from another PROJ installation.\n"
     ]
    },
    {
     "name": "stdout",
     "output_type": "stream",
     "text": [
      "Delta connectivity: 19084\n",
      "Permiability Restored: 4.990861313868612\n",
      "Connectivity/permiability_restored: 3823.79\n",
      "Connectivity/pixels restored: 381.68\n"
     ]
    }
   ],
   "source": [
    "# limited greedy Flow restoration\n",
    "# bfsFlowOptimizer.run_connectivity(gap_crossing=2, num_gaps=40)\n",
    "permiability_restored = bfsFlowOptimizer.restore()\n",
    "bfsFlowOptimizer.run_connectivity(gap_crossing=2, num_gaps=40, restored=True)\n",
    "print(f\"Delta connectivity: {bfsFlowOptimizer.get_delta_connectivity()}\")\n",
    "print(f\"Permiability Restored: {permiability_restored}\")\n",
    "print(f\"Connectivity/permiability_restored: {round(bfsFlowOptimizer.get_delta_connectivity()/permiability_restored, 2)}\")\n",
    "print(f\"Connectivity/pixels restored: {round(bfsFlowOptimizer.get_delta_connectivity()/bfsFlowOptimizer.pixels, 2)}\")"
   ]
  },
  {
   "cell_type": "code",
   "execution_count": 10,
   "metadata": {},
   "outputs": [
    {
     "name": "stderr",
     "output_type": "stream",
     "text": [
      "ERROR 1: PROJ: internal_proj_create_from_name: /Users/nvalett/opt/anaconda3/share/proj/proj.db lacks DATABASE.LAYOUT.VERSION.MAJOR / DATABASE.LAYOUT.VERSION.MINOR metadata. It comes from another PROJ installation.\n",
      "ERROR 1: PROJ: internal_proj_create_from_name: /Users/nvalett/opt/anaconda3/share/proj/proj.db lacks DATABASE.LAYOUT.VERSION.MAJOR / DATABASE.LAYOUT.VERSION.MINOR metadata. It comes from another PROJ installation.\n"
     ]
    }
   ],
   "source": [
    "TERRAIN_CHANGED_BFS = os.path.join(DATA_PATH, \"smol/changed_terrain_flow_bfs.tif\")\n",
    "CONNECTIVITY_DIFF_BFS = os.path.join(DATA_PATH, \"smol/connectivity_diff_flow_bfs.tif\")\n",
    "\n",
    "# paint changed terrain pixels\n",
    "bfsFlowOptimizer.paint_changed_terrain_geotiff(TERRAIN_CHANGED_BFS, value=1)\n",
    "# view diff of before and after\n",
    "bfsFlowOptimizer.get_connectivity_difference_tif(CONNECTIVITY_DIFF_BFS)"
   ]
  },
  {
   "cell_type": "code",
   "execution_count": 3,
   "metadata": {},
   "outputs": [
    {
     "name": "stderr",
     "output_type": "stream",
     "text": [
      "ERROR 1: PROJ: internal_proj_create_from_name: /Users/nvalett/opt/anaconda3/share/proj/proj.db lacks DATABASE.LAYOUT.VERSION.MAJOR / DATABASE.LAYOUT.VERSION.MINOR metadata. It comes from another PROJ installation.\n",
      "ERROR 1: PROJ: internal_proj_create_from_name: /Users/nvalett/opt/anaconda3/share/proj/proj.db lacks DATABASE.LAYOUT.VERSION.MAJOR / DATABASE.LAYOUT.VERSION.MINOR metadata. It comes from another PROJ installation.\n",
      "ERROR 1: PROJ: internal_proj_create_from_name: /Users/nvalett/opt/anaconda3/share/proj/proj.db lacks DATABASE.LAYOUT.VERSION.MAJOR / DATABASE.LAYOUT.VERSION.MINOR metadata. It comes from another PROJ installation.\n",
      "ERROR 1: PROJ: internal_proj_create_from_name: /Users/nvalett/opt/anaconda3/share/proj/proj.db lacks DATABASE.LAYOUT.VERSION.MAJOR / DATABASE.LAYOUT.VERSION.MINOR metadata. It comes from another PROJ installation.\n"
     ]
    },
    {
     "name": "stdout",
     "output_type": "stream",
     "text": [
      "Delta connectivity: 14662\n",
      "Permiability Restored: 5.099999999999998\n",
      "Connectivity/permiability_restored: 2874.9\n",
      "Connectivity/pixels restored: 293.24\n"
     ]
    }
   ],
   "source": [
    "# limited greedy Flow restoration\n",
    "greedyFlowOptimizer.run_connectivity(gap_crossing=2, num_gaps=40)\n",
    "permiability_restored = greedyFlowOptimizer.restore()\n",
    "greedyFlowOptimizer.run_connectivity(gap_crossing=2, num_gaps=40, restored=True)\n",
    "print(f\"Delta connectivity: {greedyFlowOptimizer.get_delta_connectivity()}\")\n",
    "print(f\"Permiability Restored: {permiability_restored}\")\n",
    "print(f\"Connectivity/permiability_restored: {round(greedyFlowOptimizer.get_delta_connectivity()/permiability_restored, 2)}\")\n",
    "print(f\"Connectivity/pixels restored: {round(greedyFlowOptimizer.get_delta_connectivity()/greedyFlowOptimizer.pixels, 2)}\")"
   ]
  },
  {
   "cell_type": "code",
   "execution_count": 4,
   "metadata": {},
   "outputs": [
    {
     "name": "stderr",
     "output_type": "stream",
     "text": [
      "ERROR 1: PROJ: internal_proj_create_from_name: /Users/nvalett/opt/anaconda3/share/proj/proj.db lacks DATABASE.LAYOUT.VERSION.MAJOR / DATABASE.LAYOUT.VERSION.MINOR metadata. It comes from another PROJ installation.\n",
      "ERROR 1: PROJ: internal_proj_create_from_name: /Users/nvalett/opt/anaconda3/share/proj/proj.db lacks DATABASE.LAYOUT.VERSION.MAJOR / DATABASE.LAYOUT.VERSION.MINOR metadata. It comes from another PROJ installation.\n"
     ]
    }
   ],
   "source": [
    "TERRAIN_CHANGED_GREEDY = os.path.join(DATA_PATH, \"smol/changed_terrain_flow_greedy.tif\")\n",
    "CONNECTIVITY_DIFF_GREEDY = os.path.join(DATA_PATH, \"smol/connectivity_diff_flow_greedy.tif\")\n",
    "\n",
    "# paint changed terrain pixels\n",
    "greedyFlowOptimizer.paint_changed_terrain_geotiff(TERRAIN_CHANGED_GREEDY, value=1)\n",
    "# view diff of before and after\n",
    "greedyFlowOptimizer.get_connectivity_difference_tif(CONNECTIVITY_DIFF_GREEDY)"
   ]
  },
  {
   "cell_type": "markdown",
   "metadata": {},
   "source": [
    "# Flow based restoration"
   ]
  },
  {
   "cell_type": "code",
   "execution_count": 55,
   "metadata": {},
   "outputs": [
    {
     "name": "stderr",
     "output_type": "stream",
     "text": [
      "ERROR 1: PROJ: internal_proj_create_from_name: /Users/nvalett/opt/anaconda3/share/proj/proj.db lacks DATABASE.LAYOUT.VERSION.MAJOR / DATABASE.LAYOUT.VERSION.MINOR metadata. It comes from another PROJ installation.\n",
      "ERROR 1: PROJ: internal_proj_create_from_name: /Users/nvalett/opt/anaconda3/share/proj/proj.db lacks DATABASE.LAYOUT.VERSION.MAJOR / DATABASE.LAYOUT.VERSION.MINOR metadata. It comes from another PROJ installation.\n",
      "ERROR 1: PROJ: internal_proj_create_from_name: /Users/nvalett/opt/anaconda3/share/proj/proj.db lacks DATABASE.LAYOUT.VERSION.MAJOR / DATABASE.LAYOUT.VERSION.MINOR metadata. It comes from another PROJ installation.\n",
      "ERROR 1: PROJ: internal_proj_create_from_name: /Users/nvalett/opt/anaconda3/share/proj/proj.db lacks DATABASE.LAYOUT.VERSION.MAJOR / DATABASE.LAYOUT.VERSION.MINOR metadata. It comes from another PROJ installation.\n",
      "ERROR 1: PROJ: internal_proj_create_from_name: /Users/nvalett/opt/anaconda3/share/proj/proj.db lacks DATABASE.LAYOUT.VERSION.MAJOR / DATABASE.LAYOUT.VERSION.MINOR metadata. It comes from another PROJ installation.\n",
      "ERROR 1: PROJ: internal_proj_create_from_name: /Users/nvalett/opt/anaconda3/share/proj/proj.db lacks DATABASE.LAYOUT.VERSION.MAJOR / DATABASE.LAYOUT.VERSION.MINOR metadata. It comes from another PROJ installation.\n"
     ]
    },
    {
     "name": "stdout",
     "output_type": "stream",
     "text": [
      "Delta connectivity: 22113\n",
      "Permiability Restored: 4.981722627737225\n",
      "Percent connectivity changed: 0.008361933745864978%\n",
      "Connectivity/permiability_restored: 4438.83\n"
     ]
    }
   ],
   "source": [
    "# Flow restoration\n",
    "flowOptimizer = flowRestoration(HABITAT_PATH, TERRAIN_PATH, RESTORED_TERRAIN_PATH, CONNECTIVITY_PATH, FLOW_PATH, RESTORED_CONNECTIVITY_PATH, RESTORED_FLOW_PATH, DEATH_PATH, PERMEABILITY_PATH, 50) #hab_mat, unrestorable)\n",
    "\n",
    "flowOptimizer.run_connectivity(gap_crossing=2, num_gaps=60)\n",
    "permiability_restored = flowOptimizer.restore()\n",
    "flowOptimizer.run_connectivity(gap_crossing=2, num_gaps=40, restored=False)\n",
    "flowOptimizer.run_connectivity(gap_crossing=2, num_gaps=40, restored=True)\n",
    "print(f\"Delta connectivity: {flowOptimizer.get_delta_connectivity()}\")\n",
    "print(f\"Permiability Restored: {permiability_restored}\")\n",
    "print(f\"Percent connectivity changed: {flowOptimizer.get_connectivity_percent_changed()}%\")\n",
    "print(f\"Connectivity/permiability_restored: {round(flowOptimizer.get_delta_connectivity()/permiability_restored, 2)}\")"
   ]
  },
  {
   "cell_type": "code",
   "execution_count": 8,
   "metadata": {},
   "outputs": [
    {
     "name": "stderr",
     "output_type": "stream",
     "text": [
      "ERROR 1: PROJ: internal_proj_create_from_name: /Users/nvalett/opt/anaconda3/share/proj/proj.db lacks DATABASE.LAYOUT.VERSION.MAJOR / DATABASE.LAYOUT.VERSION.MINOR metadata. It comes from another PROJ installation.\n",
      "ERROR 1: PROJ: internal_proj_create_from_name: /Users/nvalett/opt/anaconda3/share/proj/proj.db lacks DATABASE.LAYOUT.VERSION.MAJOR / DATABASE.LAYOUT.VERSION.MINOR metadata. It comes from another PROJ installation.\n"
     ]
    },
    {
     "ename": "KeyboardInterrupt",
     "evalue": "",
     "output_type": "error",
     "traceback": [
      "\u001b[0;31m---------------------------------------------------------------------------\u001b[0m",
      "\u001b[0;31mKeyboardInterrupt\u001b[0m                         Traceback (most recent call last)",
      "Cell \u001b[0;32mIn[8], line 4\u001b[0m\n\u001b[1;32m      1\u001b[0m \u001b[38;5;66;03m# Flow restoration\u001b[39;00m\n\u001b[1;32m      2\u001b[0m flowOptimizer \u001b[38;5;241m=\u001b[39m flowRestoration(HABITAT_PATH, TERRAIN_PATH, RESTORED_TERRAIN_PATH, CONNECTIVITY_PATH, FLOW_PATH, RESTORED_CONNECTIVITY_PATH, RESTORED_FLOW_PATH, DEATH_PATH, PERMEABILITY_PATH, \u001b[38;5;241m50\u001b[39m) \u001b[38;5;66;03m#hab_mat, unrestorable)\u001b[39;00m\n\u001b[0;32m----> 4\u001b[0m \u001b[43mflowOptimizer\u001b[49m\u001b[38;5;241;43m.\u001b[39;49m\u001b[43mrun_connectivity\u001b[49m\u001b[43m(\u001b[49m\u001b[43mgap_crossing\u001b[49m\u001b[38;5;241;43m=\u001b[39;49m\u001b[38;5;241;43m2\u001b[39;49m\u001b[43m,\u001b[49m\u001b[43m \u001b[49m\u001b[43mnum_gaps\u001b[49m\u001b[38;5;241;43m=\u001b[39;49m\u001b[38;5;241;43m60\u001b[39;49m\u001b[43m)\u001b[49m\n\u001b[1;32m      5\u001b[0m permiability_restored \u001b[38;5;241m=\u001b[39m flowOptimizer\u001b[38;5;241m.\u001b[39mrestore()\n\u001b[1;32m      6\u001b[0m flowOptimizer\u001b[38;5;241m.\u001b[39mrun_connectivity(gap_crossing\u001b[38;5;241m=\u001b[39m\u001b[38;5;241m2\u001b[39m, num_gaps\u001b[38;5;241m=\u001b[39m\u001b[38;5;241m40\u001b[39m, restored\u001b[38;5;241m=\u001b[39m\u001b[38;5;28;01mFalse\u001b[39;00m)\n",
      "File \u001b[0;32m~/Documents/Natalie/Species Dist Research/Code/ecoscape-earth/EcoLinker/EcoLinker/restorationOptimizer.py:34\u001b[0m, in \u001b[0;36mrestorationOptimizer.run_connectivity\u001b[0;34m(self, single_tile, deterministic, restored, gap_crossing, num_gaps)\u001b[0m\n\u001b[1;32m     32\u001b[0m     repopulation\u001b[38;5;241m.\u001b[39mcompute_connectivity(\u001b[38;5;28mself\u001b[39m\u001b[38;5;241m.\u001b[39mhabitat_fn, \u001b[38;5;28mself\u001b[39m\u001b[38;5;241m.\u001b[39mrestored_terr_fn, \u001b[38;5;28mself\u001b[39m\u001b[38;5;241m.\u001b[39mrestored_connectivity_fn, \u001b[38;5;28mself\u001b[39m\u001b[38;5;241m.\u001b[39mrestored_flow_fn, \u001b[38;5;28mself\u001b[39m\u001b[38;5;241m.\u001b[39mpermeability_dict, num_gaps\u001b[38;5;241m=\u001b[39mnum_gaps, single_tile\u001b[38;5;241m=\u001b[39msingle_tile, gap_crossing\u001b[38;5;241m=\u001b[39mgap_crossing, deterministic\u001b[38;5;241m=\u001b[39mdeterministic)\n\u001b[1;32m     33\u001b[0m \u001b[38;5;28;01melse\u001b[39;00m:\n\u001b[0;32m---> 34\u001b[0m     \u001b[43mrepopulation\u001b[49m\u001b[38;5;241;43m.\u001b[39;49m\u001b[43mcompute_connectivity\u001b[49m\u001b[43m(\u001b[49m\u001b[38;5;28;43mself\u001b[39;49m\u001b[38;5;241;43m.\u001b[39;49m\u001b[43mhabitat_fn\u001b[49m\u001b[43m,\u001b[49m\u001b[43m \u001b[49m\u001b[38;5;28;43mself\u001b[39;49m\u001b[38;5;241;43m.\u001b[39;49m\u001b[43mterrain_fn\u001b[49m\u001b[43m,\u001b[49m\u001b[43m \u001b[49m\u001b[38;5;28;43mself\u001b[39;49m\u001b[38;5;241;43m.\u001b[39;49m\u001b[43mconnectivity_fn\u001b[49m\u001b[43m,\u001b[49m\u001b[43m \u001b[49m\u001b[38;5;28;43mself\u001b[39;49m\u001b[38;5;241;43m.\u001b[39;49m\u001b[43mflow_fn\u001b[49m\u001b[43m,\u001b[49m\u001b[43m \u001b[49m\u001b[38;5;28;43mself\u001b[39;49m\u001b[38;5;241;43m.\u001b[39;49m\u001b[43mpermeability_dict\u001b[49m\u001b[43m,\u001b[49m\u001b[43m \u001b[49m\u001b[43mnum_gaps\u001b[49m\u001b[38;5;241;43m=\u001b[39;49m\u001b[43mnum_gaps\u001b[49m\u001b[43m,\u001b[49m\u001b[43m \u001b[49m\u001b[43msingle_tile\u001b[49m\u001b[38;5;241;43m=\u001b[39;49m\u001b[43msingle_tile\u001b[49m\u001b[43m,\u001b[49m\u001b[43m \u001b[49m\u001b[43mgap_crossing\u001b[49m\u001b[38;5;241;43m=\u001b[39;49m\u001b[43mgap_crossing\u001b[49m\u001b[43m,\u001b[49m\u001b[43m \u001b[49m\u001b[43mdeterministic\u001b[49m\u001b[38;5;241;43m=\u001b[39;49m\u001b[43mdeterministic\u001b[49m\u001b[43m)\u001b[49m\n",
      "File \u001b[0;32m~/Documents/Natalie/Species Dist Research/Code/ecoscape-earth/ecoscape-connectivity/ecoscape_connectivity_local/repopulation.py:345\u001b[0m, in \u001b[0;36mcompute_connectivity\u001b[0;34m(habitat_fn, terrain_fn, connectivity_fn, flow_fn, permeability_dict, gap_crossing, num_gaps, num_simulations, seed_density, single_tile, tile_size, tile_border, minimum_habitat, deterministic, resistance_given)\u001b[0m\n\u001b[1;32m    337\u001b[0m analysis_fn \u001b[38;5;241m=\u001b[39m analyze_tile_torch(\n\u001b[1;32m    338\u001b[0m     seed_density\u001b[38;5;241m=\u001b[39mseed_density,\n\u001b[1;32m    339\u001b[0m     produce_gradient\u001b[38;5;241m=\u001b[39mflow_fn \u001b[38;5;129;01mis\u001b[39;00m \u001b[38;5;129;01mnot\u001b[39;00m \u001b[38;5;28;01mNone\u001b[39;00m,\n\u001b[0;32m   (...)\u001b[0m\n\u001b[1;32m    342\u001b[0m     hop_length\u001b[38;5;241m=\u001b[39mgap_crossing,\n\u001b[1;32m    343\u001b[0m     deterministic\u001b[38;5;241m=\u001b[39mdeterministic)\n\u001b[1;32m    344\u001b[0m \u001b[38;5;66;03m# Applies it.\u001b[39;00m\n\u001b[0;32m--> 345\u001b[0m \u001b[43manalyze_geotiffs\u001b[49m\u001b[43m(\u001b[49m\n\u001b[1;32m    346\u001b[0m \u001b[43m    \u001b[49m\u001b[43mhabitat_fn\u001b[49m\u001b[43m,\u001b[49m\u001b[43m \u001b[49m\u001b[43mterrain_fn\u001b[49m\u001b[43m,\u001b[49m\n\u001b[1;32m    347\u001b[0m \u001b[43m    \u001b[49m\u001b[43mpermeability_dict\u001b[49m\u001b[43m,\u001b[49m\n\u001b[1;32m    348\u001b[0m \u001b[43m    \u001b[49m\u001b[43manalysis_fn\u001b[49m\u001b[38;5;241;43m=\u001b[39;49m\u001b[43manalysis_fn\u001b[49m\u001b[43m,\u001b[49m\n\u001b[1;32m    349\u001b[0m \u001b[43m    \u001b[49m\u001b[43msingle_tile\u001b[49m\u001b[38;5;241;43m=\u001b[39;49m\u001b[43msingle_tile\u001b[49m\u001b[43m,\u001b[49m\n\u001b[1;32m    350\u001b[0m \u001b[43m    \u001b[49m\u001b[43mblock_size\u001b[49m\u001b[38;5;241;43m=\u001b[39;49m\u001b[43mtile_size\u001b[49m\u001b[43m,\u001b[49m\n\u001b[1;32m    351\u001b[0m \u001b[43m    \u001b[49m\u001b[43mborder_size\u001b[49m\u001b[38;5;241;43m=\u001b[39;49m\u001b[43mtile_border\u001b[49m\u001b[43m,\u001b[49m\n\u001b[1;32m    352\u001b[0m \u001b[43m    \u001b[49m\u001b[43mgenerate_gradient\u001b[49m\u001b[38;5;241;43m=\u001b[39;49m\u001b[43mflow_fn\u001b[49m\u001b[43m \u001b[49m\u001b[38;5;129;43;01mis\u001b[39;49;00m\u001b[43m \u001b[49m\u001b[38;5;129;43;01mnot\u001b[39;49;00m\u001b[43m \u001b[49m\u001b[38;5;28;43;01mNone\u001b[39;49;00m\u001b[43m,\u001b[49m\n\u001b[1;32m    353\u001b[0m \u001b[43m    \u001b[49m\u001b[43mminimum_habitat\u001b[49m\u001b[38;5;241;43m=\u001b[39;49m\u001b[43mminimum_habitat\u001b[49m\u001b[43m,\u001b[49m\n\u001b[1;32m    354\u001b[0m \u001b[43m    \u001b[49m\u001b[43moutput_repop_fn\u001b[49m\u001b[38;5;241;43m=\u001b[39;49m\u001b[43mconnectivity_fn\u001b[49m\u001b[43m,\u001b[49m\n\u001b[1;32m    355\u001b[0m \u001b[43m    \u001b[49m\u001b[43moutput_grad_fn\u001b[49m\u001b[38;5;241;43m=\u001b[39;49m\u001b[43mflow_fn\u001b[49m\u001b[43m,\u001b[49m\n\u001b[1;32m    356\u001b[0m \u001b[43m    \u001b[49m\u001b[43mresistance_given\u001b[49m\u001b[38;5;241;43m=\u001b[39;49m\u001b[38;5;28;43;01mFalse\u001b[39;49;00m\n\u001b[1;32m    357\u001b[0m \u001b[43m\u001b[49m\u001b[43m)\u001b[49m\n",
      "File \u001b[0;32m~/Documents/Natalie/Species Dist Research/Code/ecoscape-earth/ecoscape-connectivity/ecoscape_connectivity_local/repopulation.py:280\u001b[0m, in \u001b[0;36manalyze_geotiffs\u001b[0;34m(habitat_fn, terrain_fn, terr_to_transmission, analysis_fn, single_tile, hab_tile, ter_tile, block_size, border_size, generate_gradient, interesting_tiles, display_tiles, disp_fn, minimum_habitat, output_repop_fn, output_grad_fn, report_progress, resistance_given)\u001b[0m\n\u001b[1;32m    278\u001b[0m     \u001b[38;5;28;01mwith\u001b[39;00m habitat_geotiff\u001b[38;5;241m.\u001b[39mclone_shape(output_repop_fn) \u001b[38;5;28;01mas\u001b[39;00m repop_output:\n\u001b[1;32m    279\u001b[0m         \u001b[38;5;28;01mwith\u001b[39;00m habitat_geotiff\u001b[38;5;241m.\u001b[39mclone_shape(output_grad_fn) \u001b[38;5;28;01mif\u001b[39;00m do_gradient \u001b[38;5;28;01melse\u001b[39;00m nullcontext() \u001b[38;5;28;01mas\u001b[39;00m grad_output:\n\u001b[0;32m--> 280\u001b[0m             \u001b[43mdo_analysis\u001b[49m\u001b[43m(\u001b[49m\u001b[43mrepop_output\u001b[49m\u001b[43m,\u001b[49m\u001b[43m \u001b[49m\u001b[43mgrad_output\u001b[49m\u001b[43m)\u001b[49m\n\u001b[1;32m    281\u001b[0m \u001b[38;5;28;01melse\u001b[39;00m:\n\u001b[1;32m    282\u001b[0m     do_analysis(\u001b[38;5;28;01mNone\u001b[39;00m, \u001b[38;5;28;01mNone\u001b[39;00m)\n",
      "File \u001b[0;32m~/Documents/Natalie/Species Dist Research/Code/ecoscape-earth/ecoscape-connectivity/ecoscape_connectivity_local/repopulation.py:241\u001b[0m, in \u001b[0;36manalyze_geotiffs.<locals>.do_analysis\u001b[0;34m(repop_file, grad_file)\u001b[0m\n\u001b[1;32m    239\u001b[0m     disp_fn(terrain, title\u001b[38;5;241m=\u001b[39m\u001b[38;5;124m\"\u001b[39m\u001b[38;5;124mTerrain transmission\u001b[39m\u001b[38;5;124m\"\u001b[39m)\n\u001b[1;32m    240\u001b[0m \u001b[38;5;66;03m# Then, we processes the terrain and habitat tiles.\u001b[39;00m\n\u001b[0;32m--> 241\u001b[0m pop, grad \u001b[38;5;241m=\u001b[39m \u001b[43manalysis_fn\u001b[49m\u001b[43m(\u001b[49m\u001b[43mhabitat\u001b[49m\u001b[43m,\u001b[49m\u001b[43m \u001b[49m\u001b[43mterrain\u001b[49m\u001b[43m)\u001b[49m\n\u001b[1;32m    242\u001b[0m \u001b[38;5;66;03m# Normalizes the tiles, to fit into the geotiff format.\u001b[39;00m\n\u001b[1;32m    243\u001b[0m \u001b[38;5;66;03m# The population is simply normalized with a max of 255. After all it is in [0, 1].\u001b[39;00m\n\u001b[1;32m    244\u001b[0m \u001b[38;5;66;03m# We need to use type float because clam is not implemented for all types.\u001b[39;00m\n\u001b[1;32m    245\u001b[0m \u001b[38;5;66;03m# print(isinstance(pop))\u001b[39;00m\n\u001b[1;32m    246\u001b[0m \u001b[38;5;28;01mif\u001b[39;00m \u001b[38;5;28misinstance\u001b[39m(pop, np\u001b[38;5;241m.\u001b[39mndarray):\n\u001b[1;32m    247\u001b[0m     \u001b[38;5;66;03m# print('prev sum:', np.sum(pop), np.sum(pop)*255)\u001b[39;00m\n\u001b[1;32m    248\u001b[0m     \u001b[38;5;66;03m# np.set_printoptions(threshold=2000)\u001b[39;00m\n\u001b[1;32m    249\u001b[0m     \u001b[38;5;66;03m# print(pop[400:450,400:450])\u001b[39;00m\n",
      "File \u001b[0;32m~/Documents/Natalie/Species Dist Research/Code/ecoscape-earth/ecoscape-connectivity/ecoscape_connectivity_local/repopulation.py:126\u001b[0m, in \u001b[0;36manalyze_tile_torch.<locals>.f\u001b[0;34m(habitat, terrain)\u001b[0m\n\u001b[1;32m    124\u001b[0m seeds \u001b[38;5;241m=\u001b[39m torch\u001b[38;5;241m.\u001b[39mrand((batch_size, w, h), device\u001b[38;5;241m=\u001b[39mdevice) \u001b[38;5;241m<\u001b[39m seed_probability\n\u001b[1;32m    125\u001b[0m \u001b[38;5;66;03m# And passes them through the repopulation.\u001b[39;00m\n\u001b[0;32m--> 126\u001b[0m pop \u001b[38;5;241m=\u001b[39m \u001b[43mrepopulator\u001b[49m\u001b[43m(\u001b[49m\u001b[43mseeds\u001b[49m\u001b[43m)\u001b[49m\n\u001b[1;32m    127\u001b[0m \u001b[38;5;66;03m# We need to take the mean over each batch.  This will tell us what is the\u001b[39;00m\n\u001b[1;32m    128\u001b[0m \u001b[38;5;66;03m# average repopulation.\u001b[39;00m\n\u001b[1;32m    129\u001b[0m tot_pop \u001b[38;5;241m+\u001b[39m\u001b[38;5;241m=\u001b[39m torch\u001b[38;5;241m.\u001b[39mmean(pop, \u001b[38;5;241m0\u001b[39m)\n",
      "File \u001b[0;32m~/opt/anaconda3/lib/python3.9/site-packages/torch/nn/modules/module.py:1102\u001b[0m, in \u001b[0;36mModule._call_impl\u001b[0;34m(self, *input, **kwargs)\u001b[0m\n\u001b[1;32m   1098\u001b[0m \u001b[38;5;66;03m# If we don't have any hooks, we want to skip the rest of the logic in\u001b[39;00m\n\u001b[1;32m   1099\u001b[0m \u001b[38;5;66;03m# this function, and just call forward.\u001b[39;00m\n\u001b[1;32m   1100\u001b[0m \u001b[38;5;28;01mif\u001b[39;00m \u001b[38;5;129;01mnot\u001b[39;00m (\u001b[38;5;28mself\u001b[39m\u001b[38;5;241m.\u001b[39m_backward_hooks \u001b[38;5;129;01mor\u001b[39;00m \u001b[38;5;28mself\u001b[39m\u001b[38;5;241m.\u001b[39m_forward_hooks \u001b[38;5;129;01mor\u001b[39;00m \u001b[38;5;28mself\u001b[39m\u001b[38;5;241m.\u001b[39m_forward_pre_hooks \u001b[38;5;129;01mor\u001b[39;00m _global_backward_hooks\n\u001b[1;32m   1101\u001b[0m         \u001b[38;5;129;01mor\u001b[39;00m _global_forward_hooks \u001b[38;5;129;01mor\u001b[39;00m _global_forward_pre_hooks):\n\u001b[0;32m-> 1102\u001b[0m     \u001b[38;5;28;01mreturn\u001b[39;00m \u001b[43mforward_call\u001b[49m\u001b[43m(\u001b[49m\u001b[38;5;241;43m*\u001b[39;49m\u001b[38;5;28;43minput\u001b[39;49m\u001b[43m,\u001b[49m\u001b[43m \u001b[49m\u001b[38;5;241;43m*\u001b[39;49m\u001b[38;5;241;43m*\u001b[39;49m\u001b[43mkwargs\u001b[49m\u001b[43m)\u001b[49m\n\u001b[1;32m   1103\u001b[0m \u001b[38;5;66;03m# Do not call functions when jit is used\u001b[39;00m\n\u001b[1;32m   1104\u001b[0m full_backward_hooks, non_full_backward_hooks \u001b[38;5;241m=\u001b[39m [], []\n",
      "File \u001b[0;32m~/Documents/Natalie/Species Dist Research/Code/ecoscape-earth/ecoscape-connectivity/ecoscape_connectivity_local/repopulation.py:65\u001b[0m, in \u001b[0;36mStochasticRepopulateFast.forward\u001b[0;34m(self, seed)\u001b[0m\n\u001b[1;32m     63\u001b[0m     x \u001b[38;5;241m=\u001b[39m x \u001b[38;5;241m*\u001b[39m (\u001b[38;5;28mself\u001b[39m\u001b[38;5;241m.\u001b[39mmin_transmission \u001b[38;5;241m+\u001b[39m (\u001b[38;5;241m1.\u001b[39m \u001b[38;5;241m-\u001b[39m \u001b[38;5;28mself\u001b[39m\u001b[38;5;241m.\u001b[39mmin_transmission) \u001b[38;5;241m*\u001b[39m torch\u001b[38;5;241m.\u001b[39mrand_like(x))\n\u001b[1;32m     64\u001b[0m \u001b[38;5;66;03m# Then, we propagate.\u001b[39;00m\n\u001b[0;32m---> 65\u001b[0m x \u001b[38;5;241m=\u001b[39m \u001b[38;5;28;43mself\u001b[39;49m\u001b[38;5;241;43m.\u001b[39;49m\u001b[43mspreader\u001b[49m\u001b[43m(\u001b[49m\u001b[43mx\u001b[49m\u001b[43m)\u001b[49m \u001b[38;5;241m*\u001b[39m \u001b[38;5;28mself\u001b[39m\u001b[38;5;241m.\u001b[39mgoodness\n\u001b[1;32m     66\u001b[0m \u001b[38;5;66;03m# We randomize the destinations too.\u001b[39;00m\n\u001b[1;32m     67\u001b[0m \u001b[38;5;28;01mif\u001b[39;00m \u001b[38;5;28mself\u001b[39m\u001b[38;5;241m.\u001b[39mrandomize_dest:\n",
      "File \u001b[0;32m~/opt/anaconda3/lib/python3.9/site-packages/torch/nn/modules/module.py:1102\u001b[0m, in \u001b[0;36mModule._call_impl\u001b[0;34m(self, *input, **kwargs)\u001b[0m\n\u001b[1;32m   1098\u001b[0m \u001b[38;5;66;03m# If we don't have any hooks, we want to skip the rest of the logic in\u001b[39;00m\n\u001b[1;32m   1099\u001b[0m \u001b[38;5;66;03m# this function, and just call forward.\u001b[39;00m\n\u001b[1;32m   1100\u001b[0m \u001b[38;5;28;01mif\u001b[39;00m \u001b[38;5;129;01mnot\u001b[39;00m (\u001b[38;5;28mself\u001b[39m\u001b[38;5;241m.\u001b[39m_backward_hooks \u001b[38;5;129;01mor\u001b[39;00m \u001b[38;5;28mself\u001b[39m\u001b[38;5;241m.\u001b[39m_forward_hooks \u001b[38;5;129;01mor\u001b[39;00m \u001b[38;5;28mself\u001b[39m\u001b[38;5;241m.\u001b[39m_forward_pre_hooks \u001b[38;5;129;01mor\u001b[39;00m _global_backward_hooks\n\u001b[1;32m   1101\u001b[0m         \u001b[38;5;129;01mor\u001b[39;00m _global_forward_hooks \u001b[38;5;129;01mor\u001b[39;00m _global_forward_pre_hooks):\n\u001b[0;32m-> 1102\u001b[0m     \u001b[38;5;28;01mreturn\u001b[39;00m \u001b[43mforward_call\u001b[49m\u001b[43m(\u001b[49m\u001b[38;5;241;43m*\u001b[39;49m\u001b[38;5;28;43minput\u001b[39;49m\u001b[43m,\u001b[49m\u001b[43m \u001b[49m\u001b[38;5;241;43m*\u001b[39;49m\u001b[38;5;241;43m*\u001b[39;49m\u001b[43mkwargs\u001b[49m\u001b[43m)\u001b[49m\n\u001b[1;32m   1103\u001b[0m \u001b[38;5;66;03m# Do not call functions when jit is used\u001b[39;00m\n\u001b[1;32m   1104\u001b[0m full_backward_hooks, non_full_backward_hooks \u001b[38;5;241m=\u001b[39m [], []\n",
      "File \u001b[0;32m~/opt/anaconda3/lib/python3.9/site-packages/torch/nn/modules/pooling.py:162\u001b[0m, in \u001b[0;36mMaxPool2d.forward\u001b[0;34m(self, input)\u001b[0m\n\u001b[1;32m    161\u001b[0m \u001b[38;5;28;01mdef\u001b[39;00m \u001b[38;5;21mforward\u001b[39m(\u001b[38;5;28mself\u001b[39m, \u001b[38;5;28minput\u001b[39m: Tensor) \u001b[38;5;241m-\u001b[39m\u001b[38;5;241m>\u001b[39m Tensor:\n\u001b[0;32m--> 162\u001b[0m     \u001b[38;5;28;01mreturn\u001b[39;00m \u001b[43mF\u001b[49m\u001b[38;5;241;43m.\u001b[39;49m\u001b[43mmax_pool2d\u001b[49m\u001b[43m(\u001b[49m\u001b[38;5;28;43minput\u001b[39;49m\u001b[43m,\u001b[49m\u001b[43m \u001b[49m\u001b[38;5;28;43mself\u001b[39;49m\u001b[38;5;241;43m.\u001b[39;49m\u001b[43mkernel_size\u001b[49m\u001b[43m,\u001b[49m\u001b[43m \u001b[49m\u001b[38;5;28;43mself\u001b[39;49m\u001b[38;5;241;43m.\u001b[39;49m\u001b[43mstride\u001b[49m\u001b[43m,\u001b[49m\n\u001b[1;32m    163\u001b[0m \u001b[43m                        \u001b[49m\u001b[38;5;28;43mself\u001b[39;49m\u001b[38;5;241;43m.\u001b[39;49m\u001b[43mpadding\u001b[49m\u001b[43m,\u001b[49m\u001b[43m \u001b[49m\u001b[38;5;28;43mself\u001b[39;49m\u001b[38;5;241;43m.\u001b[39;49m\u001b[43mdilation\u001b[49m\u001b[43m,\u001b[49m\u001b[43m \u001b[49m\u001b[38;5;28;43mself\u001b[39;49m\u001b[38;5;241;43m.\u001b[39;49m\u001b[43mceil_mode\u001b[49m\u001b[43m,\u001b[49m\n\u001b[1;32m    164\u001b[0m \u001b[43m                        \u001b[49m\u001b[38;5;28;43mself\u001b[39;49m\u001b[38;5;241;43m.\u001b[39;49m\u001b[43mreturn_indices\u001b[49m\u001b[43m)\u001b[49m\n",
      "File \u001b[0;32m~/opt/anaconda3/lib/python3.9/site-packages/torch/_jit_internal.py:422\u001b[0m, in \u001b[0;36mboolean_dispatch.<locals>.fn\u001b[0;34m(*args, **kwargs)\u001b[0m\n\u001b[1;32m    420\u001b[0m     \u001b[38;5;28;01mreturn\u001b[39;00m if_true(\u001b[38;5;241m*\u001b[39margs, \u001b[38;5;241m*\u001b[39m\u001b[38;5;241m*\u001b[39mkwargs)\n\u001b[1;32m    421\u001b[0m \u001b[38;5;28;01melse\u001b[39;00m:\n\u001b[0;32m--> 422\u001b[0m     \u001b[38;5;28;01mreturn\u001b[39;00m \u001b[43mif_false\u001b[49m\u001b[43m(\u001b[49m\u001b[38;5;241;43m*\u001b[39;49m\u001b[43margs\u001b[49m\u001b[43m,\u001b[49m\u001b[43m \u001b[49m\u001b[38;5;241;43m*\u001b[39;49m\u001b[38;5;241;43m*\u001b[39;49m\u001b[43mkwargs\u001b[49m\u001b[43m)\u001b[49m\n",
      "File \u001b[0;32m~/opt/anaconda3/lib/python3.9/site-packages/torch/nn/functional.py:719\u001b[0m, in \u001b[0;36m_max_pool2d\u001b[0;34m(input, kernel_size, stride, padding, dilation, ceil_mode, return_indices)\u001b[0m\n\u001b[1;32m    717\u001b[0m \u001b[38;5;28;01mif\u001b[39;00m stride \u001b[38;5;129;01mis\u001b[39;00m \u001b[38;5;28;01mNone\u001b[39;00m:\n\u001b[1;32m    718\u001b[0m     stride \u001b[38;5;241m=\u001b[39m torch\u001b[38;5;241m.\u001b[39mjit\u001b[38;5;241m.\u001b[39mannotate(List[\u001b[38;5;28mint\u001b[39m], [])\n\u001b[0;32m--> 719\u001b[0m \u001b[38;5;28;01mreturn\u001b[39;00m \u001b[43mtorch\u001b[49m\u001b[38;5;241;43m.\u001b[39;49m\u001b[43mmax_pool2d\u001b[49m\u001b[43m(\u001b[49m\u001b[38;5;28;43minput\u001b[39;49m\u001b[43m,\u001b[49m\u001b[43m \u001b[49m\u001b[43mkernel_size\u001b[49m\u001b[43m,\u001b[49m\u001b[43m \u001b[49m\u001b[43mstride\u001b[49m\u001b[43m,\u001b[49m\u001b[43m \u001b[49m\u001b[43mpadding\u001b[49m\u001b[43m,\u001b[49m\u001b[43m \u001b[49m\u001b[43mdilation\u001b[49m\u001b[43m,\u001b[49m\u001b[43m \u001b[49m\u001b[43mceil_mode\u001b[49m\u001b[43m)\u001b[49m\n",
      "\u001b[0;31mKeyboardInterrupt\u001b[0m: "
     ]
    }
   ],
   "source": [
    "# Flow restoration\n",
    "flowOptimizer = flowRestoration(HABITAT_PATH, TERRAIN_PATH, RESTORED_TERRAIN_PATH, CONNECTIVITY_PATH, FLOW_PATH, RESTORED_CONNECTIVITY_PATH, RESTORED_FLOW_PATH, DEATH_PATH, PERMEABILITY_PATH, 50) #hab_mat, unrestorable)\n",
    "\n",
    "flowOptimizer.run_connectivity(gap_crossing=2, num_gaps=60)\n",
    "permiability_restored = flowOptimizer.restore()\n",
    "flowOptimizer.run_connectivity(gap_crossing=2, num_gaps=40, restored=False)\n",
    "flowOptimizer.run_connectivity(gap_crossing=2, num_gaps=40, restored=True)\n",
    "print(f\"Delta connectivity: {flowOptimizer.get_delta_connectivity()}\")\n",
    "print(f\"Permiability Restored: {permiability_restored}\")\n",
    "print(f\"Percent connectivity changed: {flowOptimizer.get_connectivity_percent_changed()}%\")\n",
    "print(f\"Connectivity/permiability_restored: {round(flowOptimizer.get_delta_connectivity()/permiability_restored, 2)}\")"
   ]
  },
  {
   "cell_type": "code",
   "execution_count": 6,
   "metadata": {},
   "outputs": [
    {
     "name": "stderr",
     "output_type": "stream",
     "text": [
      "ERROR 1: PROJ: internal_proj_create_from_name: /Users/nvalett/opt/anaconda3/share/proj/proj.db lacks DATABASE.LAYOUT.VERSION.MAJOR / DATABASE.LAYOUT.VERSION.MINOR metadata. It comes from another PROJ installation.\n",
      "ERROR 1: PROJ: internal_proj_create_from_name: /Users/nvalett/opt/anaconda3/share/proj/proj.db lacks DATABASE.LAYOUT.VERSION.MAJOR / DATABASE.LAYOUT.VERSION.MINOR metadata. It comes from another PROJ installation.\n"
     ]
    },
    {
     "name": "stdout",
     "output_type": "stream",
     "text": [
      "Delta connectivity: 15522\n",
      "Permiability Restored: 4.999999999999998\n",
      "Percent connectivity changed: 0.005763508990026924%\n",
      "Connectivity/permiability_restored: 3104.400000000001\n"
     ]
    }
   ],
   "source": [
    "# Flow restoration\n",
    "flowOptimizer = flowRestoration(HABITAT_PATH, TERRAIN_PATH, RESTORED_TERRAIN_PATH, CONNECTIVITY_PATH, FLOW_PATH, RESTORED_CONNECTIVITY_PATH, RESTORED_FLOW_PATH, DEATH_PATH, PERMEABILITY_PATH, 50) #hab_mat, unrestorable)\n",
    "\n",
    "# flowOptimizer.run_connectivity()\n",
    "permiability_restored = flowOptimizer.restore()\n",
    "flowOptimizer.run_connectivity(restored=True)\n",
    "print(f\"Delta connectivity: {flowOptimizer.get_delta_connectivity()}\")\n",
    "print(f\"Permiability Restored: {permiability_restored}\")\n",
    "print(f\"Percent connectivity changed: {flowOptimizer.get_connectivity_percent_changed()}%\")\n",
    "print(f\"Connectivity/permiability_restored: {flowOptimizer.get_delta_connectivity()/permiability_restored}\")"
   ]
  },
  {
   "cell_type": "code",
   "execution_count": 7,
   "metadata": {},
   "outputs": [
    {
     "name": "stdout",
     "output_type": "stream",
     "text": [
      "{(277, 36): 79, (278, 36): 71, (103, 117): 69, (188, 108): 67, (89, 132): 66, (11, 115): 66, (176, 109): 65, (155, 139): 64, (248, 143): 63, (15, 115): 63, (250, 141): 63, (15, 113): 63, (143, 87): 63, (118, 145): 63, (109, 142): 63, (220, 198): 63, (183, 173): 62, (176, 174): 62, (277, 118): 62, (104, 66): 62, (270, 33): 62, (199, 159): 62, (21, 102): 62, (163, 105): 62, (216, 114): 62, (45, 25): 61, (41, 85): 61, (190, 175): 61, (204, 109): 61, (23, 102): 61, (270, 32): 60, (267, 188): 60, (283, 38): 60, (271, 40): 60, (289, 131): 60, (186, 114): 60, (236, 197): 60, (177, 174): 60, (95, 103): 60, (41, 74): 59, (43, 72): 59, (163, 89): 59, (109, 141): 59, (276, 146): 59, (245, 102): 59, (22, 102): 59, (226, 162): 59, (119, 145): 59, (198, 160): 59, (205, 205): 59}\n"
     ]
    }
   ],
   "source": [
    "print(flowOptimizer.changed_pixels)"
   ]
  },
  {
   "cell_type": "code",
   "execution_count": 56,
   "metadata": {},
   "outputs": [
    {
     "name": "stderr",
     "output_type": "stream",
     "text": [
      "ERROR 1: PROJ: internal_proj_create_from_name: /Users/nvalett/opt/anaconda3/share/proj/proj.db lacks DATABASE.LAYOUT.VERSION.MAJOR / DATABASE.LAYOUT.VERSION.MINOR metadata. It comes from another PROJ installation.\n",
      "ERROR 1: PROJ: internal_proj_create_from_name: /Users/nvalett/opt/anaconda3/share/proj/proj.db lacks DATABASE.LAYOUT.VERSION.MAJOR / DATABASE.LAYOUT.VERSION.MINOR metadata. It comes from another PROJ installation.\n"
     ]
    }
   ],
   "source": [
    "TERRAIN_CHANGED_UTOPIAN = os.path.join(DATA_PATH, \"smol/changed_terrain_low_flow.tif\")\n",
    "CONNECTIVITY_DIFF_UTOPIAN = os.path.join(DATA_PATH, \"smol/connectivity_diff_low_flow.tif\")\n",
    "\n",
    "def get_connectivity_difference_tif(flowOptimizer, connectivity_diff_fn):\n",
    "    # get origional connectivity\n",
    "    with GeoTiff.from_file(flowOptimizer.connectivity_fn) as connectivity_tif:\n",
    "        connectivity_tile = connectivity_tif.get_all_as_tile()\n",
    "        # create connectivity diff tif from clone of connectivity_tif\n",
    "        connectivity_tif.clone_shape(connectivity_diff_fn, dtype='int16')\n",
    "\n",
    "    # get restored connectivity\n",
    "    with GeoTiff.from_file(flowOptimizer.restored_connectivity_fn) as restored_connectivity_tif:\n",
    "        restored_connectivity_tile = restored_connectivity_tif.get_all_as_tile()\n",
    "\n",
    "    # get the difference of the two in a tile\n",
    "    diff = Tile(connectivity_tile.w, connectivity_tile.h, connectivity_tile.b, connectivity_tile.c, connectivity_tile.x, connectivity_tile.y, (restored_connectivity_tile.m.astype('int16') - connectivity_tile.m.astype('int16')))\n",
    "    # write the tile to connectivity diff tif\n",
    "    with GeoTiff.from_file(connectivity_diff_fn) as connectivity_diff:\n",
    "        connectivity_diff.set_tile(diff)\n",
    "\n",
    "\n",
    "# paint changed terrain pixels\n",
    "flowOptimizer.paint_changed_terrain_geotiff(TERRAIN_CHANGED_UTOPIAN, flowOptimizer.changed_pixels, value=1)\n",
    "# view diff of before and after\n",
    "get_connectivity_difference_tif(flowOptimizer, CONNECTIVITY_DIFF_UTOPIAN)"
   ]
  },
  {
   "cell_type": "code",
   "execution_count": 6,
   "metadata": {},
   "outputs": [
    {
     "name": "stderr",
     "output_type": "stream",
     "text": [
      "ERROR 1: PROJ: internal_proj_create_from_name: /Users/nvalett/opt/anaconda3/share/proj/proj.db lacks DATABASE.LAYOUT.VERSION.MAJOR / DATABASE.LAYOUT.VERSION.MINOR metadata. It comes from another PROJ installation.\n",
      "ERROR 1: PROJ: internal_proj_create_from_name: /Users/nvalett/opt/anaconda3/share/proj/proj.db lacks DATABASE.LAYOUT.VERSION.MAJOR / DATABASE.LAYOUT.VERSION.MINOR metadata. It comes from another PROJ installation.\n",
      "ERROR 1: PROJ: internal_proj_create_from_name: /Users/nvalett/opt/anaconda3/share/proj/proj.db lacks DATABASE.LAYOUT.VERSION.MAJOR / DATABASE.LAYOUT.VERSION.MINOR metadata. It comes from another PROJ installation.\n",
      "ERROR 1: PROJ: internal_proj_create_from_name: /Users/nvalett/opt/anaconda3/share/proj/proj.db lacks DATABASE.LAYOUT.VERSION.MAJOR / DATABASE.LAYOUT.VERSION.MINOR metadata. It comes from another PROJ installation.\n",
      "ERROR 1: PROJ: internal_proj_create_from_name: /Users/nvalett/opt/anaconda3/share/proj/proj.db lacks DATABASE.LAYOUT.VERSION.MAJOR / DATABASE.LAYOUT.VERSION.MINOR metadata. It comes from another PROJ installation.\n",
      "ERROR 1: PROJ: internal_proj_create_from_name: /Users/nvalett/opt/anaconda3/share/proj/proj.db lacks DATABASE.LAYOUT.VERSION.MAJOR / DATABASE.LAYOUT.VERSION.MINOR metadata. It comes from another PROJ installation.\n"
     ]
    },
    {
     "name": "stdout",
     "output_type": "stream",
     "text": [
      "gap_crossing 2, num_gaps 35\n",
      "Delta connectivity: 44092\n",
      "Permiability Restored: 4.990861313868612\n",
      "Connectivity/permiability_restored: 8834.547230851134\n",
      "Connectivity/pixels restored: 881.84\n"
     ]
    },
    {
     "name": "stderr",
     "output_type": "stream",
     "text": [
      "ERROR 1: PROJ: internal_proj_create_from_name: /Users/nvalett/opt/anaconda3/share/proj/proj.db lacks DATABASE.LAYOUT.VERSION.MAJOR / DATABASE.LAYOUT.VERSION.MINOR metadata. It comes from another PROJ installation.\n",
      "ERROR 1: PROJ: internal_proj_create_from_name: /Users/nvalett/opt/anaconda3/share/proj/proj.db lacks DATABASE.LAYOUT.VERSION.MAJOR / DATABASE.LAYOUT.VERSION.MINOR metadata. It comes from another PROJ installation.\n",
      "ERROR 1: PROJ: internal_proj_create_from_name: /Users/nvalett/opt/anaconda3/share/proj/proj.db lacks DATABASE.LAYOUT.VERSION.MAJOR / DATABASE.LAYOUT.VERSION.MINOR metadata. It comes from another PROJ installation.\n",
      "ERROR 1: PROJ: internal_proj_create_from_name: /Users/nvalett/opt/anaconda3/share/proj/proj.db lacks DATABASE.LAYOUT.VERSION.MAJOR / DATABASE.LAYOUT.VERSION.MINOR metadata. It comes from another PROJ installation.\n",
      "ERROR 1: PROJ: internal_proj_create_from_name: /Users/nvalett/opt/anaconda3/share/proj/proj.db lacks DATABASE.LAYOUT.VERSION.MAJOR / DATABASE.LAYOUT.VERSION.MINOR metadata. It comes from another PROJ installation.\n",
      "ERROR 1: PROJ: internal_proj_create_from_name: /Users/nvalett/opt/anaconda3/share/proj/proj.db lacks DATABASE.LAYOUT.VERSION.MAJOR / DATABASE.LAYOUT.VERSION.MINOR metadata. It comes from another PROJ installation.\n",
      "ERROR 1: PROJ: internal_proj_create_from_name: /Users/nvalett/opt/anaconda3/share/proj/proj.db lacks DATABASE.LAYOUT.VERSION.MAJOR / DATABASE.LAYOUT.VERSION.MINOR metadata. It comes from another PROJ installation.\n",
      "ERROR 1: PROJ: internal_proj_create_from_name: /Users/nvalett/opt/anaconda3/share/proj/proj.db lacks DATABASE.LAYOUT.VERSION.MAJOR / DATABASE.LAYOUT.VERSION.MINOR metadata. It comes from another PROJ installation.\n"
     ]
    },
    {
     "name": "stdout",
     "output_type": "stream",
     "text": [
      "gap_crossing 2, num_gaps 38\n",
      "Delta connectivity: 45034\n",
      "Permiability Restored: 4.990861313868612\n",
      "Connectivity/permiability_restored: 9023.292207070444\n",
      "Connectivity/pixels restored: 900.68\n"
     ]
    },
    {
     "name": "stderr",
     "output_type": "stream",
     "text": [
      "ERROR 1: PROJ: internal_proj_create_from_name: /Users/nvalett/opt/anaconda3/share/proj/proj.db lacks DATABASE.LAYOUT.VERSION.MAJOR / DATABASE.LAYOUT.VERSION.MINOR metadata. It comes from another PROJ installation.\n",
      "ERROR 1: PROJ: internal_proj_create_from_name: /Users/nvalett/opt/anaconda3/share/proj/proj.db lacks DATABASE.LAYOUT.VERSION.MAJOR / DATABASE.LAYOUT.VERSION.MINOR metadata. It comes from another PROJ installation.\n",
      "ERROR 1: PROJ: internal_proj_create_from_name: /Users/nvalett/opt/anaconda3/share/proj/proj.db lacks DATABASE.LAYOUT.VERSION.MAJOR / DATABASE.LAYOUT.VERSION.MINOR metadata. It comes from another PROJ installation.\n",
      "ERROR 1: PROJ: internal_proj_create_from_name: /Users/nvalett/opt/anaconda3/share/proj/proj.db lacks DATABASE.LAYOUT.VERSION.MAJOR / DATABASE.LAYOUT.VERSION.MINOR metadata. It comes from another PROJ installation.\n",
      "ERROR 1: PROJ: internal_proj_create_from_name: /Users/nvalett/opt/anaconda3/share/proj/proj.db lacks DATABASE.LAYOUT.VERSION.MAJOR / DATABASE.LAYOUT.VERSION.MINOR metadata. It comes from another PROJ installation.\n",
      "ERROR 1: PROJ: internal_proj_create_from_name: /Users/nvalett/opt/anaconda3/share/proj/proj.db lacks DATABASE.LAYOUT.VERSION.MAJOR / DATABASE.LAYOUT.VERSION.MINOR metadata. It comes from another PROJ installation.\n",
      "ERROR 1: PROJ: internal_proj_create_from_name: /Users/nvalett/opt/anaconda3/share/proj/proj.db lacks DATABASE.LAYOUT.VERSION.MAJOR / DATABASE.LAYOUT.VERSION.MINOR metadata. It comes from another PROJ installation.\n",
      "ERROR 1: PROJ: internal_proj_create_from_name: /Users/nvalett/opt/anaconda3/share/proj/proj.db lacks DATABASE.LAYOUT.VERSION.MAJOR / DATABASE.LAYOUT.VERSION.MINOR metadata. It comes from another PROJ installation.\n"
     ]
    },
    {
     "name": "stdout",
     "output_type": "stream",
     "text": [
      "gap_crossing 2, num_gaps 40\n",
      "Delta connectivity: 46193\n",
      "Permiability Restored: 4.990861313868612\n",
      "Connectivity/permiability_restored: 9255.516652333903\n",
      "Connectivity/pixels restored: 923.86\n"
     ]
    },
    {
     "name": "stderr",
     "output_type": "stream",
     "text": [
      "ERROR 1: PROJ: internal_proj_create_from_name: /Users/nvalett/opt/anaconda3/share/proj/proj.db lacks DATABASE.LAYOUT.VERSION.MAJOR / DATABASE.LAYOUT.VERSION.MINOR metadata. It comes from another PROJ installation.\n",
      "ERROR 1: PROJ: internal_proj_create_from_name: /Users/nvalett/opt/anaconda3/share/proj/proj.db lacks DATABASE.LAYOUT.VERSION.MAJOR / DATABASE.LAYOUT.VERSION.MINOR metadata. It comes from another PROJ installation.\n",
      "ERROR 1: PROJ: internal_proj_create_from_name: /Users/nvalett/opt/anaconda3/share/proj/proj.db lacks DATABASE.LAYOUT.VERSION.MAJOR / DATABASE.LAYOUT.VERSION.MINOR metadata. It comes from another PROJ installation.\n",
      "ERROR 1: PROJ: internal_proj_create_from_name: /Users/nvalett/opt/anaconda3/share/proj/proj.db lacks DATABASE.LAYOUT.VERSION.MAJOR / DATABASE.LAYOUT.VERSION.MINOR metadata. It comes from another PROJ installation.\n",
      "ERROR 1: PROJ: internal_proj_create_from_name: /Users/nvalett/opt/anaconda3/share/proj/proj.db lacks DATABASE.LAYOUT.VERSION.MAJOR / DATABASE.LAYOUT.VERSION.MINOR metadata. It comes from another PROJ installation.\n",
      "ERROR 1: PROJ: internal_proj_create_from_name: /Users/nvalett/opt/anaconda3/share/proj/proj.db lacks DATABASE.LAYOUT.VERSION.MAJOR / DATABASE.LAYOUT.VERSION.MINOR metadata. It comes from another PROJ installation.\n",
      "ERROR 1: PROJ: internal_proj_create_from_name: /Users/nvalett/opt/anaconda3/share/proj/proj.db lacks DATABASE.LAYOUT.VERSION.MAJOR / DATABASE.LAYOUT.VERSION.MINOR metadata. It comes from another PROJ installation.\n",
      "ERROR 1: PROJ: internal_proj_create_from_name: /Users/nvalett/opt/anaconda3/share/proj/proj.db lacks DATABASE.LAYOUT.VERSION.MAJOR / DATABASE.LAYOUT.VERSION.MINOR metadata. It comes from another PROJ installation.\n"
     ]
    },
    {
     "name": "stdout",
     "output_type": "stream",
     "text": [
      "gap_crossing 2, num_gaps 42\n",
      "Delta connectivity: 44938\n",
      "Permiability Restored: 4.990861313868612\n",
      "Connectivity/permiability_restored: 9004.057050258285\n",
      "Connectivity/pixels restored: 898.76\n"
     ]
    },
    {
     "name": "stderr",
     "output_type": "stream",
     "text": [
      "ERROR 1: PROJ: internal_proj_create_from_name: /Users/nvalett/opt/anaconda3/share/proj/proj.db lacks DATABASE.LAYOUT.VERSION.MAJOR / DATABASE.LAYOUT.VERSION.MINOR metadata. It comes from another PROJ installation.\n",
      "ERROR 1: PROJ: internal_proj_create_from_name: /Users/nvalett/opt/anaconda3/share/proj/proj.db lacks DATABASE.LAYOUT.VERSION.MAJOR / DATABASE.LAYOUT.VERSION.MINOR metadata. It comes from another PROJ installation.\n",
      "ERROR 1: PROJ: internal_proj_create_from_name: /Users/nvalett/opt/anaconda3/share/proj/proj.db lacks DATABASE.LAYOUT.VERSION.MAJOR / DATABASE.LAYOUT.VERSION.MINOR metadata. It comes from another PROJ installation.\n",
      "ERROR 1: PROJ: internal_proj_create_from_name: /Users/nvalett/opt/anaconda3/share/proj/proj.db lacks DATABASE.LAYOUT.VERSION.MAJOR / DATABASE.LAYOUT.VERSION.MINOR metadata. It comes from another PROJ installation.\n",
      "ERROR 1: PROJ: internal_proj_create_from_name: /Users/nvalett/opt/anaconda3/share/proj/proj.db lacks DATABASE.LAYOUT.VERSION.MAJOR / DATABASE.LAYOUT.VERSION.MINOR metadata. It comes from another PROJ installation.\n",
      "ERROR 1: PROJ: internal_proj_create_from_name: /Users/nvalett/opt/anaconda3/share/proj/proj.db lacks DATABASE.LAYOUT.VERSION.MAJOR / DATABASE.LAYOUT.VERSION.MINOR metadata. It comes from another PROJ installation.\n",
      "ERROR 1: PROJ: internal_proj_create_from_name: /Users/nvalett/opt/anaconda3/share/proj/proj.db lacks DATABASE.LAYOUT.VERSION.MAJOR / DATABASE.LAYOUT.VERSION.MINOR metadata. It comes from another PROJ installation.\n",
      "ERROR 1: PROJ: internal_proj_create_from_name: /Users/nvalett/opt/anaconda3/share/proj/proj.db lacks DATABASE.LAYOUT.VERSION.MAJOR / DATABASE.LAYOUT.VERSION.MINOR metadata. It comes from another PROJ installation.\n"
     ]
    },
    {
     "name": "stdout",
     "output_type": "stream",
     "text": [
      "gap_crossing 2, num_gaps 45\n",
      "Delta connectivity: 44647\n",
      "Permiability Restored: 4.990861313868612\n",
      "Connectivity/permiability_restored: 8945.750481171428\n",
      "Connectivity/pixels restored: 892.94\n"
     ]
    },
    {
     "name": "stderr",
     "output_type": "stream",
     "text": [
      "ERROR 1: PROJ: internal_proj_create_from_name: /Users/nvalett/opt/anaconda3/share/proj/proj.db lacks DATABASE.LAYOUT.VERSION.MAJOR / DATABASE.LAYOUT.VERSION.MINOR metadata. It comes from another PROJ installation.\n"
     ]
    },
    {
     "name": "stdout",
     "output_type": "stream",
     "text": [
      "{(2, 35): 8834.547230851134, (2, 38): 9023.292207070444, (2, 40): 9255.516652333903, (2, 42): 9004.057050258285, (2, 45): 8945.750481171428}\n",
      "{(2, 35): 8834.547230851134, (2, 38): 9023.292207070444, (2, 40): 9255.516652333903, (2, 42): 9004.057050258285, (2, 45): 8945.750481171428}\n"
     ]
    },
    {
     "name": "stderr",
     "output_type": "stream",
     "text": [
      "ERROR 1: PROJ: internal_proj_create_from_name: /Users/nvalett/opt/anaconda3/share/proj/proj.db lacks DATABASE.LAYOUT.VERSION.MAJOR / DATABASE.LAYOUT.VERSION.MINOR metadata. It comes from another PROJ installation.\n"
     ]
    }
   ],
   "source": [
    "flowOptimizer = flowRestoration(HABITAT_PATH, TERRAIN_PATH, RESTORED_TERRAIN_PATH, CONNECTIVITY_PATH, FLOW_PATH, RESTORED_CONNECTIVITY_PATH, RESTORED_FLOW_PATH, DEATH_PATH, PERMEABILITY_PATH, 50) #hab_mat, unrestorable)\n",
    "\n",
    "perm_results = {}\n",
    "pix_results = {}\n",
    "for gap_crossing in [2]:\n",
    "    for num_gaps in [35,38,40,42,45]:\n",
    "        flowOptimizer.run_connectivity(gap_crossing=gap_crossing, num_gaps=num_gaps)\n",
    "        permiability_restored = flowOptimizer.restore()\n",
    "        flowOptimizer.run_connectivity(gap_crossing=2, num_gaps=40, restored=False)\n",
    "        flowOptimizer.run_connectivity(gap_crossing=2, num_gaps=40, restored=True)\n",
    "        print(f'gap_crossing {gap_crossing}, num_gaps {num_gaps}')\n",
    "        print(f\"Delta connectivity: {flowOptimizer.get_delta_connectivity()}\")\n",
    "        print(f\"Permiability Restored: {permiability_restored}\")\n",
    "        print(f\"Connectivity/permiability_restored: {flowOptimizer.get_delta_connectivity()/permiability_restored}\")\n",
    "        print(f\"Connectivity/pixels restored: {flowOptimizer.get_delta_connectivity()/flowOptimizer.pixels}\")\n",
    "        perm_results[(gap_crossing, num_gaps)] = flowOptimizer.get_delta_connectivity()/permiability_restored\n",
    "        pix_results[(gap_crossing, num_gaps)] = flowOptimizer.get_delta_connectivity()/permiability_restored\n",
    "\n",
    "        TERRAIN_CHANGED_UTOPIAN = os.path.join(DATA_PATH, f\"smol/changed_terrain_flow_{gap_crossing}_{num_gaps}.tif\")\n",
    "        CONNECTIVITY_DIFF_UTOPIAN = os.path.join(DATA_PATH, f\"smol/connectivity_diff_flow_{gap_crossing}_{num_gaps}.tif\")\n",
    "\n",
    "        # paint changed terrain pixels\n",
    "        flowOptimizer.paint_changed_terrain_geotiff(TERRAIN_CHANGED_UTOPIAN, value=1)\n",
    "        # view diff of before and after\n",
    "        flowOptimizer.get_connectivity_difference_tif(CONNECTIVITY_DIFF_UTOPIAN)\n",
    "print(perm_results)\n",
    "print(pix_results)"
   ]
  },
  {
   "cell_type": "code",
   "execution_count": 5,
   "metadata": {},
   "outputs": [
    {
     "name": "stderr",
     "output_type": "stream",
     "text": [
      "ERROR 1: PROJ: internal_proj_create_from_name: /Users/nvalett/opt/anaconda3/share/proj/proj.db lacks DATABASE.LAYOUT.VERSION.MAJOR / DATABASE.LAYOUT.VERSION.MINOR metadata. It comes from another PROJ installation.\n",
      "ERROR 1: PROJ: internal_proj_create_from_name: /Users/nvalett/opt/anaconda3/share/proj/proj.db lacks DATABASE.LAYOUT.VERSION.MAJOR / DATABASE.LAYOUT.VERSION.MINOR metadata. It comes from another PROJ installation.\n",
      "ERROR 1: PROJ: internal_proj_create_from_name: /Users/nvalett/opt/anaconda3/share/proj/proj.db lacks DATABASE.LAYOUT.VERSION.MAJOR / DATABASE.LAYOUT.VERSION.MINOR metadata. It comes from another PROJ installation.\n",
      "ERROR 1: PROJ: internal_proj_create_from_name: /Users/nvalett/opt/anaconda3/share/proj/proj.db lacks DATABASE.LAYOUT.VERSION.MAJOR / DATABASE.LAYOUT.VERSION.MINOR metadata. It comes from another PROJ installation.\n",
      "ERROR 1: PROJ: internal_proj_create_from_name: /Users/nvalett/opt/anaconda3/share/proj/proj.db lacks DATABASE.LAYOUT.VERSION.MAJOR / DATABASE.LAYOUT.VERSION.MINOR metadata. It comes from another PROJ installation.\n",
      "ERROR 1: PROJ: internal_proj_create_from_name: /Users/nvalett/opt/anaconda3/share/proj/proj.db lacks DATABASE.LAYOUT.VERSION.MAJOR / DATABASE.LAYOUT.VERSION.MINOR metadata. It comes from another PROJ installation.\n"
     ]
    },
    {
     "name": "stdout",
     "output_type": "stream",
     "text": [
      "gap_crossing 1, num_gaps 20\n",
      "Delta connectivity: 9380\n",
      "Permiability Restored: 4.999999999999998\n",
      "Connectivity/permiability_restored: 1876.0000000000007\n",
      "Connectivity/pixels restored: 187.6\n"
     ]
    },
    {
     "name": "stderr",
     "output_type": "stream",
     "text": [
      "ERROR 1: PROJ: internal_proj_create_from_name: /Users/nvalett/opt/anaconda3/share/proj/proj.db lacks DATABASE.LAYOUT.VERSION.MAJOR / DATABASE.LAYOUT.VERSION.MINOR metadata. It comes from another PROJ installation.\n",
      "ERROR 1: PROJ: internal_proj_create_from_name: /Users/nvalett/opt/anaconda3/share/proj/proj.db lacks DATABASE.LAYOUT.VERSION.MAJOR / DATABASE.LAYOUT.VERSION.MINOR metadata. It comes from another PROJ installation.\n",
      "ERROR 1: PROJ: internal_proj_create_from_name: /Users/nvalett/opt/anaconda3/share/proj/proj.db lacks DATABASE.LAYOUT.VERSION.MAJOR / DATABASE.LAYOUT.VERSION.MINOR metadata. It comes from another PROJ installation.\n",
      "ERROR 1: PROJ: internal_proj_create_from_name: /Users/nvalett/opt/anaconda3/share/proj/proj.db lacks DATABASE.LAYOUT.VERSION.MAJOR / DATABASE.LAYOUT.VERSION.MINOR metadata. It comes from another PROJ installation.\n",
      "ERROR 1: PROJ: internal_proj_create_from_name: /Users/nvalett/opt/anaconda3/share/proj/proj.db lacks DATABASE.LAYOUT.VERSION.MAJOR / DATABASE.LAYOUT.VERSION.MINOR metadata. It comes from another PROJ installation.\n",
      "ERROR 1: PROJ: internal_proj_create_from_name: /Users/nvalett/opt/anaconda3/share/proj/proj.db lacks DATABASE.LAYOUT.VERSION.MAJOR / DATABASE.LAYOUT.VERSION.MINOR metadata. It comes from another PROJ installation.\n",
      "ERROR 1: PROJ: internal_proj_create_from_name: /Users/nvalett/opt/anaconda3/share/proj/proj.db lacks DATABASE.LAYOUT.VERSION.MAJOR / DATABASE.LAYOUT.VERSION.MINOR metadata. It comes from another PROJ installation.\n",
      "ERROR 1: PROJ: internal_proj_create_from_name: /Users/nvalett/opt/anaconda3/share/proj/proj.db lacks DATABASE.LAYOUT.VERSION.MAJOR / DATABASE.LAYOUT.VERSION.MINOR metadata. It comes from another PROJ installation.\n"
     ]
    },
    {
     "name": "stdout",
     "output_type": "stream",
     "text": [
      "gap_crossing 1, num_gaps 40\n",
      "Delta connectivity: 14589\n",
      "Permiability Restored: 4.990861313868612\n",
      "Connectivity/permiability_restored: 2923.1427367977685\n",
      "Connectivity/pixels restored: 291.78\n"
     ]
    },
    {
     "name": "stderr",
     "output_type": "stream",
     "text": [
      "ERROR 1: PROJ: internal_proj_create_from_name: /Users/nvalett/opt/anaconda3/share/proj/proj.db lacks DATABASE.LAYOUT.VERSION.MAJOR / DATABASE.LAYOUT.VERSION.MINOR metadata. It comes from another PROJ installation.\n",
      "ERROR 1: PROJ: internal_proj_create_from_name: /Users/nvalett/opt/anaconda3/share/proj/proj.db lacks DATABASE.LAYOUT.VERSION.MAJOR / DATABASE.LAYOUT.VERSION.MINOR metadata. It comes from another PROJ installation.\n",
      "ERROR 1: PROJ: internal_proj_create_from_name: /Users/nvalett/opt/anaconda3/share/proj/proj.db lacks DATABASE.LAYOUT.VERSION.MAJOR / DATABASE.LAYOUT.VERSION.MINOR metadata. It comes from another PROJ installation.\n",
      "ERROR 1: PROJ: internal_proj_create_from_name: /Users/nvalett/opt/anaconda3/share/proj/proj.db lacks DATABASE.LAYOUT.VERSION.MAJOR / DATABASE.LAYOUT.VERSION.MINOR metadata. It comes from another PROJ installation.\n",
      "ERROR 1: PROJ: internal_proj_create_from_name: /Users/nvalett/opt/anaconda3/share/proj/proj.db lacks DATABASE.LAYOUT.VERSION.MAJOR / DATABASE.LAYOUT.VERSION.MINOR metadata. It comes from another PROJ installation.\n",
      "ERROR 1: PROJ: internal_proj_create_from_name: /Users/nvalett/opt/anaconda3/share/proj/proj.db lacks DATABASE.LAYOUT.VERSION.MAJOR / DATABASE.LAYOUT.VERSION.MINOR metadata. It comes from another PROJ installation.\n",
      "ERROR 1: PROJ: internal_proj_create_from_name: /Users/nvalett/opt/anaconda3/share/proj/proj.db lacks DATABASE.LAYOUT.VERSION.MAJOR / DATABASE.LAYOUT.VERSION.MINOR metadata. It comes from another PROJ installation.\n",
      "ERROR 1: PROJ: internal_proj_create_from_name: /Users/nvalett/opt/anaconda3/share/proj/proj.db lacks DATABASE.LAYOUT.VERSION.MAJOR / DATABASE.LAYOUT.VERSION.MINOR metadata. It comes from another PROJ installation.\n"
     ]
    },
    {
     "name": "stdout",
     "output_type": "stream",
     "text": [
      "gap_crossing 1, num_gaps 60\n",
      "Delta connectivity: 14525\n",
      "Permiability Restored: 4.990861313868612\n",
      "Connectivity/permiability_restored: 2910.319298922996\n",
      "Connectivity/pixels restored: 290.5\n"
     ]
    },
    {
     "name": "stderr",
     "output_type": "stream",
     "text": [
      "ERROR 1: PROJ: internal_proj_create_from_name: /Users/nvalett/opt/anaconda3/share/proj/proj.db lacks DATABASE.LAYOUT.VERSION.MAJOR / DATABASE.LAYOUT.VERSION.MINOR metadata. It comes from another PROJ installation.\n",
      "ERROR 1: PROJ: internal_proj_create_from_name: /Users/nvalett/opt/anaconda3/share/proj/proj.db lacks DATABASE.LAYOUT.VERSION.MAJOR / DATABASE.LAYOUT.VERSION.MINOR metadata. It comes from another PROJ installation.\n",
      "ERROR 1: PROJ: internal_proj_create_from_name: /Users/nvalett/opt/anaconda3/share/proj/proj.db lacks DATABASE.LAYOUT.VERSION.MAJOR / DATABASE.LAYOUT.VERSION.MINOR metadata. It comes from another PROJ installation.\n",
      "ERROR 1: PROJ: internal_proj_create_from_name: /Users/nvalett/opt/anaconda3/share/proj/proj.db lacks DATABASE.LAYOUT.VERSION.MAJOR / DATABASE.LAYOUT.VERSION.MINOR metadata. It comes from another PROJ installation.\n",
      "ERROR 1: PROJ: internal_proj_create_from_name: /Users/nvalett/opt/anaconda3/share/proj/proj.db lacks DATABASE.LAYOUT.VERSION.MAJOR / DATABASE.LAYOUT.VERSION.MINOR metadata. It comes from another PROJ installation.\n",
      "ERROR 1: PROJ: internal_proj_create_from_name: /Users/nvalett/opt/anaconda3/share/proj/proj.db lacks DATABASE.LAYOUT.VERSION.MAJOR / DATABASE.LAYOUT.VERSION.MINOR metadata. It comes from another PROJ installation.\n",
      "ERROR 1: PROJ: internal_proj_create_from_name: /Users/nvalett/opt/anaconda3/share/proj/proj.db lacks DATABASE.LAYOUT.VERSION.MAJOR / DATABASE.LAYOUT.VERSION.MINOR metadata. It comes from another PROJ installation.\n",
      "ERROR 1: PROJ: internal_proj_create_from_name: /Users/nvalett/opt/anaconda3/share/proj/proj.db lacks DATABASE.LAYOUT.VERSION.MAJOR / DATABASE.LAYOUT.VERSION.MINOR metadata. It comes from another PROJ installation.\n"
     ]
    },
    {
     "name": "stdout",
     "output_type": "stream",
     "text": [
      "gap_crossing 1, num_gaps 80\n",
      "Delta connectivity: 17420\n",
      "Permiability Restored: 4.981722627737225\n",
      "Connectivity/permiability_restored: 3496.782398724682\n",
      "Connectivity/pixels restored: 348.4\n"
     ]
    },
    {
     "name": "stderr",
     "output_type": "stream",
     "text": [
      "ERROR 1: PROJ: internal_proj_create_from_name: /Users/nvalett/opt/anaconda3/share/proj/proj.db lacks DATABASE.LAYOUT.VERSION.MAJOR / DATABASE.LAYOUT.VERSION.MINOR metadata. It comes from another PROJ installation.\n",
      "ERROR 1: PROJ: internal_proj_create_from_name: /Users/nvalett/opt/anaconda3/share/proj/proj.db lacks DATABASE.LAYOUT.VERSION.MAJOR / DATABASE.LAYOUT.VERSION.MINOR metadata. It comes from another PROJ installation.\n",
      "ERROR 1: PROJ: internal_proj_create_from_name: /Users/nvalett/opt/anaconda3/share/proj/proj.db lacks DATABASE.LAYOUT.VERSION.MAJOR / DATABASE.LAYOUT.VERSION.MINOR metadata. It comes from another PROJ installation.\n",
      "ERROR 1: PROJ: internal_proj_create_from_name: /Users/nvalett/opt/anaconda3/share/proj/proj.db lacks DATABASE.LAYOUT.VERSION.MAJOR / DATABASE.LAYOUT.VERSION.MINOR metadata. It comes from another PROJ installation.\n",
      "ERROR 1: PROJ: internal_proj_create_from_name: /Users/nvalett/opt/anaconda3/share/proj/proj.db lacks DATABASE.LAYOUT.VERSION.MAJOR / DATABASE.LAYOUT.VERSION.MINOR metadata. It comes from another PROJ installation.\n",
      "ERROR 1: PROJ: internal_proj_create_from_name: /Users/nvalett/opt/anaconda3/share/proj/proj.db lacks DATABASE.LAYOUT.VERSION.MAJOR / DATABASE.LAYOUT.VERSION.MINOR metadata. It comes from another PROJ installation.\n",
      "ERROR 1: PROJ: internal_proj_create_from_name: /Users/nvalett/opt/anaconda3/share/proj/proj.db lacks DATABASE.LAYOUT.VERSION.MAJOR / DATABASE.LAYOUT.VERSION.MINOR metadata. It comes from another PROJ installation.\n",
      "ERROR 1: PROJ: internal_proj_create_from_name: /Users/nvalett/opt/anaconda3/share/proj/proj.db lacks DATABASE.LAYOUT.VERSION.MAJOR / DATABASE.LAYOUT.VERSION.MINOR metadata. It comes from another PROJ installation.\n"
     ]
    },
    {
     "name": "stdout",
     "output_type": "stream",
     "text": [
      "gap_crossing 2, num_gaps 20\n",
      "Delta connectivity: 39509\n",
      "Permiability Restored: 4.981722627737225\n",
      "Connectivity/permiability_restored: 7930.790803169544\n",
      "Connectivity/pixels restored: 790.18\n"
     ]
    },
    {
     "name": "stderr",
     "output_type": "stream",
     "text": [
      "ERROR 1: PROJ: internal_proj_create_from_name: /Users/nvalett/opt/anaconda3/share/proj/proj.db lacks DATABASE.LAYOUT.VERSION.MAJOR / DATABASE.LAYOUT.VERSION.MINOR metadata. It comes from another PROJ installation.\n",
      "ERROR 1: PROJ: internal_proj_create_from_name: /Users/nvalett/opt/anaconda3/share/proj/proj.db lacks DATABASE.LAYOUT.VERSION.MAJOR / DATABASE.LAYOUT.VERSION.MINOR metadata. It comes from another PROJ installation.\n",
      "ERROR 1: PROJ: internal_proj_create_from_name: /Users/nvalett/opt/anaconda3/share/proj/proj.db lacks DATABASE.LAYOUT.VERSION.MAJOR / DATABASE.LAYOUT.VERSION.MINOR metadata. It comes from another PROJ installation.\n",
      "ERROR 1: PROJ: internal_proj_create_from_name: /Users/nvalett/opt/anaconda3/share/proj/proj.db lacks DATABASE.LAYOUT.VERSION.MAJOR / DATABASE.LAYOUT.VERSION.MINOR metadata. It comes from another PROJ installation.\n",
      "ERROR 1: PROJ: internal_proj_create_from_name: /Users/nvalett/opt/anaconda3/share/proj/proj.db lacks DATABASE.LAYOUT.VERSION.MAJOR / DATABASE.LAYOUT.VERSION.MINOR metadata. It comes from another PROJ installation.\n",
      "ERROR 1: PROJ: internal_proj_create_from_name: /Users/nvalett/opt/anaconda3/share/proj/proj.db lacks DATABASE.LAYOUT.VERSION.MAJOR / DATABASE.LAYOUT.VERSION.MINOR metadata. It comes from another PROJ installation.\n",
      "ERROR 1: PROJ: internal_proj_create_from_name: /Users/nvalett/opt/anaconda3/share/proj/proj.db lacks DATABASE.LAYOUT.VERSION.MAJOR / DATABASE.LAYOUT.VERSION.MINOR metadata. It comes from another PROJ installation.\n",
      "ERROR 1: PROJ: internal_proj_create_from_name: /Users/nvalett/opt/anaconda3/share/proj/proj.db lacks DATABASE.LAYOUT.VERSION.MAJOR / DATABASE.LAYOUT.VERSION.MINOR metadata. It comes from another PROJ installation.\n"
     ]
    },
    {
     "name": "stdout",
     "output_type": "stream",
     "text": [
      "gap_crossing 2, num_gaps 40\n",
      "Delta connectivity: 46193\n",
      "Permiability Restored: 4.990861313868612\n",
      "Connectivity/permiability_restored: 9255.516652333903\n",
      "Connectivity/pixels restored: 923.86\n"
     ]
    },
    {
     "name": "stderr",
     "output_type": "stream",
     "text": [
      "ERROR 1: PROJ: internal_proj_create_from_name: /Users/nvalett/opt/anaconda3/share/proj/proj.db lacks DATABASE.LAYOUT.VERSION.MAJOR / DATABASE.LAYOUT.VERSION.MINOR metadata. It comes from another PROJ installation.\n",
      "ERROR 1: PROJ: internal_proj_create_from_name: /Users/nvalett/opt/anaconda3/share/proj/proj.db lacks DATABASE.LAYOUT.VERSION.MAJOR / DATABASE.LAYOUT.VERSION.MINOR metadata. It comes from another PROJ installation.\n",
      "ERROR 1: PROJ: internal_proj_create_from_name: /Users/nvalett/opt/anaconda3/share/proj/proj.db lacks DATABASE.LAYOUT.VERSION.MAJOR / DATABASE.LAYOUT.VERSION.MINOR metadata. It comes from another PROJ installation.\n",
      "ERROR 1: PROJ: internal_proj_create_from_name: /Users/nvalett/opt/anaconda3/share/proj/proj.db lacks DATABASE.LAYOUT.VERSION.MAJOR / DATABASE.LAYOUT.VERSION.MINOR metadata. It comes from another PROJ installation.\n",
      "ERROR 1: PROJ: internal_proj_create_from_name: /Users/nvalett/opt/anaconda3/share/proj/proj.db lacks DATABASE.LAYOUT.VERSION.MAJOR / DATABASE.LAYOUT.VERSION.MINOR metadata. It comes from another PROJ installation.\n",
      "ERROR 1: PROJ: internal_proj_create_from_name: /Users/nvalett/opt/anaconda3/share/proj/proj.db lacks DATABASE.LAYOUT.VERSION.MAJOR / DATABASE.LAYOUT.VERSION.MINOR metadata. It comes from another PROJ installation.\n",
      "ERROR 1: PROJ: internal_proj_create_from_name: /Users/nvalett/opt/anaconda3/share/proj/proj.db lacks DATABASE.LAYOUT.VERSION.MAJOR / DATABASE.LAYOUT.VERSION.MINOR metadata. It comes from another PROJ installation.\n",
      "ERROR 1: PROJ: internal_proj_create_from_name: /Users/nvalett/opt/anaconda3/share/proj/proj.db lacks DATABASE.LAYOUT.VERSION.MAJOR / DATABASE.LAYOUT.VERSION.MINOR metadata. It comes from another PROJ installation.\n"
     ]
    },
    {
     "name": "stdout",
     "output_type": "stream",
     "text": [
      "gap_crossing 2, num_gaps 60\n",
      "Delta connectivity: 43375\n",
      "Permiability Restored: 4.990861313868612\n",
      "Connectivity/permiability_restored: 8690.884653410323\n",
      "Connectivity/pixels restored: 867.5\n"
     ]
    },
    {
     "name": "stderr",
     "output_type": "stream",
     "text": [
      "ERROR 1: PROJ: internal_proj_create_from_name: /Users/nvalett/opt/anaconda3/share/proj/proj.db lacks DATABASE.LAYOUT.VERSION.MAJOR / DATABASE.LAYOUT.VERSION.MINOR metadata. It comes from another PROJ installation.\n",
      "ERROR 1: PROJ: internal_proj_create_from_name: /Users/nvalett/opt/anaconda3/share/proj/proj.db lacks DATABASE.LAYOUT.VERSION.MAJOR / DATABASE.LAYOUT.VERSION.MINOR metadata. It comes from another PROJ installation.\n",
      "ERROR 1: PROJ: internal_proj_create_from_name: /Users/nvalett/opt/anaconda3/share/proj/proj.db lacks DATABASE.LAYOUT.VERSION.MAJOR / DATABASE.LAYOUT.VERSION.MINOR metadata. It comes from another PROJ installation.\n",
      "ERROR 1: PROJ: internal_proj_create_from_name: /Users/nvalett/opt/anaconda3/share/proj/proj.db lacks DATABASE.LAYOUT.VERSION.MAJOR / DATABASE.LAYOUT.VERSION.MINOR metadata. It comes from another PROJ installation.\n",
      "ERROR 1: PROJ: internal_proj_create_from_name: /Users/nvalett/opt/anaconda3/share/proj/proj.db lacks DATABASE.LAYOUT.VERSION.MAJOR / DATABASE.LAYOUT.VERSION.MINOR metadata. It comes from another PROJ installation.\n",
      "ERROR 1: PROJ: internal_proj_create_from_name: /Users/nvalett/opt/anaconda3/share/proj/proj.db lacks DATABASE.LAYOUT.VERSION.MAJOR / DATABASE.LAYOUT.VERSION.MINOR metadata. It comes from another PROJ installation.\n",
      "ERROR 1: PROJ: internal_proj_create_from_name: /Users/nvalett/opt/anaconda3/share/proj/proj.db lacks DATABASE.LAYOUT.VERSION.MAJOR / DATABASE.LAYOUT.VERSION.MINOR metadata. It comes from another PROJ installation.\n",
      "ERROR 1: PROJ: internal_proj_create_from_name: /Users/nvalett/opt/anaconda3/share/proj/proj.db lacks DATABASE.LAYOUT.VERSION.MAJOR / DATABASE.LAYOUT.VERSION.MINOR metadata. It comes from another PROJ installation.\n"
     ]
    },
    {
     "name": "stdout",
     "output_type": "stream",
     "text": [
      "gap_crossing 2, num_gaps 80\n",
      "Delta connectivity: 38185\n",
      "Permiability Restored: 4.990861313868612\n",
      "Connectivity/permiability_restored: 7650.983988252984\n",
      "Connectivity/pixels restored: 763.7\n"
     ]
    },
    {
     "name": "stderr",
     "output_type": "stream",
     "text": [
      "ERROR 1: PROJ: internal_proj_create_from_name: /Users/nvalett/opt/anaconda3/share/proj/proj.db lacks DATABASE.LAYOUT.VERSION.MAJOR / DATABASE.LAYOUT.VERSION.MINOR metadata. It comes from another PROJ installation.\n",
      "ERROR 1: PROJ: internal_proj_create_from_name: /Users/nvalett/opt/anaconda3/share/proj/proj.db lacks DATABASE.LAYOUT.VERSION.MAJOR / DATABASE.LAYOUT.VERSION.MINOR metadata. It comes from another PROJ installation.\n",
      "ERROR 1: PROJ: internal_proj_create_from_name: /Users/nvalett/opt/anaconda3/share/proj/proj.db lacks DATABASE.LAYOUT.VERSION.MAJOR / DATABASE.LAYOUT.VERSION.MINOR metadata. It comes from another PROJ installation.\n",
      "ERROR 1: PROJ: internal_proj_create_from_name: /Users/nvalett/opt/anaconda3/share/proj/proj.db lacks DATABASE.LAYOUT.VERSION.MAJOR / DATABASE.LAYOUT.VERSION.MINOR metadata. It comes from another PROJ installation.\n",
      "ERROR 1: PROJ: internal_proj_create_from_name: /Users/nvalett/opt/anaconda3/share/proj/proj.db lacks DATABASE.LAYOUT.VERSION.MAJOR / DATABASE.LAYOUT.VERSION.MINOR metadata. It comes from another PROJ installation.\n",
      "ERROR 1: PROJ: internal_proj_create_from_name: /Users/nvalett/opt/anaconda3/share/proj/proj.db lacks DATABASE.LAYOUT.VERSION.MAJOR / DATABASE.LAYOUT.VERSION.MINOR metadata. It comes from another PROJ installation.\n",
      "ERROR 1: PROJ: internal_proj_create_from_name: /Users/nvalett/opt/anaconda3/share/proj/proj.db lacks DATABASE.LAYOUT.VERSION.MAJOR / DATABASE.LAYOUT.VERSION.MINOR metadata. It comes from another PROJ installation.\n",
      "ERROR 1: PROJ: internal_proj_create_from_name: /Users/nvalett/opt/anaconda3/share/proj/proj.db lacks DATABASE.LAYOUT.VERSION.MAJOR / DATABASE.LAYOUT.VERSION.MINOR metadata. It comes from another PROJ installation.\n"
     ]
    },
    {
     "name": "stdout",
     "output_type": "stream",
     "text": [
      "gap_crossing 4, num_gaps 20\n",
      "Delta connectivity: 12542\n",
      "Permiability Restored: 4.990861313868612\n",
      "Connectivity/permiability_restored: 2512.993091021839\n",
      "Connectivity/pixels restored: 250.84\n"
     ]
    },
    {
     "name": "stderr",
     "output_type": "stream",
     "text": [
      "ERROR 1: PROJ: internal_proj_create_from_name: /Users/nvalett/opt/anaconda3/share/proj/proj.db lacks DATABASE.LAYOUT.VERSION.MAJOR / DATABASE.LAYOUT.VERSION.MINOR metadata. It comes from another PROJ installation.\n",
      "ERROR 1: PROJ: internal_proj_create_from_name: /Users/nvalett/opt/anaconda3/share/proj/proj.db lacks DATABASE.LAYOUT.VERSION.MAJOR / DATABASE.LAYOUT.VERSION.MINOR metadata. It comes from another PROJ installation.\n",
      "ERROR 1: PROJ: internal_proj_create_from_name: /Users/nvalett/opt/anaconda3/share/proj/proj.db lacks DATABASE.LAYOUT.VERSION.MAJOR / DATABASE.LAYOUT.VERSION.MINOR metadata. It comes from another PROJ installation.\n",
      "ERROR 1: PROJ: internal_proj_create_from_name: /Users/nvalett/opt/anaconda3/share/proj/proj.db lacks DATABASE.LAYOUT.VERSION.MAJOR / DATABASE.LAYOUT.VERSION.MINOR metadata. It comes from another PROJ installation.\n",
      "ERROR 1: PROJ: internal_proj_create_from_name: /Users/nvalett/opt/anaconda3/share/proj/proj.db lacks DATABASE.LAYOUT.VERSION.MAJOR / DATABASE.LAYOUT.VERSION.MINOR metadata. It comes from another PROJ installation.\n",
      "ERROR 1: PROJ: internal_proj_create_from_name: /Users/nvalett/opt/anaconda3/share/proj/proj.db lacks DATABASE.LAYOUT.VERSION.MAJOR / DATABASE.LAYOUT.VERSION.MINOR metadata. It comes from another PROJ installation.\n",
      "ERROR 1: PROJ: internal_proj_create_from_name: /Users/nvalett/opt/anaconda3/share/proj/proj.db lacks DATABASE.LAYOUT.VERSION.MAJOR / DATABASE.LAYOUT.VERSION.MINOR metadata. It comes from another PROJ installation.\n",
      "ERROR 1: PROJ: internal_proj_create_from_name: /Users/nvalett/opt/anaconda3/share/proj/proj.db lacks DATABASE.LAYOUT.VERSION.MAJOR / DATABASE.LAYOUT.VERSION.MINOR metadata. It comes from another PROJ installation.\n"
     ]
    },
    {
     "name": "stdout",
     "output_type": "stream",
     "text": [
      "gap_crossing 4, num_gaps 40\n",
      "Delta connectivity: 9386\n",
      "Permiability Restored: 4.990861313868612\n",
      "Connectivity/permiability_restored: 1880.6373108221162\n",
      "Connectivity/pixels restored: 187.72\n"
     ]
    },
    {
     "name": "stderr",
     "output_type": "stream",
     "text": [
      "ERROR 1: PROJ: internal_proj_create_from_name: /Users/nvalett/opt/anaconda3/share/proj/proj.db lacks DATABASE.LAYOUT.VERSION.MAJOR / DATABASE.LAYOUT.VERSION.MINOR metadata. It comes from another PROJ installation.\n",
      "ERROR 1: PROJ: internal_proj_create_from_name: /Users/nvalett/opt/anaconda3/share/proj/proj.db lacks DATABASE.LAYOUT.VERSION.MAJOR / DATABASE.LAYOUT.VERSION.MINOR metadata. It comes from another PROJ installation.\n",
      "ERROR 1: PROJ: internal_proj_create_from_name: /Users/nvalett/opt/anaconda3/share/proj/proj.db lacks DATABASE.LAYOUT.VERSION.MAJOR / DATABASE.LAYOUT.VERSION.MINOR metadata. It comes from another PROJ installation.\n",
      "ERROR 1: PROJ: internal_proj_create_from_name: /Users/nvalett/opt/anaconda3/share/proj/proj.db lacks DATABASE.LAYOUT.VERSION.MAJOR / DATABASE.LAYOUT.VERSION.MINOR metadata. It comes from another PROJ installation.\n",
      "ERROR 1: PROJ: internal_proj_create_from_name: /Users/nvalett/opt/anaconda3/share/proj/proj.db lacks DATABASE.LAYOUT.VERSION.MAJOR / DATABASE.LAYOUT.VERSION.MINOR metadata. It comes from another PROJ installation.\n",
      "ERROR 1: PROJ: internal_proj_create_from_name: /Users/nvalett/opt/anaconda3/share/proj/proj.db lacks DATABASE.LAYOUT.VERSION.MAJOR / DATABASE.LAYOUT.VERSION.MINOR metadata. It comes from another PROJ installation.\n",
      "ERROR 1: PROJ: internal_proj_create_from_name: /Users/nvalett/opt/anaconda3/share/proj/proj.db lacks DATABASE.LAYOUT.VERSION.MAJOR / DATABASE.LAYOUT.VERSION.MINOR metadata. It comes from another PROJ installation.\n",
      "ERROR 1: PROJ: internal_proj_create_from_name: /Users/nvalett/opt/anaconda3/share/proj/proj.db lacks DATABASE.LAYOUT.VERSION.MAJOR / DATABASE.LAYOUT.VERSION.MINOR metadata. It comes from another PROJ installation.\n"
     ]
    },
    {
     "name": "stdout",
     "output_type": "stream",
     "text": [
      "gap_crossing 4, num_gaps 60\n",
      "Delta connectivity: 9260\n",
      "Permiability Restored: 4.990861313868612\n",
      "Connectivity/permiability_restored: 1855.3911675061577\n",
      "Connectivity/pixels restored: 185.2\n"
     ]
    },
    {
     "name": "stderr",
     "output_type": "stream",
     "text": [
      "ERROR 1: PROJ: internal_proj_create_from_name: /Users/nvalett/opt/anaconda3/share/proj/proj.db lacks DATABASE.LAYOUT.VERSION.MAJOR / DATABASE.LAYOUT.VERSION.MINOR metadata. It comes from another PROJ installation.\n",
      "ERROR 1: PROJ: internal_proj_create_from_name: /Users/nvalett/opt/anaconda3/share/proj/proj.db lacks DATABASE.LAYOUT.VERSION.MAJOR / DATABASE.LAYOUT.VERSION.MINOR metadata. It comes from another PROJ installation.\n",
      "ERROR 1: PROJ: internal_proj_create_from_name: /Users/nvalett/opt/anaconda3/share/proj/proj.db lacks DATABASE.LAYOUT.VERSION.MAJOR / DATABASE.LAYOUT.VERSION.MINOR metadata. It comes from another PROJ installation.\n",
      "ERROR 1: PROJ: internal_proj_create_from_name: /Users/nvalett/opt/anaconda3/share/proj/proj.db lacks DATABASE.LAYOUT.VERSION.MAJOR / DATABASE.LAYOUT.VERSION.MINOR metadata. It comes from another PROJ installation.\n",
      "ERROR 1: PROJ: internal_proj_create_from_name: /Users/nvalett/opt/anaconda3/share/proj/proj.db lacks DATABASE.LAYOUT.VERSION.MAJOR / DATABASE.LAYOUT.VERSION.MINOR metadata. It comes from another PROJ installation.\n",
      "ERROR 1: PROJ: internal_proj_create_from_name: /Users/nvalett/opt/anaconda3/share/proj/proj.db lacks DATABASE.LAYOUT.VERSION.MAJOR / DATABASE.LAYOUT.VERSION.MINOR metadata. It comes from another PROJ installation.\n",
      "ERROR 1: PROJ: internal_proj_create_from_name: /Users/nvalett/opt/anaconda3/share/proj/proj.db lacks DATABASE.LAYOUT.VERSION.MAJOR / DATABASE.LAYOUT.VERSION.MINOR metadata. It comes from another PROJ installation.\n",
      "ERROR 1: PROJ: internal_proj_create_from_name: /Users/nvalett/opt/anaconda3/share/proj/proj.db lacks DATABASE.LAYOUT.VERSION.MAJOR / DATABASE.LAYOUT.VERSION.MINOR metadata. It comes from another PROJ installation.\n"
     ]
    },
    {
     "name": "stdout",
     "output_type": "stream",
     "text": [
      "gap_crossing 4, num_gaps 80\n",
      "Delta connectivity: 9706\n",
      "Permiability Restored: 4.981722627737225\n",
      "Connectivity/permiability_restored: 1948.3220414478624\n",
      "Connectivity/pixels restored: 194.12\n"
     ]
    },
    {
     "name": "stderr",
     "output_type": "stream",
     "text": [
      "ERROR 1: PROJ: internal_proj_create_from_name: /Users/nvalett/opt/anaconda3/share/proj/proj.db lacks DATABASE.LAYOUT.VERSION.MAJOR / DATABASE.LAYOUT.VERSION.MINOR metadata. It comes from another PROJ installation.\n",
      "ERROR 1: PROJ: internal_proj_create_from_name: /Users/nvalett/opt/anaconda3/share/proj/proj.db lacks DATABASE.LAYOUT.VERSION.MAJOR / DATABASE.LAYOUT.VERSION.MINOR metadata. It comes from another PROJ installation.\n",
      "ERROR 1: PROJ: internal_proj_create_from_name: /Users/nvalett/opt/anaconda3/share/proj/proj.db lacks DATABASE.LAYOUT.VERSION.MAJOR / DATABASE.LAYOUT.VERSION.MINOR metadata. It comes from another PROJ installation.\n",
      "ERROR 1: PROJ: internal_proj_create_from_name: /Users/nvalett/opt/anaconda3/share/proj/proj.db lacks DATABASE.LAYOUT.VERSION.MAJOR / DATABASE.LAYOUT.VERSION.MINOR metadata. It comes from another PROJ installation.\n",
      "ERROR 1: PROJ: internal_proj_create_from_name: /Users/nvalett/opt/anaconda3/share/proj/proj.db lacks DATABASE.LAYOUT.VERSION.MAJOR / DATABASE.LAYOUT.VERSION.MINOR metadata. It comes from another PROJ installation.\n",
      "ERROR 1: PROJ: internal_proj_create_from_name: /Users/nvalett/opt/anaconda3/share/proj/proj.db lacks DATABASE.LAYOUT.VERSION.MAJOR / DATABASE.LAYOUT.VERSION.MINOR metadata. It comes from another PROJ installation.\n",
      "ERROR 1: PROJ: internal_proj_create_from_name: /Users/nvalett/opt/anaconda3/share/proj/proj.db lacks DATABASE.LAYOUT.VERSION.MAJOR / DATABASE.LAYOUT.VERSION.MINOR metadata. It comes from another PROJ installation.\n",
      "ERROR 1: PROJ: internal_proj_create_from_name: /Users/nvalett/opt/anaconda3/share/proj/proj.db lacks DATABASE.LAYOUT.VERSION.MAJOR / DATABASE.LAYOUT.VERSION.MINOR metadata. It comes from another PROJ installation.\n"
     ]
    },
    {
     "name": "stdout",
     "output_type": "stream",
     "text": [
      "gap_crossing 6, num_gaps 20\n",
      "Delta connectivity: 8023\n",
      "Permiability Restored: 4.999999999999998\n",
      "Connectivity/permiability_restored: 1604.6000000000006\n",
      "Connectivity/pixels restored: 160.46\n"
     ]
    },
    {
     "name": "stderr",
     "output_type": "stream",
     "text": [
      "ERROR 1: PROJ: internal_proj_create_from_name: /Users/nvalett/opt/anaconda3/share/proj/proj.db lacks DATABASE.LAYOUT.VERSION.MAJOR / DATABASE.LAYOUT.VERSION.MINOR metadata. It comes from another PROJ installation.\n",
      "ERROR 1: PROJ: internal_proj_create_from_name: /Users/nvalett/opt/anaconda3/share/proj/proj.db lacks DATABASE.LAYOUT.VERSION.MAJOR / DATABASE.LAYOUT.VERSION.MINOR metadata. It comes from another PROJ installation.\n",
      "ERROR 1: PROJ: internal_proj_create_from_name: /Users/nvalett/opt/anaconda3/share/proj/proj.db lacks DATABASE.LAYOUT.VERSION.MAJOR / DATABASE.LAYOUT.VERSION.MINOR metadata. It comes from another PROJ installation.\n",
      "ERROR 1: PROJ: internal_proj_create_from_name: /Users/nvalett/opt/anaconda3/share/proj/proj.db lacks DATABASE.LAYOUT.VERSION.MAJOR / DATABASE.LAYOUT.VERSION.MINOR metadata. It comes from another PROJ installation.\n",
      "ERROR 1: PROJ: internal_proj_create_from_name: /Users/nvalett/opt/anaconda3/share/proj/proj.db lacks DATABASE.LAYOUT.VERSION.MAJOR / DATABASE.LAYOUT.VERSION.MINOR metadata. It comes from another PROJ installation.\n",
      "ERROR 1: PROJ: internal_proj_create_from_name: /Users/nvalett/opt/anaconda3/share/proj/proj.db lacks DATABASE.LAYOUT.VERSION.MAJOR / DATABASE.LAYOUT.VERSION.MINOR metadata. It comes from another PROJ installation.\n",
      "ERROR 1: PROJ: internal_proj_create_from_name: /Users/nvalett/opt/anaconda3/share/proj/proj.db lacks DATABASE.LAYOUT.VERSION.MAJOR / DATABASE.LAYOUT.VERSION.MINOR metadata. It comes from another PROJ installation.\n",
      "ERROR 1: PROJ: internal_proj_create_from_name: /Users/nvalett/opt/anaconda3/share/proj/proj.db lacks DATABASE.LAYOUT.VERSION.MAJOR / DATABASE.LAYOUT.VERSION.MINOR metadata. It comes from another PROJ installation.\n"
     ]
    },
    {
     "name": "stdout",
     "output_type": "stream",
     "text": [
      "gap_crossing 6, num_gaps 40\n",
      "Delta connectivity: 1972\n",
      "Permiability Restored: 4.999999999999998\n",
      "Connectivity/permiability_restored: 394.40000000000015\n",
      "Connectivity/pixels restored: 39.44\n"
     ]
    },
    {
     "name": "stderr",
     "output_type": "stream",
     "text": [
      "ERROR 1: PROJ: internal_proj_create_from_name: /Users/nvalett/opt/anaconda3/share/proj/proj.db lacks DATABASE.LAYOUT.VERSION.MAJOR / DATABASE.LAYOUT.VERSION.MINOR metadata. It comes from another PROJ installation.\n",
      "ERROR 1: PROJ: internal_proj_create_from_name: /Users/nvalett/opt/anaconda3/share/proj/proj.db lacks DATABASE.LAYOUT.VERSION.MAJOR / DATABASE.LAYOUT.VERSION.MINOR metadata. It comes from another PROJ installation.\n",
      "ERROR 1: PROJ: internal_proj_create_from_name: /Users/nvalett/opt/anaconda3/share/proj/proj.db lacks DATABASE.LAYOUT.VERSION.MAJOR / DATABASE.LAYOUT.VERSION.MINOR metadata. It comes from another PROJ installation.\n",
      "ERROR 1: PROJ: internal_proj_create_from_name: /Users/nvalett/opt/anaconda3/share/proj/proj.db lacks DATABASE.LAYOUT.VERSION.MAJOR / DATABASE.LAYOUT.VERSION.MINOR metadata. It comes from another PROJ installation.\n",
      "ERROR 1: PROJ: internal_proj_create_from_name: /Users/nvalett/opt/anaconda3/share/proj/proj.db lacks DATABASE.LAYOUT.VERSION.MAJOR / DATABASE.LAYOUT.VERSION.MINOR metadata. It comes from another PROJ installation.\n",
      "ERROR 1: PROJ: internal_proj_create_from_name: /Users/nvalett/opt/anaconda3/share/proj/proj.db lacks DATABASE.LAYOUT.VERSION.MAJOR / DATABASE.LAYOUT.VERSION.MINOR metadata. It comes from another PROJ installation.\n",
      "ERROR 1: PROJ: internal_proj_create_from_name: /Users/nvalett/opt/anaconda3/share/proj/proj.db lacks DATABASE.LAYOUT.VERSION.MAJOR / DATABASE.LAYOUT.VERSION.MINOR metadata. It comes from another PROJ installation.\n",
      "ERROR 1: PROJ: internal_proj_create_from_name: /Users/nvalett/opt/anaconda3/share/proj/proj.db lacks DATABASE.LAYOUT.VERSION.MAJOR / DATABASE.LAYOUT.VERSION.MINOR metadata. It comes from another PROJ installation.\n"
     ]
    },
    {
     "name": "stdout",
     "output_type": "stream",
     "text": [
      "gap_crossing 6, num_gaps 60\n",
      "Delta connectivity: 6662\n",
      "Permiability Restored: 4.999999999999998\n",
      "Connectivity/permiability_restored: 1332.4000000000005\n",
      "Connectivity/pixels restored: 133.24\n"
     ]
    },
    {
     "name": "stderr",
     "output_type": "stream",
     "text": [
      "ERROR 1: PROJ: internal_proj_create_from_name: /Users/nvalett/opt/anaconda3/share/proj/proj.db lacks DATABASE.LAYOUT.VERSION.MAJOR / DATABASE.LAYOUT.VERSION.MINOR metadata. It comes from another PROJ installation.\n",
      "ERROR 1: PROJ: internal_proj_create_from_name: /Users/nvalett/opt/anaconda3/share/proj/proj.db lacks DATABASE.LAYOUT.VERSION.MAJOR / DATABASE.LAYOUT.VERSION.MINOR metadata. It comes from another PROJ installation.\n",
      "ERROR 1: PROJ: internal_proj_create_from_name: /Users/nvalett/opt/anaconda3/share/proj/proj.db lacks DATABASE.LAYOUT.VERSION.MAJOR / DATABASE.LAYOUT.VERSION.MINOR metadata. It comes from another PROJ installation.\n",
      "ERROR 1: PROJ: internal_proj_create_from_name: /Users/nvalett/opt/anaconda3/share/proj/proj.db lacks DATABASE.LAYOUT.VERSION.MAJOR / DATABASE.LAYOUT.VERSION.MINOR metadata. It comes from another PROJ installation.\n",
      "ERROR 1: PROJ: internal_proj_create_from_name: /Users/nvalett/opt/anaconda3/share/proj/proj.db lacks DATABASE.LAYOUT.VERSION.MAJOR / DATABASE.LAYOUT.VERSION.MINOR metadata. It comes from another PROJ installation.\n",
      "ERROR 1: PROJ: internal_proj_create_from_name: /Users/nvalett/opt/anaconda3/share/proj/proj.db lacks DATABASE.LAYOUT.VERSION.MAJOR / DATABASE.LAYOUT.VERSION.MINOR metadata. It comes from another PROJ installation.\n",
      "ERROR 1: PROJ: internal_proj_create_from_name: /Users/nvalett/opt/anaconda3/share/proj/proj.db lacks DATABASE.LAYOUT.VERSION.MAJOR / DATABASE.LAYOUT.VERSION.MINOR metadata. It comes from another PROJ installation.\n",
      "ERROR 1: PROJ: internal_proj_create_from_name: /Users/nvalett/opt/anaconda3/share/proj/proj.db lacks DATABASE.LAYOUT.VERSION.MAJOR / DATABASE.LAYOUT.VERSION.MINOR metadata. It comes from another PROJ installation.\n"
     ]
    },
    {
     "name": "stdout",
     "output_type": "stream",
     "text": [
      "gap_crossing 6, num_gaps 80\n",
      "Delta connectivity: 5043\n",
      "Permiability Restored: 4.999999999999998\n",
      "Connectivity/permiability_restored: 1008.6000000000004\n",
      "Connectivity/pixels restored: 100.86\n"
     ]
    },
    {
     "name": "stderr",
     "output_type": "stream",
     "text": [
      "ERROR 1: PROJ: internal_proj_create_from_name: /Users/nvalett/opt/anaconda3/share/proj/proj.db lacks DATABASE.LAYOUT.VERSION.MAJOR / DATABASE.LAYOUT.VERSION.MINOR metadata. It comes from another PROJ installation.\n"
     ]
    },
    {
     "name": "stdout",
     "output_type": "stream",
     "text": [
      "{(1, 20): 1876.0000000000007, (1, 40): 2923.1427367977685, (1, 60): 2910.319298922996, (1, 80): 3496.782398724682, (2, 20): 7930.790803169544, (2, 40): 9255.516652333903, (2, 60): 8690.884653410323, (2, 80): 7650.983988252984, (4, 20): 2512.993091021839, (4, 40): 1880.6373108221162, (4, 60): 1855.3911675061577, (4, 80): 1948.3220414478624, (6, 20): 1604.6000000000006, (6, 40): 394.40000000000015, (6, 60): 1332.4000000000005, (6, 80): 1008.6000000000004}\n",
      "{(1, 20): 1876.0000000000007, (1, 40): 2923.1427367977685, (1, 60): 2910.319298922996, (1, 80): 3496.782398724682, (2, 20): 7930.790803169544, (2, 40): 9255.516652333903, (2, 60): 8690.884653410323, (2, 80): 7650.983988252984, (4, 20): 2512.993091021839, (4, 40): 1880.6373108221162, (4, 60): 1855.3911675061577, (4, 80): 1948.3220414478624, (6, 20): 1604.6000000000006, (6, 40): 394.40000000000015, (6, 60): 1332.4000000000005, (6, 80): 1008.6000000000004}\n"
     ]
    },
    {
     "name": "stderr",
     "output_type": "stream",
     "text": [
      "ERROR 1: PROJ: internal_proj_create_from_name: /Users/nvalett/opt/anaconda3/share/proj/proj.db lacks DATABASE.LAYOUT.VERSION.MAJOR / DATABASE.LAYOUT.VERSION.MINOR metadata. It comes from another PROJ installation.\n"
     ]
    }
   ],
   "source": [
    "flowOptimizer = flowRestoration(HABITAT_PATH, TERRAIN_PATH, RESTORED_TERRAIN_PATH, CONNECTIVITY_PATH, FLOW_PATH, RESTORED_CONNECTIVITY_PATH, RESTORED_FLOW_PATH, DEATH_PATH, PERMEABILITY_PATH, 50) #hab_mat, unrestorable)\n",
    "\n",
    "perm_results = {}\n",
    "pix_results = {}\n",
    "for gap_crossing in [1, 2,4,6]:\n",
    "    for num_gaps in [20,40,60,80]:\n",
    "        flowOptimizer.run_connectivity(gap_crossing=gap_crossing, num_gaps=num_gaps)\n",
    "        permiability_restored = flowOptimizer.restore()\n",
    "        flowOptimizer.run_connectivity(gap_crossing=2, num_gaps=40, restored=False)\n",
    "        flowOptimizer.run_connectivity(gap_crossing=2, num_gaps=40, restored=True)\n",
    "        print(f'gap_crossing {gap_crossing}, num_gaps {num_gaps}')\n",
    "        print(f\"Delta connectivity: {flowOptimizer.get_delta_connectivity()}\")\n",
    "        print(f\"Permiability Restored: {permiability_restored}\")\n",
    "        print(f\"Connectivity/permiability_restored: {flowOptimizer.get_delta_connectivity()/permiability_restored}\")\n",
    "        print(f\"Connectivity/pixels restored: {flowOptimizer.get_delta_connectivity()/flowOptimizer.pixels}\")\n",
    "        perm_results[(gap_crossing, num_gaps)] = flowOptimizer.get_delta_connectivity()/permiability_restored\n",
    "        pix_results[(gap_crossing, num_gaps)] = flowOptimizer.get_delta_connectivity()/permiability_restored\n",
    "\n",
    "        TERRAIN_CHANGED_UTOPIAN = os.path.join(DATA_PATH, f\"smol/changed_terrain_flow_{gap_crossing}_{num_gaps}.tif\")\n",
    "        CONNECTIVITY_DIFF_UTOPIAN = os.path.join(DATA_PATH, f\"smol/connectivity_diff_flow_{gap_crossing}_{num_gaps}.tif\")\n",
    "\n",
    "        # paint changed terrain pixels\n",
    "        flowOptimizer.paint_changed_terrain_geotiff(TERRAIN_CHANGED_UTOPIAN, value=1)\n",
    "        # view diff of before and after\n",
    "        flowOptimizer.get_connectivity_difference_tif(CONNECTIVITY_DIFF_UTOPIAN)\n",
    "print(perm_results)\n",
    "print(pix_results)"
   ]
  },
  {
   "cell_type": "markdown",
   "metadata": {},
   "source": [
    "# Low Res Flow"
   ]
  },
  {
   "cell_type": "code",
   "execution_count": 71,
   "metadata": {},
   "outputs": [
    {
     "name": "stderr",
     "output_type": "stream",
     "text": [
      "ERROR 1: PROJ: internal_proj_create_from_name: /Users/nvalett/opt/anaconda3/share/proj/proj.db lacks DATABASE.LAYOUT.VERSION.MAJOR / DATABASE.LAYOUT.VERSION.MINOR metadata. It comes from another PROJ installation.\n",
      "ERROR 1: PROJ: internal_proj_create_from_name: /Users/nvalett/opt/anaconda3/share/proj/proj.db lacks DATABASE.LAYOUT.VERSION.MAJOR / DATABASE.LAYOUT.VERSION.MINOR metadata. It comes from another PROJ installation.\n",
      "ERROR 1: PROJ: internal_proj_create_from_name: /Users/nvalett/opt/anaconda3/share/proj/proj.db lacks DATABASE.LAYOUT.VERSION.MAJOR / DATABASE.LAYOUT.VERSION.MINOR metadata. It comes from another PROJ installation.\n"
     ]
    },
    {
     "name": "stdout",
     "output_type": "stream",
     "text": [
      "[(42, 72), (42, 73), (43, 72), (43, 73), (44, 74), (44, 75), (45, 74), (45, 75), (46, 74), (46, 75), (47, 74), (47, 75), (262, 76), (262, 77), (263, 76), (263, 77), (268, 76), (268, 77), (269, 76), (269, 77), (42, 74), (42, 75), (43, 74), (43, 75), (28, 68), (28, 69), (29, 68), (29, 69), (32, 64), (32, 65), (33, 64), (33, 65), (266, 76), (266, 77), (267, 76), (267, 77), (210, 54), (210, 55), (211, 54), (211, 55), (40, 72), (40, 73), (41, 72), (41, 73), (214, 50), (214, 51), (215, 50), (215, 51), (48, 73), (49, 72), (49, 73)]\n"
     ]
    },
    {
     "name": "stderr",
     "output_type": "stream",
     "text": [
      "ERROR 1: PROJ: internal_proj_create_from_name: /Users/nvalett/opt/anaconda3/share/proj/proj.db lacks DATABASE.LAYOUT.VERSION.MAJOR / DATABASE.LAYOUT.VERSION.MINOR metadata. It comes from another PROJ installation.\n",
      "ERROR 1: PROJ: internal_proj_create_from_name: /Users/nvalett/opt/anaconda3/share/proj/proj.db lacks DATABASE.LAYOUT.VERSION.MAJOR / DATABASE.LAYOUT.VERSION.MINOR metadata. It comes from another PROJ installation.\n",
      "ERROR 1: PROJ: internal_proj_create_from_name: /Users/nvalett/opt/anaconda3/share/proj/proj.db lacks DATABASE.LAYOUT.VERSION.MAJOR / DATABASE.LAYOUT.VERSION.MINOR metadata. It comes from another PROJ installation.\n",
      "ERROR 1: PROJ: internal_proj_create_from_name: /Users/nvalett/opt/anaconda3/share/proj/proj.db lacks DATABASE.LAYOUT.VERSION.MAJOR / DATABASE.LAYOUT.VERSION.MINOR metadata. It comes from another PROJ installation.\n"
     ]
    },
    {
     "name": "stdout",
     "output_type": "stream",
     "text": [
      "Delta connectivity: 1842\n",
      "Permiability Restored: 5.099999999999998\n",
      "Percent connectivity changed: 0.0006965442029522584%\n",
      "Connectivity/permiability_restored: 361.1764705882354\n"
     ]
    }
   ],
   "source": [
    "lowResFlowOptimizer = lowResFlowRestoration(HABITAT_PATH, TERRAIN_PATH, RESTORED_TERRAIN_PATH, CONNECTIVITY_PATH, RESTORED_CONNECTIVITY_PATH, FLOW_PATH, RESTORED_FLOW_PATH, DEATH_PATH, LOW_RES_FLOW_PATH, PERMEABILITY_PATH, 2, 2, 50, percent_impermiable=0.75)\n",
    "\n",
    "lowResFlowOptimizer.run_connectivity(gap_crossing=4, num_gaps=40)\n",
    "permiability_restored = lowResFlowOptimizer.restore()\n",
    "lowResFlowOptimizer.run_connectivity(gap_crossing=2, num_gaps=40, restored=False)\n",
    "lowResFlowOptimizer.run_connectivity(gap_crossing=2, num_gaps=40, restored=True)\n",
    "print(f\"Delta connectivity: {lowResFlowOptimizer.get_delta_connectivity()}\")\n",
    "print(f\"Permiability Restored: {permiability_restored}\")\n",
    "print(f\"Percent connectivity changed: {lowResFlowOptimizer.get_connectivity_percent_changed()}%\")\n",
    "print(f\"Connectivity/permiability_restored: {lowResFlowOptimizer.get_delta_connectivity()/permiability_restored}\")"
   ]
  },
  {
   "cell_type": "code",
   "execution_count": 79,
   "metadata": {},
   "outputs": [
    {
     "name": "stderr",
     "output_type": "stream",
     "text": [
      "ERROR 1: PROJ: internal_proj_create_from_name: /Users/nvalett/opt/anaconda3/share/proj/proj.db lacks DATABASE.LAYOUT.VERSION.MAJOR / DATABASE.LAYOUT.VERSION.MINOR metadata. It comes from another PROJ installation.\n",
      "ERROR 1: PROJ: internal_proj_create_from_name: /Users/nvalett/opt/anaconda3/share/proj/proj.db lacks DATABASE.LAYOUT.VERSION.MAJOR / DATABASE.LAYOUT.VERSION.MINOR metadata. It comes from another PROJ installation.\n",
      "ERROR 1: PROJ: internal_proj_create_from_name: /Users/nvalett/opt/anaconda3/share/proj/proj.db lacks DATABASE.LAYOUT.VERSION.MAJOR / DATABASE.LAYOUT.VERSION.MINOR metadata. It comes from another PROJ installation.\n"
     ]
    },
    {
     "name": "stdout",
     "output_type": "stream",
     "text": [
      "[(194, 174), (194, 175), (195, 174), (118, 144), (118, 145), (119, 144), (119, 145), (164, 104), (164, 105), (165, 104), (165, 105), (46, 28), (47, 28), (47, 29), (276, 36), (276, 37), (277, 36), (277, 37), (202, 108), (202, 109), (203, 109), (154, 138), (154, 139), (155, 138), (155, 139), (92, 134), (92, 135), (93, 134), (93, 135), (282, 38), (282, 39), (283, 38), (283, 39), (20, 100), (20, 101), (21, 100), (21, 101), (84, 67), (85, 66), (85, 67), (278, 34), (278, 35), (279, 35), (64, 124), (64, 125), (65, 124), (65, 125), (276, 146), (276, 147), (277, 146), (277, 147)]\n"
     ]
    },
    {
     "name": "stderr",
     "output_type": "stream",
     "text": [
      "ERROR 1: PROJ: internal_proj_create_from_name: /Users/nvalett/opt/anaconda3/share/proj/proj.db lacks DATABASE.LAYOUT.VERSION.MAJOR / DATABASE.LAYOUT.VERSION.MINOR metadata. It comes from another PROJ installation.\n",
      "ERROR 1: PROJ: internal_proj_create_from_name: /Users/nvalett/opt/anaconda3/share/proj/proj.db lacks DATABASE.LAYOUT.VERSION.MAJOR / DATABASE.LAYOUT.VERSION.MINOR metadata. It comes from another PROJ installation.\n",
      "ERROR 1: PROJ: internal_proj_create_from_name: /Users/nvalett/opt/anaconda3/share/proj/proj.db lacks DATABASE.LAYOUT.VERSION.MAJOR / DATABASE.LAYOUT.VERSION.MINOR metadata. It comes from another PROJ installation.\n",
      "ERROR 1: PROJ: internal_proj_create_from_name: /Users/nvalett/opt/anaconda3/share/proj/proj.db lacks DATABASE.LAYOUT.VERSION.MAJOR / DATABASE.LAYOUT.VERSION.MINOR metadata. It comes from another PROJ installation.\n"
     ]
    },
    {
     "name": "stdout",
     "output_type": "stream",
     "text": [
      "gap_crossing 2, num_gaps 20\n",
      "Delta connectivity: 11400\n",
      "Permiability Restored: 5.090861313868611\n",
      "Connectivity/permiability_restored: 2239.306729677339\n"
     ]
    },
    {
     "name": "stderr",
     "output_type": "stream",
     "text": [
      "ERROR 1: PROJ: internal_proj_create_from_name: /Users/nvalett/opt/anaconda3/share/proj/proj.db lacks DATABASE.LAYOUT.VERSION.MAJOR / DATABASE.LAYOUT.VERSION.MINOR metadata. It comes from another PROJ installation.\n",
      "ERROR 1: PROJ: internal_proj_create_from_name: /Users/nvalett/opt/anaconda3/share/proj/proj.db lacks DATABASE.LAYOUT.VERSION.MAJOR / DATABASE.LAYOUT.VERSION.MINOR metadata. It comes from another PROJ installation.\n",
      "ERROR 1: PROJ: internal_proj_create_from_name: /Users/nvalett/opt/anaconda3/share/proj/proj.db lacks DATABASE.LAYOUT.VERSION.MAJOR / DATABASE.LAYOUT.VERSION.MINOR metadata. It comes from another PROJ installation.\n",
      "ERROR 1: PROJ: internal_proj_create_from_name: /Users/nvalett/opt/anaconda3/share/proj/proj.db lacks DATABASE.LAYOUT.VERSION.MAJOR / DATABASE.LAYOUT.VERSION.MINOR metadata. It comes from another PROJ installation.\n",
      "ERROR 1: PROJ: internal_proj_create_from_name: /Users/nvalett/opt/anaconda3/share/proj/proj.db lacks DATABASE.LAYOUT.VERSION.MAJOR / DATABASE.LAYOUT.VERSION.MINOR metadata. It comes from another PROJ installation.\n"
     ]
    },
    {
     "name": "stdout",
     "output_type": "stream",
     "text": [
      "[(194, 174), (194, 175), (195, 174), (118, 144), (118, 145), (119, 144), (119, 145), (164, 104), (164, 105), (165, 104), (165, 105), (46, 28), (47, 28), (47, 29), (276, 36), (276, 37), (277, 36), (277, 37), (202, 108), (202, 109), (203, 109), (154, 138), (154, 139), (155, 138), (155, 139), (92, 134), (92, 135), (93, 134), (93, 135), (282, 38), (282, 39), (283, 38), (283, 39), (20, 100), (20, 101), (21, 100), (21, 101), (84, 67), (85, 66), (85, 67), (278, 34), (278, 35), (279, 35), (64, 124), (64, 125), (65, 124), (65, 125), (276, 146), (276, 147), (277, 146), (277, 147)]\n"
     ]
    },
    {
     "name": "stderr",
     "output_type": "stream",
     "text": [
      "ERROR 1: PROJ: internal_proj_create_from_name: /Users/nvalett/opt/anaconda3/share/proj/proj.db lacks DATABASE.LAYOUT.VERSION.MAJOR / DATABASE.LAYOUT.VERSION.MINOR metadata. It comes from another PROJ installation.\n",
      "ERROR 1: PROJ: internal_proj_create_from_name: /Users/nvalett/opt/anaconda3/share/proj/proj.db lacks DATABASE.LAYOUT.VERSION.MAJOR / DATABASE.LAYOUT.VERSION.MINOR metadata. It comes from another PROJ installation.\n",
      "ERROR 1: PROJ: internal_proj_create_from_name: /Users/nvalett/opt/anaconda3/share/proj/proj.db lacks DATABASE.LAYOUT.VERSION.MAJOR / DATABASE.LAYOUT.VERSION.MINOR metadata. It comes from another PROJ installation.\n",
      "ERROR 1: PROJ: internal_proj_create_from_name: /Users/nvalett/opt/anaconda3/share/proj/proj.db lacks DATABASE.LAYOUT.VERSION.MAJOR / DATABASE.LAYOUT.VERSION.MINOR metadata. It comes from another PROJ installation.\n"
     ]
    },
    {
     "name": "stdout",
     "output_type": "stream",
     "text": [
      "gap_crossing 2, num_gaps 40\n",
      "Delta connectivity: 11400\n",
      "Permiability Restored: 5.090861313868611\n",
      "Connectivity/permiability_restored: 2239.306729677339\n"
     ]
    },
    {
     "name": "stderr",
     "output_type": "stream",
     "text": [
      "ERROR 1: PROJ: internal_proj_create_from_name: /Users/nvalett/opt/anaconda3/share/proj/proj.db lacks DATABASE.LAYOUT.VERSION.MAJOR / DATABASE.LAYOUT.VERSION.MINOR metadata. It comes from another PROJ installation.\n",
      "ERROR 1: PROJ: internal_proj_create_from_name: /Users/nvalett/opt/anaconda3/share/proj/proj.db lacks DATABASE.LAYOUT.VERSION.MAJOR / DATABASE.LAYOUT.VERSION.MINOR metadata. It comes from another PROJ installation.\n",
      "ERROR 1: PROJ: internal_proj_create_from_name: /Users/nvalett/opt/anaconda3/share/proj/proj.db lacks DATABASE.LAYOUT.VERSION.MAJOR / DATABASE.LAYOUT.VERSION.MINOR metadata. It comes from another PROJ installation.\n",
      "ERROR 1: PROJ: internal_proj_create_from_name: /Users/nvalett/opt/anaconda3/share/proj/proj.db lacks DATABASE.LAYOUT.VERSION.MAJOR / DATABASE.LAYOUT.VERSION.MINOR metadata. It comes from another PROJ installation.\n",
      "ERROR 1: PROJ: internal_proj_create_from_name: /Users/nvalett/opt/anaconda3/share/proj/proj.db lacks DATABASE.LAYOUT.VERSION.MAJOR / DATABASE.LAYOUT.VERSION.MINOR metadata. It comes from another PROJ installation.\n"
     ]
    },
    {
     "name": "stdout",
     "output_type": "stream",
     "text": [
      "[(194, 174), (194, 175), (195, 174), (118, 144), (118, 145), (119, 144), (119, 145), (164, 104), (164, 105), (165, 104), (165, 105), (46, 28), (47, 28), (47, 29), (276, 36), (276, 37), (277, 36), (277, 37), (202, 108), (202, 109), (203, 109), (154, 138), (154, 139), (155, 138), (155, 139), (92, 134), (92, 135), (93, 134), (93, 135), (282, 38), (282, 39), (283, 38), (283, 39), (20, 100), (20, 101), (21, 100), (21, 101), (84, 67), (85, 66), (85, 67), (278, 34), (278, 35), (279, 35), (64, 124), (64, 125), (65, 124), (65, 125), (276, 146), (276, 147), (277, 146), (277, 147)]\n"
     ]
    },
    {
     "name": "stderr",
     "output_type": "stream",
     "text": [
      "ERROR 1: PROJ: internal_proj_create_from_name: /Users/nvalett/opt/anaconda3/share/proj/proj.db lacks DATABASE.LAYOUT.VERSION.MAJOR / DATABASE.LAYOUT.VERSION.MINOR metadata. It comes from another PROJ installation.\n",
      "ERROR 1: PROJ: internal_proj_create_from_name: /Users/nvalett/opt/anaconda3/share/proj/proj.db lacks DATABASE.LAYOUT.VERSION.MAJOR / DATABASE.LAYOUT.VERSION.MINOR metadata. It comes from another PROJ installation.\n",
      "ERROR 1: PROJ: internal_proj_create_from_name: /Users/nvalett/opt/anaconda3/share/proj/proj.db lacks DATABASE.LAYOUT.VERSION.MAJOR / DATABASE.LAYOUT.VERSION.MINOR metadata. It comes from another PROJ installation.\n",
      "ERROR 1: PROJ: internal_proj_create_from_name: /Users/nvalett/opt/anaconda3/share/proj/proj.db lacks DATABASE.LAYOUT.VERSION.MAJOR / DATABASE.LAYOUT.VERSION.MINOR metadata. It comes from another PROJ installation.\n"
     ]
    },
    {
     "name": "stdout",
     "output_type": "stream",
     "text": [
      "gap_crossing 2, num_gaps 60\n",
      "Delta connectivity: 11400\n",
      "Permiability Restored: 5.090861313868611\n",
      "Connectivity/permiability_restored: 2239.306729677339\n"
     ]
    },
    {
     "name": "stderr",
     "output_type": "stream",
     "text": [
      "ERROR 1: PROJ: internal_proj_create_from_name: /Users/nvalett/opt/anaconda3/share/proj/proj.db lacks DATABASE.LAYOUT.VERSION.MAJOR / DATABASE.LAYOUT.VERSION.MINOR metadata. It comes from another PROJ installation.\n",
      "ERROR 1: PROJ: internal_proj_create_from_name: /Users/nvalett/opt/anaconda3/share/proj/proj.db lacks DATABASE.LAYOUT.VERSION.MAJOR / DATABASE.LAYOUT.VERSION.MINOR metadata. It comes from another PROJ installation.\n",
      "ERROR 1: PROJ: internal_proj_create_from_name: /Users/nvalett/opt/anaconda3/share/proj/proj.db lacks DATABASE.LAYOUT.VERSION.MAJOR / DATABASE.LAYOUT.VERSION.MINOR metadata. It comes from another PROJ installation.\n",
      "ERROR 1: PROJ: internal_proj_create_from_name: /Users/nvalett/opt/anaconda3/share/proj/proj.db lacks DATABASE.LAYOUT.VERSION.MAJOR / DATABASE.LAYOUT.VERSION.MINOR metadata. It comes from another PROJ installation.\n",
      "ERROR 1: PROJ: internal_proj_create_from_name: /Users/nvalett/opt/anaconda3/share/proj/proj.db lacks DATABASE.LAYOUT.VERSION.MAJOR / DATABASE.LAYOUT.VERSION.MINOR metadata. It comes from another PROJ installation.\n"
     ]
    },
    {
     "name": "stdout",
     "output_type": "stream",
     "text": [
      "[(194, 174), (194, 175), (195, 174), (118, 144), (118, 145), (119, 144), (119, 145), (164, 104), (164, 105), (165, 104), (165, 105), (46, 28), (47, 28), (47, 29), (276, 36), (276, 37), (277, 36), (277, 37), (202, 108), (202, 109), (203, 109), (154, 138), (154, 139), (155, 138), (155, 139), (92, 134), (92, 135), (93, 134), (93, 135), (282, 38), (282, 39), (283, 38), (283, 39), (20, 100), (20, 101), (21, 100), (21, 101), (84, 67), (85, 66), (85, 67), (278, 34), (278, 35), (279, 35), (64, 124), (64, 125), (65, 124), (65, 125), (276, 146), (276, 147), (277, 146), (277, 147)]\n"
     ]
    },
    {
     "name": "stderr",
     "output_type": "stream",
     "text": [
      "ERROR 1: PROJ: internal_proj_create_from_name: /Users/nvalett/opt/anaconda3/share/proj/proj.db lacks DATABASE.LAYOUT.VERSION.MAJOR / DATABASE.LAYOUT.VERSION.MINOR metadata. It comes from another PROJ installation.\n",
      "ERROR 1: PROJ: internal_proj_create_from_name: /Users/nvalett/opt/anaconda3/share/proj/proj.db lacks DATABASE.LAYOUT.VERSION.MAJOR / DATABASE.LAYOUT.VERSION.MINOR metadata. It comes from another PROJ installation.\n",
      "ERROR 1: PROJ: internal_proj_create_from_name: /Users/nvalett/opt/anaconda3/share/proj/proj.db lacks DATABASE.LAYOUT.VERSION.MAJOR / DATABASE.LAYOUT.VERSION.MINOR metadata. It comes from another PROJ installation.\n",
      "ERROR 1: PROJ: internal_proj_create_from_name: /Users/nvalett/opt/anaconda3/share/proj/proj.db lacks DATABASE.LAYOUT.VERSION.MAJOR / DATABASE.LAYOUT.VERSION.MINOR metadata. It comes from another PROJ installation.\n"
     ]
    },
    {
     "name": "stdout",
     "output_type": "stream",
     "text": [
      "gap_crossing 2, num_gaps 80\n",
      "Delta connectivity: 11400\n",
      "Permiability Restored: 5.090861313868611\n",
      "Connectivity/permiability_restored: 2239.306729677339\n"
     ]
    },
    {
     "name": "stderr",
     "output_type": "stream",
     "text": [
      "ERROR 1: PROJ: internal_proj_create_from_name: /Users/nvalett/opt/anaconda3/share/proj/proj.db lacks DATABASE.LAYOUT.VERSION.MAJOR / DATABASE.LAYOUT.VERSION.MINOR metadata. It comes from another PROJ installation.\n",
      "ERROR 1: PROJ: internal_proj_create_from_name: /Users/nvalett/opt/anaconda3/share/proj/proj.db lacks DATABASE.LAYOUT.VERSION.MAJOR / DATABASE.LAYOUT.VERSION.MINOR metadata. It comes from another PROJ installation.\n",
      "ERROR 1: PROJ: internal_proj_create_from_name: /Users/nvalett/opt/anaconda3/share/proj/proj.db lacks DATABASE.LAYOUT.VERSION.MAJOR / DATABASE.LAYOUT.VERSION.MINOR metadata. It comes from another PROJ installation.\n",
      "ERROR 1: PROJ: internal_proj_create_from_name: /Users/nvalett/opt/anaconda3/share/proj/proj.db lacks DATABASE.LAYOUT.VERSION.MAJOR / DATABASE.LAYOUT.VERSION.MINOR metadata. It comes from another PROJ installation.\n",
      "ERROR 1: PROJ: internal_proj_create_from_name: /Users/nvalett/opt/anaconda3/share/proj/proj.db lacks DATABASE.LAYOUT.VERSION.MAJOR / DATABASE.LAYOUT.VERSION.MINOR metadata. It comes from another PROJ installation.\n"
     ]
    },
    {
     "name": "stdout",
     "output_type": "stream",
     "text": [
      "[(42, 72), (42, 73), (43, 72), (43, 73), (44, 74), (44, 75), (45, 74), (45, 75), (46, 74), (46, 75), (47, 74), (47, 75), (262, 76), (262, 77), (263, 76), (263, 77), (268, 76), (268, 77), (269, 76), (269, 77), (42, 74), (42, 75), (43, 74), (43, 75), (28, 68), (28, 69), (29, 68), (29, 69), (32, 64), (32, 65), (33, 64), (33, 65), (266, 76), (266, 77), (267, 76), (267, 77), (210, 54), (210, 55), (211, 54), (211, 55), (40, 72), (40, 73), (41, 72), (41, 73), (214, 50), (214, 51), (215, 50), (215, 51), (48, 73), (49, 72), (49, 73)]\n"
     ]
    },
    {
     "name": "stderr",
     "output_type": "stream",
     "text": [
      "ERROR 1: PROJ: internal_proj_create_from_name: /Users/nvalett/opt/anaconda3/share/proj/proj.db lacks DATABASE.LAYOUT.VERSION.MAJOR / DATABASE.LAYOUT.VERSION.MINOR metadata. It comes from another PROJ installation.\n",
      "ERROR 1: PROJ: internal_proj_create_from_name: /Users/nvalett/opt/anaconda3/share/proj/proj.db lacks DATABASE.LAYOUT.VERSION.MAJOR / DATABASE.LAYOUT.VERSION.MINOR metadata. It comes from another PROJ installation.\n",
      "ERROR 1: PROJ: internal_proj_create_from_name: /Users/nvalett/opt/anaconda3/share/proj/proj.db lacks DATABASE.LAYOUT.VERSION.MAJOR / DATABASE.LAYOUT.VERSION.MINOR metadata. It comes from another PROJ installation.\n",
      "ERROR 1: PROJ: internal_proj_create_from_name: /Users/nvalett/opt/anaconda3/share/proj/proj.db lacks DATABASE.LAYOUT.VERSION.MAJOR / DATABASE.LAYOUT.VERSION.MINOR metadata. It comes from another PROJ installation.\n"
     ]
    },
    {
     "name": "stdout",
     "output_type": "stream",
     "text": [
      "gap_crossing 4, num_gaps 20\n",
      "Delta connectivity: 1842\n",
      "Permiability Restored: 5.099999999999998\n",
      "Connectivity/permiability_restored: 361.1764705882354\n"
     ]
    },
    {
     "name": "stderr",
     "output_type": "stream",
     "text": [
      "ERROR 1: PROJ: internal_proj_create_from_name: /Users/nvalett/opt/anaconda3/share/proj/proj.db lacks DATABASE.LAYOUT.VERSION.MAJOR / DATABASE.LAYOUT.VERSION.MINOR metadata. It comes from another PROJ installation.\n",
      "ERROR 1: PROJ: internal_proj_create_from_name: /Users/nvalett/opt/anaconda3/share/proj/proj.db lacks DATABASE.LAYOUT.VERSION.MAJOR / DATABASE.LAYOUT.VERSION.MINOR metadata. It comes from another PROJ installation.\n",
      "ERROR 1: PROJ: internal_proj_create_from_name: /Users/nvalett/opt/anaconda3/share/proj/proj.db lacks DATABASE.LAYOUT.VERSION.MAJOR / DATABASE.LAYOUT.VERSION.MINOR metadata. It comes from another PROJ installation.\n",
      "ERROR 1: PROJ: internal_proj_create_from_name: /Users/nvalett/opt/anaconda3/share/proj/proj.db lacks DATABASE.LAYOUT.VERSION.MAJOR / DATABASE.LAYOUT.VERSION.MINOR metadata. It comes from another PROJ installation.\n",
      "ERROR 1: PROJ: internal_proj_create_from_name: /Users/nvalett/opt/anaconda3/share/proj/proj.db lacks DATABASE.LAYOUT.VERSION.MAJOR / DATABASE.LAYOUT.VERSION.MINOR metadata. It comes from another PROJ installation.\n"
     ]
    },
    {
     "name": "stdout",
     "output_type": "stream",
     "text": [
      "[(42, 72), (42, 73), (43, 72), (43, 73), (44, 74), (44, 75), (45, 74), (45, 75), (46, 74), (46, 75), (47, 74), (47, 75), (262, 76), (262, 77), (263, 76), (263, 77), (268, 76), (268, 77), (269, 76), (269, 77), (42, 74), (42, 75), (43, 74), (43, 75), (28, 68), (28, 69), (29, 68), (29, 69), (32, 64), (32, 65), (33, 64), (33, 65), (266, 76), (266, 77), (267, 76), (267, 77), (210, 54), (210, 55), (211, 54), (211, 55), (40, 72), (40, 73), (41, 72), (41, 73), (214, 50), (214, 51), (215, 50), (215, 51), (48, 73), (49, 72), (49, 73)]\n"
     ]
    },
    {
     "name": "stderr",
     "output_type": "stream",
     "text": [
      "ERROR 1: PROJ: internal_proj_create_from_name: /Users/nvalett/opt/anaconda3/share/proj/proj.db lacks DATABASE.LAYOUT.VERSION.MAJOR / DATABASE.LAYOUT.VERSION.MINOR metadata. It comes from another PROJ installation.\n",
      "ERROR 1: PROJ: internal_proj_create_from_name: /Users/nvalett/opt/anaconda3/share/proj/proj.db lacks DATABASE.LAYOUT.VERSION.MAJOR / DATABASE.LAYOUT.VERSION.MINOR metadata. It comes from another PROJ installation.\n",
      "ERROR 1: PROJ: internal_proj_create_from_name: /Users/nvalett/opt/anaconda3/share/proj/proj.db lacks DATABASE.LAYOUT.VERSION.MAJOR / DATABASE.LAYOUT.VERSION.MINOR metadata. It comes from another PROJ installation.\n",
      "ERROR 1: PROJ: internal_proj_create_from_name: /Users/nvalett/opt/anaconda3/share/proj/proj.db lacks DATABASE.LAYOUT.VERSION.MAJOR / DATABASE.LAYOUT.VERSION.MINOR metadata. It comes from another PROJ installation.\n"
     ]
    },
    {
     "name": "stdout",
     "output_type": "stream",
     "text": [
      "gap_crossing 4, num_gaps 40\n",
      "Delta connectivity: 1842\n",
      "Permiability Restored: 5.099999999999998\n",
      "Connectivity/permiability_restored: 361.1764705882354\n"
     ]
    },
    {
     "name": "stderr",
     "output_type": "stream",
     "text": [
      "ERROR 1: PROJ: internal_proj_create_from_name: /Users/nvalett/opt/anaconda3/share/proj/proj.db lacks DATABASE.LAYOUT.VERSION.MAJOR / DATABASE.LAYOUT.VERSION.MINOR metadata. It comes from another PROJ installation.\n",
      "ERROR 1: PROJ: internal_proj_create_from_name: /Users/nvalett/opt/anaconda3/share/proj/proj.db lacks DATABASE.LAYOUT.VERSION.MAJOR / DATABASE.LAYOUT.VERSION.MINOR metadata. It comes from another PROJ installation.\n",
      "ERROR 1: PROJ: internal_proj_create_from_name: /Users/nvalett/opt/anaconda3/share/proj/proj.db lacks DATABASE.LAYOUT.VERSION.MAJOR / DATABASE.LAYOUT.VERSION.MINOR metadata. It comes from another PROJ installation.\n",
      "ERROR 1: PROJ: internal_proj_create_from_name: /Users/nvalett/opt/anaconda3/share/proj/proj.db lacks DATABASE.LAYOUT.VERSION.MAJOR / DATABASE.LAYOUT.VERSION.MINOR metadata. It comes from another PROJ installation.\n",
      "ERROR 1: PROJ: internal_proj_create_from_name: /Users/nvalett/opt/anaconda3/share/proj/proj.db lacks DATABASE.LAYOUT.VERSION.MAJOR / DATABASE.LAYOUT.VERSION.MINOR metadata. It comes from another PROJ installation.\n"
     ]
    },
    {
     "name": "stdout",
     "output_type": "stream",
     "text": [
      "[(42, 72), (42, 73), (43, 72), (43, 73), (44, 74), (44, 75), (45, 74), (45, 75), (46, 74), (46, 75), (47, 74), (47, 75), (262, 76), (262, 77), (263, 76), (263, 77), (268, 76), (268, 77), (269, 76), (269, 77), (42, 74), (42, 75), (43, 74), (43, 75), (28, 68), (28, 69), (29, 68), (29, 69), (32, 64), (32, 65), (33, 64), (33, 65), (266, 76), (266, 77), (267, 76), (267, 77), (210, 54), (210, 55), (211, 54), (211, 55), (40, 72), (40, 73), (41, 72), (41, 73), (214, 50), (214, 51), (215, 50), (215, 51), (48, 73), (49, 72), (49, 73)]\n"
     ]
    },
    {
     "name": "stderr",
     "output_type": "stream",
     "text": [
      "ERROR 1: PROJ: internal_proj_create_from_name: /Users/nvalett/opt/anaconda3/share/proj/proj.db lacks DATABASE.LAYOUT.VERSION.MAJOR / DATABASE.LAYOUT.VERSION.MINOR metadata. It comes from another PROJ installation.\n",
      "ERROR 1: PROJ: internal_proj_create_from_name: /Users/nvalett/opt/anaconda3/share/proj/proj.db lacks DATABASE.LAYOUT.VERSION.MAJOR / DATABASE.LAYOUT.VERSION.MINOR metadata. It comes from another PROJ installation.\n",
      "ERROR 1: PROJ: internal_proj_create_from_name: /Users/nvalett/opt/anaconda3/share/proj/proj.db lacks DATABASE.LAYOUT.VERSION.MAJOR / DATABASE.LAYOUT.VERSION.MINOR metadata. It comes from another PROJ installation.\n",
      "ERROR 1: PROJ: internal_proj_create_from_name: /Users/nvalett/opt/anaconda3/share/proj/proj.db lacks DATABASE.LAYOUT.VERSION.MAJOR / DATABASE.LAYOUT.VERSION.MINOR metadata. It comes from another PROJ installation.\n"
     ]
    },
    {
     "name": "stdout",
     "output_type": "stream",
     "text": [
      "gap_crossing 4, num_gaps 60\n",
      "Delta connectivity: 1842\n",
      "Permiability Restored: 5.099999999999998\n",
      "Connectivity/permiability_restored: 361.1764705882354\n"
     ]
    },
    {
     "name": "stderr",
     "output_type": "stream",
     "text": [
      "ERROR 1: PROJ: internal_proj_create_from_name: /Users/nvalett/opt/anaconda3/share/proj/proj.db lacks DATABASE.LAYOUT.VERSION.MAJOR / DATABASE.LAYOUT.VERSION.MINOR metadata. It comes from another PROJ installation.\n",
      "ERROR 1: PROJ: internal_proj_create_from_name: /Users/nvalett/opt/anaconda3/share/proj/proj.db lacks DATABASE.LAYOUT.VERSION.MAJOR / DATABASE.LAYOUT.VERSION.MINOR metadata. It comes from another PROJ installation.\n",
      "ERROR 1: PROJ: internal_proj_create_from_name: /Users/nvalett/opt/anaconda3/share/proj/proj.db lacks DATABASE.LAYOUT.VERSION.MAJOR / DATABASE.LAYOUT.VERSION.MINOR metadata. It comes from another PROJ installation.\n",
      "ERROR 1: PROJ: internal_proj_create_from_name: /Users/nvalett/opt/anaconda3/share/proj/proj.db lacks DATABASE.LAYOUT.VERSION.MAJOR / DATABASE.LAYOUT.VERSION.MINOR metadata. It comes from another PROJ installation.\n",
      "ERROR 1: PROJ: internal_proj_create_from_name: /Users/nvalett/opt/anaconda3/share/proj/proj.db lacks DATABASE.LAYOUT.VERSION.MAJOR / DATABASE.LAYOUT.VERSION.MINOR metadata. It comes from another PROJ installation.\n"
     ]
    },
    {
     "name": "stdout",
     "output_type": "stream",
     "text": [
      "[(42, 72), (42, 73), (43, 72), (43, 73), (44, 74), (44, 75), (45, 74), (45, 75), (46, 74), (46, 75), (47, 74), (47, 75), (262, 76), (262, 77), (263, 76), (263, 77), (268, 76), (268, 77), (269, 76), (269, 77), (42, 74), (42, 75), (43, 74), (43, 75), (28, 68), (28, 69), (29, 68), (29, 69), (32, 64), (32, 65), (33, 64), (33, 65), (266, 76), (266, 77), (267, 76), (267, 77), (210, 54), (210, 55), (211, 54), (211, 55), (40, 72), (40, 73), (41, 72), (41, 73), (214, 50), (214, 51), (215, 50), (215, 51), (48, 73), (49, 72), (49, 73)]\n"
     ]
    },
    {
     "name": "stderr",
     "output_type": "stream",
     "text": [
      "ERROR 1: PROJ: internal_proj_create_from_name: /Users/nvalett/opt/anaconda3/share/proj/proj.db lacks DATABASE.LAYOUT.VERSION.MAJOR / DATABASE.LAYOUT.VERSION.MINOR metadata. It comes from another PROJ installation.\n",
      "ERROR 1: PROJ: internal_proj_create_from_name: /Users/nvalett/opt/anaconda3/share/proj/proj.db lacks DATABASE.LAYOUT.VERSION.MAJOR / DATABASE.LAYOUT.VERSION.MINOR metadata. It comes from another PROJ installation.\n",
      "ERROR 1: PROJ: internal_proj_create_from_name: /Users/nvalett/opt/anaconda3/share/proj/proj.db lacks DATABASE.LAYOUT.VERSION.MAJOR / DATABASE.LAYOUT.VERSION.MINOR metadata. It comes from another PROJ installation.\n",
      "ERROR 1: PROJ: internal_proj_create_from_name: /Users/nvalett/opt/anaconda3/share/proj/proj.db lacks DATABASE.LAYOUT.VERSION.MAJOR / DATABASE.LAYOUT.VERSION.MINOR metadata. It comes from another PROJ installation.\n"
     ]
    },
    {
     "name": "stdout",
     "output_type": "stream",
     "text": [
      "gap_crossing 4, num_gaps 80\n",
      "Delta connectivity: 1842\n",
      "Permiability Restored: 5.099999999999998\n",
      "Connectivity/permiability_restored: 361.1764705882354\n"
     ]
    },
    {
     "name": "stderr",
     "output_type": "stream",
     "text": [
      "ERROR 1: PROJ: internal_proj_create_from_name: /Users/nvalett/opt/anaconda3/share/proj/proj.db lacks DATABASE.LAYOUT.VERSION.MAJOR / DATABASE.LAYOUT.VERSION.MINOR metadata. It comes from another PROJ installation.\n",
      "ERROR 1: PROJ: internal_proj_create_from_name: /Users/nvalett/opt/anaconda3/share/proj/proj.db lacks DATABASE.LAYOUT.VERSION.MAJOR / DATABASE.LAYOUT.VERSION.MINOR metadata. It comes from another PROJ installation.\n",
      "ERROR 1: PROJ: internal_proj_create_from_name: /Users/nvalett/opt/anaconda3/share/proj/proj.db lacks DATABASE.LAYOUT.VERSION.MAJOR / DATABASE.LAYOUT.VERSION.MINOR metadata. It comes from another PROJ installation.\n",
      "ERROR 1: PROJ: internal_proj_create_from_name: /Users/nvalett/opt/anaconda3/share/proj/proj.db lacks DATABASE.LAYOUT.VERSION.MAJOR / DATABASE.LAYOUT.VERSION.MINOR metadata. It comes from another PROJ installation.\n",
      "ERROR 1: PROJ: internal_proj_create_from_name: /Users/nvalett/opt/anaconda3/share/proj/proj.db lacks DATABASE.LAYOUT.VERSION.MAJOR / DATABASE.LAYOUT.VERSION.MINOR metadata. It comes from another PROJ installation.\n"
     ]
    },
    {
     "name": "stdout",
     "output_type": "stream",
     "text": [
      "[(270, 78), (270, 79), (271, 78), (271, 79), (268, 78), (268, 79), (269, 78), (269, 79), (272, 82), (272, 83), (273, 82), (273, 83), (274, 82), (274, 83), (275, 82), (275, 83), (266, 78), (266, 79), (267, 78), (267, 79), (266, 76), (266, 77), (267, 76), (267, 77), (260, 78), (260, 79), (261, 78), (261, 79), (212, 52), (212, 53), (213, 52), (213, 53), (214, 64), (214, 65), (215, 64), (215, 65), (264, 74), (264, 75), (265, 74), (265, 75), (236, 194), (237, 194), (237, 195), (198, 50), (198, 51), (199, 50), (199, 51), (268, 76), (268, 77), (269, 76), (269, 77)]\n"
     ]
    },
    {
     "name": "stderr",
     "output_type": "stream",
     "text": [
      "ERROR 1: PROJ: internal_proj_create_from_name: /Users/nvalett/opt/anaconda3/share/proj/proj.db lacks DATABASE.LAYOUT.VERSION.MAJOR / DATABASE.LAYOUT.VERSION.MINOR metadata. It comes from another PROJ installation.\n",
      "ERROR 1: PROJ: internal_proj_create_from_name: /Users/nvalett/opt/anaconda3/share/proj/proj.db lacks DATABASE.LAYOUT.VERSION.MAJOR / DATABASE.LAYOUT.VERSION.MINOR metadata. It comes from another PROJ installation.\n",
      "ERROR 1: PROJ: internal_proj_create_from_name: /Users/nvalett/opt/anaconda3/share/proj/proj.db lacks DATABASE.LAYOUT.VERSION.MAJOR / DATABASE.LAYOUT.VERSION.MINOR metadata. It comes from another PROJ installation.\n",
      "ERROR 1: PROJ: internal_proj_create_from_name: /Users/nvalett/opt/anaconda3/share/proj/proj.db lacks DATABASE.LAYOUT.VERSION.MAJOR / DATABASE.LAYOUT.VERSION.MINOR metadata. It comes from another PROJ installation.\n"
     ]
    },
    {
     "name": "stdout",
     "output_type": "stream",
     "text": [
      "gap_crossing 6, num_gaps 20\n",
      "Delta connectivity: 1205\n",
      "Permiability Restored: 5.081722627737225\n",
      "Connectivity/permiability_restored: 237.1243155663061\n"
     ]
    },
    {
     "name": "stderr",
     "output_type": "stream",
     "text": [
      "ERROR 1: PROJ: internal_proj_create_from_name: /Users/nvalett/opt/anaconda3/share/proj/proj.db lacks DATABASE.LAYOUT.VERSION.MAJOR / DATABASE.LAYOUT.VERSION.MINOR metadata. It comes from another PROJ installation.\n",
      "ERROR 1: PROJ: internal_proj_create_from_name: /Users/nvalett/opt/anaconda3/share/proj/proj.db lacks DATABASE.LAYOUT.VERSION.MAJOR / DATABASE.LAYOUT.VERSION.MINOR metadata. It comes from another PROJ installation.\n",
      "ERROR 1: PROJ: internal_proj_create_from_name: /Users/nvalett/opt/anaconda3/share/proj/proj.db lacks DATABASE.LAYOUT.VERSION.MAJOR / DATABASE.LAYOUT.VERSION.MINOR metadata. It comes from another PROJ installation.\n",
      "ERROR 1: PROJ: internal_proj_create_from_name: /Users/nvalett/opt/anaconda3/share/proj/proj.db lacks DATABASE.LAYOUT.VERSION.MAJOR / DATABASE.LAYOUT.VERSION.MINOR metadata. It comes from another PROJ installation.\n",
      "ERROR 1: PROJ: internal_proj_create_from_name: /Users/nvalett/opt/anaconda3/share/proj/proj.db lacks DATABASE.LAYOUT.VERSION.MAJOR / DATABASE.LAYOUT.VERSION.MINOR metadata. It comes from another PROJ installation.\n"
     ]
    },
    {
     "name": "stdout",
     "output_type": "stream",
     "text": [
      "[(270, 78), (270, 79), (271, 78), (271, 79), (268, 78), (268, 79), (269, 78), (269, 79), (272, 82), (272, 83), (273, 82), (273, 83), (274, 82), (274, 83), (275, 82), (275, 83), (266, 78), (266, 79), (267, 78), (267, 79), (266, 76), (266, 77), (267, 76), (267, 77), (260, 78), (260, 79), (261, 78), (261, 79), (212, 52), (212, 53), (213, 52), (213, 53), (214, 64), (214, 65), (215, 64), (215, 65), (264, 74), (264, 75), (265, 74), (265, 75), (236, 194), (237, 194), (237, 195), (198, 50), (198, 51), (199, 50), (199, 51), (268, 76), (268, 77), (269, 76), (269, 77)]\n"
     ]
    },
    {
     "name": "stderr",
     "output_type": "stream",
     "text": [
      "ERROR 1: PROJ: internal_proj_create_from_name: /Users/nvalett/opt/anaconda3/share/proj/proj.db lacks DATABASE.LAYOUT.VERSION.MAJOR / DATABASE.LAYOUT.VERSION.MINOR metadata. It comes from another PROJ installation.\n",
      "ERROR 1: PROJ: internal_proj_create_from_name: /Users/nvalett/opt/anaconda3/share/proj/proj.db lacks DATABASE.LAYOUT.VERSION.MAJOR / DATABASE.LAYOUT.VERSION.MINOR metadata. It comes from another PROJ installation.\n",
      "ERROR 1: PROJ: internal_proj_create_from_name: /Users/nvalett/opt/anaconda3/share/proj/proj.db lacks DATABASE.LAYOUT.VERSION.MAJOR / DATABASE.LAYOUT.VERSION.MINOR metadata. It comes from another PROJ installation.\n",
      "ERROR 1: PROJ: internal_proj_create_from_name: /Users/nvalett/opt/anaconda3/share/proj/proj.db lacks DATABASE.LAYOUT.VERSION.MAJOR / DATABASE.LAYOUT.VERSION.MINOR metadata. It comes from another PROJ installation.\n"
     ]
    },
    {
     "name": "stdout",
     "output_type": "stream",
     "text": [
      "gap_crossing 6, num_gaps 40\n",
      "Delta connectivity: 1205\n",
      "Permiability Restored: 5.081722627737225\n",
      "Connectivity/permiability_restored: 237.1243155663061\n"
     ]
    },
    {
     "name": "stderr",
     "output_type": "stream",
     "text": [
      "ERROR 1: PROJ: internal_proj_create_from_name: /Users/nvalett/opt/anaconda3/share/proj/proj.db lacks DATABASE.LAYOUT.VERSION.MAJOR / DATABASE.LAYOUT.VERSION.MINOR metadata. It comes from another PROJ installation.\n",
      "ERROR 1: PROJ: internal_proj_create_from_name: /Users/nvalett/opt/anaconda3/share/proj/proj.db lacks DATABASE.LAYOUT.VERSION.MAJOR / DATABASE.LAYOUT.VERSION.MINOR metadata. It comes from another PROJ installation.\n",
      "ERROR 1: PROJ: internal_proj_create_from_name: /Users/nvalett/opt/anaconda3/share/proj/proj.db lacks DATABASE.LAYOUT.VERSION.MAJOR / DATABASE.LAYOUT.VERSION.MINOR metadata. It comes from another PROJ installation.\n",
      "ERROR 1: PROJ: internal_proj_create_from_name: /Users/nvalett/opt/anaconda3/share/proj/proj.db lacks DATABASE.LAYOUT.VERSION.MAJOR / DATABASE.LAYOUT.VERSION.MINOR metadata. It comes from another PROJ installation.\n",
      "ERROR 1: PROJ: internal_proj_create_from_name: /Users/nvalett/opt/anaconda3/share/proj/proj.db lacks DATABASE.LAYOUT.VERSION.MAJOR / DATABASE.LAYOUT.VERSION.MINOR metadata. It comes from another PROJ installation.\n"
     ]
    },
    {
     "name": "stdout",
     "output_type": "stream",
     "text": [
      "[(270, 78), (270, 79), (271, 78), (271, 79), (268, 78), (268, 79), (269, 78), (269, 79), (272, 82), (272, 83), (273, 82), (273, 83), (274, 82), (274, 83), (275, 82), (275, 83), (266, 78), (266, 79), (267, 78), (267, 79), (266, 76), (266, 77), (267, 76), (267, 77), (260, 78), (260, 79), (261, 78), (261, 79), (212, 52), (212, 53), (213, 52), (213, 53), (214, 64), (214, 65), (215, 64), (215, 65), (264, 74), (264, 75), (265, 74), (265, 75), (236, 194), (237, 194), (237, 195), (198, 50), (198, 51), (199, 50), (199, 51), (268, 76), (268, 77), (269, 76), (269, 77)]\n"
     ]
    },
    {
     "name": "stderr",
     "output_type": "stream",
     "text": [
      "ERROR 1: PROJ: internal_proj_create_from_name: /Users/nvalett/opt/anaconda3/share/proj/proj.db lacks DATABASE.LAYOUT.VERSION.MAJOR / DATABASE.LAYOUT.VERSION.MINOR metadata. It comes from another PROJ installation.\n",
      "ERROR 1: PROJ: internal_proj_create_from_name: /Users/nvalett/opt/anaconda3/share/proj/proj.db lacks DATABASE.LAYOUT.VERSION.MAJOR / DATABASE.LAYOUT.VERSION.MINOR metadata. It comes from another PROJ installation.\n",
      "ERROR 1: PROJ: internal_proj_create_from_name: /Users/nvalett/opt/anaconda3/share/proj/proj.db lacks DATABASE.LAYOUT.VERSION.MAJOR / DATABASE.LAYOUT.VERSION.MINOR metadata. It comes from another PROJ installation.\n",
      "ERROR 1: PROJ: internal_proj_create_from_name: /Users/nvalett/opt/anaconda3/share/proj/proj.db lacks DATABASE.LAYOUT.VERSION.MAJOR / DATABASE.LAYOUT.VERSION.MINOR metadata. It comes from another PROJ installation.\n"
     ]
    },
    {
     "name": "stdout",
     "output_type": "stream",
     "text": [
      "gap_crossing 6, num_gaps 60\n",
      "Delta connectivity: 1205\n",
      "Permiability Restored: 5.081722627737225\n",
      "Connectivity/permiability_restored: 237.1243155663061\n"
     ]
    },
    {
     "name": "stderr",
     "output_type": "stream",
     "text": [
      "ERROR 1: PROJ: internal_proj_create_from_name: /Users/nvalett/opt/anaconda3/share/proj/proj.db lacks DATABASE.LAYOUT.VERSION.MAJOR / DATABASE.LAYOUT.VERSION.MINOR metadata. It comes from another PROJ installation.\n",
      "ERROR 1: PROJ: internal_proj_create_from_name: /Users/nvalett/opt/anaconda3/share/proj/proj.db lacks DATABASE.LAYOUT.VERSION.MAJOR / DATABASE.LAYOUT.VERSION.MINOR metadata. It comes from another PROJ installation.\n",
      "ERROR 1: PROJ: internal_proj_create_from_name: /Users/nvalett/opt/anaconda3/share/proj/proj.db lacks DATABASE.LAYOUT.VERSION.MAJOR / DATABASE.LAYOUT.VERSION.MINOR metadata. It comes from another PROJ installation.\n",
      "ERROR 1: PROJ: internal_proj_create_from_name: /Users/nvalett/opt/anaconda3/share/proj/proj.db lacks DATABASE.LAYOUT.VERSION.MAJOR / DATABASE.LAYOUT.VERSION.MINOR metadata. It comes from another PROJ installation.\n",
      "ERROR 1: PROJ: internal_proj_create_from_name: /Users/nvalett/opt/anaconda3/share/proj/proj.db lacks DATABASE.LAYOUT.VERSION.MAJOR / DATABASE.LAYOUT.VERSION.MINOR metadata. It comes from another PROJ installation.\n"
     ]
    },
    {
     "name": "stdout",
     "output_type": "stream",
     "text": [
      "[(270, 78), (270, 79), (271, 78), (271, 79), (268, 78), (268, 79), (269, 78), (269, 79), (272, 82), (272, 83), (273, 82), (273, 83), (274, 82), (274, 83), (275, 82), (275, 83), (266, 78), (266, 79), (267, 78), (267, 79), (266, 76), (266, 77), (267, 76), (267, 77), (260, 78), (260, 79), (261, 78), (261, 79), (212, 52), (212, 53), (213, 52), (213, 53), (214, 64), (214, 65), (215, 64), (215, 65), (264, 74), (264, 75), (265, 74), (265, 75), (236, 194), (237, 194), (237, 195), (198, 50), (198, 51), (199, 50), (199, 51), (268, 76), (268, 77), (269, 76), (269, 77)]\n"
     ]
    },
    {
     "name": "stderr",
     "output_type": "stream",
     "text": [
      "ERROR 1: PROJ: internal_proj_create_from_name: /Users/nvalett/opt/anaconda3/share/proj/proj.db lacks DATABASE.LAYOUT.VERSION.MAJOR / DATABASE.LAYOUT.VERSION.MINOR metadata. It comes from another PROJ installation.\n",
      "ERROR 1: PROJ: internal_proj_create_from_name: /Users/nvalett/opt/anaconda3/share/proj/proj.db lacks DATABASE.LAYOUT.VERSION.MAJOR / DATABASE.LAYOUT.VERSION.MINOR metadata. It comes from another PROJ installation.\n",
      "ERROR 1: PROJ: internal_proj_create_from_name: /Users/nvalett/opt/anaconda3/share/proj/proj.db lacks DATABASE.LAYOUT.VERSION.MAJOR / DATABASE.LAYOUT.VERSION.MINOR metadata. It comes from another PROJ installation.\n",
      "ERROR 1: PROJ: internal_proj_create_from_name: /Users/nvalett/opt/anaconda3/share/proj/proj.db lacks DATABASE.LAYOUT.VERSION.MAJOR / DATABASE.LAYOUT.VERSION.MINOR metadata. It comes from another PROJ installation.\n"
     ]
    },
    {
     "name": "stdout",
     "output_type": "stream",
     "text": [
      "gap_crossing 6, num_gaps 80\n",
      "Delta connectivity: 1205\n",
      "Permiability Restored: 5.081722627737225\n",
      "Connectivity/permiability_restored: 237.1243155663061\n"
     ]
    },
    {
     "name": "stderr",
     "output_type": "stream",
     "text": [
      "ERROR 1: PROJ: internal_proj_create_from_name: /Users/nvalett/opt/anaconda3/share/proj/proj.db lacks DATABASE.LAYOUT.VERSION.MAJOR / DATABASE.LAYOUT.VERSION.MINOR metadata. It comes from another PROJ installation.\n"
     ]
    },
    {
     "name": "stdout",
     "output_type": "stream",
     "text": [
      "{(2, 20): 2239.306729677339, (2, 40): 2239.306729677339, (2, 60): 2239.306729677339, (2, 80): 2239.306729677339, (4, 20): 361.1764705882354, (4, 40): 361.1764705882354, (4, 60): 361.1764705882354, (4, 80): 361.1764705882354, (6, 20): 237.1243155663061, (6, 40): 237.1243155663061, (6, 60): 237.1243155663061, (6, 80): 237.1243155663061}\n"
     ]
    },
    {
     "name": "stderr",
     "output_type": "stream",
     "text": [
      "ERROR 1: PROJ: internal_proj_create_from_name: /Users/nvalett/opt/anaconda3/share/proj/proj.db lacks DATABASE.LAYOUT.VERSION.MAJOR / DATABASE.LAYOUT.VERSION.MINOR metadata. It comes from another PROJ installation.\n"
     ]
    }
   ],
   "source": [
    "lowResFlowOptimizer = lowResFlowRestoration(HABITAT_PATH, TERRAIN_PATH, RESTORED_TERRAIN_PATH, CONNECTIVITY_PATH, RESTORED_CONNECTIVITY_PATH, FLOW_PATH, RESTORED_FLOW_PATH, DEATH_PATH, LOW_RES_FLOW_PATH, PERMEABILITY_PATH, 2, 2, 50, percent_impermiable=0.75)\n",
    "\n",
    "results = {}\n",
    "for gap_crossing in [2,4,6]:\n",
    "    for num_gaps in [20,40,60,80]:\n",
    "        lowResFlowOptimizer.run_connectivity(gap_crossing=gap_crossing, num_gaps=num_gaps)\n",
    "        permiability_restored = lowResFlowOptimizer.restore()\n",
    "        lowResFlowOptimizer.run_connectivity(gap_crossing=2, num_gaps=40, restored=False)\n",
    "        lowResFlowOptimizer.run_connectivity(gap_crossing=2, num_gaps=40, restored=True)\n",
    "        print(f'gap_crossing {gap_crossing}, num_gaps {num_gaps}')\n",
    "        print(f\"Delta connectivity: {lowResFlowOptimizer.get_delta_connectivity()}\")\n",
    "        print(f\"Permiability Restored: {permiability_restored}\")\n",
    "        # print(f\"Percent connectivity changed: {lowResFlowOptimizer.get_connectivity_percent_changed()}%\")\n",
    "        print(f\"Connectivity/permiability_restored: {lowResFlowOptimizer.get_delta_connectivity()/permiability_restored}\")\n",
    "        results[(gap_crossing, num_gaps)] = lowResFlowOptimizer.get_delta_connectivity()/permiability_restored\n",
    "\n",
    "        TERRAIN_CHANGED_UTOPIAN = os.path.join(DATA_PATH, f\"smol/changed_terrain_flow_low_res_{gap_crossing}_{num_gaps}.tif\")\n",
    "        CONNECTIVITY_DIFF_UTOPIAN = os.path.join(DATA_PATH, f\"smol/connectivity_diff_flow_low_res_{gap_crossing}_{num_gaps}.tif\")\n",
    "\n",
    "        # paint changed terrain pixels\n",
    "        lowResFlowOptimizer.paint_changed_terrain_geotiff(TERRAIN_CHANGED_UTOPIAN, value=1)\n",
    "        # view diff of before and after\n",
    "        lowResFlowOptimizer.get_connectivity_difference_tif(CONNECTIVITY_DIFF_UTOPIAN)\n",
    "print(results)"
   ]
  },
  {
   "cell_type": "code",
   "execution_count": 53,
   "metadata": {},
   "outputs": [
    {
     "name": "stderr",
     "output_type": "stream",
     "text": [
      "ERROR 1: PROJ: internal_proj_create_from_name: /Users/nvalett/opt/anaconda3/share/proj/proj.db lacks DATABASE.LAYOUT.VERSION.MAJOR / DATABASE.LAYOUT.VERSION.MINOR metadata. It comes from another PROJ installation.\n",
      "ERROR 1: PROJ: internal_proj_create_from_name: /Users/nvalett/opt/anaconda3/share/proj/proj.db lacks DATABASE.LAYOUT.VERSION.MAJOR / DATABASE.LAYOUT.VERSION.MINOR metadata. It comes from another PROJ installation.\n",
      "ERROR 1: PROJ: internal_proj_create_from_name: /Users/nvalett/opt/anaconda3/share/proj/proj.db lacks DATABASE.LAYOUT.VERSION.MAJOR / DATABASE.LAYOUT.VERSION.MINOR metadata. It comes from another PROJ installation.\n"
     ]
    },
    {
     "name": "stdout",
     "output_type": "stream",
     "text": [
      "[(177, 89), (163, 103), (129, 78), (171, 94), (151, 119), (200, 114), (200, 115), (201, 114), (201, 115), (232, 158), (88, 110), (193, 173), (177, 114), (165, 102), (101, 150), (294, 124), (258, 45), (182, 121), (82, 53), (135, 142), (116, 110), (218, 169), (134, 174), (61, 48), (251, 169), (123, 150), (238, 154), (189, 152), (34, 81), (35, 81), (237, 154), (201, 119), (105, 133), (128, 90), (174, 93), (178, 147), (265, 25), (265, 144), (223, 146), (188, 160), (152, 137), (157, 140), (155, 95), (44, 53), (146, 99), (113, 96), (151, 106), (60, 36), (256, 43), (192, 131)]\n"
     ]
    },
    {
     "name": "stderr",
     "output_type": "stream",
     "text": [
      "ERROR 1: PROJ: internal_proj_create_from_name: /Users/nvalett/opt/anaconda3/share/proj/proj.db lacks DATABASE.LAYOUT.VERSION.MAJOR / DATABASE.LAYOUT.VERSION.MINOR metadata. It comes from another PROJ installation.\n",
      "ERROR 1: PROJ: internal_proj_create_from_name: /Users/nvalett/opt/anaconda3/share/proj/proj.db lacks DATABASE.LAYOUT.VERSION.MAJOR / DATABASE.LAYOUT.VERSION.MINOR metadata. It comes from another PROJ installation.\n",
      "ERROR 1: PROJ: internal_proj_create_from_name: /Users/nvalett/opt/anaconda3/share/proj/proj.db lacks DATABASE.LAYOUT.VERSION.MAJOR / DATABASE.LAYOUT.VERSION.MINOR metadata. It comes from another PROJ installation.\n",
      "ERROR 1: PROJ: internal_proj_create_from_name: /Users/nvalett/opt/anaconda3/share/proj/proj.db lacks DATABASE.LAYOUT.VERSION.MAJOR / DATABASE.LAYOUT.VERSION.MINOR metadata. It comes from another PROJ installation.\n"
     ]
    },
    {
     "name": "stdout",
     "output_type": "stream",
     "text": [
      "Delta connectivity: 133263\n",
      "Permiability Restored: 4.999999999999998\n",
      "Percent connectivity changed: 0.05298426371780849%\n",
      "Connectivity/permiability_restored: 26652.60000000001\n"
     ]
    }
   ],
   "source": [
    "lowResFlowOptimizer = lowResFlowRestoration(HABITAT_PATH, TERRAIN_PATH, RESTORED_TERRAIN_PATH, CONNECTIVITY_PATH, RESTORED_CONNECTIVITY_PATH, FLOW_PATH, RESTORED_FLOW_PATH, DEATH_PATH, LOW_RES_FLOW_PATH, PERMEABILITY_PATH, 2, 2, 50, percent_impermiable=0)\n",
    "\n",
    "lowResFlowOptimizer.run_connectivity(gap_crossing=3, num_gaps=50)\n",
    "permiability_restored = lowResFlowOptimizer.restore()\n",
    "lowResFlowOptimizer.run_connectivity(gap_crossing=2, num_gaps=40, restored=True)\n",
    "lowResFlowOptimizer.run_connectivity(gap_crossing=2, num_gaps=40, restored=True)\n",
    "print(f\"Delta connectivity: {lowResFlowOptimizer.get_delta_connectivity()}\")\n",
    "print(f\"Permiability Restored: {permiability_restored}\")\n",
    "print(f\"Percent connectivity changed: {lowResFlowOptimizer.get_connectivity_percent_changed()}%\")\n",
    "print(f\"Connectivity/permiability_restored: {lowResFlowOptimizer.get_delta_connectivity()/permiability_restored}\")"
   ]
  },
  {
   "cell_type": "code",
   "execution_count": 13,
   "metadata": {},
   "outputs": [
    {
     "name": "stderr",
     "output_type": "stream",
     "text": [
      "ERROR 1: PROJ: internal_proj_create_from_name: /Users/nvalett/opt/anaconda3/share/proj/proj.db lacks DATABASE.LAYOUT.VERSION.MAJOR / DATABASE.LAYOUT.VERSION.MINOR metadata. It comes from another PROJ installation.\n",
      "ERROR 1: PROJ: internal_proj_create_from_name: /Users/nvalett/opt/anaconda3/share/proj/proj.db lacks DATABASE.LAYOUT.VERSION.MAJOR / DATABASE.LAYOUT.VERSION.MINOR metadata. It comes from another PROJ installation.\n",
      "ERROR 1: PROJ: internal_proj_create_from_name: /Users/nvalett/opt/anaconda3/share/proj/proj.db lacks DATABASE.LAYOUT.VERSION.MAJOR / DATABASE.LAYOUT.VERSION.MINOR metadata. It comes from another PROJ installation.\n"
     ]
    },
    {
     "name": "stdout",
     "output_type": "stream",
     "text": [
      "[(189, 152), (258, 45), (256, 43), (29, 33), (32, 37), (37, 40), (129, 78), (22, 24), (151, 106), (218, 169), (193, 173), (112, 107), (134, 174), (171, 94), (130, 110), (157, 140), (192, 131), (170, 159), (116, 110), (194, 174), (194, 175), (195, 174), (35, 39), (145, 118), (103, 39), (223, 146), (294, 124), (122, 122), (174, 93), (194, 173), (195, 173), (188, 160), (190, 159), (220, 105), (148, 101), (152, 114), (61, 48), (118, 144), (118, 145), (119, 144), (119, 145), (64, 43), (35, 46), (60, 36), (101, 150), (24, 23), (25, 23), (30, 33), (127, 116), (108, 91)]\n"
     ]
    },
    {
     "name": "stderr",
     "output_type": "stream",
     "text": [
      "ERROR 1: PROJ: internal_proj_create_from_name: /Users/nvalett/opt/anaconda3/share/proj/proj.db lacks DATABASE.LAYOUT.VERSION.MAJOR / DATABASE.LAYOUT.VERSION.MINOR metadata. It comes from another PROJ installation.\n",
      "ERROR 1: PROJ: internal_proj_create_from_name: /Users/nvalett/opt/anaconda3/share/proj/proj.db lacks DATABASE.LAYOUT.VERSION.MAJOR / DATABASE.LAYOUT.VERSION.MINOR metadata. It comes from another PROJ installation.\n"
     ]
    },
    {
     "name": "stdout",
     "output_type": "stream",
     "text": [
      "Delta connectivity: 5581\n",
      "Permiability Restored: 4.999999999999998\n",
      "Percent connectivity changed: 0.0021104306170882485%\n",
      "Connectivity/permiability_restored: 1116.2000000000005\n"
     ]
    }
   ],
   "source": [
    "lowResFlowOptimizer = lowResFlowRestoration(HABITAT_PATH, TERRAIN_PATH, RESTORED_TERRAIN_PATH, CONNECTIVITY_PATH, RESTORED_CONNECTIVITY_PATH, FLOW_PATH, RESTORED_FLOW_PATH, DEATH_PATH, LOW_RES_FLOW_PATH, PERMEABILITY_PATH, 2, 2, 50, percent_impermiable=0.25)\n",
    "\n",
    "lowResFlowOptimizer.run_connectivity(gap_crossing=2, num_gaps=40)\n",
    "permiability_restored = lowResFlowOptimizer.restore()\n",
    "lowResFlowOptimizer.run_connectivity(gap_crossing=2, num_gaps=40, restored=True)\n",
    "print(f\"Delta connectivity: {lowResFlowOptimizer.get_delta_connectivity()}\")\n",
    "print(f\"Permiability Restored: {permiability_restored}\")\n",
    "print(f\"Percent connectivity changed: {lowResFlowOptimizer.get_connectivity_percent_changed()}%\")\n",
    "print(f\"Connectivity/permiability_restored: {lowResFlowOptimizer.get_delta_connectivity()/permiability_restored}\")"
   ]
  },
  {
   "cell_type": "code",
   "execution_count": 11,
   "metadata": {},
   "outputs": [
    {
     "name": "stderr",
     "output_type": "stream",
     "text": [
      "ERROR 1: PROJ: internal_proj_create_from_name: /Users/nvalett/opt/anaconda3/share/proj/proj.db lacks DATABASE.LAYOUT.VERSION.MAJOR / DATABASE.LAYOUT.VERSION.MINOR metadata. It comes from another PROJ installation.\n",
      "ERROR 1: PROJ: internal_proj_create_from_name: /Users/nvalett/opt/anaconda3/share/proj/proj.db lacks DATABASE.LAYOUT.VERSION.MAJOR / DATABASE.LAYOUT.VERSION.MINOR metadata. It comes from another PROJ installation.\n",
      "ERROR 1: PROJ: internal_proj_create_from_name: /Users/nvalett/opt/anaconda3/share/proj/proj.db lacks DATABASE.LAYOUT.VERSION.MAJOR / DATABASE.LAYOUT.VERSION.MINOR metadata. It comes from another PROJ installation.\n"
     ]
    },
    {
     "name": "stdout",
     "output_type": "stream",
     "text": [
      "[(194, 174), (194, 175), (195, 174), (194, 173), (195, 173), (118, 144), (118, 145), (119, 144), (119, 145), (24, 23), (25, 23), (164, 104), (164, 105), (165, 104), (165, 105), (176, 171), (177, 171), (130, 77), (131, 77), (46, 28), (47, 28), (47, 29), (276, 36), (276, 37), (277, 36), (277, 37), (213, 180), (213, 181), (202, 108), (202, 109), (203, 109), (232, 140), (233, 140), (82, 64), (83, 64), (154, 138), (154, 139), (155, 138), (155, 139), (144, 114), (145, 114), (92, 134), (92, 135), (93, 134), (93, 135), (264, 32), (265, 32), (282, 38), (282, 39), (283, 38), (283, 39)]\n"
     ]
    },
    {
     "name": "stderr",
     "output_type": "stream",
     "text": [
      "ERROR 1: PROJ: internal_proj_create_from_name: /Users/nvalett/opt/anaconda3/share/proj/proj.db lacks DATABASE.LAYOUT.VERSION.MAJOR / DATABASE.LAYOUT.VERSION.MINOR metadata. It comes from another PROJ installation.\n",
      "ERROR 1: PROJ: internal_proj_create_from_name: /Users/nvalett/opt/anaconda3/share/proj/proj.db lacks DATABASE.LAYOUT.VERSION.MAJOR / DATABASE.LAYOUT.VERSION.MINOR metadata. It comes from another PROJ installation.\n"
     ]
    },
    {
     "name": "stdout",
     "output_type": "stream",
     "text": [
      "Delta connectivity: 10588\n",
      "Permiability Restored: 5.072583941605838\n",
      "Percent connectivity changed: 0.004003805657360755%\n",
      "Connectivity/permiability_restored: 2087.2991205046746\n"
     ]
    }
   ],
   "source": [
    "lowResFlowOptimizer = lowResFlowRestoration(HABITAT_PATH, TERRAIN_PATH, RESTORED_TERRAIN_PATH, CONNECTIVITY_PATH, RESTORED_CONNECTIVITY_PATH, FLOW_PATH, RESTORED_FLOW_PATH, DEATH_PATH, LOW_RES_FLOW_PATH, PERMEABILITY_PATH, 2, 2, 50, percent_impermiable=0.5)\n",
    "\n",
    "lowResFlowOptimizer.run_connectivity(gap_crossing=2, num_gaps=40)\n",
    "permiability_restored = lowResFlowOptimizer.restore()\n",
    "lowResFlowOptimizer.run_connectivity(gap_crossing=2, num_gaps=40, restored=True)\n",
    "print(f\"Delta connectivity: {lowResFlowOptimizer.get_delta_connectivity()}\")\n",
    "print(f\"Permiability Restored: {permiability_restored}\")\n",
    "print(f\"Percent connectivity changed: {lowResFlowOptimizer.get_connectivity_percent_changed()}%\")\n",
    "print(f\"Connectivity/permiability_restored: {lowResFlowOptimizer.get_delta_connectivity()/permiability_restored}\")"
   ]
  },
  {
   "cell_type": "code",
   "execution_count": 12,
   "metadata": {},
   "outputs": [
    {
     "name": "stderr",
     "output_type": "stream",
     "text": [
      "ERROR 1: PROJ: internal_proj_create_from_name: /Users/nvalett/opt/anaconda3/share/proj/proj.db lacks DATABASE.LAYOUT.VERSION.MAJOR / DATABASE.LAYOUT.VERSION.MINOR metadata. It comes from another PROJ installation.\n",
      "ERROR 1: PROJ: internal_proj_create_from_name: /Users/nvalett/opt/anaconda3/share/proj/proj.db lacks DATABASE.LAYOUT.VERSION.MAJOR / DATABASE.LAYOUT.VERSION.MINOR metadata. It comes from another PROJ installation.\n",
      "ERROR 1: PROJ: internal_proj_create_from_name: /Users/nvalett/opt/anaconda3/share/proj/proj.db lacks DATABASE.LAYOUT.VERSION.MAJOR / DATABASE.LAYOUT.VERSION.MINOR metadata. It comes from another PROJ installation.\n"
     ]
    },
    {
     "name": "stdout",
     "output_type": "stream",
     "text": [
      "[(194, 174), (194, 175), (195, 174), (118, 144), (118, 145), (119, 144), (119, 145), (164, 104), (164, 105), (165, 104), (165, 105), (46, 28), (47, 28), (47, 29), (276, 36), (276, 37), (277, 36), (277, 37), (202, 108), (202, 109), (203, 109), (154, 138), (154, 139), (155, 138), (155, 139), (92, 134), (92, 135), (93, 134), (93, 135), (282, 38), (282, 39), (283, 38), (283, 39), (20, 100), (20, 101), (21, 100), (21, 101), (84, 67), (85, 66), (85, 67), (278, 34), (278, 35), (279, 35), (64, 124), (64, 125), (65, 124), (65, 125), (276, 146), (276, 147), (277, 146), (277, 147)]\n"
     ]
    },
    {
     "name": "stderr",
     "output_type": "stream",
     "text": [
      "ERROR 1: PROJ: internal_proj_create_from_name: /Users/nvalett/opt/anaconda3/share/proj/proj.db lacks DATABASE.LAYOUT.VERSION.MAJOR / DATABASE.LAYOUT.VERSION.MINOR metadata. It comes from another PROJ installation.\n",
      "ERROR 1: PROJ: internal_proj_create_from_name: /Users/nvalett/opt/anaconda3/share/proj/proj.db lacks DATABASE.LAYOUT.VERSION.MAJOR / DATABASE.LAYOUT.VERSION.MINOR metadata. It comes from another PROJ installation.\n"
     ]
    },
    {
     "name": "stdout",
     "output_type": "stream",
     "text": [
      "Delta connectivity: 11400\n",
      "Permiability Restored: 5.090861313868611\n",
      "Percent connectivity changed: 0.004310859887978146%\n",
      "Connectivity/permiability_restored: 2239.306729677339\n"
     ]
    }
   ],
   "source": [
    "lowResFlowOptimizer = lowResFlowRestoration(HABITAT_PATH, TERRAIN_PATH, RESTORED_TERRAIN_PATH, CONNECTIVITY_PATH, RESTORED_CONNECTIVITY_PATH, FLOW_PATH, RESTORED_FLOW_PATH, DEATH_PATH, LOW_RES_FLOW_PATH, PERMEABILITY_PATH, 2, 2, 50, percent_impermiable=0.75)\n",
    "\n",
    "lowResFlowOptimizer.run_connectivity(gap_crossing=2, num_gaps=40)\n",
    "permiability_restored = lowResFlowOptimizer.restore()\n",
    "lowResFlowOptimizer.run_connectivity(gap_crossing=2, num_gaps=40, restored=True)\n",
    "print(f\"Delta connectivity: {lowResFlowOptimizer.get_delta_connectivity()}\")\n",
    "print(f\"Permiability Restored: {permiability_restored}\")\n",
    "print(f\"Percent connectivity changed: {lowResFlowOptimizer.get_connectivity_percent_changed()}%\")\n",
    "print(f\"Connectivity/permiability_restored: {lowResFlowOptimizer.get_delta_connectivity()/permiability_restored}\")"
   ]
  },
  {
   "cell_type": "code",
   "execution_count": 14,
   "metadata": {},
   "outputs": [
    {
     "name": "stderr",
     "output_type": "stream",
     "text": [
      "ERROR 1: PROJ: internal_proj_create_from_name: /Users/nvalett/opt/anaconda3/share/proj/proj.db lacks DATABASE.LAYOUT.VERSION.MAJOR / DATABASE.LAYOUT.VERSION.MINOR metadata. It comes from another PROJ installation.\n",
      "ERROR 1: PROJ: internal_proj_create_from_name: /Users/nvalett/opt/anaconda3/share/proj/proj.db lacks DATABASE.LAYOUT.VERSION.MAJOR / DATABASE.LAYOUT.VERSION.MINOR metadata. It comes from another PROJ installation.\n",
      "ERROR 1: PROJ: internal_proj_create_from_name: /Users/nvalett/opt/anaconda3/share/proj/proj.db lacks DATABASE.LAYOUT.VERSION.MAJOR / DATABASE.LAYOUT.VERSION.MINOR metadata. It comes from another PROJ installation.\n"
     ]
    },
    {
     "name": "stdout",
     "output_type": "stream",
     "text": [
      "[(118, 144), (118, 145), (119, 144), (119, 145), (164, 104), (164, 105), (165, 104), (165, 105), (276, 36), (276, 37), (277, 36), (277, 37), (154, 138), (154, 139), (155, 138), (155, 139), (92, 134), (92, 135), (93, 134), (93, 135), (282, 38), (282, 39), (283, 38), (283, 39), (20, 100), (20, 101), (21, 100), (21, 101), (64, 124), (64, 125), (65, 124), (65, 125), (276, 146), (276, 147), (277, 146), (277, 147), (200, 188), (200, 189), (201, 188), (201, 189), (166, 104), (166, 105), (167, 104), (167, 105), (128, 162), (128, 163), (129, 162), (129, 163), (132, 140), (132, 141), (133, 140), (133, 141)]\n"
     ]
    },
    {
     "name": "stderr",
     "output_type": "stream",
     "text": [
      "ERROR 1: PROJ: internal_proj_create_from_name: /Users/nvalett/opt/anaconda3/share/proj/proj.db lacks DATABASE.LAYOUT.VERSION.MAJOR / DATABASE.LAYOUT.VERSION.MINOR metadata. It comes from another PROJ installation.\n",
      "ERROR 1: PROJ: internal_proj_create_from_name: /Users/nvalett/opt/anaconda3/share/proj/proj.db lacks DATABASE.LAYOUT.VERSION.MAJOR / DATABASE.LAYOUT.VERSION.MINOR metadata. It comes from another PROJ installation.\n"
     ]
    },
    {
     "name": "stdout",
     "output_type": "stream",
     "text": [
      "Delta connectivity: 9521\n",
      "Permiability Restored: 5.190861313868611\n",
      "Percent connectivity changed: 0.003600324297670169%\n",
      "Connectivity/permiability_restored: 1834.1850079027158\n"
     ]
    }
   ],
   "source": [
    "lowResFlowOptimizer = lowResFlowRestoration(HABITAT_PATH, TERRAIN_PATH, RESTORED_TERRAIN_PATH, CONNECTIVITY_PATH, RESTORED_CONNECTIVITY_PATH, FLOW_PATH, RESTORED_FLOW_PATH, DEATH_PATH, LOW_RES_FLOW_PATH, PERMEABILITY_PATH, 2, 2, 50, percent_impermiable=1)\n",
    "\n",
    "lowResFlowOptimizer.run_connectivity(gap_crossing=2, num_gaps=40)\n",
    "permiability_restored = lowResFlowOptimizer.restore()\n",
    "lowResFlowOptimizer.run_connectivity(gap_crossing=2, num_gaps=40, restored=True)\n",
    "print(f\"Delta connectivity: {lowResFlowOptimizer.get_delta_connectivity()}\")\n",
    "print(f\"Permiability Restored: {permiability_restored}\")\n",
    "print(f\"Percent connectivity changed: {lowResFlowOptimizer.get_connectivity_percent_changed()}%\")\n",
    "print(f\"Connectivity/permiability_restored: {lowResFlowOptimizer.get_delta_connectivity()/permiability_restored}\")"
   ]
  },
  {
   "cell_type": "code",
   "execution_count": 15,
   "metadata": {},
   "outputs": [
    {
     "name": "stdout",
     "output_type": "stream",
     "text": [
      "52\n"
     ]
    }
   ],
   "source": [
    "print(len(lowResFlowOptimizer.changed_pixels))"
   ]
  },
  {
   "cell_type": "code",
   "execution_count": 69,
   "metadata": {},
   "outputs": [
    {
     "name": "stderr",
     "output_type": "stream",
     "text": [
      "ERROR 1: PROJ: internal_proj_create_from_name: /Users/nvalett/opt/anaconda3/share/proj/proj.db lacks DATABASE.LAYOUT.VERSION.MAJOR / DATABASE.LAYOUT.VERSION.MINOR metadata. It comes from another PROJ installation.\n",
      "ERROR 1: PROJ: internal_proj_create_from_name: /Users/nvalett/opt/anaconda3/share/proj/proj.db lacks DATABASE.LAYOUT.VERSION.MAJOR / DATABASE.LAYOUT.VERSION.MINOR metadata. It comes from another PROJ installation.\n"
     ]
    }
   ],
   "source": [
    "TERRAIN_CHANGED_UTOPIAN = os.path.join(DATA_PATH, \"smol/changed_terrain_flow_low_res.tif\")\n",
    "CONNECTIVITY_DIFF_UTOPIAN = os.path.join(DATA_PATH, \"smol/connectivity_diff_flow_low_res.tif\")\n",
    "\n",
    "# paint changed terrain pixels\n",
    "lowResFlowOptimizer.paint_changed_terrain_geotiff(TERRAIN_CHANGED_UTOPIAN, value=1)\n",
    "# view diff of before and after\n",
    "lowResFlowOptimizer.get_connectivity_difference_tif(CONNECTIVITY_DIFF_UTOPIAN)"
   ]
  },
  {
   "cell_type": "code",
   "execution_count": 67,
   "metadata": {},
   "outputs": [
    {
     "name": "stderr",
     "output_type": "stream",
     "text": [
      "ERROR 1: PROJ: internal_proj_create_from_name: /Users/nvalett/opt/anaconda3/share/proj/proj.db lacks DATABASE.LAYOUT.VERSION.MAJOR / DATABASE.LAYOUT.VERSION.MINOR metadata. It comes from another PROJ installation.\n",
      "ERROR 1: PROJ: internal_proj_create_from_name: /Users/nvalett/opt/anaconda3/share/proj/proj.db lacks DATABASE.LAYOUT.VERSION.MAJOR / DATABASE.LAYOUT.VERSION.MINOR metadata. It comes from another PROJ installation.\n"
     ]
    }
   ],
   "source": [
    "TERRAIN_CHANGED_UTOPIAN = os.path.join(DATA_PATH, \"smol/changed_terrain_flow_low_res.tif\")\n",
    "CONNECTIVITY_DIFF_UTOPIAN = os.path.join(DATA_PATH, \"smol/connectivity_diff_flow_low_res.tif\")\n",
    "\n",
    "def get_connectivity_difference_tif(flowOptimizer, connectivity_diff_fn):\n",
    "    # get origional connectivity\n",
    "    with GeoTiff.from_file(flowOptimizer.connectivity_fn) as connectivity_tif:\n",
    "        connectivity_tile = connectivity_tif.get_all_as_tile()\n",
    "        # create connectivity diff tif from clone of connectivity_tif\n",
    "        connectivity_tif.clone_shape(connectivity_diff_fn, dtype='int16')\n",
    "\n",
    "    # get restored connectivity\n",
    "    with GeoTiff.from_file(flowOptimizer.restored_connectivity_fn) as restored_connectivity_tif:\n",
    "        restored_connectivity_tile = restored_connectivity_tif.get_all_as_tile()\n",
    "\n",
    "    # get the difference of the two in a tile\n",
    "    diff = Tile(connectivity_tile.w, connectivity_tile.h, connectivity_tile.b, connectivity_tile.c, connectivity_tile.x, connectivity_tile.y, (restored_connectivity_tile.m.astype('int16') - connectivity_tile.m.astype('int16')))\n",
    "    # write the tile to connectivity diff tif\n",
    "    with GeoTiff.from_file(connectivity_diff_fn) as connectivity_diff:\n",
    "        connectivity_diff.set_tile(diff)\n",
    "\n",
    "\n",
    "# paint changed terrain pixels\n",
    "lowResFlowOptimizer.paint_changed_terrain_geotiff(TERRAIN_CHANGED_UTOPIAN, flowOptimizer.changed_pixels, value=1)\n",
    "# view diff of before and after\n",
    "get_connectivity_difference_tif(lowResFlowOptimizer, CONNECTIVITY_DIFF_UTOPIAN)"
   ]
  },
  {
   "cell_type": "code",
   "execution_count": 74,
   "metadata": {},
   "outputs": [],
   "source": [
    "DATA_PATH=\"/Users/nvalett/Documents/Natalie/Species Dist Research/Thesis/EcoLinker/tests/assets\"\n",
    "HABITAT_PATH = os.path.join(DATA_PATH, \"smol_fragmented/habitat.tif\")\n",
    "TERRAIN_PATH = os.path.join(DATA_PATH, \"smol_fragmented/terrain.tif\")\n",
    "RESTORED_TERRAIN_PATH = os.path.join(DATA_PATH, \"smol_fragmented/restored_ter_smol.tif\")\n",
    "PERMEABILITY_PATH = os.path.join(DATA_PATH, \"paper_repro/transmission_refined_1.csv\")\n",
    "\n",
    "CONNECTIVITY_PATH = os.path.join(DATA_PATH, \"smol_fragmented/repop.tif\")\n",
    "RESTORED_CONNECTIVITY_PATH = os.path.join(DATA_PATH, \"smol_fragmented/repop_after_restoration.tif\")\n",
    "FLOW_PATH = os.path.join(DATA_PATH, \"smol_fragmented/grad.tif\")\n",
    "RESTORED_FLOW_PATH = os.path.join(DATA_PATH, \"smol_fragmented/grad_after_restoration.tif\")\n",
    "LOW_RES_FLOW_PATH = os.path.join(DATA_PATH, \"smol_fragmented/flow_low_res.tif\")\n",
    "\n",
    "unrestorable = [104,500, 501, 502, 503,504,505,506,507,508,509,510,511,512,513,514,515,516,517,518,900, 901, 902, 903, 904, 905, 906,907,980,981,982,983,984,985,986,909,910,1000,1001,1002,1003,1004,1100,1101,1111,1112,1102,1103,1104,1105,1106,1200,1201,1202,1203,1204,1205,1206,1207,1300,1301,1302,1303,1304,1305,    1402]\n",
    "\n",
    "with GeoTiff.from_file(HABITAT_PATH) as hab:\n",
    "    hab_mat = hab.get_all_as_tile().m.squeeze(0)\n",
    "\n",
    "flowOptimizer = flowRestoration(HABITAT_PATH, TERRAIN_PATH, RESTORED_TERRAIN_PATH, CONNECTIVITY_PATH, FLOW_PATH, RESTORED_CONNECTIVITY_PATH, RESTORED_FLOW_PATH, DEATH_PATH, PERMEABILITY_PATH, 50, hab_mat, unrestorable)\n",
    "lowResFlowOptimizer = lowResFlowRestoration(HABITAT_PATH, TERRAIN_PATH, RESTORED_TERRAIN_PATH, CONNECTIVITY_PATH, RESTORED_CONNECTIVITY_PATH, FLOW_PATH, RESTORED_FLOW_PATH, DEATH_PATH, LOW_RES_FLOW_PATH, PERMEABILITY_PATH, 2, 2, 50)"
   ]
  },
  {
   "cell_type": "code",
   "execution_count": 75,
   "metadata": {},
   "outputs": [
    {
     "name": "stderr",
     "output_type": "stream",
     "text": [
      "ERROR 1: PROJ: internal_proj_create_from_name: /Users/nvalett/opt/anaconda3/share/proj/proj.db lacks DATABASE.LAYOUT.VERSION.MAJOR / DATABASE.LAYOUT.VERSION.MINOR metadata. It comes from another PROJ installation.\n",
      "ERROR 1: PROJ: internal_proj_create_from_name: /Users/nvalett/opt/anaconda3/share/proj/proj.db lacks DATABASE.LAYOUT.VERSION.MAJOR / DATABASE.LAYOUT.VERSION.MINOR metadata. It comes from another PROJ installation.\n",
      "ERROR 1: PROJ: internal_proj_create_from_name: /Users/nvalett/opt/anaconda3/share/proj/proj.db lacks DATABASE.LAYOUT.VERSION.MAJOR / DATABASE.LAYOUT.VERSION.MINOR metadata. It comes from another PROJ installation.\n",
      "ERROR 1: PROJ: internal_proj_create_from_name: /Users/nvalett/opt/anaconda3/share/proj/proj.db lacks DATABASE.LAYOUT.VERSION.MAJOR / DATABASE.LAYOUT.VERSION.MINOR metadata. It comes from another PROJ installation.\n",
      "ERROR 1: PROJ: internal_proj_create_from_name: /Users/nvalett/opt/anaconda3/share/proj/proj.db lacks DATABASE.LAYOUT.VERSION.MAJOR / DATABASE.LAYOUT.VERSION.MINOR metadata. It comes from another PROJ installation.\n",
      "ERROR 1: PROJ: internal_proj_create_from_name: /Users/nvalett/opt/anaconda3/share/proj/proj.db lacks DATABASE.LAYOUT.VERSION.MAJOR / DATABASE.LAYOUT.VERSION.MINOR metadata. It comes from another PROJ installation.\n"
     ]
    },
    {
     "name": "stdout",
     "output_type": "stream",
     "text": [
      "Delta connectivity: 32602\n",
      "Permiability Restored: 4.936029197080292\n",
      "Percent connectivity changed: 0.0009304348014693804%\n",
      "Connectivity/permiability_restored: 6604.904205040843\n"
     ]
    },
    {
     "name": "stderr",
     "output_type": "stream",
     "text": [
      "ERROR 1: PROJ: internal_proj_create_from_name: /Users/nvalett/opt/anaconda3/share/proj/proj.db lacks DATABASE.LAYOUT.VERSION.MAJOR / DATABASE.LAYOUT.VERSION.MINOR metadata. It comes from another PROJ installation.\n",
      "ERROR 1: PROJ: internal_proj_create_from_name: /Users/nvalett/opt/anaconda3/share/proj/proj.db lacks DATABASE.LAYOUT.VERSION.MAJOR / DATABASE.LAYOUT.VERSION.MINOR metadata. It comes from another PROJ installation.\n",
      "ERROR 1: PROJ: internal_proj_create_from_name: /Users/nvalett/opt/anaconda3/share/proj/proj.db lacks DATABASE.LAYOUT.VERSION.MAJOR / DATABASE.LAYOUT.VERSION.MINOR metadata. It comes from another PROJ installation.\n",
      "ERROR 1: PROJ: internal_proj_create_from_name: /Users/nvalett/opt/anaconda3/share/proj/proj.db lacks DATABASE.LAYOUT.VERSION.MAJOR / DATABASE.LAYOUT.VERSION.MINOR metadata. It comes from another PROJ installation.\n",
      "ERROR 1: PROJ: internal_proj_create_from_name: /Users/nvalett/opt/anaconda3/share/proj/proj.db lacks DATABASE.LAYOUT.VERSION.MAJOR / DATABASE.LAYOUT.VERSION.MINOR metadata. It comes from another PROJ installation.\n",
      "ERROR 1: PROJ: internal_proj_create_from_name: /Users/nvalett/opt/anaconda3/share/proj/proj.db lacks DATABASE.LAYOUT.VERSION.MAJOR / DATABASE.LAYOUT.VERSION.MINOR metadata. It comes from another PROJ installation.\n",
      "ERROR 1: PROJ: internal_proj_create_from_name: /Users/nvalett/opt/anaconda3/share/proj/proj.db lacks DATABASE.LAYOUT.VERSION.MAJOR / DATABASE.LAYOUT.VERSION.MINOR metadata. It comes from another PROJ installation.\n",
      "ERROR 1: PROJ: internal_proj_create_from_name: /Users/nvalett/opt/anaconda3/share/proj/proj.db lacks DATABASE.LAYOUT.VERSION.MAJOR / DATABASE.LAYOUT.VERSION.MINOR metadata. It comes from another PROJ installation.\n"
     ]
    },
    {
     "name": "stdout",
     "output_type": "stream",
     "text": [
      "Delta connectivity: 32602\n",
      "Permiability Restored: 4.936029197080292\n",
      "Percent connectivity changed: 0.0009304348014693804%\n",
      "Connectivity/permiability_restored: 6604.904205040843\n"
     ]
    },
    {
     "name": "stderr",
     "output_type": "stream",
     "text": [
      "ERROR 1: PROJ: internal_proj_create_from_name: /Users/nvalett/opt/anaconda3/share/proj/proj.db lacks DATABASE.LAYOUT.VERSION.MAJOR / DATABASE.LAYOUT.VERSION.MINOR metadata. It comes from another PROJ installation.\n",
      "ERROR 1: PROJ: internal_proj_create_from_name: /Users/nvalett/opt/anaconda3/share/proj/proj.db lacks DATABASE.LAYOUT.VERSION.MAJOR / DATABASE.LAYOUT.VERSION.MINOR metadata. It comes from another PROJ installation.\n",
      "ERROR 1: PROJ: internal_proj_create_from_name: /Users/nvalett/opt/anaconda3/share/proj/proj.db lacks DATABASE.LAYOUT.VERSION.MAJOR / DATABASE.LAYOUT.VERSION.MINOR metadata. It comes from another PROJ installation.\n",
      "ERROR 1: PROJ: internal_proj_create_from_name: /Users/nvalett/opt/anaconda3/share/proj/proj.db lacks DATABASE.LAYOUT.VERSION.MAJOR / DATABASE.LAYOUT.VERSION.MINOR metadata. It comes from another PROJ installation.\n",
      "ERROR 1: PROJ: internal_proj_create_from_name: /Users/nvalett/opt/anaconda3/share/proj/proj.db lacks DATABASE.LAYOUT.VERSION.MAJOR / DATABASE.LAYOUT.VERSION.MINOR metadata. It comes from another PROJ installation.\n",
      "ERROR 1: PROJ: internal_proj_create_from_name: /Users/nvalett/opt/anaconda3/share/proj/proj.db lacks DATABASE.LAYOUT.VERSION.MAJOR / DATABASE.LAYOUT.VERSION.MINOR metadata. It comes from another PROJ installation.\n",
      "ERROR 1: PROJ: internal_proj_create_from_name: /Users/nvalett/opt/anaconda3/share/proj/proj.db lacks DATABASE.LAYOUT.VERSION.MAJOR / DATABASE.LAYOUT.VERSION.MINOR metadata. It comes from another PROJ installation.\n",
      "ERROR 1: PROJ: internal_proj_create_from_name: /Users/nvalett/opt/anaconda3/share/proj/proj.db lacks DATABASE.LAYOUT.VERSION.MAJOR / DATABASE.LAYOUT.VERSION.MINOR metadata. It comes from another PROJ installation.\n"
     ]
    },
    {
     "name": "stdout",
     "output_type": "stream",
     "text": [
      "Delta connectivity: 32602\n",
      "Permiability Restored: 4.936029197080292\n",
      "Percent connectivity changed: 0.0009304348014693804%\n",
      "Connectivity/permiability_restored: 6604.904205040843\n"
     ]
    },
    {
     "name": "stderr",
     "output_type": "stream",
     "text": [
      "ERROR 1: PROJ: internal_proj_create_from_name: /Users/nvalett/opt/anaconda3/share/proj/proj.db lacks DATABASE.LAYOUT.VERSION.MAJOR / DATABASE.LAYOUT.VERSION.MINOR metadata. It comes from another PROJ installation.\n",
      "ERROR 1: PROJ: internal_proj_create_from_name: /Users/nvalett/opt/anaconda3/share/proj/proj.db lacks DATABASE.LAYOUT.VERSION.MAJOR / DATABASE.LAYOUT.VERSION.MINOR metadata. It comes from another PROJ installation.\n",
      "ERROR 1: PROJ: internal_proj_create_from_name: /Users/nvalett/opt/anaconda3/share/proj/proj.db lacks DATABASE.LAYOUT.VERSION.MAJOR / DATABASE.LAYOUT.VERSION.MINOR metadata. It comes from another PROJ installation.\n",
      "ERROR 1: PROJ: internal_proj_create_from_name: /Users/nvalett/opt/anaconda3/share/proj/proj.db lacks DATABASE.LAYOUT.VERSION.MAJOR / DATABASE.LAYOUT.VERSION.MINOR metadata. It comes from another PROJ installation.\n",
      "ERROR 1: PROJ: internal_proj_create_from_name: /Users/nvalett/opt/anaconda3/share/proj/proj.db lacks DATABASE.LAYOUT.VERSION.MAJOR / DATABASE.LAYOUT.VERSION.MINOR metadata. It comes from another PROJ installation.\n",
      "ERROR 1: PROJ: internal_proj_create_from_name: /Users/nvalett/opt/anaconda3/share/proj/proj.db lacks DATABASE.LAYOUT.VERSION.MAJOR / DATABASE.LAYOUT.VERSION.MINOR metadata. It comes from another PROJ installation.\n",
      "ERROR 1: PROJ: internal_proj_create_from_name: /Users/nvalett/opt/anaconda3/share/proj/proj.db lacks DATABASE.LAYOUT.VERSION.MAJOR / DATABASE.LAYOUT.VERSION.MINOR metadata. It comes from another PROJ installation.\n",
      "ERROR 1: PROJ: internal_proj_create_from_name: /Users/nvalett/opt/anaconda3/share/proj/proj.db lacks DATABASE.LAYOUT.VERSION.MAJOR / DATABASE.LAYOUT.VERSION.MINOR metadata. It comes from another PROJ installation.\n"
     ]
    },
    {
     "name": "stdout",
     "output_type": "stream",
     "text": [
      "Delta connectivity: 32602\n",
      "Permiability Restored: 4.936029197080292\n",
      "Percent connectivity changed: 0.0009304348014693804%\n",
      "Connectivity/permiability_restored: 6604.904205040843\n"
     ]
    },
    {
     "name": "stderr",
     "output_type": "stream",
     "text": [
      "ERROR 1: PROJ: internal_proj_create_from_name: /Users/nvalett/opt/anaconda3/share/proj/proj.db lacks DATABASE.LAYOUT.VERSION.MAJOR / DATABASE.LAYOUT.VERSION.MINOR metadata. It comes from another PROJ installation.\n",
      "ERROR 1: PROJ: internal_proj_create_from_name: /Users/nvalett/opt/anaconda3/share/proj/proj.db lacks DATABASE.LAYOUT.VERSION.MAJOR / DATABASE.LAYOUT.VERSION.MINOR metadata. It comes from another PROJ installation.\n",
      "ERROR 1: PROJ: internal_proj_create_from_name: /Users/nvalett/opt/anaconda3/share/proj/proj.db lacks DATABASE.LAYOUT.VERSION.MAJOR / DATABASE.LAYOUT.VERSION.MINOR metadata. It comes from another PROJ installation.\n",
      "ERROR 1: PROJ: internal_proj_create_from_name: /Users/nvalett/opt/anaconda3/share/proj/proj.db lacks DATABASE.LAYOUT.VERSION.MAJOR / DATABASE.LAYOUT.VERSION.MINOR metadata. It comes from another PROJ installation.\n",
      "ERROR 1: PROJ: internal_proj_create_from_name: /Users/nvalett/opt/anaconda3/share/proj/proj.db lacks DATABASE.LAYOUT.VERSION.MAJOR / DATABASE.LAYOUT.VERSION.MINOR metadata. It comes from another PROJ installation.\n",
      "ERROR 1: PROJ: internal_proj_create_from_name: /Users/nvalett/opt/anaconda3/share/proj/proj.db lacks DATABASE.LAYOUT.VERSION.MAJOR / DATABASE.LAYOUT.VERSION.MINOR metadata. It comes from another PROJ installation.\n",
      "ERROR 1: PROJ: internal_proj_create_from_name: /Users/nvalett/opt/anaconda3/share/proj/proj.db lacks DATABASE.LAYOUT.VERSION.MAJOR / DATABASE.LAYOUT.VERSION.MINOR metadata. It comes from another PROJ installation.\n",
      "ERROR 1: PROJ: internal_proj_create_from_name: /Users/nvalett/opt/anaconda3/share/proj/proj.db lacks DATABASE.LAYOUT.VERSION.MAJOR / DATABASE.LAYOUT.VERSION.MINOR metadata. It comes from another PROJ installation.\n"
     ]
    },
    {
     "name": "stdout",
     "output_type": "stream",
     "text": [
      "Delta connectivity: 3806\n",
      "Permiability Restored: 4.9634452554744515\n",
      "Percent connectivity changed: 0.00010862017221006262%\n",
      "Connectivity/permiability_restored: 766.8060800715305\n"
     ]
    },
    {
     "name": "stderr",
     "output_type": "stream",
     "text": [
      "ERROR 1: PROJ: internal_proj_create_from_name: /Users/nvalett/opt/anaconda3/share/proj/proj.db lacks DATABASE.LAYOUT.VERSION.MAJOR / DATABASE.LAYOUT.VERSION.MINOR metadata. It comes from another PROJ installation.\n",
      "ERROR 1: PROJ: internal_proj_create_from_name: /Users/nvalett/opt/anaconda3/share/proj/proj.db lacks DATABASE.LAYOUT.VERSION.MAJOR / DATABASE.LAYOUT.VERSION.MINOR metadata. It comes from another PROJ installation.\n",
      "ERROR 1: PROJ: internal_proj_create_from_name: /Users/nvalett/opt/anaconda3/share/proj/proj.db lacks DATABASE.LAYOUT.VERSION.MAJOR / DATABASE.LAYOUT.VERSION.MINOR metadata. It comes from another PROJ installation.\n",
      "ERROR 1: PROJ: internal_proj_create_from_name: /Users/nvalett/opt/anaconda3/share/proj/proj.db lacks DATABASE.LAYOUT.VERSION.MAJOR / DATABASE.LAYOUT.VERSION.MINOR metadata. It comes from another PROJ installation.\n",
      "ERROR 1: PROJ: internal_proj_create_from_name: /Users/nvalett/opt/anaconda3/share/proj/proj.db lacks DATABASE.LAYOUT.VERSION.MAJOR / DATABASE.LAYOUT.VERSION.MINOR metadata. It comes from another PROJ installation.\n",
      "ERROR 1: PROJ: internal_proj_create_from_name: /Users/nvalett/opt/anaconda3/share/proj/proj.db lacks DATABASE.LAYOUT.VERSION.MAJOR / DATABASE.LAYOUT.VERSION.MINOR metadata. It comes from another PROJ installation.\n",
      "ERROR 1: PROJ: internal_proj_create_from_name: /Users/nvalett/opt/anaconda3/share/proj/proj.db lacks DATABASE.LAYOUT.VERSION.MAJOR / DATABASE.LAYOUT.VERSION.MINOR metadata. It comes from another PROJ installation.\n",
      "ERROR 1: PROJ: internal_proj_create_from_name: /Users/nvalett/opt/anaconda3/share/proj/proj.db lacks DATABASE.LAYOUT.VERSION.MAJOR / DATABASE.LAYOUT.VERSION.MINOR metadata. It comes from another PROJ installation.\n"
     ]
    },
    {
     "name": "stdout",
     "output_type": "stream",
     "text": [
      "Delta connectivity: 3806\n",
      "Permiability Restored: 4.9634452554744515\n",
      "Percent connectivity changed: 0.00010862017221006262%\n",
      "Connectivity/permiability_restored: 766.8060800715305\n"
     ]
    },
    {
     "name": "stderr",
     "output_type": "stream",
     "text": [
      "ERROR 1: PROJ: internal_proj_create_from_name: /Users/nvalett/opt/anaconda3/share/proj/proj.db lacks DATABASE.LAYOUT.VERSION.MAJOR / DATABASE.LAYOUT.VERSION.MINOR metadata. It comes from another PROJ installation.\n",
      "ERROR 1: PROJ: internal_proj_create_from_name: /Users/nvalett/opt/anaconda3/share/proj/proj.db lacks DATABASE.LAYOUT.VERSION.MAJOR / DATABASE.LAYOUT.VERSION.MINOR metadata. It comes from another PROJ installation.\n",
      "ERROR 1: PROJ: internal_proj_create_from_name: /Users/nvalett/opt/anaconda3/share/proj/proj.db lacks DATABASE.LAYOUT.VERSION.MAJOR / DATABASE.LAYOUT.VERSION.MINOR metadata. It comes from another PROJ installation.\n",
      "ERROR 1: PROJ: internal_proj_create_from_name: /Users/nvalett/opt/anaconda3/share/proj/proj.db lacks DATABASE.LAYOUT.VERSION.MAJOR / DATABASE.LAYOUT.VERSION.MINOR metadata. It comes from another PROJ installation.\n",
      "ERROR 1: PROJ: internal_proj_create_from_name: /Users/nvalett/opt/anaconda3/share/proj/proj.db lacks DATABASE.LAYOUT.VERSION.MAJOR / DATABASE.LAYOUT.VERSION.MINOR metadata. It comes from another PROJ installation.\n",
      "ERROR 1: PROJ: internal_proj_create_from_name: /Users/nvalett/opt/anaconda3/share/proj/proj.db lacks DATABASE.LAYOUT.VERSION.MAJOR / DATABASE.LAYOUT.VERSION.MINOR metadata. It comes from another PROJ installation.\n",
      "ERROR 1: PROJ: internal_proj_create_from_name: /Users/nvalett/opt/anaconda3/share/proj/proj.db lacks DATABASE.LAYOUT.VERSION.MAJOR / DATABASE.LAYOUT.VERSION.MINOR metadata. It comes from another PROJ installation.\n",
      "ERROR 1: PROJ: internal_proj_create_from_name: /Users/nvalett/opt/anaconda3/share/proj/proj.db lacks DATABASE.LAYOUT.VERSION.MAJOR / DATABASE.LAYOUT.VERSION.MINOR metadata. It comes from another PROJ installation.\n"
     ]
    },
    {
     "name": "stdout",
     "output_type": "stream",
     "text": [
      "Delta connectivity: 3806\n",
      "Permiability Restored: 4.9634452554744515\n",
      "Percent connectivity changed: 0.00010862017221006262%\n",
      "Connectivity/permiability_restored: 766.8060800715305\n"
     ]
    },
    {
     "name": "stderr",
     "output_type": "stream",
     "text": [
      "ERROR 1: PROJ: internal_proj_create_from_name: /Users/nvalett/opt/anaconda3/share/proj/proj.db lacks DATABASE.LAYOUT.VERSION.MAJOR / DATABASE.LAYOUT.VERSION.MINOR metadata. It comes from another PROJ installation.\n",
      "ERROR 1: PROJ: internal_proj_create_from_name: /Users/nvalett/opt/anaconda3/share/proj/proj.db lacks DATABASE.LAYOUT.VERSION.MAJOR / DATABASE.LAYOUT.VERSION.MINOR metadata. It comes from another PROJ installation.\n",
      "ERROR 1: PROJ: internal_proj_create_from_name: /Users/nvalett/opt/anaconda3/share/proj/proj.db lacks DATABASE.LAYOUT.VERSION.MAJOR / DATABASE.LAYOUT.VERSION.MINOR metadata. It comes from another PROJ installation.\n",
      "ERROR 1: PROJ: internal_proj_create_from_name: /Users/nvalett/opt/anaconda3/share/proj/proj.db lacks DATABASE.LAYOUT.VERSION.MAJOR / DATABASE.LAYOUT.VERSION.MINOR metadata. It comes from another PROJ installation.\n",
      "ERROR 1: PROJ: internal_proj_create_from_name: /Users/nvalett/opt/anaconda3/share/proj/proj.db lacks DATABASE.LAYOUT.VERSION.MAJOR / DATABASE.LAYOUT.VERSION.MINOR metadata. It comes from another PROJ installation.\n",
      "ERROR 1: PROJ: internal_proj_create_from_name: /Users/nvalett/opt/anaconda3/share/proj/proj.db lacks DATABASE.LAYOUT.VERSION.MAJOR / DATABASE.LAYOUT.VERSION.MINOR metadata. It comes from another PROJ installation.\n",
      "ERROR 1: PROJ: internal_proj_create_from_name: /Users/nvalett/opt/anaconda3/share/proj/proj.db lacks DATABASE.LAYOUT.VERSION.MAJOR / DATABASE.LAYOUT.VERSION.MINOR metadata. It comes from another PROJ installation.\n",
      "ERROR 1: PROJ: internal_proj_create_from_name: /Users/nvalett/opt/anaconda3/share/proj/proj.db lacks DATABASE.LAYOUT.VERSION.MAJOR / DATABASE.LAYOUT.VERSION.MINOR metadata. It comes from another PROJ installation.\n"
     ]
    },
    {
     "name": "stdout",
     "output_type": "stream",
     "text": [
      "Delta connectivity: 3806\n",
      "Permiability Restored: 4.9634452554744515\n",
      "Percent connectivity changed: 0.00010862017221006262%\n",
      "Connectivity/permiability_restored: 766.8060800715305\n"
     ]
    },
    {
     "name": "stderr",
     "output_type": "stream",
     "text": [
      "ERROR 1: PROJ: internal_proj_create_from_name: /Users/nvalett/opt/anaconda3/share/proj/proj.db lacks DATABASE.LAYOUT.VERSION.MAJOR / DATABASE.LAYOUT.VERSION.MINOR metadata. It comes from another PROJ installation.\n",
      "ERROR 1: PROJ: internal_proj_create_from_name: /Users/nvalett/opt/anaconda3/share/proj/proj.db lacks DATABASE.LAYOUT.VERSION.MAJOR / DATABASE.LAYOUT.VERSION.MINOR metadata. It comes from another PROJ installation.\n",
      "ERROR 1: PROJ: internal_proj_create_from_name: /Users/nvalett/opt/anaconda3/share/proj/proj.db lacks DATABASE.LAYOUT.VERSION.MAJOR / DATABASE.LAYOUT.VERSION.MINOR metadata. It comes from another PROJ installation.\n",
      "ERROR 1: PROJ: internal_proj_create_from_name: /Users/nvalett/opt/anaconda3/share/proj/proj.db lacks DATABASE.LAYOUT.VERSION.MAJOR / DATABASE.LAYOUT.VERSION.MINOR metadata. It comes from another PROJ installation.\n",
      "ERROR 1: PROJ: internal_proj_create_from_name: /Users/nvalett/opt/anaconda3/share/proj/proj.db lacks DATABASE.LAYOUT.VERSION.MAJOR / DATABASE.LAYOUT.VERSION.MINOR metadata. It comes from another PROJ installation.\n",
      "ERROR 1: PROJ: internal_proj_create_from_name: /Users/nvalett/opt/anaconda3/share/proj/proj.db lacks DATABASE.LAYOUT.VERSION.MAJOR / DATABASE.LAYOUT.VERSION.MINOR metadata. It comes from another PROJ installation.\n",
      "ERROR 1: PROJ: internal_proj_create_from_name: /Users/nvalett/opt/anaconda3/share/proj/proj.db lacks DATABASE.LAYOUT.VERSION.MAJOR / DATABASE.LAYOUT.VERSION.MINOR metadata. It comes from another PROJ installation.\n",
      "ERROR 1: PROJ: internal_proj_create_from_name: /Users/nvalett/opt/anaconda3/share/proj/proj.db lacks DATABASE.LAYOUT.VERSION.MAJOR / DATABASE.LAYOUT.VERSION.MINOR metadata. It comes from another PROJ installation.\n"
     ]
    },
    {
     "name": "stdout",
     "output_type": "stream",
     "text": [
      "Delta connectivity: 770\n",
      "Permiability Restored: 4.945167883211678\n",
      "Percent connectivity changed: 2.19751793488566e-05%\n",
      "Connectivity/permiability_restored: 155.70755496776331\n"
     ]
    },
    {
     "name": "stderr",
     "output_type": "stream",
     "text": [
      "ERROR 1: PROJ: internal_proj_create_from_name: /Users/nvalett/opt/anaconda3/share/proj/proj.db lacks DATABASE.LAYOUT.VERSION.MAJOR / DATABASE.LAYOUT.VERSION.MINOR metadata. It comes from another PROJ installation.\n",
      "ERROR 1: PROJ: internal_proj_create_from_name: /Users/nvalett/opt/anaconda3/share/proj/proj.db lacks DATABASE.LAYOUT.VERSION.MAJOR / DATABASE.LAYOUT.VERSION.MINOR metadata. It comes from another PROJ installation.\n",
      "ERROR 1: PROJ: internal_proj_create_from_name: /Users/nvalett/opt/anaconda3/share/proj/proj.db lacks DATABASE.LAYOUT.VERSION.MAJOR / DATABASE.LAYOUT.VERSION.MINOR metadata. It comes from another PROJ installation.\n",
      "ERROR 1: PROJ: internal_proj_create_from_name: /Users/nvalett/opt/anaconda3/share/proj/proj.db lacks DATABASE.LAYOUT.VERSION.MAJOR / DATABASE.LAYOUT.VERSION.MINOR metadata. It comes from another PROJ installation.\n",
      "ERROR 1: PROJ: internal_proj_create_from_name: /Users/nvalett/opt/anaconda3/share/proj/proj.db lacks DATABASE.LAYOUT.VERSION.MAJOR / DATABASE.LAYOUT.VERSION.MINOR metadata. It comes from another PROJ installation.\n",
      "ERROR 1: PROJ: internal_proj_create_from_name: /Users/nvalett/opt/anaconda3/share/proj/proj.db lacks DATABASE.LAYOUT.VERSION.MAJOR / DATABASE.LAYOUT.VERSION.MINOR metadata. It comes from another PROJ installation.\n",
      "ERROR 1: PROJ: internal_proj_create_from_name: /Users/nvalett/opt/anaconda3/share/proj/proj.db lacks DATABASE.LAYOUT.VERSION.MAJOR / DATABASE.LAYOUT.VERSION.MINOR metadata. It comes from another PROJ installation.\n",
      "ERROR 1: PROJ: internal_proj_create_from_name: /Users/nvalett/opt/anaconda3/share/proj/proj.db lacks DATABASE.LAYOUT.VERSION.MAJOR / DATABASE.LAYOUT.VERSION.MINOR metadata. It comes from another PROJ installation.\n"
     ]
    },
    {
     "name": "stdout",
     "output_type": "stream",
     "text": [
      "Delta connectivity: 770\n",
      "Permiability Restored: 4.945167883211678\n",
      "Percent connectivity changed: 2.19751793488566e-05%\n",
      "Connectivity/permiability_restored: 155.70755496776331\n"
     ]
    },
    {
     "name": "stderr",
     "output_type": "stream",
     "text": [
      "ERROR 1: PROJ: internal_proj_create_from_name: /Users/nvalett/opt/anaconda3/share/proj/proj.db lacks DATABASE.LAYOUT.VERSION.MAJOR / DATABASE.LAYOUT.VERSION.MINOR metadata. It comes from another PROJ installation.\n",
      "ERROR 1: PROJ: internal_proj_create_from_name: /Users/nvalett/opt/anaconda3/share/proj/proj.db lacks DATABASE.LAYOUT.VERSION.MAJOR / DATABASE.LAYOUT.VERSION.MINOR metadata. It comes from another PROJ installation.\n",
      "ERROR 1: PROJ: internal_proj_create_from_name: /Users/nvalett/opt/anaconda3/share/proj/proj.db lacks DATABASE.LAYOUT.VERSION.MAJOR / DATABASE.LAYOUT.VERSION.MINOR metadata. It comes from another PROJ installation.\n",
      "ERROR 1: PROJ: internal_proj_create_from_name: /Users/nvalett/opt/anaconda3/share/proj/proj.db lacks DATABASE.LAYOUT.VERSION.MAJOR / DATABASE.LAYOUT.VERSION.MINOR metadata. It comes from another PROJ installation.\n",
      "ERROR 1: PROJ: internal_proj_create_from_name: /Users/nvalett/opt/anaconda3/share/proj/proj.db lacks DATABASE.LAYOUT.VERSION.MAJOR / DATABASE.LAYOUT.VERSION.MINOR metadata. It comes from another PROJ installation.\n",
      "ERROR 1: PROJ: internal_proj_create_from_name: /Users/nvalett/opt/anaconda3/share/proj/proj.db lacks DATABASE.LAYOUT.VERSION.MAJOR / DATABASE.LAYOUT.VERSION.MINOR metadata. It comes from another PROJ installation.\n",
      "ERROR 1: PROJ: internal_proj_create_from_name: /Users/nvalett/opt/anaconda3/share/proj/proj.db lacks DATABASE.LAYOUT.VERSION.MAJOR / DATABASE.LAYOUT.VERSION.MINOR metadata. It comes from another PROJ installation.\n",
      "ERROR 1: PROJ: internal_proj_create_from_name: /Users/nvalett/opt/anaconda3/share/proj/proj.db lacks DATABASE.LAYOUT.VERSION.MAJOR / DATABASE.LAYOUT.VERSION.MINOR metadata. It comes from another PROJ installation.\n"
     ]
    },
    {
     "name": "stdout",
     "output_type": "stream",
     "text": [
      "Delta connectivity: 770\n",
      "Permiability Restored: 4.945167883211678\n",
      "Percent connectivity changed: 2.19751793488566e-05%\n",
      "Connectivity/permiability_restored: 155.70755496776331\n"
     ]
    },
    {
     "name": "stderr",
     "output_type": "stream",
     "text": [
      "ERROR 1: PROJ: internal_proj_create_from_name: /Users/nvalett/opt/anaconda3/share/proj/proj.db lacks DATABASE.LAYOUT.VERSION.MAJOR / DATABASE.LAYOUT.VERSION.MINOR metadata. It comes from another PROJ installation.\n",
      "ERROR 1: PROJ: internal_proj_create_from_name: /Users/nvalett/opt/anaconda3/share/proj/proj.db lacks DATABASE.LAYOUT.VERSION.MAJOR / DATABASE.LAYOUT.VERSION.MINOR metadata. It comes from another PROJ installation.\n",
      "ERROR 1: PROJ: internal_proj_create_from_name: /Users/nvalett/opt/anaconda3/share/proj/proj.db lacks DATABASE.LAYOUT.VERSION.MAJOR / DATABASE.LAYOUT.VERSION.MINOR metadata. It comes from another PROJ installation.\n",
      "ERROR 1: PROJ: internal_proj_create_from_name: /Users/nvalett/opt/anaconda3/share/proj/proj.db lacks DATABASE.LAYOUT.VERSION.MAJOR / DATABASE.LAYOUT.VERSION.MINOR metadata. It comes from another PROJ installation.\n",
      "ERROR 1: PROJ: internal_proj_create_from_name: /Users/nvalett/opt/anaconda3/share/proj/proj.db lacks DATABASE.LAYOUT.VERSION.MAJOR / DATABASE.LAYOUT.VERSION.MINOR metadata. It comes from another PROJ installation.\n",
      "ERROR 1: PROJ: internal_proj_create_from_name: /Users/nvalett/opt/anaconda3/share/proj/proj.db lacks DATABASE.LAYOUT.VERSION.MAJOR / DATABASE.LAYOUT.VERSION.MINOR metadata. It comes from another PROJ installation.\n",
      "ERROR 1: PROJ: internal_proj_create_from_name: /Users/nvalett/opt/anaconda3/share/proj/proj.db lacks DATABASE.LAYOUT.VERSION.MAJOR / DATABASE.LAYOUT.VERSION.MINOR metadata. It comes from another PROJ installation.\n",
      "ERROR 1: PROJ: internal_proj_create_from_name: /Users/nvalett/opt/anaconda3/share/proj/proj.db lacks DATABASE.LAYOUT.VERSION.MAJOR / DATABASE.LAYOUT.VERSION.MINOR metadata. It comes from another PROJ installation.\n"
     ]
    },
    {
     "name": "stdout",
     "output_type": "stream",
     "text": [
      "Delta connectivity: 770\n",
      "Permiability Restored: 4.945167883211678\n",
      "Percent connectivity changed: 2.19751793488566e-05%\n",
      "Connectivity/permiability_restored: 155.70755496776331\n"
     ]
    },
    {
     "name": "stderr",
     "output_type": "stream",
     "text": [
      "ERROR 1: PROJ: internal_proj_create_from_name: /Users/nvalett/opt/anaconda3/share/proj/proj.db lacks DATABASE.LAYOUT.VERSION.MAJOR / DATABASE.LAYOUT.VERSION.MINOR metadata. It comes from another PROJ installation.\n",
      "ERROR 1: PROJ: internal_proj_create_from_name: /Users/nvalett/opt/anaconda3/share/proj/proj.db lacks DATABASE.LAYOUT.VERSION.MAJOR / DATABASE.LAYOUT.VERSION.MINOR metadata. It comes from another PROJ installation.\n",
      "ERROR 1: PROJ: internal_proj_create_from_name: /Users/nvalett/opt/anaconda3/share/proj/proj.db lacks DATABASE.LAYOUT.VERSION.MAJOR / DATABASE.LAYOUT.VERSION.MINOR metadata. It comes from another PROJ installation.\n",
      "ERROR 1: PROJ: internal_proj_create_from_name: /Users/nvalett/opt/anaconda3/share/proj/proj.db lacks DATABASE.LAYOUT.VERSION.MAJOR / DATABASE.LAYOUT.VERSION.MINOR metadata. It comes from another PROJ installation.\n"
     ]
    },
    {
     "ename": "KeyboardInterrupt",
     "evalue": "",
     "output_type": "error",
     "traceback": [
      "\u001b[0;31m---------------------------------------------------------------------------\u001b[0m",
      "\u001b[0;31mKeyboardInterrupt\u001b[0m                         Traceback (most recent call last)",
      "Cell \u001b[0;32mIn[75], line 6\u001b[0m\n\u001b[1;32m      4\u001b[0m \u001b[38;5;28;01mfor\u001b[39;00m gap_crossing \u001b[38;5;129;01min\u001b[39;00m [\u001b[38;5;241m2\u001b[39m,\u001b[38;5;241m3\u001b[39m,\u001b[38;5;241m4\u001b[39m,\u001b[38;5;241m5\u001b[39m]:\n\u001b[1;32m      5\u001b[0m     \u001b[38;5;28;01mfor\u001b[39;00m num_gaps \u001b[38;5;129;01min\u001b[39;00m [\u001b[38;5;241m20\u001b[39m,\u001b[38;5;241m40\u001b[39m,\u001b[38;5;241m60\u001b[39m,\u001b[38;5;241m80\u001b[39m]:\n\u001b[0;32m----> 6\u001b[0m         \u001b[43mflowOptimizer\u001b[49m\u001b[38;5;241;43m.\u001b[39;49m\u001b[43mrun_connectivity\u001b[49m\u001b[43m(\u001b[49m\u001b[43mgap_crossing\u001b[49m\u001b[38;5;241;43m=\u001b[39;49m\u001b[43mgap_crossing\u001b[49m\u001b[43m,\u001b[49m\u001b[43m \u001b[49m\u001b[43mnum_gaps\u001b[49m\u001b[38;5;241;43m=\u001b[39;49m\u001b[43mnum_gaps\u001b[49m\u001b[43m)\u001b[49m\n\u001b[1;32m      7\u001b[0m         permiability_restored \u001b[38;5;241m=\u001b[39m flowOptimizer\u001b[38;5;241m.\u001b[39mrestore()\n\u001b[1;32m      8\u001b[0m         flowOptimizer\u001b[38;5;241m.\u001b[39mrun_connectivity(gap_crossing\u001b[38;5;241m=\u001b[39m\u001b[38;5;241m2\u001b[39m, num_gaps\u001b[38;5;241m=\u001b[39m\u001b[38;5;241m40\u001b[39m, restored\u001b[38;5;241m=\u001b[39m\u001b[38;5;28;01mFalse\u001b[39;00m)\n",
      "File \u001b[0;32m~/Documents/Natalie/Species Dist Research/Code/ecoscape-earth/EcoLinker/EcoLinker/restorationOptimizer.py:35\u001b[0m, in \u001b[0;36mrestorationOptimizer.run_connectivity\u001b[0;34m(self, single_tile, deterministic, restored, gap_crossing, num_gaps)\u001b[0m\n\u001b[1;32m     33\u001b[0m     repopulation\u001b[38;5;241m.\u001b[39mcompute_connectivity(\u001b[38;5;28mself\u001b[39m\u001b[38;5;241m.\u001b[39mhabitat_fn, \u001b[38;5;28mself\u001b[39m\u001b[38;5;241m.\u001b[39mrestored_terr_fn, \u001b[38;5;28mself\u001b[39m\u001b[38;5;241m.\u001b[39mrestored_connectivity_fn, \u001b[38;5;28mself\u001b[39m\u001b[38;5;241m.\u001b[39mrestored_flow_fn, \u001b[38;5;28mself\u001b[39m\u001b[38;5;241m.\u001b[39mpermeability_dict, num_gaps\u001b[38;5;241m=\u001b[39m\u001b[38;5;241m20\u001b[39m, single_tile\u001b[38;5;241m=\u001b[39msingle_tile, gap_crossing\u001b[38;5;241m=\u001b[39mgap_crossing, deterministic\u001b[38;5;241m=\u001b[39mdeterministic)\n\u001b[1;32m     34\u001b[0m \u001b[38;5;28;01melse\u001b[39;00m:\n\u001b[0;32m---> 35\u001b[0m     \u001b[43mrepopulation\u001b[49m\u001b[38;5;241;43m.\u001b[39;49m\u001b[43mcompute_connectivity\u001b[49m\u001b[43m(\u001b[49m\u001b[38;5;28;43mself\u001b[39;49m\u001b[38;5;241;43m.\u001b[39;49m\u001b[43mhabitat_fn\u001b[49m\u001b[43m,\u001b[49m\u001b[43m \u001b[49m\u001b[38;5;28;43mself\u001b[39;49m\u001b[38;5;241;43m.\u001b[39;49m\u001b[43mterrain_fn\u001b[49m\u001b[43m,\u001b[49m\u001b[43m \u001b[49m\u001b[38;5;28;43mself\u001b[39;49m\u001b[38;5;241;43m.\u001b[39;49m\u001b[43mconnectivity_fn\u001b[49m\u001b[43m,\u001b[49m\u001b[43m \u001b[49m\u001b[38;5;28;43mself\u001b[39;49m\u001b[38;5;241;43m.\u001b[39;49m\u001b[43mflow_fn\u001b[49m\u001b[43m,\u001b[49m\u001b[43m \u001b[49m\u001b[38;5;28;43mself\u001b[39;49m\u001b[38;5;241;43m.\u001b[39;49m\u001b[43mpermeability_dict\u001b[49m\u001b[43m,\u001b[49m\u001b[43m \u001b[49m\u001b[43mnum_gaps\u001b[49m\u001b[38;5;241;43m=\u001b[39;49m\u001b[38;5;241;43m20\u001b[39;49m\u001b[43m,\u001b[49m\u001b[43m \u001b[49m\u001b[43msingle_tile\u001b[49m\u001b[38;5;241;43m=\u001b[39;49m\u001b[43msingle_tile\u001b[49m\u001b[43m,\u001b[49m\u001b[43m \u001b[49m\u001b[43mgap_crossing\u001b[49m\u001b[38;5;241;43m=\u001b[39;49m\u001b[43mgap_crossing\u001b[49m\u001b[43m,\u001b[49m\u001b[43m \u001b[49m\u001b[43mdeterministic\u001b[49m\u001b[38;5;241;43m=\u001b[39;49m\u001b[43mdeterministic\u001b[49m\u001b[43m)\u001b[49m\n",
      "File \u001b[0;32m~/Documents/Natalie/Species Dist Research/Code/ecoscape-earth/ecoscape-connectivity/ecoscape_connectivity_local/repopulation.py:345\u001b[0m, in \u001b[0;36mcompute_connectivity\u001b[0;34m(habitat_fn, terrain_fn, connectivity_fn, flow_fn, permeability_dict, gap_crossing, num_gaps, num_simulations, seed_density, single_tile, tile_size, tile_border, minimum_habitat, deterministic, resistance_given)\u001b[0m\n\u001b[1;32m    337\u001b[0m analysis_fn \u001b[38;5;241m=\u001b[39m analyze_tile_torch(\n\u001b[1;32m    338\u001b[0m     seed_density\u001b[38;5;241m=\u001b[39mseed_density,\n\u001b[1;32m    339\u001b[0m     produce_gradient\u001b[38;5;241m=\u001b[39mflow_fn \u001b[38;5;129;01mis\u001b[39;00m \u001b[38;5;129;01mnot\u001b[39;00m \u001b[38;5;28;01mNone\u001b[39;00m,\n\u001b[0;32m   (...)\u001b[0m\n\u001b[1;32m    342\u001b[0m     hop_length\u001b[38;5;241m=\u001b[39mgap_crossing,\n\u001b[1;32m    343\u001b[0m     deterministic\u001b[38;5;241m=\u001b[39mdeterministic)\n\u001b[1;32m    344\u001b[0m \u001b[38;5;66;03m# Applies it.\u001b[39;00m\n\u001b[0;32m--> 345\u001b[0m \u001b[43manalyze_geotiffs\u001b[49m\u001b[43m(\u001b[49m\n\u001b[1;32m    346\u001b[0m \u001b[43m    \u001b[49m\u001b[43mhabitat_fn\u001b[49m\u001b[43m,\u001b[49m\u001b[43m \u001b[49m\u001b[43mterrain_fn\u001b[49m\u001b[43m,\u001b[49m\n\u001b[1;32m    347\u001b[0m \u001b[43m    \u001b[49m\u001b[43mpermeability_dict\u001b[49m\u001b[43m,\u001b[49m\n\u001b[1;32m    348\u001b[0m \u001b[43m    \u001b[49m\u001b[43manalysis_fn\u001b[49m\u001b[38;5;241;43m=\u001b[39;49m\u001b[43manalysis_fn\u001b[49m\u001b[43m,\u001b[49m\n\u001b[1;32m    349\u001b[0m \u001b[43m    \u001b[49m\u001b[43msingle_tile\u001b[49m\u001b[38;5;241;43m=\u001b[39;49m\u001b[43msingle_tile\u001b[49m\u001b[43m,\u001b[49m\n\u001b[1;32m    350\u001b[0m \u001b[43m    \u001b[49m\u001b[43mblock_size\u001b[49m\u001b[38;5;241;43m=\u001b[39;49m\u001b[43mtile_size\u001b[49m\u001b[43m,\u001b[49m\n\u001b[1;32m    351\u001b[0m \u001b[43m    \u001b[49m\u001b[43mborder_size\u001b[49m\u001b[38;5;241;43m=\u001b[39;49m\u001b[43mtile_border\u001b[49m\u001b[43m,\u001b[49m\n\u001b[1;32m    352\u001b[0m \u001b[43m    \u001b[49m\u001b[43mgenerate_gradient\u001b[49m\u001b[38;5;241;43m=\u001b[39;49m\u001b[43mflow_fn\u001b[49m\u001b[43m \u001b[49m\u001b[38;5;129;43;01mis\u001b[39;49;00m\u001b[43m \u001b[49m\u001b[38;5;129;43;01mnot\u001b[39;49;00m\u001b[43m \u001b[49m\u001b[38;5;28;43;01mNone\u001b[39;49;00m\u001b[43m,\u001b[49m\n\u001b[1;32m    353\u001b[0m \u001b[43m    \u001b[49m\u001b[43mminimum_habitat\u001b[49m\u001b[38;5;241;43m=\u001b[39;49m\u001b[43mminimum_habitat\u001b[49m\u001b[43m,\u001b[49m\n\u001b[1;32m    354\u001b[0m \u001b[43m    \u001b[49m\u001b[43moutput_repop_fn\u001b[49m\u001b[38;5;241;43m=\u001b[39;49m\u001b[43mconnectivity_fn\u001b[49m\u001b[43m,\u001b[49m\n\u001b[1;32m    355\u001b[0m \u001b[43m    \u001b[49m\u001b[43moutput_grad_fn\u001b[49m\u001b[38;5;241;43m=\u001b[39;49m\u001b[43mflow_fn\u001b[49m\u001b[43m,\u001b[49m\n\u001b[1;32m    356\u001b[0m \u001b[43m    \u001b[49m\u001b[43mresistance_given\u001b[49m\u001b[38;5;241;43m=\u001b[39;49m\u001b[38;5;28;43;01mFalse\u001b[39;49;00m\n\u001b[1;32m    357\u001b[0m \u001b[43m\u001b[49m\u001b[43m)\u001b[49m\n",
      "File \u001b[0;32m~/Documents/Natalie/Species Dist Research/Code/ecoscape-earth/ecoscape-connectivity/ecoscape_connectivity_local/repopulation.py:280\u001b[0m, in \u001b[0;36manalyze_geotiffs\u001b[0;34m(habitat_fn, terrain_fn, terr_to_transmission, analysis_fn, single_tile, hab_tile, ter_tile, block_size, border_size, generate_gradient, interesting_tiles, display_tiles, disp_fn, minimum_habitat, output_repop_fn, output_grad_fn, report_progress, resistance_given)\u001b[0m\n\u001b[1;32m    278\u001b[0m     \u001b[38;5;28;01mwith\u001b[39;00m habitat_geotiff\u001b[38;5;241m.\u001b[39mclone_shape(output_repop_fn) \u001b[38;5;28;01mas\u001b[39;00m repop_output:\n\u001b[1;32m    279\u001b[0m         \u001b[38;5;28;01mwith\u001b[39;00m habitat_geotiff\u001b[38;5;241m.\u001b[39mclone_shape(output_grad_fn) \u001b[38;5;28;01mif\u001b[39;00m do_gradient \u001b[38;5;28;01melse\u001b[39;00m nullcontext() \u001b[38;5;28;01mas\u001b[39;00m grad_output:\n\u001b[0;32m--> 280\u001b[0m             \u001b[43mdo_analysis\u001b[49m\u001b[43m(\u001b[49m\u001b[43mrepop_output\u001b[49m\u001b[43m,\u001b[49m\u001b[43m \u001b[49m\u001b[43mgrad_output\u001b[49m\u001b[43m)\u001b[49m\n\u001b[1;32m    281\u001b[0m \u001b[38;5;28;01melse\u001b[39;00m:\n\u001b[1;32m    282\u001b[0m     do_analysis(\u001b[38;5;28;01mNone\u001b[39;00m, \u001b[38;5;28;01mNone\u001b[39;00m)\n",
      "File \u001b[0;32m~/Documents/Natalie/Species Dist Research/Code/ecoscape-earth/ecoscape-connectivity/ecoscape_connectivity_local/repopulation.py:241\u001b[0m, in \u001b[0;36manalyze_geotiffs.<locals>.do_analysis\u001b[0;34m(repop_file, grad_file)\u001b[0m\n\u001b[1;32m    239\u001b[0m     disp_fn(terrain, title\u001b[38;5;241m=\u001b[39m\u001b[38;5;124m\"\u001b[39m\u001b[38;5;124mTerrain transmission\u001b[39m\u001b[38;5;124m\"\u001b[39m)\n\u001b[1;32m    240\u001b[0m \u001b[38;5;66;03m# Then, we processes the terrain and habitat tiles.\u001b[39;00m\n\u001b[0;32m--> 241\u001b[0m pop, grad \u001b[38;5;241m=\u001b[39m \u001b[43manalysis_fn\u001b[49m\u001b[43m(\u001b[49m\u001b[43mhabitat\u001b[49m\u001b[43m,\u001b[49m\u001b[43m \u001b[49m\u001b[43mterrain\u001b[49m\u001b[43m)\u001b[49m\n\u001b[1;32m    242\u001b[0m \u001b[38;5;66;03m# Normalizes the tiles, to fit into the geotiff format.\u001b[39;00m\n\u001b[1;32m    243\u001b[0m \u001b[38;5;66;03m# The population is simply normalized with a max of 255. After all it is in [0, 1].\u001b[39;00m\n\u001b[1;32m    244\u001b[0m \u001b[38;5;66;03m# We need to use type float because clam is not implemented for all types.\u001b[39;00m\n\u001b[1;32m    245\u001b[0m \u001b[38;5;66;03m# print(isinstance(pop))\u001b[39;00m\n\u001b[1;32m    246\u001b[0m \u001b[38;5;28;01mif\u001b[39;00m \u001b[38;5;28misinstance\u001b[39m(pop, np\u001b[38;5;241m.\u001b[39mndarray):\n\u001b[1;32m    247\u001b[0m     \u001b[38;5;66;03m# print('prev sum:', np.sum(pop), np.sum(pop)*255)\u001b[39;00m\n\u001b[1;32m    248\u001b[0m     \u001b[38;5;66;03m# np.set_printoptions(threshold=2000)\u001b[39;00m\n\u001b[1;32m    249\u001b[0m     \u001b[38;5;66;03m# print(pop[400:450,400:450])\u001b[39;00m\n",
      "File \u001b[0;32m~/Documents/Natalie/Species Dist Research/Code/ecoscape-earth/ecoscape-connectivity/ecoscape_connectivity_local/repopulation.py:126\u001b[0m, in \u001b[0;36manalyze_tile_torch.<locals>.f\u001b[0;34m(habitat, terrain)\u001b[0m\n\u001b[1;32m    124\u001b[0m seeds \u001b[38;5;241m=\u001b[39m torch\u001b[38;5;241m.\u001b[39mrand((batch_size, w, h), device\u001b[38;5;241m=\u001b[39mdevice) \u001b[38;5;241m<\u001b[39m seed_probability\n\u001b[1;32m    125\u001b[0m \u001b[38;5;66;03m# And passes them through the repopulation.\u001b[39;00m\n\u001b[0;32m--> 126\u001b[0m pop \u001b[38;5;241m=\u001b[39m \u001b[43mrepopulator\u001b[49m\u001b[43m(\u001b[49m\u001b[43mseeds\u001b[49m\u001b[43m)\u001b[49m\n\u001b[1;32m    127\u001b[0m \u001b[38;5;66;03m# We need to take the mean over each batch.  This will tell us what is the\u001b[39;00m\n\u001b[1;32m    128\u001b[0m \u001b[38;5;66;03m# average repopulation.\u001b[39;00m\n\u001b[1;32m    129\u001b[0m tot_pop \u001b[38;5;241m+\u001b[39m\u001b[38;5;241m=\u001b[39m torch\u001b[38;5;241m.\u001b[39mmean(pop, \u001b[38;5;241m0\u001b[39m)\n",
      "File \u001b[0;32m~/opt/anaconda3/lib/python3.9/site-packages/torch/nn/modules/module.py:1102\u001b[0m, in \u001b[0;36mModule._call_impl\u001b[0;34m(self, *input, **kwargs)\u001b[0m\n\u001b[1;32m   1098\u001b[0m \u001b[38;5;66;03m# If we don't have any hooks, we want to skip the rest of the logic in\u001b[39;00m\n\u001b[1;32m   1099\u001b[0m \u001b[38;5;66;03m# this function, and just call forward.\u001b[39;00m\n\u001b[1;32m   1100\u001b[0m \u001b[38;5;28;01mif\u001b[39;00m \u001b[38;5;129;01mnot\u001b[39;00m (\u001b[38;5;28mself\u001b[39m\u001b[38;5;241m.\u001b[39m_backward_hooks \u001b[38;5;129;01mor\u001b[39;00m \u001b[38;5;28mself\u001b[39m\u001b[38;5;241m.\u001b[39m_forward_hooks \u001b[38;5;129;01mor\u001b[39;00m \u001b[38;5;28mself\u001b[39m\u001b[38;5;241m.\u001b[39m_forward_pre_hooks \u001b[38;5;129;01mor\u001b[39;00m _global_backward_hooks\n\u001b[1;32m   1101\u001b[0m         \u001b[38;5;129;01mor\u001b[39;00m _global_forward_hooks \u001b[38;5;129;01mor\u001b[39;00m _global_forward_pre_hooks):\n\u001b[0;32m-> 1102\u001b[0m     \u001b[38;5;28;01mreturn\u001b[39;00m \u001b[43mforward_call\u001b[49m\u001b[43m(\u001b[49m\u001b[38;5;241;43m*\u001b[39;49m\u001b[38;5;28;43minput\u001b[39;49m\u001b[43m,\u001b[49m\u001b[43m \u001b[49m\u001b[38;5;241;43m*\u001b[39;49m\u001b[38;5;241;43m*\u001b[39;49m\u001b[43mkwargs\u001b[49m\u001b[43m)\u001b[49m\n\u001b[1;32m   1103\u001b[0m \u001b[38;5;66;03m# Do not call functions when jit is used\u001b[39;00m\n\u001b[1;32m   1104\u001b[0m full_backward_hooks, non_full_backward_hooks \u001b[38;5;241m=\u001b[39m [], []\n",
      "File \u001b[0;32m~/Documents/Natalie/Species Dist Research/Code/ecoscape-earth/ecoscape-connectivity/ecoscape_connectivity_local/repopulation.py:65\u001b[0m, in \u001b[0;36mStochasticRepopulateFast.forward\u001b[0;34m(self, seed)\u001b[0m\n\u001b[1;32m     63\u001b[0m     x \u001b[38;5;241m=\u001b[39m x \u001b[38;5;241m*\u001b[39m (\u001b[38;5;28mself\u001b[39m\u001b[38;5;241m.\u001b[39mmin_transmission \u001b[38;5;241m+\u001b[39m (\u001b[38;5;241m1.\u001b[39m \u001b[38;5;241m-\u001b[39m \u001b[38;5;28mself\u001b[39m\u001b[38;5;241m.\u001b[39mmin_transmission) \u001b[38;5;241m*\u001b[39m torch\u001b[38;5;241m.\u001b[39mrand_like(x))\n\u001b[1;32m     64\u001b[0m \u001b[38;5;66;03m# Then, we propagate.\u001b[39;00m\n\u001b[0;32m---> 65\u001b[0m x \u001b[38;5;241m=\u001b[39m \u001b[38;5;28;43mself\u001b[39;49m\u001b[38;5;241;43m.\u001b[39;49m\u001b[43mspreader\u001b[49m\u001b[43m(\u001b[49m\u001b[43mx\u001b[49m\u001b[43m)\u001b[49m \u001b[38;5;241m*\u001b[39m \u001b[38;5;28mself\u001b[39m\u001b[38;5;241m.\u001b[39mgoodness\n\u001b[1;32m     66\u001b[0m \u001b[38;5;66;03m# We randomize the destinations too.\u001b[39;00m\n\u001b[1;32m     67\u001b[0m \u001b[38;5;28;01mif\u001b[39;00m \u001b[38;5;28mself\u001b[39m\u001b[38;5;241m.\u001b[39mrandomize_dest:\n",
      "File \u001b[0;32m~/opt/anaconda3/lib/python3.9/site-packages/torch/nn/modules/module.py:1102\u001b[0m, in \u001b[0;36mModule._call_impl\u001b[0;34m(self, *input, **kwargs)\u001b[0m\n\u001b[1;32m   1098\u001b[0m \u001b[38;5;66;03m# If we don't have any hooks, we want to skip the rest of the logic in\u001b[39;00m\n\u001b[1;32m   1099\u001b[0m \u001b[38;5;66;03m# this function, and just call forward.\u001b[39;00m\n\u001b[1;32m   1100\u001b[0m \u001b[38;5;28;01mif\u001b[39;00m \u001b[38;5;129;01mnot\u001b[39;00m (\u001b[38;5;28mself\u001b[39m\u001b[38;5;241m.\u001b[39m_backward_hooks \u001b[38;5;129;01mor\u001b[39;00m \u001b[38;5;28mself\u001b[39m\u001b[38;5;241m.\u001b[39m_forward_hooks \u001b[38;5;129;01mor\u001b[39;00m \u001b[38;5;28mself\u001b[39m\u001b[38;5;241m.\u001b[39m_forward_pre_hooks \u001b[38;5;129;01mor\u001b[39;00m _global_backward_hooks\n\u001b[1;32m   1101\u001b[0m         \u001b[38;5;129;01mor\u001b[39;00m _global_forward_hooks \u001b[38;5;129;01mor\u001b[39;00m _global_forward_pre_hooks):\n\u001b[0;32m-> 1102\u001b[0m     \u001b[38;5;28;01mreturn\u001b[39;00m \u001b[43mforward_call\u001b[49m\u001b[43m(\u001b[49m\u001b[38;5;241;43m*\u001b[39;49m\u001b[38;5;28;43minput\u001b[39;49m\u001b[43m,\u001b[49m\u001b[43m \u001b[49m\u001b[38;5;241;43m*\u001b[39;49m\u001b[38;5;241;43m*\u001b[39;49m\u001b[43mkwargs\u001b[49m\u001b[43m)\u001b[49m\n\u001b[1;32m   1103\u001b[0m \u001b[38;5;66;03m# Do not call functions when jit is used\u001b[39;00m\n\u001b[1;32m   1104\u001b[0m full_backward_hooks, non_full_backward_hooks \u001b[38;5;241m=\u001b[39m [], []\n",
      "File \u001b[0;32m~/opt/anaconda3/lib/python3.9/site-packages/torch/nn/modules/pooling.py:162\u001b[0m, in \u001b[0;36mMaxPool2d.forward\u001b[0;34m(self, input)\u001b[0m\n\u001b[1;32m    161\u001b[0m \u001b[38;5;28;01mdef\u001b[39;00m \u001b[38;5;21mforward\u001b[39m(\u001b[38;5;28mself\u001b[39m, \u001b[38;5;28minput\u001b[39m: Tensor) \u001b[38;5;241m-\u001b[39m\u001b[38;5;241m>\u001b[39m Tensor:\n\u001b[0;32m--> 162\u001b[0m     \u001b[38;5;28;01mreturn\u001b[39;00m \u001b[43mF\u001b[49m\u001b[38;5;241;43m.\u001b[39;49m\u001b[43mmax_pool2d\u001b[49m\u001b[43m(\u001b[49m\u001b[38;5;28;43minput\u001b[39;49m\u001b[43m,\u001b[49m\u001b[43m \u001b[49m\u001b[38;5;28;43mself\u001b[39;49m\u001b[38;5;241;43m.\u001b[39;49m\u001b[43mkernel_size\u001b[49m\u001b[43m,\u001b[49m\u001b[43m \u001b[49m\u001b[38;5;28;43mself\u001b[39;49m\u001b[38;5;241;43m.\u001b[39;49m\u001b[43mstride\u001b[49m\u001b[43m,\u001b[49m\n\u001b[1;32m    163\u001b[0m \u001b[43m                        \u001b[49m\u001b[38;5;28;43mself\u001b[39;49m\u001b[38;5;241;43m.\u001b[39;49m\u001b[43mpadding\u001b[49m\u001b[43m,\u001b[49m\u001b[43m \u001b[49m\u001b[38;5;28;43mself\u001b[39;49m\u001b[38;5;241;43m.\u001b[39;49m\u001b[43mdilation\u001b[49m\u001b[43m,\u001b[49m\u001b[43m \u001b[49m\u001b[38;5;28;43mself\u001b[39;49m\u001b[38;5;241;43m.\u001b[39;49m\u001b[43mceil_mode\u001b[49m\u001b[43m,\u001b[49m\n\u001b[1;32m    164\u001b[0m \u001b[43m                        \u001b[49m\u001b[38;5;28;43mself\u001b[39;49m\u001b[38;5;241;43m.\u001b[39;49m\u001b[43mreturn_indices\u001b[49m\u001b[43m)\u001b[49m\n",
      "File \u001b[0;32m~/opt/anaconda3/lib/python3.9/site-packages/torch/_jit_internal.py:422\u001b[0m, in \u001b[0;36mboolean_dispatch.<locals>.fn\u001b[0;34m(*args, **kwargs)\u001b[0m\n\u001b[1;32m    420\u001b[0m     \u001b[38;5;28;01mreturn\u001b[39;00m if_true(\u001b[38;5;241m*\u001b[39margs, \u001b[38;5;241m*\u001b[39m\u001b[38;5;241m*\u001b[39mkwargs)\n\u001b[1;32m    421\u001b[0m \u001b[38;5;28;01melse\u001b[39;00m:\n\u001b[0;32m--> 422\u001b[0m     \u001b[38;5;28;01mreturn\u001b[39;00m \u001b[43mif_false\u001b[49m\u001b[43m(\u001b[49m\u001b[38;5;241;43m*\u001b[39;49m\u001b[43margs\u001b[49m\u001b[43m,\u001b[49m\u001b[43m \u001b[49m\u001b[38;5;241;43m*\u001b[39;49m\u001b[38;5;241;43m*\u001b[39;49m\u001b[43mkwargs\u001b[49m\u001b[43m)\u001b[49m\n",
      "File \u001b[0;32m~/opt/anaconda3/lib/python3.9/site-packages/torch/nn/functional.py:719\u001b[0m, in \u001b[0;36m_max_pool2d\u001b[0;34m(input, kernel_size, stride, padding, dilation, ceil_mode, return_indices)\u001b[0m\n\u001b[1;32m    717\u001b[0m \u001b[38;5;28;01mif\u001b[39;00m stride \u001b[38;5;129;01mis\u001b[39;00m \u001b[38;5;28;01mNone\u001b[39;00m:\n\u001b[1;32m    718\u001b[0m     stride \u001b[38;5;241m=\u001b[39m torch\u001b[38;5;241m.\u001b[39mjit\u001b[38;5;241m.\u001b[39mannotate(List[\u001b[38;5;28mint\u001b[39m], [])\n\u001b[0;32m--> 719\u001b[0m \u001b[38;5;28;01mreturn\u001b[39;00m \u001b[43mtorch\u001b[49m\u001b[38;5;241;43m.\u001b[39;49m\u001b[43mmax_pool2d\u001b[49m\u001b[43m(\u001b[49m\u001b[38;5;28;43minput\u001b[39;49m\u001b[43m,\u001b[49m\u001b[43m \u001b[49m\u001b[43mkernel_size\u001b[49m\u001b[43m,\u001b[49m\u001b[43m \u001b[49m\u001b[43mstride\u001b[49m\u001b[43m,\u001b[49m\u001b[43m \u001b[49m\u001b[43mpadding\u001b[49m\u001b[43m,\u001b[49m\u001b[43m \u001b[49m\u001b[43mdilation\u001b[49m\u001b[43m,\u001b[49m\u001b[43m \u001b[49m\u001b[43mceil_mode\u001b[49m\u001b[43m)\u001b[49m\n",
      "\u001b[0;31mKeyboardInterrupt\u001b[0m: "
     ]
    }
   ],
   "source": [
    "flowOptimizer = flowRestoration(HABITAT_PATH, TERRAIN_PATH, RESTORED_TERRAIN_PATH, CONNECTIVITY_PATH, FLOW_PATH, RESTORED_CONNECTIVITY_PATH, RESTORED_FLOW_PATH, DEATH_PATH, PERMEABILITY_PATH, 50) #hab_mat, unrestorable)\n",
    "\n",
    "results = {}\n",
    "for gap_crossing in [2,3,4,5]:\n",
    "    for num_gaps in [20,40,60,80]:\n",
    "        flowOptimizer.run_connectivity(gap_crossing=gap_crossing, num_gaps=num_gaps)\n",
    "        permiability_restored = flowOptimizer.restore()\n",
    "        flowOptimizer.run_connectivity(gap_crossing=2, num_gaps=40, restored=False)\n",
    "        flowOptimizer.run_connectivity(gap_crossing=2, num_gaps=40, restored=True)\n",
    "        print(f\"Delta connectivity: {flowOptimizer.get_delta_connectivity()}\")\n",
    "        print(f\"Permiability Restored: {permiability_restored}\")\n",
    "        print(f\"Percent connectivity changed: {flowOptimizer.get_connectivity_percent_changed()}%\")\n",
    "        print(f\"Connectivity/permiability_restored: {flowOptimizer.get_delta_connectivity()/permiability_restored}\")\n",
    "        results[(gap_crossing, num_gaps)] = flowOptimizer.get_delta_connectivity()/permiability_restored\n",
    "\n",
    "        TERRAIN_CHANGED_UTOPIAN = os.path.join(DATA_PATH, f\"smol_fragmented/changed_terrain_flow_low_res_{gap_crossing}_{num_gaps}.tif\")\n",
    "        CONNECTIVITY_DIFF_UTOPIAN = os.path.join(DATA_PATH, f\"smol_fragmented/connectivity_diff_flow_low_res_{gap_crossing}_{num_gaps}.tif\")\n",
    "\n",
    "        # paint changed terrain pixels\n",
    "        flowOptimizer.paint_changed_terrain_geotiff(TERRAIN_CHANGED_UTOPIAN, value=1)\n",
    "        # view diff of before and after\n",
    "        flowOptimizer.get_connectivity_difference_tif(CONNECTIVITY_DIFF_UTOPIAN)\n",
    "print(results)"
   ]
  },
  {
   "cell_type": "code",
   "execution_count": 22,
   "metadata": {},
   "outputs": [
    {
     "name": "stderr",
     "output_type": "stream",
     "text": [
      "ERROR 1: PROJ: internal_proj_create_from_name: /Users/nvalett/opt/anaconda3/share/proj/proj.db lacks DATABASE.LAYOUT.VERSION.MAJOR / DATABASE.LAYOUT.VERSION.MINOR metadata. It comes from another PROJ installation.\n",
      "ERROR 1: PROJ: internal_proj_create_from_name: /Users/nvalett/opt/anaconda3/share/proj/proj.db lacks DATABASE.LAYOUT.VERSION.MAJOR / DATABASE.LAYOUT.VERSION.MINOR metadata. It comes from another PROJ installation.\n"
     ]
    },
    {
     "name": "stdout",
     "output_type": "stream",
     "text": [
      "Delta connectivity: 32602\n",
      "Permiability Restored: 4.936029197080292\n",
      "Percent connectivity changed: 0.0009304348014693804%\n",
      "Connectivity/permiability_restored: 6604.9\n"
     ]
    }
   ],
   "source": [
    "# Flow restoration\n",
    "flowOptimizer = flowRestoration(HABITAT_PATH, TERRAIN_PATH, RESTORED_TERRAIN_PATH, CONNECTIVITY_PATH, FLOW_PATH, RESTORED_CONNECTIVITY_PATH, RESTORED_FLOW_PATH, DEATH_PATH, PERMEABILITY_PATH, 50) #hab_mat, unrestorable)\n",
    "\n",
    "# flowOptimizer.run_connectivity(gap_crossing=2, num_gaps=40)\n",
    "permiability_restored = flowOptimizer.restore()\n",
    "flowOptimizer.run_connectivity(gap_crossing=2, num_gaps=40, restored=True)\n",
    "print(f\"Delta connectivity: {flowOptimizer.get_delta_connectivity()}\")\n",
    "print(f\"Permiability Restored: {permiability_restored}\")\n",
    "print(f\"Percent connectivity changed: {flowOptimizer.get_connectivity_percent_changed()}%\")\n",
    "print(f\"Connectivity/permiability_restored: {round(flowOptimizer.get_delta_connectivity()/permiability_restored, 2)}\")"
   ]
  },
  {
   "cell_type": "code",
   "execution_count": null,
   "metadata": {},
   "outputs": [],
   "source": [
    "# Flow restoration\n",
    "flowOptimizer = flowRestoration(HABITAT_PATH, TERRAIN_PATH, RESTORED_TERRAIN_PATH, CONNECTIVITY_PATH, FLOW_PATH, RESTORED_CONNECTIVITY_PATH, RESTORED_FLOW_PATH, DEATH_PATH, PERMEABILITY_PATH, 50) #hab_mat, unrestorable)\n",
    "\n",
    "flowOptimizer.run_connectivity(gap_crossing=3, num_gaps=50)\n",
    "permiability_restored = flowOptimizer.restore()\n",
    "flowOptimizer.run_connectivity(gap_crossing=2, num_gaps=40, restored=True)\n",
    "print(f\"Delta connectivity: {flowOptimizer.get_delta_connectivity()}\")\n",
    "print(f\"Permiability Restored: {permiability_restored}\")\n",
    "print(f\"Percent connectivity changed: {flowOptimizer.get_connectivity_percent_changed()}%\")\n",
    "print(f\"Connectivity/permiability_restored: {round(flowOptimizer.get_delta_connectivity()/permiability_restored, 2)}\")"
   ]
  },
  {
   "cell_type": "code",
   "execution_count": 25,
   "metadata": {},
   "outputs": [
    {
     "name": "stdout",
     "output_type": "stream",
     "text": [
      "50\n",
      "{(360, 460): 80, (598, 75): 79, (574, 138): 76, (568, 658): 76, (570, 656): 75, (564, 1067): 75, (584, 1090): 74, (575, 1092): 71, (574, 1090): 71, (621, 111): 70, (539, 159): 70, (581, 138): 70, (582, 660): 70, (492, 735): 69, (346, 425): 69, (493, 732): 69, (579, 69): 69, (586, 75): 69, (452, 413): 69, (558, 656): 68, (581, 815): 68, (583, 153): 68, (545, 101): 68, (620, 109): 68, (570, 1069): 68, (592, 1074): 68, (590, 1075): 68, (591, 1075): 68, (583, 1090): 68, (471, 287): 67, (582, 153): 67, (606, 665): 67, (503, 753): 67, (452, 414): 67, (472, 284): 67, (663, 462): 67, (614, 114): 67, (462, 1127): 66, (590, 1077): 66, (566, 773): 66, (598, 1071): 66, (562, 772): 66, (447, 1024): 66, (517, 654): 66, (320, 423): 66, (523, 855): 66, (556, 130): 66, (635, 893): 65, (613, 114): 65, (677, 622): 65}\n"
     ]
    }
   ],
   "source": [
    "print(len(flowOptimizer.changed_pixels))\n",
    "print(flowOptimizer.changed_pixels)"
   ]
  },
  {
   "cell_type": "code",
   "execution_count": 23,
   "metadata": {},
   "outputs": [
    {
     "name": "stderr",
     "output_type": "stream",
     "text": [
      "ERROR 1: PROJ: internal_proj_create_from_name: /Users/nvalett/opt/anaconda3/share/proj/proj.db lacks DATABASE.LAYOUT.VERSION.MAJOR / DATABASE.LAYOUT.VERSION.MINOR metadata. It comes from another PROJ installation.\n",
      "ERROR 1: PROJ: internal_proj_create_from_name: /Users/nvalett/opt/anaconda3/share/proj/proj.db lacks DATABASE.LAYOUT.VERSION.MAJOR / DATABASE.LAYOUT.VERSION.MINOR metadata. It comes from another PROJ installation.\n"
     ]
    }
   ],
   "source": [
    "TERRAIN_CHANGED_UTOPIAN = os.path.join(DATA_PATH, \"smol_fragmented/changed_terrain_flow.tif\")\n",
    "CONNECTIVITY_DIFF_UTOPIAN = os.path.join(DATA_PATH, \"smol_fragmented/connectivity_diff_flow.tif\")\n",
    "\n",
    "# paint changed terrain pixels\n",
    "flowOptimizer.paint_changed_terrain_geotiff(TERRAIN_CHANGED_UTOPIAN, value=1)\n",
    "# view diff of before and after\n",
    "flowOptimizer.get_connectivity_difference_tif(CONNECTIVITY_DIFF_UTOPIAN)"
   ]
  },
  {
   "cell_type": "code",
   "execution_count": 26,
   "metadata": {},
   "outputs": [
    {
     "name": "stderr",
     "output_type": "stream",
     "text": [
      "ERROR 1: PROJ: internal_proj_create_from_name: /Users/nvalett/opt/anaconda3/share/proj/proj.db lacks DATABASE.LAYOUT.VERSION.MAJOR / DATABASE.LAYOUT.VERSION.MINOR metadata. It comes from another PROJ installation.\n",
      "ERROR 1: PROJ: internal_proj_create_from_name: /Users/nvalett/opt/anaconda3/share/proj/proj.db lacks DATABASE.LAYOUT.VERSION.MAJOR / DATABASE.LAYOUT.VERSION.MINOR metadata. It comes from another PROJ installation.\n",
      "ERROR 1: PROJ: internal_proj_create_from_name: /Users/nvalett/opt/anaconda3/share/proj/proj.db lacks DATABASE.LAYOUT.VERSION.MAJOR / DATABASE.LAYOUT.VERSION.MINOR metadata. It comes from another PROJ installation.\n"
     ]
    },
    {
     "name": "stdout",
     "output_type": "stream",
     "text": [
      "[(740, 668), (740, 669), (741, 668), (741, 669), (592, 692), (592, 693), (593, 692), (593, 693), (286, 834), (286, 835), (287, 834), (108, 1130), (108, 1131), (109, 1130), (109, 1131), (64, 1122), (65, 1122), (65, 1123), (72, 1114), (72, 1115), (73, 1114), (73, 1115), (92, 1090), (92, 1091), (93, 1090), (93, 1091), (506, 968), (506, 969), (507, 968), (507, 969), (590, 1075), (591, 1074), (591, 1075), (610, 1140), (610, 1141), (611, 1140), (611, 1141), (222, 818), (222, 819), (223, 818), (223, 819), (490, 746), (490, 747), (491, 746), (491, 747), (570, 660), (570, 661), (571, 660), (571, 661), (408, 470), (408, 471), (409, 470)]\n"
     ]
    },
    {
     "name": "stderr",
     "output_type": "stream",
     "text": [
      "ERROR 1: PROJ: internal_proj_create_from_name: /Users/nvalett/opt/anaconda3/share/proj/proj.db lacks DATABASE.LAYOUT.VERSION.MAJOR / DATABASE.LAYOUT.VERSION.MINOR metadata. It comes from another PROJ installation.\n",
      "ERROR 1: PROJ: internal_proj_create_from_name: /Users/nvalett/opt/anaconda3/share/proj/proj.db lacks DATABASE.LAYOUT.VERSION.MAJOR / DATABASE.LAYOUT.VERSION.MINOR metadata. It comes from another PROJ installation.\n"
     ]
    },
    {
     "name": "stdout",
     "output_type": "stream",
     "text": [
      "Delta connectivity: 11605\n",
      "Permiability Restored: 5.512934306569342\n",
      "Percent connectivity changed: 0.0003311973459006245%\n",
      "Connectivity/permiability_restored: 2105.049571545086\n"
     ]
    }
   ],
   "source": [
    "# low res with factor of 2\n",
    "lowResFlowOptimizer = lowResFlowRestoration(HABITAT_PATH, TERRAIN_PATH, RESTORED_TERRAIN_PATH, CONNECTIVITY_PATH, RESTORED_CONNECTIVITY_PATH, FLOW_PATH, RESTORED_FLOW_PATH, DEATH_PATH, LOW_RES_FLOW_PATH, PERMEABILITY_PATH, 2, 2, 50, percent_impermiable=0.75)\n",
    "\n",
    "lowResFlowOptimizer.run_connectivity(gap_crossing=2, num_gaps=40)\n",
    "permiability_restored = lowResFlowOptimizer.restore()\n",
    "lowResFlowOptimizer.run_connectivity(gap_crossing=2, num_gaps=40, restored=True)\n",
    "print(f\"Delta connectivity: {lowResFlowOptimizer.get_delta_connectivity()}\")\n",
    "print(f\"Permiability Restored: {permiability_restored}\")\n",
    "print(f\"Percent connectivity changed: {lowResFlowOptimizer.get_connectivity_percent_changed()}%\")\n",
    "print(f\"Connectivity/permiability_restored: {lowResFlowOptimizer.get_delta_connectivity()/permiability_restored}\")"
   ]
  },
  {
   "cell_type": "code",
   "execution_count": 27,
   "metadata": {},
   "outputs": [
    {
     "name": "stderr",
     "output_type": "stream",
     "text": [
      "ERROR 1: PROJ: internal_proj_create_from_name: /Users/nvalett/opt/anaconda3/share/proj/proj.db lacks DATABASE.LAYOUT.VERSION.MAJOR / DATABASE.LAYOUT.VERSION.MINOR metadata. It comes from another PROJ installation.\n",
      "ERROR 1: PROJ: internal_proj_create_from_name: /Users/nvalett/opt/anaconda3/share/proj/proj.db lacks DATABASE.LAYOUT.VERSION.MAJOR / DATABASE.LAYOUT.VERSION.MINOR metadata. It comes from another PROJ installation.\n"
     ]
    }
   ],
   "source": [
    "TERRAIN_CHANGED_UTOPIAN = os.path.join(DATA_PATH, \"smol_fragmented/changed_terrain_flow_low_res_2_2.tif\")\n",
    "CONNECTIVITY_DIFF_UTOPIAN = os.path.join(DATA_PATH, \"smol_fragmented/connectivity_diff_flow_low_res_2_2.tif\")\n",
    "\n",
    "# paint changed terrain pixels\n",
    "lowResFlowOptimizer.paint_changed_terrain_geotiff(TERRAIN_CHANGED_UTOPIAN, value=1)\n",
    "# view diff of before and after\n",
    "lowResFlowOptimizer.get_connectivity_difference_tif(CONNECTIVITY_DIFF_UTOPIAN)"
   ]
  },
  {
   "cell_type": "code",
   "execution_count": 29,
   "metadata": {},
   "outputs": [
    {
     "name": "stderr",
     "output_type": "stream",
     "text": [
      "ERROR 1: PROJ: internal_proj_create_from_name: /Users/nvalett/opt/anaconda3/share/proj/proj.db lacks DATABASE.LAYOUT.VERSION.MAJOR / DATABASE.LAYOUT.VERSION.MINOR metadata. It comes from another PROJ installation.\n"
     ]
    },
    {
     "name": "stdout",
     "output_type": "stream",
     "text": [
      "[(220, 816), (220, 819), (221, 818), (221, 819), (222, 816), (222, 817), (222, 818), (222, 819), (223, 816), (223, 817), (223, 818), (223, 819), (492, 732), (492, 733), (492, 734), (492, 735), (493, 732), (493, 733), (493, 734), (493, 735), (494, 732), (494, 733), (494, 735), (495, 732), (495, 733), (495, 735), (400, 369), (400, 370), (400, 371), (401, 368), (401, 369), (401, 370), (402, 368), (402, 369), (402, 370), (403, 368), (403, 369), (403, 370), (64, 1120), (64, 1121), (64, 1122), (65, 1121), (65, 1122), (65, 1123), (66, 1120), (66, 1121), (66, 1122), (66, 1123), (67, 1122), (67, 1123)]\n"
     ]
    },
    {
     "name": "stderr",
     "output_type": "stream",
     "text": [
      "ERROR 1: PROJ: internal_proj_create_from_name: /Users/nvalett/opt/anaconda3/share/proj/proj.db lacks DATABASE.LAYOUT.VERSION.MAJOR / DATABASE.LAYOUT.VERSION.MINOR metadata. It comes from another PROJ installation.\n",
      "ERROR 1: PROJ: internal_proj_create_from_name: /Users/nvalett/opt/anaconda3/share/proj/proj.db lacks DATABASE.LAYOUT.VERSION.MAJOR / DATABASE.LAYOUT.VERSION.MINOR metadata. It comes from another PROJ installation.\n"
     ]
    },
    {
     "name": "stdout",
     "output_type": "stream",
     "text": [
      "Delta connectivity: 4999\n",
      "Permiability Restored: 7.3780145985401475\n",
      "Percent connectivity changed: 0.00014266743060381058%\n",
      "Connectivity/permiability_restored: 677.5535522780245\n"
     ]
    }
   ],
   "source": [
    "# low res with factor of 4\n",
    "lowResFlowOptimizer = lowResFlowRestoration(HABITAT_PATH, TERRAIN_PATH, RESTORED_TERRAIN_PATH, CONNECTIVITY_PATH, RESTORED_CONNECTIVITY_PATH, FLOW_PATH, RESTORED_FLOW_PATH, DEATH_PATH, LOW_RES_FLOW_PATH, PERMEABILITY_PATH, 4, 4, 50, percent_impermiable=0.75)\n",
    "\n",
    "# lowResFlowOptimizer.run_connectivity(gap_crossing=2, num_gaps=40)\n",
    "permiability_restored = lowResFlowOptimizer.restore()\n",
    "lowResFlowOptimizer.run_connectivity(gap_crossing=2, num_gaps=40, restored=True)\n",
    "print(f\"Delta connectivity: {lowResFlowOptimizer.get_delta_connectivity()}\")\n",
    "print(f\"Permiability Restored: {permiability_restored}\")\n",
    "print(f\"Percent connectivity changed: {lowResFlowOptimizer.get_connectivity_percent_changed()}%\")\n",
    "print(f\"Connectivity/permiability_restored: {lowResFlowOptimizer.get_delta_connectivity()/permiability_restored}\")"
   ]
  },
  {
   "cell_type": "code",
   "execution_count": 32,
   "metadata": {},
   "outputs": [
    {
     "name": "stderr",
     "output_type": "stream",
     "text": [
      "ERROR 1: PROJ: internal_proj_create_from_name: /Users/nvalett/opt/anaconda3/share/proj/proj.db lacks DATABASE.LAYOUT.VERSION.MAJOR / DATABASE.LAYOUT.VERSION.MINOR metadata. It comes from another PROJ installation.\n"
     ]
    },
    {
     "name": "stdout",
     "output_type": "stream",
     "text": [
      "[(601, 372), (601, 373), (602, 372), (602, 373), (412, 479), (414, 477), (415, 477), (415, 479), (254, 900), (254, 901), (255, 900), (255, 901), (212, 846), (212, 847), (213, 845), (213, 847), (202, 862), (202, 863), (203, 862), (203, 863), (132, 1064), (132, 1067), (133, 1067), (135, 1066), (174, 933), (174, 934), (175, 932), (175, 933), (256, 915), (257, 915), (258, 915), (259, 914), (588, 1075), (590, 1075), (591, 1073), (591, 1074), (591, 1075), (614, 378), (614, 379), (615, 378), (615, 379), (164, 992), (164, 993), (166, 993), (166, 995), (161, 1149), (162, 1148), (162, 1149), (162, 1150), (597, 374), (597, 375), (598, 372), (599, 372)]\n"
     ]
    },
    {
     "name": "stderr",
     "output_type": "stream",
     "text": [
      "ERROR 1: PROJ: internal_proj_create_from_name: /Users/nvalett/opt/anaconda3/share/proj/proj.db lacks DATABASE.LAYOUT.VERSION.MAJOR / DATABASE.LAYOUT.VERSION.MINOR metadata. It comes from another PROJ installation.\n",
      "ERROR 1: PROJ: internal_proj_create_from_name: /Users/nvalett/opt/anaconda3/share/proj/proj.db lacks DATABASE.LAYOUT.VERSION.MAJOR / DATABASE.LAYOUT.VERSION.MINOR metadata. It comes from another PROJ installation.\n"
     ]
    },
    {
     "ename": "KeyboardInterrupt",
     "evalue": "",
     "output_type": "error",
     "traceback": [
      "\u001b[0;31m---------------------------------------------------------------------------\u001b[0m",
      "\u001b[0;31mKeyboardInterrupt\u001b[0m                         Traceback (most recent call last)",
      "Cell \u001b[0;32mIn[32], line 6\u001b[0m\n\u001b[1;32m      4\u001b[0m \u001b[38;5;66;03m# lowResFlowOptimizer.run_connectivity(gap_crossing=2, num_gaps=40)\u001b[39;00m\n\u001b[1;32m      5\u001b[0m permiability_restored \u001b[38;5;241m=\u001b[39m lowResFlowOptimizer\u001b[38;5;241m.\u001b[39mrestore()\n\u001b[0;32m----> 6\u001b[0m \u001b[43mlowResFlowOptimizer\u001b[49m\u001b[38;5;241;43m.\u001b[39;49m\u001b[43mrun_connectivity\u001b[49m\u001b[43m(\u001b[49m\u001b[43mgap_crossing\u001b[49m\u001b[38;5;241;43m=\u001b[39;49m\u001b[38;5;241;43m2\u001b[39;49m\u001b[43m,\u001b[49m\u001b[43m \u001b[49m\u001b[43mnum_gaps\u001b[49m\u001b[38;5;241;43m=\u001b[39;49m\u001b[38;5;241;43m40\u001b[39;49m\u001b[43m,\u001b[49m\u001b[43m \u001b[49m\u001b[43mrestored\u001b[49m\u001b[38;5;241;43m=\u001b[39;49m\u001b[38;5;28;43;01mTrue\u001b[39;49;00m\u001b[43m)\u001b[49m\n\u001b[1;32m      7\u001b[0m \u001b[38;5;28mprint\u001b[39m(\u001b[38;5;124mf\u001b[39m\u001b[38;5;124m\"\u001b[39m\u001b[38;5;124mDelta connectivity: \u001b[39m\u001b[38;5;132;01m{\u001b[39;00mlowResFlowOptimizer\u001b[38;5;241m.\u001b[39mget_delta_connectivity()\u001b[38;5;132;01m}\u001b[39;00m\u001b[38;5;124m\"\u001b[39m)\n\u001b[1;32m      8\u001b[0m \u001b[38;5;28mprint\u001b[39m(\u001b[38;5;124mf\u001b[39m\u001b[38;5;124m\"\u001b[39m\u001b[38;5;124mPermiability Restored: \u001b[39m\u001b[38;5;132;01m{\u001b[39;00mpermiability_restored\u001b[38;5;132;01m}\u001b[39;00m\u001b[38;5;124m\"\u001b[39m)\n",
      "File \u001b[0;32m~/Documents/Natalie/Species Dist Research/Code/ecoscape-earth/EcoLinker/EcoLinker/restorationOptimizer.py:33\u001b[0m, in \u001b[0;36mrestorationOptimizer.run_connectivity\u001b[0;34m(self, single_tile, deterministic, restored, gap_crossing, num_gaps)\u001b[0m\n\u001b[1;32m     31\u001b[0m \u001b[38;5;28;01mdef\u001b[39;00m \u001b[38;5;21mrun_connectivity\u001b[39m(\u001b[38;5;28mself\u001b[39m, single_tile\u001b[38;5;241m=\u001b[39m\u001b[38;5;28;01mTrue\u001b[39;00m, deterministic\u001b[38;5;241m=\u001b[39m\u001b[38;5;28;01mTrue\u001b[39;00m, restored\u001b[38;5;241m=\u001b[39m\u001b[38;5;28;01mFalse\u001b[39;00m, gap_crossing\u001b[38;5;241m=\u001b[39m\u001b[38;5;241m1\u001b[39m, num_gaps\u001b[38;5;241m=\u001b[39m\u001b[38;5;241m20\u001b[39m):\n\u001b[1;32m     32\u001b[0m     \u001b[38;5;28;01mif\u001b[39;00m (restored):\n\u001b[0;32m---> 33\u001b[0m         \u001b[43mrepopulation\u001b[49m\u001b[38;5;241;43m.\u001b[39;49m\u001b[43mcompute_connectivity\u001b[49m\u001b[43m(\u001b[49m\u001b[38;5;28;43mself\u001b[39;49m\u001b[38;5;241;43m.\u001b[39;49m\u001b[43mhabitat_fn\u001b[49m\u001b[43m,\u001b[49m\u001b[43m \u001b[49m\u001b[38;5;28;43mself\u001b[39;49m\u001b[38;5;241;43m.\u001b[39;49m\u001b[43mrestored_terr_fn\u001b[49m\u001b[43m,\u001b[49m\u001b[43m \u001b[49m\u001b[38;5;28;43mself\u001b[39;49m\u001b[38;5;241;43m.\u001b[39;49m\u001b[43mrestored_connectivity_fn\u001b[49m\u001b[43m,\u001b[49m\u001b[43m \u001b[49m\u001b[38;5;28;43mself\u001b[39;49m\u001b[38;5;241;43m.\u001b[39;49m\u001b[43mrestored_flow_fn\u001b[49m\u001b[43m,\u001b[49m\u001b[43m \u001b[49m\u001b[38;5;28;43mself\u001b[39;49m\u001b[38;5;241;43m.\u001b[39;49m\u001b[43mpermeability_dict\u001b[49m\u001b[43m,\u001b[49m\u001b[43m \u001b[49m\u001b[43mnum_gaps\u001b[49m\u001b[38;5;241;43m=\u001b[39;49m\u001b[38;5;241;43m20\u001b[39;49m\u001b[43m,\u001b[49m\u001b[43m \u001b[49m\u001b[43msingle_tile\u001b[49m\u001b[38;5;241;43m=\u001b[39;49m\u001b[43msingle_tile\u001b[49m\u001b[43m,\u001b[49m\u001b[43m \u001b[49m\u001b[43mgap_crossing\u001b[49m\u001b[38;5;241;43m=\u001b[39;49m\u001b[43mgap_crossing\u001b[49m\u001b[43m,\u001b[49m\u001b[43m \u001b[49m\u001b[43mdeterministic\u001b[49m\u001b[38;5;241;43m=\u001b[39;49m\u001b[43mdeterministic\u001b[49m\u001b[43m)\u001b[49m\n\u001b[1;32m     34\u001b[0m     \u001b[38;5;28;01melse\u001b[39;00m:\n\u001b[1;32m     35\u001b[0m         repopulation\u001b[38;5;241m.\u001b[39mcompute_connectivity(\u001b[38;5;28mself\u001b[39m\u001b[38;5;241m.\u001b[39mhabitat_fn, \u001b[38;5;28mself\u001b[39m\u001b[38;5;241m.\u001b[39mterrain_fn, \u001b[38;5;28mself\u001b[39m\u001b[38;5;241m.\u001b[39mconnectivity_fn, \u001b[38;5;28mself\u001b[39m\u001b[38;5;241m.\u001b[39mflow_fn, \u001b[38;5;28mself\u001b[39m\u001b[38;5;241m.\u001b[39mpermeability_dict, num_gaps\u001b[38;5;241m=\u001b[39m\u001b[38;5;241m20\u001b[39m, single_tile\u001b[38;5;241m=\u001b[39msingle_tile, gap_crossing\u001b[38;5;241m=\u001b[39mgap_crossing, deterministic\u001b[38;5;241m=\u001b[39mdeterministic)\n",
      "File \u001b[0;32m~/Documents/Natalie/Species Dist Research/Code/ecoscape-earth/ecoscape-connectivity/ecoscape_connectivity_local/repopulation.py:345\u001b[0m, in \u001b[0;36mcompute_connectivity\u001b[0;34m(habitat_fn, terrain_fn, connectivity_fn, flow_fn, permeability_dict, gap_crossing, num_gaps, num_simulations, seed_density, single_tile, tile_size, tile_border, minimum_habitat, deterministic, resistance_given)\u001b[0m\n\u001b[1;32m    337\u001b[0m analysis_fn \u001b[38;5;241m=\u001b[39m analyze_tile_torch(\n\u001b[1;32m    338\u001b[0m     seed_density\u001b[38;5;241m=\u001b[39mseed_density,\n\u001b[1;32m    339\u001b[0m     produce_gradient\u001b[38;5;241m=\u001b[39mflow_fn \u001b[38;5;129;01mis\u001b[39;00m \u001b[38;5;129;01mnot\u001b[39;00m \u001b[38;5;28;01mNone\u001b[39;00m,\n\u001b[0;32m   (...)\u001b[0m\n\u001b[1;32m    342\u001b[0m     hop_length\u001b[38;5;241m=\u001b[39mgap_crossing,\n\u001b[1;32m    343\u001b[0m     deterministic\u001b[38;5;241m=\u001b[39mdeterministic)\n\u001b[1;32m    344\u001b[0m \u001b[38;5;66;03m# Applies it.\u001b[39;00m\n\u001b[0;32m--> 345\u001b[0m \u001b[43manalyze_geotiffs\u001b[49m\u001b[43m(\u001b[49m\n\u001b[1;32m    346\u001b[0m \u001b[43m    \u001b[49m\u001b[43mhabitat_fn\u001b[49m\u001b[43m,\u001b[49m\u001b[43m \u001b[49m\u001b[43mterrain_fn\u001b[49m\u001b[43m,\u001b[49m\n\u001b[1;32m    347\u001b[0m \u001b[43m    \u001b[49m\u001b[43mpermeability_dict\u001b[49m\u001b[43m,\u001b[49m\n\u001b[1;32m    348\u001b[0m \u001b[43m    \u001b[49m\u001b[43manalysis_fn\u001b[49m\u001b[38;5;241;43m=\u001b[39;49m\u001b[43manalysis_fn\u001b[49m\u001b[43m,\u001b[49m\n\u001b[1;32m    349\u001b[0m \u001b[43m    \u001b[49m\u001b[43msingle_tile\u001b[49m\u001b[38;5;241;43m=\u001b[39;49m\u001b[43msingle_tile\u001b[49m\u001b[43m,\u001b[49m\n\u001b[1;32m    350\u001b[0m \u001b[43m    \u001b[49m\u001b[43mblock_size\u001b[49m\u001b[38;5;241;43m=\u001b[39;49m\u001b[43mtile_size\u001b[49m\u001b[43m,\u001b[49m\n\u001b[1;32m    351\u001b[0m \u001b[43m    \u001b[49m\u001b[43mborder_size\u001b[49m\u001b[38;5;241;43m=\u001b[39;49m\u001b[43mtile_border\u001b[49m\u001b[43m,\u001b[49m\n\u001b[1;32m    352\u001b[0m \u001b[43m    \u001b[49m\u001b[43mgenerate_gradient\u001b[49m\u001b[38;5;241;43m=\u001b[39;49m\u001b[43mflow_fn\u001b[49m\u001b[43m \u001b[49m\u001b[38;5;129;43;01mis\u001b[39;49;00m\u001b[43m \u001b[49m\u001b[38;5;129;43;01mnot\u001b[39;49;00m\u001b[43m \u001b[49m\u001b[38;5;28;43;01mNone\u001b[39;49;00m\u001b[43m,\u001b[49m\n\u001b[1;32m    353\u001b[0m \u001b[43m    \u001b[49m\u001b[43mminimum_habitat\u001b[49m\u001b[38;5;241;43m=\u001b[39;49m\u001b[43mminimum_habitat\u001b[49m\u001b[43m,\u001b[49m\n\u001b[1;32m    354\u001b[0m \u001b[43m    \u001b[49m\u001b[43moutput_repop_fn\u001b[49m\u001b[38;5;241;43m=\u001b[39;49m\u001b[43mconnectivity_fn\u001b[49m\u001b[43m,\u001b[49m\n\u001b[1;32m    355\u001b[0m \u001b[43m    \u001b[49m\u001b[43moutput_grad_fn\u001b[49m\u001b[38;5;241;43m=\u001b[39;49m\u001b[43mflow_fn\u001b[49m\u001b[43m,\u001b[49m\n\u001b[1;32m    356\u001b[0m \u001b[43m    \u001b[49m\u001b[43mresistance_given\u001b[49m\u001b[38;5;241;43m=\u001b[39;49m\u001b[38;5;28;43;01mFalse\u001b[39;49;00m\n\u001b[1;32m    357\u001b[0m \u001b[43m\u001b[49m\u001b[43m)\u001b[49m\n",
      "File \u001b[0;32m~/Documents/Natalie/Species Dist Research/Code/ecoscape-earth/ecoscape-connectivity/ecoscape_connectivity_local/repopulation.py:280\u001b[0m, in \u001b[0;36manalyze_geotiffs\u001b[0;34m(habitat_fn, terrain_fn, terr_to_transmission, analysis_fn, single_tile, hab_tile, ter_tile, block_size, border_size, generate_gradient, interesting_tiles, display_tiles, disp_fn, minimum_habitat, output_repop_fn, output_grad_fn, report_progress, resistance_given)\u001b[0m\n\u001b[1;32m    278\u001b[0m     \u001b[38;5;28;01mwith\u001b[39;00m habitat_geotiff\u001b[38;5;241m.\u001b[39mclone_shape(output_repop_fn) \u001b[38;5;28;01mas\u001b[39;00m repop_output:\n\u001b[1;32m    279\u001b[0m         \u001b[38;5;28;01mwith\u001b[39;00m habitat_geotiff\u001b[38;5;241m.\u001b[39mclone_shape(output_grad_fn) \u001b[38;5;28;01mif\u001b[39;00m do_gradient \u001b[38;5;28;01melse\u001b[39;00m nullcontext() \u001b[38;5;28;01mas\u001b[39;00m grad_output:\n\u001b[0;32m--> 280\u001b[0m             \u001b[43mdo_analysis\u001b[49m\u001b[43m(\u001b[49m\u001b[43mrepop_output\u001b[49m\u001b[43m,\u001b[49m\u001b[43m \u001b[49m\u001b[43mgrad_output\u001b[49m\u001b[43m)\u001b[49m\n\u001b[1;32m    281\u001b[0m \u001b[38;5;28;01melse\u001b[39;00m:\n\u001b[1;32m    282\u001b[0m     do_analysis(\u001b[38;5;28;01mNone\u001b[39;00m, \u001b[38;5;28;01mNone\u001b[39;00m)\n",
      "File \u001b[0;32m~/Documents/Natalie/Species Dist Research/Code/ecoscape-earth/ecoscape-connectivity/ecoscape_connectivity_local/repopulation.py:241\u001b[0m, in \u001b[0;36manalyze_geotiffs.<locals>.do_analysis\u001b[0;34m(repop_file, grad_file)\u001b[0m\n\u001b[1;32m    239\u001b[0m     disp_fn(terrain, title\u001b[38;5;241m=\u001b[39m\u001b[38;5;124m\"\u001b[39m\u001b[38;5;124mTerrain transmission\u001b[39m\u001b[38;5;124m\"\u001b[39m)\n\u001b[1;32m    240\u001b[0m \u001b[38;5;66;03m# Then, we processes the terrain and habitat tiles.\u001b[39;00m\n\u001b[0;32m--> 241\u001b[0m pop, grad \u001b[38;5;241m=\u001b[39m \u001b[43manalysis_fn\u001b[49m\u001b[43m(\u001b[49m\u001b[43mhabitat\u001b[49m\u001b[43m,\u001b[49m\u001b[43m \u001b[49m\u001b[43mterrain\u001b[49m\u001b[43m)\u001b[49m\n\u001b[1;32m    242\u001b[0m \u001b[38;5;66;03m# Normalizes the tiles, to fit into the geotiff format.\u001b[39;00m\n\u001b[1;32m    243\u001b[0m \u001b[38;5;66;03m# The population is simply normalized with a max of 255. After all it is in [0, 1].\u001b[39;00m\n\u001b[1;32m    244\u001b[0m \u001b[38;5;66;03m# We need to use type float because clam is not implemented for all types.\u001b[39;00m\n\u001b[1;32m    245\u001b[0m \u001b[38;5;66;03m# print(isinstance(pop))\u001b[39;00m\n\u001b[1;32m    246\u001b[0m \u001b[38;5;28;01mif\u001b[39;00m \u001b[38;5;28misinstance\u001b[39m(pop, np\u001b[38;5;241m.\u001b[39mndarray):\n\u001b[1;32m    247\u001b[0m     \u001b[38;5;66;03m# print('prev sum:', np.sum(pop), np.sum(pop)*255)\u001b[39;00m\n\u001b[1;32m    248\u001b[0m     \u001b[38;5;66;03m# np.set_printoptions(threshold=2000)\u001b[39;00m\n\u001b[1;32m    249\u001b[0m     \u001b[38;5;66;03m# print(pop[400:450,400:450])\u001b[39;00m\n",
      "File \u001b[0;32m~/Documents/Natalie/Species Dist Research/Code/ecoscape-earth/ecoscape-connectivity/ecoscape_connectivity_local/repopulation.py:135\u001b[0m, in \u001b[0;36manalyze_tile_torch.<locals>.f\u001b[0;34m(habitat, terrain)\u001b[0m\n\u001b[1;32m    133\u001b[0m     \u001b[38;5;28;01mif\u001b[39;00m produce_gradient:\n\u001b[1;32m    134\u001b[0m         q \u001b[38;5;241m=\u001b[39m torch\u001b[38;5;241m.\u001b[39msum(pop)\n\u001b[0;32m--> 135\u001b[0m         \u001b[43mq\u001b[49m\u001b[38;5;241;43m.\u001b[39;49m\u001b[43mbackward\u001b[49m\u001b[43m(\u001b[49m\u001b[43m)\u001b[49m\n\u001b[1;32m    136\u001b[0m         tot_grad \u001b[38;5;241m+\u001b[39m\u001b[38;5;241m=\u001b[39m repopulator\u001b[38;5;241m.\u001b[39mget_grad()\n\u001b[1;32m    137\u001b[0m \u001b[38;5;66;03m# Normalizes by number of batches.\u001b[39;00m\n",
      "File \u001b[0;32m~/opt/anaconda3/lib/python3.9/site-packages/torch/_tensor.py:307\u001b[0m, in \u001b[0;36mTensor.backward\u001b[0;34m(self, gradient, retain_graph, create_graph, inputs)\u001b[0m\n\u001b[1;32m    298\u001b[0m \u001b[38;5;28;01mif\u001b[39;00m has_torch_function_unary(\u001b[38;5;28mself\u001b[39m):\n\u001b[1;32m    299\u001b[0m     \u001b[38;5;28;01mreturn\u001b[39;00m handle_torch_function(\n\u001b[1;32m    300\u001b[0m         Tensor\u001b[38;5;241m.\u001b[39mbackward,\n\u001b[1;32m    301\u001b[0m         (\u001b[38;5;28mself\u001b[39m,),\n\u001b[0;32m   (...)\u001b[0m\n\u001b[1;32m    305\u001b[0m         create_graph\u001b[38;5;241m=\u001b[39mcreate_graph,\n\u001b[1;32m    306\u001b[0m         inputs\u001b[38;5;241m=\u001b[39minputs)\n\u001b[0;32m--> 307\u001b[0m \u001b[43mtorch\u001b[49m\u001b[38;5;241;43m.\u001b[39;49m\u001b[43mautograd\u001b[49m\u001b[38;5;241;43m.\u001b[39;49m\u001b[43mbackward\u001b[49m\u001b[43m(\u001b[49m\u001b[38;5;28;43mself\u001b[39;49m\u001b[43m,\u001b[49m\u001b[43m \u001b[49m\u001b[43mgradient\u001b[49m\u001b[43m,\u001b[49m\u001b[43m \u001b[49m\u001b[43mretain_graph\u001b[49m\u001b[43m,\u001b[49m\u001b[43m \u001b[49m\u001b[43mcreate_graph\u001b[49m\u001b[43m,\u001b[49m\u001b[43m \u001b[49m\u001b[43minputs\u001b[49m\u001b[38;5;241;43m=\u001b[39;49m\u001b[43minputs\u001b[49m\u001b[43m)\u001b[49m\n",
      "File \u001b[0;32m~/opt/anaconda3/lib/python3.9/site-packages/torch/autograd/__init__.py:154\u001b[0m, in \u001b[0;36mbackward\u001b[0;34m(tensors, grad_tensors, retain_graph, create_graph, grad_variables, inputs)\u001b[0m\n\u001b[1;32m    151\u001b[0m \u001b[38;5;28;01mif\u001b[39;00m retain_graph \u001b[38;5;129;01mis\u001b[39;00m \u001b[38;5;28;01mNone\u001b[39;00m:\n\u001b[1;32m    152\u001b[0m     retain_graph \u001b[38;5;241m=\u001b[39m create_graph\n\u001b[0;32m--> 154\u001b[0m \u001b[43mVariable\u001b[49m\u001b[38;5;241;43m.\u001b[39;49m\u001b[43m_execution_engine\u001b[49m\u001b[38;5;241;43m.\u001b[39;49m\u001b[43mrun_backward\u001b[49m\u001b[43m(\u001b[49m\n\u001b[1;32m    155\u001b[0m \u001b[43m    \u001b[49m\u001b[43mtensors\u001b[49m\u001b[43m,\u001b[49m\u001b[43m \u001b[49m\u001b[43mgrad_tensors_\u001b[49m\u001b[43m,\u001b[49m\u001b[43m \u001b[49m\u001b[43mretain_graph\u001b[49m\u001b[43m,\u001b[49m\u001b[43m \u001b[49m\u001b[43mcreate_graph\u001b[49m\u001b[43m,\u001b[49m\u001b[43m \u001b[49m\u001b[43minputs\u001b[49m\u001b[43m,\u001b[49m\n\u001b[1;32m    156\u001b[0m \u001b[43m    \u001b[49m\u001b[43mallow_unreachable\u001b[49m\u001b[38;5;241;43m=\u001b[39;49m\u001b[38;5;28;43;01mTrue\u001b[39;49;00m\u001b[43m,\u001b[49m\u001b[43m \u001b[49m\u001b[43maccumulate_grad\u001b[49m\u001b[38;5;241;43m=\u001b[39;49m\u001b[38;5;28;43;01mTrue\u001b[39;49;00m\u001b[43m)\u001b[49m\n",
      "\u001b[0;31mKeyboardInterrupt\u001b[0m: "
     ]
    }
   ],
   "source": [
    "# low res with factor of 4\n",
    "lowResFlowOptimizer = lowResFlowRestoration(HABITAT_PATH, TERRAIN_PATH, RESTORED_TERRAIN_PATH, CONNECTIVITY_PATH, RESTORED_CONNECTIVITY_PATH, FLOW_PATH, RESTORED_FLOW_PATH, DEATH_PATH, LOW_RES_FLOW_PATH, PERMEABILITY_PATH, 4, 4, 50, percent_impermiable=0.25)\n",
    "\n",
    "# lowResFlowOptimizer.run_connectivity(gap_crossing=2, num_gaps=40)\n",
    "permiability_restored = lowResFlowOptimizer.restore()\n",
    "lowResFlowOptimizer.run_connectivity(gap_crossing=2, num_gaps=40, restored=True)\n",
    "print(f\"Delta connectivity: {lowResFlowOptimizer.get_delta_connectivity()}\")\n",
    "print(f\"Permiability Restored: {permiability_restored}\")\n",
    "print(f\"Percent connectivity changed: {lowResFlowOptimizer.get_connectivity_percent_changed()}%\")\n",
    "print(f\"Connectivity/permiability_restored: {lowResFlowOptimizer.get_delta_connectivity()/permiability_restored}\")"
   ]
  },
  {
   "cell_type": "code",
   "execution_count": 30,
   "metadata": {},
   "outputs": [
    {
     "name": "stderr",
     "output_type": "stream",
     "text": [
      "ERROR 1: PROJ: internal_proj_create_from_name: /Users/nvalett/opt/anaconda3/share/proj/proj.db lacks DATABASE.LAYOUT.VERSION.MAJOR / DATABASE.LAYOUT.VERSION.MINOR metadata. It comes from another PROJ installation.\n",
      "ERROR 1: PROJ: internal_proj_create_from_name: /Users/nvalett/opt/anaconda3/share/proj/proj.db lacks DATABASE.LAYOUT.VERSION.MAJOR / DATABASE.LAYOUT.VERSION.MINOR metadata. It comes from another PROJ installation.\n"
     ]
    }
   ],
   "source": [
    "TERRAIN_CHANGED_UTOPIAN = os.path.join(DATA_PATH, \"smol_fragmented/changed_terrain_flow_low_res_4_4.tif\")\n",
    "CONNECTIVITY_DIFF_UTOPIAN = os.path.join(DATA_PATH, \"smol_fragmented/connectivity_diff_flow_low_res_4_4.tif\")\n",
    "\n",
    "# paint changed terrain pixels\n",
    "lowResFlowOptimizer.paint_changed_terrain_geotiff(TERRAIN_CHANGED_UTOPIAN, value=1)\n",
    "# view diff of before and after\n",
    "lowResFlowOptimizer.get_connectivity_difference_tif(CONNECTIVITY_DIFF_UTOPIAN)"
   ]
  },
  {
   "cell_type": "code",
   "execution_count": 14,
   "metadata": {},
   "outputs": [
    {
     "name": "stdout",
     "output_type": "stream",
     "text": [
      "[(43, 51)]\n",
      "[(44, 50)]\n",
      "[(45, 49)]\n",
      "[(44, 48)]\n",
      "[(45, 47)]\n",
      "[(46, 48)]\n",
      "[(47, 47)]\n",
      "[(46, 46)]\n",
      "[(46, 47)]\n",
      "[(47, 48)]\n",
      "[(48, 47)]\n",
      "[(47, 46)]\n",
      "[(48, 46)]\n",
      "[(49, 46)]\n",
      "[(50, 45)]\n",
      "[(49, 44)]\n",
      "[(50, 43)]\n",
      "[(49, 42)]\n",
      "[(48, 41)]\n",
      "[(47, 40)]\n",
      "[(46, 41)]\n",
      "[(45, 42)]\n",
      "[(44, 43)]\n",
      "[(43, 44)]\n",
      "[(42, 45)]\n",
      "[(41, 46)]\n",
      "[(42, 47)]\n",
      "[(41, 48)]\n",
      "[(40, 49)]\n",
      "[(39, 50)]\n",
      "[(38, 51)]\n",
      "[(37, 52)]\n",
      "[(36, 53)]\n",
      "[(37, 53)]\n",
      "[(36, 54)]\n",
      "[(35, 55)]\n",
      "[(36, 56)]\n",
      "[(37, 55)]\n",
      "[(38, 54)]\n",
      "[(39, 54)]\n",
      "[(40, 54)]\n",
      "[(41, 55)]\n",
      "[(40, 56)]\n",
      "[(39, 57)]\n",
      "[(38, 58)]\n",
      "[(38, 59)]\n",
      "[(38, 60)]\n",
      "[(37, 60)]\n",
      "[(36, 59)]\n",
      "[(37, 58)]\n",
      "[(37, 57)]\n",
      "[(36, 57)]\n",
      "[(35, 57)]\n",
      "[(34, 56)]\n",
      "[(34, 55)]\n",
      "[(35, 54)]\n",
      "[(34, 53)]\n",
      "[(33, 54)]\n",
      "[(33, 55)]\n",
      "[(32, 54)]\n",
      "[(32, 53)]\n",
      "[(31, 52)]\n",
      "[(30, 51)]\n",
      "[(29, 50)]\n",
      "[(28, 49)]\n",
      "[(27, 48)]\n",
      "[(28, 47)]\n",
      "[(29, 46)]\n",
      "[(30, 47)]\n",
      "[(31, 48)]\n",
      "[(30, 48)]\n",
      "[(29, 48)]\n",
      "[(29, 47)]\n",
      "[(28, 46)]\n",
      "[(28, 45)]\n",
      "[(28, 44)]\n",
      "[(27, 43)]\n",
      "[(27, 42)]\n",
      "[(28, 41)]\n",
      "[(29, 40)]\n",
      "[(30, 40)]\n",
      "[(31, 39)]\n",
      "[(32, 38)]\n",
      "[(33, 37)]\n",
      "[(33, 36)]\n",
      "[(34, 36)]\n",
      "[(35, 35)]\n",
      "[(34, 35)]\n",
      "[(33, 34)]\n",
      "[(32, 33)]\n",
      "[(31, 33)]\n",
      "[(30, 32)]\n",
      "[(29, 31)]\n",
      "[(28, 30)]\n",
      "[(27, 31)]\n",
      "[(26, 30)]\n",
      "[(26, 29)]\n",
      "[(25, 29)]\n",
      "[(25, 28)]\n",
      "[(24, 28)]\n",
      "[(23, 28)]\n",
      "[(23, 27)]\n",
      "[(23, 26)]\n",
      "[(22, 25)]\n",
      "[(21, 24)]\n",
      "[(20, 23)]\n",
      "[(20, 22)]\n",
      "[(20, 21)]\n",
      "[(21, 20)]\n",
      "[(21, 19)]\n",
      "[(20, 19)]\n",
      "[(19, 19)]\n",
      "[(18, 20)]\n",
      "[(19, 20)]\n",
      "[(19, 21)]\n",
      "[(18, 21)]\n",
      "[(17, 22)]\n",
      "[(16, 22)]\n",
      "[(16, 23)]\n",
      "[(17, 23)]\n",
      "[(18, 24)]\n",
      "[(19, 23)]\n",
      "[(20, 24)]\n",
      "[(20, 25)]\n",
      "[(21, 26)]\n",
      "[(22, 26)]\n",
      "[(22, 27)]\n",
      "[(21, 28)]\n",
      "[(20, 27)]\n",
      "[(19, 26)]\n",
      "[(18, 25)]\n",
      "[(18, 26)]\n",
      "[(17, 26)]\n",
      "[(16, 26)]\n",
      "[(17, 25)]\n",
      "[(17, 24)]\n",
      "[(16, 25)]\n",
      "[(15, 24)]\n",
      "[(15, 23)]\n",
      "[(15, 22)]\n",
      "[(15, 21)]\n",
      "[(15, 20)]\n",
      "[(15, 19)]\n",
      "[(16, 18)]\n",
      "[(17, 17)]\n",
      "[(17, 16)]\n",
      "[(16, 16)]\n",
      "[(16, 15)]\n",
      "[(16, 14)]\n",
      "[(16, 13)]\n",
      "[(15, 13)]\n",
      "[(14, 12)]\n",
      "[(14, 11)]\n",
      "[(15, 11)]\n",
      "[(16, 11)]\n",
      "[(17, 11)]\n",
      "[(18, 10)]\n",
      "[(17, 10)]\n",
      "[(16, 10)]\n",
      "[(15, 9)]\n",
      "[(16, 8)]\n",
      "[(17, 9)]\n",
      "[(16, 9)]\n",
      "[(15, 8)]\n",
      "[(14, 8)]\n",
      "[(13, 9)]\n",
      "[(12, 8)]\n",
      "[(11, 9)]\n",
      "[(10, 8)]\n",
      "[(10, 9)]\n",
      "[(9, 9)]\n",
      "[(9, 10)]\n",
      "[(9, 11)]\n",
      "[(10, 10)]\n",
      "[(11, 10)]\n",
      "[(12, 10)]\n",
      "[(13, 10)]\n",
      "[(14, 10)]\n",
      "[(15, 10)]\n",
      "[(14, 9)]\n",
      "[(13, 8)]\n",
      "[(13, 7)]\n",
      "[(14, 7)]\n",
      "[(15, 7)]\n",
      "[(15, 6)]\n",
      "[(14, 6)]\n",
      "[(13, 5)]\n",
      "[(12, 5)]\n",
      "[(11, 6)]\n",
      "[(10, 5)]\n",
      "[(9, 4)]\n",
      "[(8, 5)]\n",
      "[(9, 6)]\n",
      "[(9, 7)]\n",
      "[(10, 7)]\n",
      "[(11, 8)]\n",
      "[(12, 9)]\n",
      "[(122, 121)]\n",
      "[(123, 122)]\n",
      "[(124, 123)]\n",
      "[(125, 124)]\n",
      "[(126, 125)]\n",
      "[(127, 125)]\n",
      "[(127, 126)]\n",
      "[(128, 127)]\n",
      "[(129, 128)]\n",
      "[(130, 128)]\n",
      "[(131, 127)]\n",
      "[(132, 126)]\n",
      "[(133, 126)]\n",
      "[(134, 126)]\n",
      "[(134, 127)]\n",
      "[(135, 128)]\n",
      "[(134, 129)]\n",
      "[(133, 128)]\n",
      "[(132, 128)]\n",
      "[(131, 128)]\n",
      "[(130, 127)]\n",
      "[(129, 127)]\n",
      "[(128, 126)]\n",
      "[(128, 125)]\n",
      "[(129, 125)]\n",
      "[(129, 124)]\n",
      "[(128, 123)]\n",
      "[(127, 124)]\n",
      "[(126, 124)]\n",
      "[(125, 125)]\n",
      "[(125, 126)]\n",
      "[(126, 126)]\n",
      "[(126, 127)]\n",
      "[(127, 128)]\n",
      "[(127, 127)]\n",
      "[(128, 128)]\n",
      "[(128, 129)]\n",
      "[(127, 130)]\n",
      "[(126, 131)]\n",
      "[(126, 132)]\n",
      "[(127, 132)]\n",
      "[(128, 133)]\n",
      "[(129, 134)]\n",
      "[(130, 135)]\n",
      "[(130, 134)]\n",
      "[(130, 133)]\n",
      "[(131, 132)]\n",
      "[(132, 131)]\n",
      "[(133, 130)]\n",
      "[(134, 130)]\n",
      "[(135, 130)]\n",
      "[(136, 129)]\n",
      "[(137, 129)]\n",
      "[(138, 129)]\n",
      "[(137, 128)]\n",
      "[(136, 127)]\n",
      "[(137, 126)]\n",
      "[(136, 125)]\n",
      "[(135, 126)]\n",
      "[(135, 127)]\n",
      "[(136, 128)]\n",
      "[(135, 129)]\n",
      "[(134, 128)]\n",
      "[(133, 127)]\n",
      "[(132, 127)]\n",
      "[(131, 126)]\n",
      "[(130, 126)]\n",
      "[(131, 125)]\n",
      "[(131, 124)]\n",
      "[(132, 123)]\n",
      "[(131, 122)]\n",
      "[(130, 121)]\n",
      "[(129, 120)]\n",
      "[(128, 119)]\n",
      "[(127, 118)]\n",
      "[(128, 118)]\n",
      "[(129, 119)]\n",
      "[(130, 120)]\n",
      "[(131, 120)]\n",
      "[(132, 121)]\n",
      "[(133, 122)]\n",
      "[(134, 123)]\n",
      "[(134, 124)]\n",
      "[(134, 125)]\n",
      "[(133, 125)]\n",
      "[(132, 124)]\n",
      "[(132, 125)]\n",
      "[(133, 124)]\n",
      "[(133, 123)]\n",
      "[(132, 122)]\n",
      "[(131, 123)]\n",
      "[(130, 123)]\n",
      "[(129, 122)]\n",
      "[(129, 123)]\n",
      "[(130, 124)]\n",
      "[(130, 125)]\n",
      "[(129, 126)]\n",
      "[(44, 50)]\n",
      "[(44, 49)]\n",
      "[(45, 48)]\n",
      "[(46, 49)]\n",
      "[(47, 49)]\n",
      "[(48, 48)]\n",
      "[(49, 49)]\n",
      "[(50, 50)]\n",
      "[(51, 49)]\n",
      "[(52, 48)]\n",
      "[(52, 47)]\n",
      "[(53, 46)]\n",
      "[(54, 45)]\n",
      "[(55, 44)]\n",
      "[(55, 43)]\n",
      "[(54, 43)]\n",
      "[(55, 42)]\n",
      "[(56, 43)]\n",
      "[(56, 44)]\n",
      "[(56, 45)]\n",
      "[(57, 46)]\n",
      "[(58, 46)]\n",
      "[(59, 47)]\n",
      "[(60, 48)]\n",
      "[(61, 49)]\n",
      "[(62, 50)]\n",
      "[(63, 50)]\n",
      "[(64, 51)]\n",
      "[(64, 52)]\n",
      "[(65, 53)]\n",
      "[(64, 53)]\n",
      "[(64, 54)]\n",
      "[(65, 54)]\n",
      "[(66, 54)]\n",
      "[(67, 54)]\n",
      "[(68, 54)]\n",
      "[(68, 53)]\n",
      "[(69, 52)]\n",
      "[(68, 51)]\n",
      "[(69, 51)]\n",
      "[(70, 52)]\n",
      "[(71, 51)]\n",
      "[(70, 50)]\n",
      "[(71, 49)]\n",
      "[(70, 49)]\n",
      "[(70, 48)]\n",
      "[(69, 47)]\n",
      "[(68, 46)]\n",
      "[(67, 45)]\n",
      "[(66, 44)]\n",
      "[(67, 44)]\n",
      "[(67, 43)]\n",
      "[(67, 42)]\n",
      "[(68, 41)]\n",
      "[(69, 40)]\n",
      "[(70, 40)]\n",
      "[(71, 39)]\n",
      "[(72, 38)]\n",
      "[(72, 37)]\n",
      "[(73, 37)]\n",
      "[(74, 36)]\n",
      "[(75, 35)]\n",
      "[(76, 34)]\n",
      "[(77, 33)]\n",
      "[(77, 32)]\n",
      "[(78, 31)]\n",
      "[(78, 32)]\n",
      "[(79, 33)]\n",
      "[(79, 34)]\n",
      "[(78, 34)]\n",
      "[(78, 35)]\n",
      "[(77, 35)]\n",
      "[(77, 34)]\n",
      "[(76, 33)]\n",
      "[(75, 33)]\n",
      "[(74, 32)]\n",
      "[(73, 31)]\n",
      "[(72, 31)]\n",
      "[(72, 32)]\n",
      "[(72, 33)]\n",
      "[(71, 33)]\n",
      "[(70, 32)]\n",
      "[(70, 31)]\n",
      "[(69, 31)]\n",
      "[(69, 30)]\n",
      "[(68, 29)]\n",
      "[(69, 28)]\n",
      "[(68, 27)]\n",
      "[(67, 27)]\n",
      "[(66, 26)]\n",
      "[(65, 26)]\n",
      "[(64, 25)]\n",
      "[(64, 24)]\n",
      "[(63, 24)]\n",
      "[(62, 24)]\n",
      "[(61, 25)]\n",
      "[(60, 26)]\n",
      "[(59, 27)]\n",
      "[(58, 28)]\n",
      "[(57, 28)]\n",
      "[(56, 28)]\n",
      "[(55, 29)]\n",
      "[(54, 30)]\n",
      "[(53, 31)]\n",
      "[(52, 32)]\n",
      "[(53, 33)]\n",
      "[(52, 34)]\n",
      "[(51, 35)]\n",
      "[(50, 34)]\n",
      "[(49, 33)]\n",
      "[(50, 33)]\n",
      "[(51, 33)]\n",
      "[(51, 34)]\n",
      "[(52, 35)]\n",
      "[(52, 36)]\n",
      "[(51, 37)]\n",
      "[(52, 38)]\n",
      "[(52, 39)]\n",
      "[(51, 39)]\n",
      "[(52, 40)]\n",
      "[(53, 41)]\n",
      "[(54, 42)]\n",
      "[(53, 43)]\n",
      "[(52, 44)]\n",
      "[(51, 44)]\n",
      "[(52, 45)]\n",
      "[(53, 44)]\n",
      "[(54, 44)]\n",
      "[(55, 45)]\n",
      "[(56, 46)]\n",
      "[(57, 45)]\n",
      "[(58, 45)]\n",
      "[(57, 44)]\n",
      "[(58, 43)]\n",
      "[(59, 42)]\n",
      "[(58, 41)]\n",
      "[(57, 40)]\n",
      "[(58, 39)]\n",
      "[(57, 38)]\n",
      "[(56, 37)]\n",
      "[(55, 36)]\n",
      "[(54, 36)]\n",
      "[(53, 36)]\n",
      "[(53, 35)]\n",
      "[(54, 34)]\n",
      "[(55, 35)]\n",
      "[(56, 35)]\n",
      "[(57, 34)]\n",
      "[(58, 34)]\n",
      "[(59, 33)]\n",
      "[(60, 32)]\n",
      "[(61, 31)]\n",
      "[(60, 30)]\n",
      "[(60, 29)]\n",
      "[(61, 28)]\n",
      "[(61, 27)]\n",
      "[(62, 26)]\n",
      "[(63, 26)]\n",
      "[(62, 25)]\n",
      "[(61, 24)]\n",
      "[(60, 24)]\n",
      "[(59, 23)]\n",
      "[(59, 22)]\n",
      "[(60, 21)]\n",
      "[(60, 20)]\n",
      "[(59, 20)]\n",
      "[(58, 20)]\n",
      "[(58, 21)]\n",
      "[(57, 21)]\n",
      "[(56, 22)]\n",
      "[(57, 22)]\n",
      "[(58, 22)]\n",
      "[(57, 23)]\n",
      "[(58, 24)]\n",
      "[(59, 24)]\n",
      "[(59, 25)]\n",
      "[(58, 26)]\n",
      "[(57, 25)]\n",
      "[(57, 24)]\n",
      "[(58, 23)]\n",
      "[(123, 122)]\n",
      "[(122, 123)]\n",
      "[(123, 123)]\n",
      "[(124, 124)]\n",
      "[(123, 125)]\n",
      "[(122, 126)]\n",
      "[(121, 126)]\n",
      "[(120, 126)]\n",
      "[(119, 126)]\n",
      "[(118, 126)]\n",
      "[(117, 126)]\n",
      "[(116, 125)]\n",
      "[(115, 124)]\n",
      "[(114, 124)]\n",
      "[(113, 125)]\n",
      "[(112, 125)]\n",
      "[(112, 124)]\n",
      "[(112, 123)]\n",
      "[(113, 122)]\n",
      "[(114, 121)]\n",
      "[(115, 120)]\n",
      "[(116, 119)]\n",
      "[(117, 118)]\n",
      "[(118, 117)]\n",
      "[(119, 118)]\n",
      "[(120, 119)]\n",
      "[(121, 120)]\n",
      "[(121, 119)]\n",
      "[(120, 118)]\n",
      "[(119, 117)]\n",
      "[(118, 118)]\n",
      "[(119, 119)]\n",
      "[(118, 120)]\n",
      "[(117, 121)]\n",
      "[(116, 122)]\n",
      "[(115, 123)]\n",
      "[(114, 123)]\n",
      "[(113, 124)]\n",
      "[(114, 125)]\n",
      "[(114, 126)]\n",
      "[(115, 127)]\n",
      "[(115, 128)]\n",
      "[(116, 129)]\n",
      "[(116, 130)]\n",
      "[(117, 131)]\n",
      "[(118, 132)]\n",
      "[(119, 133)]\n",
      "[(119, 134)]\n",
      "[(120, 134)]\n",
      "[(121, 133)]\n",
      "[(122, 134)]\n",
      "[(123, 133)]\n",
      "[(124, 133)]\n",
      "[(125, 133)]\n",
      "[(126, 133)]\n",
      "[(127, 133)]\n",
      "[(126, 134)]\n",
      "[(127, 135)]\n",
      "[(128, 135)]\n",
      "[(129, 135)]\n",
      "[(130, 136)]\n",
      "[(131, 136)]\n",
      "[(132, 137)]\n",
      "[(131, 138)]\n",
      "[(132, 139)]\n",
      "[(133, 140)]\n",
      "[(132, 141)]\n",
      "[(132, 142)]\n",
      "[(133, 142)]\n",
      "[(134, 142)]\n",
      "[(135, 143)]\n",
      "[(134, 144)]\n",
      "[(133, 143)]\n",
      "[(134, 143)]\n",
      "[(135, 142)]\n",
      "[(136, 142)]\n",
      "[(137, 143)]\n",
      "[(138, 143)]\n",
      "[(138, 144)]\n",
      "[(139, 144)]\n",
      "[(140, 144)]\n",
      "[(139, 143)]\n",
      "[(140, 143)]\n",
      "[(141, 143)]\n",
      "[(141, 144)]\n",
      "[(140, 145)]\n",
      "[(139, 146)]\n",
      "[(140, 147)]\n",
      "[(140, 148)]\n",
      "[(140, 149)]\n",
      "[(139, 150)]\n",
      "[(139, 151)]\n",
      "[(138, 151)]\n",
      "[(138, 152)]\n",
      "[(137, 151)]\n",
      "[(136, 151)]\n",
      "[(137, 150)]\n",
      "[(138, 149)]\n",
      "[(137, 148)]\n",
      "[(136, 147)]\n",
      "[(136, 146)]\n",
      "[(135, 145)]\n",
      "[(136, 144)]\n",
      "[(136, 143)]\n",
      "[(137, 142)]\n",
      "[(138, 142)]\n",
      "[(139, 142)]\n",
      "[(140, 141)]\n",
      "[(139, 140)]\n",
      "[(138, 139)]\n",
      "[(138, 138)]\n",
      "[(137, 137)]\n",
      "[(136, 136)]\n",
      "[(135, 136)]\n",
      "[(134, 136)]\n",
      "[(133, 136)]\n",
      "[(133, 137)]\n",
      "[(132, 138)]\n",
      "[(131, 137)]\n",
      "[(130, 137)]\n",
      "[(129, 136)]\n",
      "[(129, 137)]\n",
      "[(128, 136)]\n",
      "[(128, 137)]\n",
      "[(128, 138)]\n",
      "[(127, 139)]\n",
      "[(126, 140)]\n",
      "[(126, 141)]\n",
      "[(125, 141)]\n",
      "[(124, 141)]\n",
      "[(123, 140)]\n",
      "[(122, 140)]\n",
      "[(121, 140)]\n",
      "[(120, 139)]\n",
      "[(119, 138)]\n",
      "[(118, 137)]\n",
      "[(117, 137)]\n",
      "[(118, 136)]\n",
      "[(119, 135)]\n",
      "[(118, 135)]\n",
      "[(117, 136)]\n",
      "[(116, 137)]\n",
      "[(115, 137)]\n",
      "[(116, 138)]\n",
      "[(117, 138)]\n",
      "[(118, 139)]\n",
      "[(118, 138)]\n",
      "[(117, 139)]\n",
      "[(116, 139)]\n",
      "[(115, 139)]\n",
      "[(114, 140)]\n",
      "[(113, 139)]\n",
      "[(112, 139)]\n",
      "[(111, 140)]\n",
      "[(112, 140)]\n",
      "[(113, 140)]\n",
      "[(113, 141)]\n",
      "[(112, 142)]\n",
      "[(111, 143)]\n",
      "[(110, 144)]\n",
      "[(109, 145)]\n",
      "[(109, 146)]\n",
      "[(110, 147)]\n",
      "[(111, 147)]\n",
      "[(112, 148)]\n",
      "[(111, 149)]\n",
      "[(110, 150)]\n",
      "[(109, 151)]\n",
      "[(108, 151)]\n",
      "[(107, 150)]\n",
      "[(106, 151)]\n",
      "[(105, 152)]\n",
      "[(104, 153)]\n",
      "[(103, 154)]\n",
      "[(103, 155)]\n",
      "[(104, 156)]\n",
      "[(105, 157)]\n",
      "[(106, 158)]\n",
      "[(106, 159)]\n",
      "[(105, 159)]\n",
      "[(104, 158)]\n",
      "[(103, 157)]\n",
      "[(102, 156)]\n",
      "[(101, 157)]\n",
      "[(100, 157)]\n",
      "[(99, 158)]\n",
      "[(100, 158)]\n",
      "[(101, 159)]\n",
      "[(102, 158)]\n",
      "[(103, 158)]\n",
      "[(103, 159)]\n",
      "[(104, 159)]\n",
      "[(104, 160)]\n",
      "[(103, 160)]\n",
      "[(102, 160)]\n",
      "[(102, 159)]\n",
      "[(101, 160)]\n",
      "[(100, 159)]\n",
      "[(99, 160)]\n",
      "[(98, 159)]\n",
      "[(97, 159)]\n",
      "[(96, 160)]\n",
      "[(97, 160)]\n",
      "[(98, 161)]\n",
      "[(99, 162)]\n",
      "[(100, 161)]\n",
      "[(100, 160)]\n",
      "[(99, 159)]\n",
      "[(98, 158)]\n",
      "[(97, 158)]\n",
      "[(96, 157)]\n",
      "{(34, 53): 29, (131, 126): 13, (131, 120): 57, (52, 32): 62, (59, 33): 51, (60, 32): 49, (60, 29): 52, (116, 119): 60, (116, 122): 59, (126, 134): 44, (131, 138): 56, (133, 140): 54, (132, 141): 49, (135, 142): 21, (136, 142): 48, (140, 145): 45, (140, 147): 54, (138, 149): 33, (137, 148): 35, (136, 147): 39, (136, 146): 39, (135, 145): 41, (136, 144): 40, (136, 143): 44, (137, 142): 39, (138, 142): 39, (139, 142): 44, (140, 141): 42, (139, 140): 44, (138, 139): 45, (133, 136): 48, (133, 137): 47, (132, 138): 48, (128, 137): 30, (128, 138): 49, (127, 139): 48, (126, 140): 46, (120, 139): 52, (118, 136): 56, (117, 136): 55, (117, 139): 18, (116, 139): 43, (115, 139): 47, (113, 141): 39, (112, 142): 39, (111, 143): 41, (110, 144): 42, (111, 149): 52, (99, 162): 37, (96, 157): 7}\n"
     ]
    }
   ],
   "source": [
    "def get_greedy_flow_pixels(optimizer, flow, n=None):\n",
    "    if (n == None):\n",
    "        n = optimizer.pixels\n",
    "    flow = flow.squeeze(0)\n",
    "    total_px = flow.shape[0] * flow.shape[1]\n",
    "    flat_indices = np.argpartition(flow.ravel(), -total_px)[-total_px:]\n",
    "    row_indices, col_indices = np.unravel_index(flat_indices, flow.shape)\n",
    "\n",
    "    min_elements = flow[row_indices, col_indices]\n",
    "    min_elements_order = np.argsort(min_elements)\n",
    "    row_indices, col_indices = row_indices[min_elements_order], col_indices[min_elements_order]\n",
    "\n",
    "    highest_flow = {}\n",
    "    with GeoTiff.from_file(optimizer.terrain_fn) as terr:\n",
    "        raw_terrain = terr.get_all_as_tile().m.squeeze(0)\n",
    "    with GeoTiff.from_file(optimizer.habitat_fn) as hab:\n",
    "        raw_hab = hab.get_all_as_tile().m.squeeze(0)\n",
    "\n",
    "    i = total_px\n",
    "    while (len(highest_flow.items()) < n and i > 0):\n",
    "        stack = [(col_indices[i-1], row_indices[i-1])]\n",
    "        while len(stack) > 0:\n",
    "            col, row = stack.pop()\n",
    "            terrain = raw_terrain[row][col]\n",
    "            permiability = optimizer.permeability_dict[terrain]\n",
    "            if permiability < 1 and raw_hab[row][col] != 1:\n",
    "                highest_flow[(col, row)] = flow[row][col]\n",
    "                # find highest grad of neighbors and push to stack\n",
    "                max_neighbor = ()\n",
    "                max_neighbor_flow = 0\n",
    "                for neighbor_col, neighbor_row in [(col - 1, row), (col + 1, row), (col, row - 1), (col, row + 1), (col - 1, row - 1), (col + 1, row + 1), (col - 1, row + 1), (col + 1, row - 1)]:\n",
    "                    neighbor_flow = flow[neighbor_row][neighbor_col]\n",
    "                    if neighbor_flow > max_neighbor_flow and (neighbor_col, neighbor_row) not in highest_flow:\n",
    "                        max_neighbor = (neighbor_col, neighbor_row)\n",
    "                        max_neighbor_flow = neighbor_flow\n",
    "                stack.append(max_neighbor)\n",
    "            else:\n",
    "                break\n",
    "        i -= 1\n",
    "    return highest_flow\n",
    "\n",
    "with GeoTiff.from_file(flowOptimizer.flow_fn) as flow_tif:\n",
    "    flow = flow_tif.get_all_as_tile().m\n",
    "\n",
    "highest_flow = get_greedy_flow_pixels(flowOptimizer, flow)\n",
    "print(highest_flow)"
   ]
  },
  {
   "cell_type": "code",
   "execution_count": 19,
   "metadata": {},
   "outputs": [
    {
     "name": "stdout",
     "output_type": "stream",
     "text": [
      "[(3, 53)]\n",
      "[(2, 53), (3, 53)]\n",
      "[(1, 53)]\n",
      "[(22, 53)]\n",
      "[(29, 53)]\n",
      "[(29, 53)]\n",
      "[(264, 52)]\n",
      "[(264, 52)]\n",
      "[(263, 52)]\n",
      "[(263, 52), (264, 52)]\n",
      "[(260, 52)]\n",
      "[(260, 52), (259, 52)]\n",
      "[(254, 52)]\n",
      "[(293, 52)]\n",
      "[(292, 52)]\n",
      "[(285, 52)]\n",
      "[(30, 53)]\n",
      "[(100, 53)]\n",
      "[(273, 198)]\n",
      "[(98, 53)]\n",
      "{(307, 52): 0, (3, 53): 0, (2, 53): 0, (1, 53): 0, (8, 199): 0, (311, 52): 0, (310, 52): 0, (309, 52): 0, (308, 52): 0, (309, 158): 0, (4, 53): 0, (305, 52): 0, (304, 52): 0, (303, 52): 0, (302, 52): 0, (301, 52): 0, (300, 52): 0, (299, 52): 0, (298, 52): 0, (297, 52): 0, (306, 52): 0, (6, 53): 0, (5, 53): 0, (18, 53): 0, (3, 199): 0, (4, 199): 0, (5, 199): 0, (6, 199): 0, (7, 199): 0, (22, 53): 0, (21, 53): 0, (20, 53): 0, (19, 53): 0, (17, 53): 0, (7, 53): 0, (16, 53): 0, (15, 53): 0, (14, 53): 0, (13, 53): 0, (12, 53): 0, (11, 53): 0, (10, 53): 0, (9, 53): 0, (8, 53): 0, (296, 52): 0, (295, 52): 0, (29, 53): 0, (294, 52): 0, (30, 199): 0, (31, 199): 0, (32, 199): 0, (33, 199): 0, (34, 199): 0, (264, 52): 0, (263, 52): 0, (35, 199): 0, (36, 199): 0, (260, 52): 0, (259, 52): 0, (258, 52): 0, (257, 52): 0, (256, 52): 0, (255, 52): 0, (254, 52): 0, (253, 52): 0, (252, 52): 0, (251, 52): 0, (250, 52): 0, (249, 52): 0, (29, 199): 0, (28, 199): 0, (27, 199): 0, (15, 199): 0, (293, 52): 0, (292, 52): 0, (9, 199): 0, (10, 199): 0, (11, 199): 0, (12, 199): 0, (13, 199): 0, (14, 199): 0, (285, 52): 0, (16, 199): 0, (26, 199): 0, (17, 199): 0, (18, 199): 0, (19, 199): 0, (20, 199): 0, (21, 199): 0, (22, 199): 0, (23, 199): 0, (24, 199): 0, (25, 199): 0, (2, 199): 0, (30, 53): 0, (247, 52): 0, (1, 199): 0, (100, 53): 0, (273, 198): 0, (98, 53): 0}\n"
     ]
    }
   ],
   "source": [
    "flowOptimizer = flowRestoration(HABITAT_PATH, TERRAIN_PATH, RESTORED_TERRAIN_PATH, CONNECTIVITY_PATH, FLOW_PATH, RESTORED_CONNECTIVITY_PATH, RESTORED_FLOW_PATH, DEATH_PATH, PERMEABILITY_PATH, 100, hab_mat, unrestorable)\n",
    "\n",
    "def get_bfs_flow_pixels(optimizer, flow, n=None, number_corridors=None):\n",
    "    if (n == None):\n",
    "        n = optimizer.pixels\n",
    "    if (number_corridors == None):\n",
    "        number_corridors = n / 5\n",
    "    flow = flow.squeeze(0)\n",
    "    total_px = flow.shape[0] * flow.shape[1]\n",
    "    flat_indices = np.argpartition(flow.ravel(), -total_px)[-total_px:]\n",
    "    row_indices, col_indices = np.unravel_index(flat_indices, flow.shape)\n",
    "\n",
    "    min_elements = flow[row_indices, col_indices]\n",
    "    min_elements_order = np.argsort(min_elements)\n",
    "    row_indices, col_indices = row_indices[min_elements_order], col_indices[min_elements_order]\n",
    "\n",
    "    highest_flow = {}\n",
    "    with GeoTiff.from_file(optimizer.terrain_fn) as terr:\n",
    "        raw_terrain = terr.get_all_as_tile().m.squeeze(0)\n",
    "    with GeoTiff.from_file(optimizer.habitat_fn) as hab:\n",
    "        raw_hab = hab.get_all_as_tile().m.squeeze(0)\n",
    "\n",
    "    stack = []\n",
    "    seen = []\n",
    "    i = total_px\n",
    "    while len(stack) < number_corridors:\n",
    "        terrain = raw_terrain[row_indices[i-1]][col_indices[i-1]]\n",
    "        permiability = optimizer.permeability_dict[terrain]\n",
    "        if permiability < 1 and raw_hab[row_indices[i-1]][col_indices[i-1]] != 1:\n",
    "            stack.append((col_indices[i-1], row_indices[i-1]))\n",
    "        i -= 1\n",
    "    while (len(highest_flow.items()) < n and len(stack) > 0):\n",
    "        col, row = stack.pop(0)\n",
    "        seen.append((col, row))\n",
    "        terrain = raw_terrain[row][col]\n",
    "        permiability = optimizer.permeability_dict[terrain]\n",
    "        if permiability < 1 and raw_hab[row][col] != 1:\n",
    "            highest_flow[(col, row)] = flow[row][col]\n",
    "        # find highest grad of neighbors and push to stack\n",
    "        max_neighbor = ()\n",
    "        max_neighbor_flow = 0\n",
    "        for neighbor_col, neighbor_row in [(col - 1, row), (col + 1, row), (col, row - 1), (col, row + 1), (col - 1, row - 1), (col + 1, row + 1), (col - 1, row + 1), (col + 1, row - 1)]:\n",
    "            if neighbor_col >= 0 and neighbor_col < flow.shape[1] and neighbor_row >= 0 and neighbor_row < flow.shape[0]:\n",
    "                neighbor_flow = flow[neighbor_row][neighbor_col]\n",
    "                if neighbor_flow > max_neighbor_flow and (neighbor_col, neighbor_row) not in highest_flow and (neighbor_col, neighbor_row) not in seen and (neighbor_col, neighbor_row) not in stack and optimizer.permeability_dict[raw_terrain[row][col]] < 1 and raw_hab[row][col] != 1: \n",
    "                    # limited neighbors in highest_flow\n",
    "                    neighbors_of_neighbors_in_highest_flow = [x for x in [(neighbor_col - 1, neighbor_row), (neighbor_col + 1, neighbor_row), (neighbor_col, neighbor_row - 1), (neighbor_col, neighbor_row + 1), (neighbor_col - 1, neighbor_row - 1), (neighbor_col + 1, neighbor_row + 1), (neighbor_col - 1, neighbor_row + 1), (neighbor_col + 1, neighbor_row - 1)] if x in highest_flow]\n",
    "                    print(neighbors_of_neighbors_in_highest_flow)\n",
    "                    if len(neighbors_of_neighbors_in_highest_flow) <= 3:\n",
    "                        max_neighbor = (neighbor_col, neighbor_row)\n",
    "                        max_neighbor_flow = neighbor_flow\n",
    "        if max_neighbor_flow > 0:\n",
    "            stack.append(max_neighbor)\n",
    "        else:\n",
    "            stack.append((col_indices[i-1], row_indices[i-1]))\n",
    "            i -= 1\n",
    "    return highest_flow\n",
    "\n",
    "with GeoTiff.from_file(flowOptimizer.flow_fn) as flow_tif:\n",
    "    flow = flow_tif.get_all_as_tile().m\n",
    "\n",
    "# flowOptimizer.run_connectivity(gap_crossing=2, num_gaps=40)\n",
    "highest_flow = get_bfs_flow_pixels(flowOptimizer, flow)\n",
    "print(highest_flow)"
   ]
  },
  {
   "cell_type": "code",
   "execution_count": 42,
   "metadata": {},
   "outputs": [
    {
     "name": "stdout",
     "output_type": "stream",
     "text": [
      "100\n"
     ]
    }
   ],
   "source": [
    "print(len(highest_flow))"
   ]
  },
  {
   "cell_type": "code",
   "execution_count": 20,
   "metadata": {},
   "outputs": [
    {
     "name": "stderr",
     "output_type": "stream",
     "text": [
      "ERROR 1: PROJ: internal_proj_create_from_name: /Users/nvalett/opt/anaconda3/share/proj/proj.db lacks DATABASE.LAYOUT.VERSION.MAJOR / DATABASE.LAYOUT.VERSION.MINOR metadata. It comes from another PROJ installation.\n"
     ]
    }
   ],
   "source": [
    "TERRAIN_CHANGED_GREEDY = os.path.join(DATA_PATH, \"smol/changed_terrain_flow_bfs.tif\")\n",
    "\n",
    "flowOptimizer.paint_changed_terrain_geotiff(TERRAIN_CHANGED_GREEDY, highest_flow, value=1)"
   ]
  },
  {
   "cell_type": "code",
   "execution_count": null,
   "metadata": {},
   "outputs": [],
   "source": []
  }
 ],
 "metadata": {
  "interpreter": {
   "hash": "cf1cc9488f986e55b9ad02ec3dbe006a9544ef0e041cc52f3db2baca54acebc8"
  },
  "kernelspec": {
   "display_name": "Python 3.9.7 64-bit ('base': conda)",
   "language": "python",
   "name": "python3"
  },
  "language_info": {
   "codemirror_mode": {
    "name": "ipython",
    "version": 3
   },
   "file_extension": ".py",
   "mimetype": "text/x-python",
   "name": "python",
   "nbconvert_exporter": "python",
   "pygments_lexer": "ipython3",
   "version": "3.9.18"
  },
  "orig_nbformat": 4
 },
 "nbformat": 4,
 "nbformat_minor": 2
}
