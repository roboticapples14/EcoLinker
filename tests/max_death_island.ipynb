{
 "cells": [
  {
   "cell_type": "code",
   "execution_count": 1,
   "metadata": {},
   "outputs": [],
   "source": [
    "import os\n",
    "import sys\n",
    "from scgt import GeoTiff\n",
    "sys.path.append('/Users/nvalett/Documents/Natalie/Species Dist Research/Code/ecoscape-earth/')\n",
    "sys.path.append('/Users/nvalett/Documents/Natalie/Species Dist Research/Code/ecoscape-earth/ecoscape-connectivity/')\n",
    "from EcoLinker.EcoLinker.restorationOptimizer import restorationOptimizer\n",
    "from ecoscape_connectivity_local import repopulation, util\n",
    "import matplotlib.pyplot as plt\n",
    "# import ecoscape_connectivity\n",
    "from scgt import Tile, GeoTiff\n",
    "import numpy as np\n",
    "import torch\n",
    "import rasterio\n",
    "\n",
    "DATA_PATH=\"/Users/nvalett/Documents/Natalie/Species Dist Research/Thesis/EcoLinker/tests/assets\"\n",
    "HABITAT_PATH = os.path.join(DATA_PATH, \"smol/hab_smol.tif\")\n",
    "TERRAIN_PATH = os.path.join(DATA_PATH, \"smol/terrain.tif\")\n",
    "RESTORED_TERRAIN_PATH = os.path.join(DATA_PATH, \"smol/restored_ter_smol.tif\")\n",
    "PERMEABILITY_PATH = os.path.join(DATA_PATH, \"paper_repro/transmission_refined_1.csv\")\n",
    "transmission_d = util.read_transmission_csv(PERMEABILITY_PATH)\n",
    "\n",
    "CONNECTIVITY_PATH = os.path.join(DATA_PATH, \"smol/repop.tif\")\n",
    "RESTORED_CONNECTIVITY_PATH = os.path.join(DATA_PATH, \"smol/repop_after_restoration.tif\")\n",
    "FLOW_PATH = os.path.join(DATA_PATH, \"smol/grad.tif\")\n",
    "RESTORED_FLOW_PATH = os.path.join(DATA_PATH, \"smol/grad_after_restoration.tif\")\n",
    "DEATH_PATH = os.path.join(DATA_PATH, \"smol/death.tif\")\n",
    "\n",
    "optimizer = restorationOptimizer(HABITAT_PATH, TERRAIN_PATH, RESTORED_TERRAIN_PATH, CONNECTIVITY_PATH, FLOW_PATH, RESTORED_CONNECTIVITY_PATH, RESTORED_FLOW_PATH, DEATH_PATH, PERMEABILITY_PATH, 50)"
   ]
  },
  {
   "cell_type": "code",
   "execution_count": null,
   "metadata": {},
   "outputs": [],
   "source": [
    "# set mpl params\n",
    "def setup_mpl():\n",
    "    plt.rcParams['font.family'] = \"Helvetica Neue\"\n",
    "    plt.rcParams['font.size'] = 11\n",
    "    plt.rcParams['figure.figsize'] = (3,3)\n",
    "    plt.rcParams['figure.dpi'] = 100\n",
    "    plt.rcParams['lines.linewidth'] = 1\n",
    "setup_mpl()"
   ]
  },
  {
   "cell_type": "markdown",
   "metadata": {},
   "source": [
    "Restoration based on highest death rates:\n",
    "1. Compute connectivity with pre-determined seeds\n",
    "2. Compute death layer by taking (flow/p) * (1-p)\n",
    "3. Find top n pixels with highest death rates\n",
    "4. Convert pixels to more permiable terrain"
   ]
  },
  {
   "cell_type": "code",
   "execution_count": null,
   "metadata": {},
   "outputs": [],
   "source": [
    "# Pre-set seeds for determinism...\n",
    "hab = GeoTiff.from_file(optimizer.habitat_fn)\n",
    "hab_tile = hab.get_all_as_tile().m.astype(np.float)\n",
    "seeds = (torch.rand(400,*(hab_tile.shape)) < 0.002) * hab_tile # 1% of pixels are seeds."
   ]
  },
  {
   "cell_type": "code",
   "execution_count": null,
   "metadata": {},
   "outputs": [],
   "source": [
    "# compute connectivity - not needed unless output is needed\n",
    "repopulation.compute_connectivity(HABITAT_PATH, TERRAIN_PATH, CONNECTIVITY_PATH, FLOW_PATH, transmission_d, single_tile=True)\n",
    "pre_restoration_conn = optimizer.sum_of_tif(CONNECTIVITY_PATH)"
   ]
  },
  {
   "cell_type": "markdown",
   "metadata": {},
   "source": [
    "Try to compute regional connectivity gain for each restored pixel..."
   ]
  },
  {
   "cell_type": "code",
   "execution_count": 2,
   "metadata": {},
   "outputs": [],
   "source": [
    "PRE_TER = os.path.join(DATA_PATH, \"smol/pre_ter.tif\")\n",
    "PRE_HAB = os.path.join(DATA_PATH, \"smol/pre_hab.tif\")\n",
    "PRE_CONN = os.path.join(DATA_PATH, \"smol/pre_conn.tif\")\n",
    "PRE_FLOW = os.path.join(DATA_PATH, \"smol/pre_flow.tif\")\n",
    "POST_TER = os.path.join(DATA_PATH, \"smol/post_ter.tif\")\n",
    "POST_HAB = os.path.join(DATA_PATH, \"smol/post_hab.tif\")\n",
    "POST_CONN = os.path.join(DATA_PATH, \"smol/post_conn.tif\")\n",
    "POST_FLOW = os.path.join(DATA_PATH, \"smol/post_flow.tif\")"
   ]
  },
  {
   "cell_type": "code",
   "execution_count": 15,
   "metadata": {},
   "outputs": [
    {
     "name": "stderr",
     "output_type": "stream",
     "text": [
      "ERROR 1: PROJ: internal_proj_create_from_name: /Users/nvalett/opt/anaconda3/share/proj/proj.db lacks DATABASE.LAYOUT.VERSION.MAJOR / DATABASE.LAYOUT.VERSION.MINOR metadata. It comes from another PROJ installation.\n"
     ]
    },
    {
     "name": "stdout",
     "output_type": "stream",
     "text": [
      "highest_pixels: [(193, 231), (194, 231), (194, 230), (195, 230), (196, 230), (196, 231), (196, 229), (195, 229), (196, 228), (197, 228)]\n",
      "highest_death: 148\n",
      "x: 231 y: 193\n"
     ]
    },
    {
     "name": "stderr",
     "output_type": "stream",
     "text": [
      "ERROR 1: PROJ: internal_proj_create_from_name: /Users/nvalett/opt/anaconda3/share/proj/proj.db lacks DATABASE.LAYOUT.VERSION.MAJOR / DATABASE.LAYOUT.VERSION.MINOR metadata. It comes from another PROJ installation.\n",
      "ERROR 1: PROJ: internal_proj_create_from_name: /Users/nvalett/opt/anaconda3/share/proj/proj.db lacks DATABASE.LAYOUT.VERSION.MAJOR / DATABASE.LAYOUT.VERSION.MINOR metadata. It comes from another PROJ installation.\n",
      "ERROR 1: PROJ: internal_proj_create_from_name: /Users/nvalett/opt/anaconda3/share/proj/proj.db lacks DATABASE.LAYOUT.VERSION.MAJOR / DATABASE.LAYOUT.VERSION.MINOR metadata. It comes from another PROJ installation.\n",
      "ERROR 1: PROJ: internal_proj_create_from_name: /Users/nvalett/opt/anaconda3/share/proj/proj.db lacks DATABASE.LAYOUT.VERSION.MAJOR / DATABASE.LAYOUT.VERSION.MINOR metadata. It comes from another PROJ installation.\n"
     ]
    },
    {
     "name": "stdout",
     "output_type": "stream",
     "text": [
      "Restoring pixel (231, 193) from permiability 0.9091386861313868 to 1.0\n"
     ]
    },
    {
     "name": "stderr",
     "output_type": "stream",
     "text": [
      "ERROR 1: PROJ: internal_proj_create_from_name: /Users/nvalett/opt/anaconda3/share/proj/proj.db lacks DATABASE.LAYOUT.VERSION.MAJOR / DATABASE.LAYOUT.VERSION.MINOR metadata. It comes from another PROJ installation.\n",
      "ERROR 1: PROJ: internal_proj_create_from_name: /Users/nvalett/opt/anaconda3/share/proj/proj.db lacks DATABASE.LAYOUT.VERSION.MAJOR / DATABASE.LAYOUT.VERSION.MINOR metadata. It comes from another PROJ installation.\n",
      "ERROR 1: PROJ: internal_proj_create_from_name: /Users/nvalett/opt/anaconda3/share/proj/proj.db lacks DATABASE.LAYOUT.VERSION.MAJOR / DATABASE.LAYOUT.VERSION.MINOR metadata. It comes from another PROJ installation.\n"
     ]
    },
    {
     "name": "stdout",
     "output_type": "stream",
     "text": [
      "pre-restoration sum of connectivity 9113\n",
      "post-restoration sum of connectivity 9377\n",
      "change in connectivity: 264, or 0.0289696%\n",
      "x: 231 y: 194\n"
     ]
    },
    {
     "name": "stderr",
     "output_type": "stream",
     "text": [
      "ERROR 1: PROJ: internal_proj_create_from_name: /Users/nvalett/opt/anaconda3/share/proj/proj.db lacks DATABASE.LAYOUT.VERSION.MAJOR / DATABASE.LAYOUT.VERSION.MINOR metadata. It comes from another PROJ installation.\n",
      "ERROR 1: PROJ: internal_proj_create_from_name: /Users/nvalett/opt/anaconda3/share/proj/proj.db lacks DATABASE.LAYOUT.VERSION.MAJOR / DATABASE.LAYOUT.VERSION.MINOR metadata. It comes from another PROJ installation.\n",
      "ERROR 1: PROJ: internal_proj_create_from_name: /Users/nvalett/opt/anaconda3/share/proj/proj.db lacks DATABASE.LAYOUT.VERSION.MAJOR / DATABASE.LAYOUT.VERSION.MINOR metadata. It comes from another PROJ installation.\n",
      "ERROR 1: PROJ: internal_proj_create_from_name: /Users/nvalett/opt/anaconda3/share/proj/proj.db lacks DATABASE.LAYOUT.VERSION.MAJOR / DATABASE.LAYOUT.VERSION.MINOR metadata. It comes from another PROJ installation.\n"
     ]
    },
    {
     "name": "stdout",
     "output_type": "stream",
     "text": [
      "Restoring pixel (231, 194) from permiability 0.9091386861313868 to 1.0\n"
     ]
    },
    {
     "name": "stderr",
     "output_type": "stream",
     "text": [
      "ERROR 1: PROJ: internal_proj_create_from_name: /Users/nvalett/opt/anaconda3/share/proj/proj.db lacks DATABASE.LAYOUT.VERSION.MAJOR / DATABASE.LAYOUT.VERSION.MINOR metadata. It comes from another PROJ installation.\n",
      "ERROR 1: PROJ: internal_proj_create_from_name: /Users/nvalett/opt/anaconda3/share/proj/proj.db lacks DATABASE.LAYOUT.VERSION.MAJOR / DATABASE.LAYOUT.VERSION.MINOR metadata. It comes from another PROJ installation.\n",
      "ERROR 1: PROJ: internal_proj_create_from_name: /Users/nvalett/opt/anaconda3/share/proj/proj.db lacks DATABASE.LAYOUT.VERSION.MAJOR / DATABASE.LAYOUT.VERSION.MINOR metadata. It comes from another PROJ installation.\n"
     ]
    },
    {
     "name": "stdout",
     "output_type": "stream",
     "text": [
      "pre-restoration sum of connectivity 10531\n",
      "post-restoration sum of connectivity 10276\n",
      "change in connectivity: -255, or -0.0242142%\n",
      "x: 230 y: 194\n"
     ]
    },
    {
     "name": "stderr",
     "output_type": "stream",
     "text": [
      "ERROR 1: PROJ: internal_proj_create_from_name: /Users/nvalett/opt/anaconda3/share/proj/proj.db lacks DATABASE.LAYOUT.VERSION.MAJOR / DATABASE.LAYOUT.VERSION.MINOR metadata. It comes from another PROJ installation.\n",
      "ERROR 1: PROJ: internal_proj_create_from_name: /Users/nvalett/opt/anaconda3/share/proj/proj.db lacks DATABASE.LAYOUT.VERSION.MAJOR / DATABASE.LAYOUT.VERSION.MINOR metadata. It comes from another PROJ installation.\n",
      "ERROR 1: PROJ: internal_proj_create_from_name: /Users/nvalett/opt/anaconda3/share/proj/proj.db lacks DATABASE.LAYOUT.VERSION.MAJOR / DATABASE.LAYOUT.VERSION.MINOR metadata. It comes from another PROJ installation.\n",
      "ERROR 1: PROJ: internal_proj_create_from_name: /Users/nvalett/opt/anaconda3/share/proj/proj.db lacks DATABASE.LAYOUT.VERSION.MAJOR / DATABASE.LAYOUT.VERSION.MINOR metadata. It comes from another PROJ installation.\n"
     ]
    },
    {
     "name": "stdout",
     "output_type": "stream",
     "text": [
      "Restoring pixel (230, 194) from permiability 0.9091386861313868 to 1.0\n"
     ]
    },
    {
     "name": "stderr",
     "output_type": "stream",
     "text": [
      "ERROR 1: PROJ: internal_proj_create_from_name: /Users/nvalett/opt/anaconda3/share/proj/proj.db lacks DATABASE.LAYOUT.VERSION.MAJOR / DATABASE.LAYOUT.VERSION.MINOR metadata. It comes from another PROJ installation.\n",
      "ERROR 1: PROJ: internal_proj_create_from_name: /Users/nvalett/opt/anaconda3/share/proj/proj.db lacks DATABASE.LAYOUT.VERSION.MAJOR / DATABASE.LAYOUT.VERSION.MINOR metadata. It comes from another PROJ installation.\n",
      "ERROR 1: PROJ: internal_proj_create_from_name: /Users/nvalett/opt/anaconda3/share/proj/proj.db lacks DATABASE.LAYOUT.VERSION.MAJOR / DATABASE.LAYOUT.VERSION.MINOR metadata. It comes from another PROJ installation.\n"
     ]
    },
    {
     "name": "stdout",
     "output_type": "stream",
     "text": [
      "pre-restoration sum of connectivity 10539\n",
      "post-restoration sum of connectivity 10990\n",
      "change in connectivity: 451, or 0.0427934%\n",
      "x: 230 y: 195\n"
     ]
    },
    {
     "name": "stderr",
     "output_type": "stream",
     "text": [
      "ERROR 1: PROJ: internal_proj_create_from_name: /Users/nvalett/opt/anaconda3/share/proj/proj.db lacks DATABASE.LAYOUT.VERSION.MAJOR / DATABASE.LAYOUT.VERSION.MINOR metadata. It comes from another PROJ installation.\n",
      "ERROR 1: PROJ: internal_proj_create_from_name: /Users/nvalett/opt/anaconda3/share/proj/proj.db lacks DATABASE.LAYOUT.VERSION.MAJOR / DATABASE.LAYOUT.VERSION.MINOR metadata. It comes from another PROJ installation.\n",
      "ERROR 1: PROJ: internal_proj_create_from_name: /Users/nvalett/opt/anaconda3/share/proj/proj.db lacks DATABASE.LAYOUT.VERSION.MAJOR / DATABASE.LAYOUT.VERSION.MINOR metadata. It comes from another PROJ installation.\n",
      "ERROR 1: PROJ: internal_proj_create_from_name: /Users/nvalett/opt/anaconda3/share/proj/proj.db lacks DATABASE.LAYOUT.VERSION.MAJOR / DATABASE.LAYOUT.VERSION.MINOR metadata. It comes from another PROJ installation.\n"
     ]
    },
    {
     "name": "stdout",
     "output_type": "stream",
     "text": [
      "Restoring pixel (230, 195) from permiability 0.9091386861313868 to 1.0\n"
     ]
    },
    {
     "name": "stderr",
     "output_type": "stream",
     "text": [
      "ERROR 1: PROJ: internal_proj_create_from_name: /Users/nvalett/opt/anaconda3/share/proj/proj.db lacks DATABASE.LAYOUT.VERSION.MAJOR / DATABASE.LAYOUT.VERSION.MINOR metadata. It comes from another PROJ installation.\n",
      "ERROR 1: PROJ: internal_proj_create_from_name: /Users/nvalett/opt/anaconda3/share/proj/proj.db lacks DATABASE.LAYOUT.VERSION.MAJOR / DATABASE.LAYOUT.VERSION.MINOR metadata. It comes from another PROJ installation.\n",
      "ERROR 1: PROJ: internal_proj_create_from_name: /Users/nvalett/opt/anaconda3/share/proj/proj.db lacks DATABASE.LAYOUT.VERSION.MAJOR / DATABASE.LAYOUT.VERSION.MINOR metadata. It comes from another PROJ installation.\n"
     ]
    },
    {
     "name": "stdout",
     "output_type": "stream",
     "text": [
      "pre-restoration sum of connectivity 11772\n",
      "post-restoration sum of connectivity 11939\n",
      "change in connectivity: 167, or 0.0141862%\n",
      "x: 230 y: 196\n"
     ]
    },
    {
     "name": "stderr",
     "output_type": "stream",
     "text": [
      "ERROR 1: PROJ: internal_proj_create_from_name: /Users/nvalett/opt/anaconda3/share/proj/proj.db lacks DATABASE.LAYOUT.VERSION.MAJOR / DATABASE.LAYOUT.VERSION.MINOR metadata. It comes from another PROJ installation.\n",
      "ERROR 1: PROJ: internal_proj_create_from_name: /Users/nvalett/opt/anaconda3/share/proj/proj.db lacks DATABASE.LAYOUT.VERSION.MAJOR / DATABASE.LAYOUT.VERSION.MINOR metadata. It comes from another PROJ installation.\n",
      "ERROR 1: PROJ: internal_proj_create_from_name: /Users/nvalett/opt/anaconda3/share/proj/proj.db lacks DATABASE.LAYOUT.VERSION.MAJOR / DATABASE.LAYOUT.VERSION.MINOR metadata. It comes from another PROJ installation.\n",
      "ERROR 1: PROJ: internal_proj_create_from_name: /Users/nvalett/opt/anaconda3/share/proj/proj.db lacks DATABASE.LAYOUT.VERSION.MAJOR / DATABASE.LAYOUT.VERSION.MINOR metadata. It comes from another PROJ installation.\n"
     ]
    },
    {
     "name": "stdout",
     "output_type": "stream",
     "text": [
      "Restoring pixel (230, 196) from permiability 0.2715912408759124 to 1.0\n"
     ]
    },
    {
     "name": "stderr",
     "output_type": "stream",
     "text": [
      "ERROR 1: PROJ: internal_proj_create_from_name: /Users/nvalett/opt/anaconda3/share/proj/proj.db lacks DATABASE.LAYOUT.VERSION.MAJOR / DATABASE.LAYOUT.VERSION.MINOR metadata. It comes from another PROJ installation.\n",
      "ERROR 1: PROJ: internal_proj_create_from_name: /Users/nvalett/opt/anaconda3/share/proj/proj.db lacks DATABASE.LAYOUT.VERSION.MAJOR / DATABASE.LAYOUT.VERSION.MINOR metadata. It comes from another PROJ installation.\n",
      "ERROR 1: PROJ: internal_proj_create_from_name: /Users/nvalett/opt/anaconda3/share/proj/proj.db lacks DATABASE.LAYOUT.VERSION.MAJOR / DATABASE.LAYOUT.VERSION.MINOR metadata. It comes from another PROJ installation.\n"
     ]
    },
    {
     "name": "stdout",
     "output_type": "stream",
     "text": [
      "pre-restoration sum of connectivity 11761\n",
      "post-restoration sum of connectivity 11981\n",
      "change in connectivity: 220, or 0.0187059%\n",
      "x: 231 y: 196\n"
     ]
    },
    {
     "name": "stderr",
     "output_type": "stream",
     "text": [
      "ERROR 1: PROJ: internal_proj_create_from_name: /Users/nvalett/opt/anaconda3/share/proj/proj.db lacks DATABASE.LAYOUT.VERSION.MAJOR / DATABASE.LAYOUT.VERSION.MINOR metadata. It comes from another PROJ installation.\n",
      "ERROR 1: PROJ: internal_proj_create_from_name: /Users/nvalett/opt/anaconda3/share/proj/proj.db lacks DATABASE.LAYOUT.VERSION.MAJOR / DATABASE.LAYOUT.VERSION.MINOR metadata. It comes from another PROJ installation.\n",
      "ERROR 1: PROJ: internal_proj_create_from_name: /Users/nvalett/opt/anaconda3/share/proj/proj.db lacks DATABASE.LAYOUT.VERSION.MAJOR / DATABASE.LAYOUT.VERSION.MINOR metadata. It comes from another PROJ installation.\n",
      "ERROR 1: PROJ: internal_proj_create_from_name: /Users/nvalett/opt/anaconda3/share/proj/proj.db lacks DATABASE.LAYOUT.VERSION.MAJOR / DATABASE.LAYOUT.VERSION.MINOR metadata. It comes from another PROJ installation.\n"
     ]
    },
    {
     "name": "stdout",
     "output_type": "stream",
     "text": [
      "Restoring pixel (231, 196) from permiability 0.9091386861313868 to 1.0\n"
     ]
    },
    {
     "name": "stderr",
     "output_type": "stream",
     "text": [
      "ERROR 1: PROJ: internal_proj_create_from_name: /Users/nvalett/opt/anaconda3/share/proj/proj.db lacks DATABASE.LAYOUT.VERSION.MAJOR / DATABASE.LAYOUT.VERSION.MINOR metadata. It comes from another PROJ installation.\n",
      "ERROR 1: PROJ: internal_proj_create_from_name: /Users/nvalett/opt/anaconda3/share/proj/proj.db lacks DATABASE.LAYOUT.VERSION.MAJOR / DATABASE.LAYOUT.VERSION.MINOR metadata. It comes from another PROJ installation.\n",
      "ERROR 1: PROJ: internal_proj_create_from_name: /Users/nvalett/opt/anaconda3/share/proj/proj.db lacks DATABASE.LAYOUT.VERSION.MAJOR / DATABASE.LAYOUT.VERSION.MINOR metadata. It comes from another PROJ installation.\n"
     ]
    },
    {
     "name": "stdout",
     "output_type": "stream",
     "text": [
      "pre-restoration sum of connectivity 11363\n",
      "post-restoration sum of connectivity 12026\n",
      "change in connectivity: 663, or 0.0583473%\n",
      "x: 229 y: 196\n"
     ]
    },
    {
     "name": "stderr",
     "output_type": "stream",
     "text": [
      "ERROR 1: PROJ: internal_proj_create_from_name: /Users/nvalett/opt/anaconda3/share/proj/proj.db lacks DATABASE.LAYOUT.VERSION.MAJOR / DATABASE.LAYOUT.VERSION.MINOR metadata. It comes from another PROJ installation.\n",
      "ERROR 1: PROJ: internal_proj_create_from_name: /Users/nvalett/opt/anaconda3/share/proj/proj.db lacks DATABASE.LAYOUT.VERSION.MAJOR / DATABASE.LAYOUT.VERSION.MINOR metadata. It comes from another PROJ installation.\n",
      "ERROR 1: PROJ: internal_proj_create_from_name: /Users/nvalett/opt/anaconda3/share/proj/proj.db lacks DATABASE.LAYOUT.VERSION.MAJOR / DATABASE.LAYOUT.VERSION.MINOR metadata. It comes from another PROJ installation.\n",
      "ERROR 1: PROJ: internal_proj_create_from_name: /Users/nvalett/opt/anaconda3/share/proj/proj.db lacks DATABASE.LAYOUT.VERSION.MAJOR / DATABASE.LAYOUT.VERSION.MINOR metadata. It comes from another PROJ installation.\n"
     ]
    },
    {
     "name": "stdout",
     "output_type": "stream",
     "text": [
      "Restoring pixel (229, 196) from permiability 0.2715912408759124 to 1.0\n"
     ]
    },
    {
     "name": "stderr",
     "output_type": "stream",
     "text": [
      "ERROR 1: PROJ: internal_proj_create_from_name: /Users/nvalett/opt/anaconda3/share/proj/proj.db lacks DATABASE.LAYOUT.VERSION.MAJOR / DATABASE.LAYOUT.VERSION.MINOR metadata. It comes from another PROJ installation.\n",
      "ERROR 1: PROJ: internal_proj_create_from_name: /Users/nvalett/opt/anaconda3/share/proj/proj.db lacks DATABASE.LAYOUT.VERSION.MAJOR / DATABASE.LAYOUT.VERSION.MINOR metadata. It comes from another PROJ installation.\n",
      "ERROR 1: PROJ: internal_proj_create_from_name: /Users/nvalett/opt/anaconda3/share/proj/proj.db lacks DATABASE.LAYOUT.VERSION.MAJOR / DATABASE.LAYOUT.VERSION.MINOR metadata. It comes from another PROJ installation.\n"
     ]
    },
    {
     "name": "stdout",
     "output_type": "stream",
     "text": [
      "pre-restoration sum of connectivity 12221\n",
      "post-restoration sum of connectivity 13107\n",
      "change in connectivity: 886, or 0.0724982%\n",
      "x: 229 y: 195\n"
     ]
    },
    {
     "name": "stderr",
     "output_type": "stream",
     "text": [
      "ERROR 1: PROJ: internal_proj_create_from_name: /Users/nvalett/opt/anaconda3/share/proj/proj.db lacks DATABASE.LAYOUT.VERSION.MAJOR / DATABASE.LAYOUT.VERSION.MINOR metadata. It comes from another PROJ installation.\n",
      "ERROR 1: PROJ: internal_proj_create_from_name: /Users/nvalett/opt/anaconda3/share/proj/proj.db lacks DATABASE.LAYOUT.VERSION.MAJOR / DATABASE.LAYOUT.VERSION.MINOR metadata. It comes from another PROJ installation.\n",
      "ERROR 1: PROJ: internal_proj_create_from_name: /Users/nvalett/opt/anaconda3/share/proj/proj.db lacks DATABASE.LAYOUT.VERSION.MAJOR / DATABASE.LAYOUT.VERSION.MINOR metadata. It comes from another PROJ installation.\n",
      "ERROR 1: PROJ: internal_proj_create_from_name: /Users/nvalett/opt/anaconda3/share/proj/proj.db lacks DATABASE.LAYOUT.VERSION.MAJOR / DATABASE.LAYOUT.VERSION.MINOR metadata. It comes from another PROJ installation.\n"
     ]
    },
    {
     "name": "stdout",
     "output_type": "stream",
     "text": [
      "Restoring pixel (229, 195) from permiability 0.9091386861313868 to 1.0\n"
     ]
    },
    {
     "name": "stderr",
     "output_type": "stream",
     "text": [
      "ERROR 1: PROJ: internal_proj_create_from_name: /Users/nvalett/opt/anaconda3/share/proj/proj.db lacks DATABASE.LAYOUT.VERSION.MAJOR / DATABASE.LAYOUT.VERSION.MINOR metadata. It comes from another PROJ installation.\n",
      "ERROR 1: PROJ: internal_proj_create_from_name: /Users/nvalett/opt/anaconda3/share/proj/proj.db lacks DATABASE.LAYOUT.VERSION.MAJOR / DATABASE.LAYOUT.VERSION.MINOR metadata. It comes from another PROJ installation.\n",
      "ERROR 1: PROJ: internal_proj_create_from_name: /Users/nvalett/opt/anaconda3/share/proj/proj.db lacks DATABASE.LAYOUT.VERSION.MAJOR / DATABASE.LAYOUT.VERSION.MINOR metadata. It comes from another PROJ installation.\n"
     ]
    },
    {
     "name": "stdout",
     "output_type": "stream",
     "text": [
      "pre-restoration sum of connectivity 12338\n",
      "post-restoration sum of connectivity 12145\n",
      "change in connectivity: -193, or -0.0156427%\n",
      "x: 228 y: 196\n"
     ]
    },
    {
     "name": "stderr",
     "output_type": "stream",
     "text": [
      "ERROR 1: PROJ: internal_proj_create_from_name: /Users/nvalett/opt/anaconda3/share/proj/proj.db lacks DATABASE.LAYOUT.VERSION.MAJOR / DATABASE.LAYOUT.VERSION.MINOR metadata. It comes from another PROJ installation.\n",
      "ERROR 1: PROJ: internal_proj_create_from_name: /Users/nvalett/opt/anaconda3/share/proj/proj.db lacks DATABASE.LAYOUT.VERSION.MAJOR / DATABASE.LAYOUT.VERSION.MINOR metadata. It comes from another PROJ installation.\n",
      "ERROR 1: PROJ: internal_proj_create_from_name: /Users/nvalett/opt/anaconda3/share/proj/proj.db lacks DATABASE.LAYOUT.VERSION.MAJOR / DATABASE.LAYOUT.VERSION.MINOR metadata. It comes from another PROJ installation.\n",
      "ERROR 1: PROJ: internal_proj_create_from_name: /Users/nvalett/opt/anaconda3/share/proj/proj.db lacks DATABASE.LAYOUT.VERSION.MAJOR / DATABASE.LAYOUT.VERSION.MINOR metadata. It comes from another PROJ installation.\n"
     ]
    },
    {
     "name": "stdout",
     "output_type": "stream",
     "text": [
      "Restoring pixel (228, 196) from permiability 0.2715912408759124 to 1.0\n"
     ]
    },
    {
     "name": "stderr",
     "output_type": "stream",
     "text": [
      "ERROR 1: PROJ: internal_proj_create_from_name: /Users/nvalett/opt/anaconda3/share/proj/proj.db lacks DATABASE.LAYOUT.VERSION.MAJOR / DATABASE.LAYOUT.VERSION.MINOR metadata. It comes from another PROJ installation.\n",
      "ERROR 1: PROJ: internal_proj_create_from_name: /Users/nvalett/opt/anaconda3/share/proj/proj.db lacks DATABASE.LAYOUT.VERSION.MAJOR / DATABASE.LAYOUT.VERSION.MINOR metadata. It comes from another PROJ installation.\n",
      "ERROR 1: PROJ: internal_proj_create_from_name: /Users/nvalett/opt/anaconda3/share/proj/proj.db lacks DATABASE.LAYOUT.VERSION.MAJOR / DATABASE.LAYOUT.VERSION.MINOR metadata. It comes from another PROJ installation.\n"
     ]
    },
    {
     "name": "stdout",
     "output_type": "stream",
     "text": [
      "pre-restoration sum of connectivity 13117\n",
      "post-restoration sum of connectivity 12881\n",
      "change in connectivity: -236, or -0.0179919%\n",
      "x: 228 y: 197\n"
     ]
    },
    {
     "name": "stderr",
     "output_type": "stream",
     "text": [
      "ERROR 1: PROJ: internal_proj_create_from_name: /Users/nvalett/opt/anaconda3/share/proj/proj.db lacks DATABASE.LAYOUT.VERSION.MAJOR / DATABASE.LAYOUT.VERSION.MINOR metadata. It comes from another PROJ installation.\n",
      "ERROR 1: PROJ: internal_proj_create_from_name: /Users/nvalett/opt/anaconda3/share/proj/proj.db lacks DATABASE.LAYOUT.VERSION.MAJOR / DATABASE.LAYOUT.VERSION.MINOR metadata. It comes from another PROJ installation.\n",
      "ERROR 1: PROJ: internal_proj_create_from_name: /Users/nvalett/opt/anaconda3/share/proj/proj.db lacks DATABASE.LAYOUT.VERSION.MAJOR / DATABASE.LAYOUT.VERSION.MINOR metadata. It comes from another PROJ installation.\n",
      "ERROR 1: PROJ: internal_proj_create_from_name: /Users/nvalett/opt/anaconda3/share/proj/proj.db lacks DATABASE.LAYOUT.VERSION.MAJOR / DATABASE.LAYOUT.VERSION.MINOR metadata. It comes from another PROJ installation.\n"
     ]
    },
    {
     "name": "stdout",
     "output_type": "stream",
     "text": [
      "Restoring pixel (228, 197) from permiability 0.2715912408759124 to 1.0\n"
     ]
    },
    {
     "name": "stderr",
     "output_type": "stream",
     "text": [
      "ERROR 1: PROJ: internal_proj_create_from_name: /Users/nvalett/opt/anaconda3/share/proj/proj.db lacks DATABASE.LAYOUT.VERSION.MAJOR / DATABASE.LAYOUT.VERSION.MINOR metadata. It comes from another PROJ installation.\n",
      "ERROR 1: PROJ: internal_proj_create_from_name: /Users/nvalett/opt/anaconda3/share/proj/proj.db lacks DATABASE.LAYOUT.VERSION.MAJOR / DATABASE.LAYOUT.VERSION.MINOR metadata. It comes from another PROJ installation.\n",
      "ERROR 1: PROJ: internal_proj_create_from_name: /Users/nvalett/opt/anaconda3/share/proj/proj.db lacks DATABASE.LAYOUT.VERSION.MAJOR / DATABASE.LAYOUT.VERSION.MINOR metadata. It comes from another PROJ installation.\n"
     ]
    },
    {
     "name": "stdout",
     "output_type": "stream",
     "text": [
      "pre-restoration sum of connectivity 12688\n",
      "post-restoration sum of connectivity 12978\n",
      "change in connectivity: 290, or 0.0228562%\n",
      "total_delta_connectivity: 2257\n",
      "Average percent change: 0.02005079298244981\n"
     ]
    }
   ],
   "source": [
    "death_tif = optimizer.get_death_layer(optimizer.death_fn)\n",
    "highest_pixels, highest_death = optimizer.get_highest_death_pixels_island(death_tif, n=50)\n",
    "print(f\"highest_pixels: {highest_pixels}\")\n",
    "print(f\"highest_death: {highest_death}\")\n",
    "\n",
    "ter = GeoTiff.from_file(optimizer.terrain_fn)\n",
    "restored_ter = GeoTiff.from_file(optimizer.restored_terr_fn)\n",
    "hab = GeoTiff.from_file(optimizer.habitat_fn)\n",
    "\n",
    "window_sz = 16\n",
    "\n",
    "total_delta_connectivity = 0\n",
    "total_percent_change = 0.0\n",
    "\n",
    "permeabilities = []\n",
    "deaths = []\n",
    "change_percents = []\n",
    "\n",
    "for y, x in highest_pixels:\n",
    "    print(f\"x: {x} y: {y}\")\n",
    "    deaths.append(death_tif.get_pixel_value(x, y))\n",
    "    lat_max, lon_max = rasterio.transform.xy(ter.dataset.transform, y-window_sz, x-window_sz)\n",
    "    lat_min, lon_min = rasterio.transform.xy(ter.dataset.transform, y+window_sz, x+window_sz)\n",
    "\n",
    "    pre_ter = ter.crop_to_new_file(PRE_TER, [lat_max, lon_min, lat_min, lon_max], padding=0)\n",
    "    # pre_ter.draw_geotiff()\n",
    "    pre_ter.dataset.close()\n",
    "\n",
    "    pre_hab = hab.crop_to_new_file(PRE_HAB, [lat_max, lon_min, lat_min, lon_max], padding=0)\n",
    "    # hab_tile = hab.get_all_as_tile().m.astype(np.float)\n",
    "    # pre_hab.draw_geotiff()\n",
    "    pre_hab.dataset.close()\n",
    "\n",
    "    # seed = torch.randint(1, 1000, (1,))[0]\n",
    "    # seed = i\n",
    "    repopulation.compute_connectivity(PRE_HAB, PRE_TER, PRE_CONN, PRE_FLOW, transmission_d, single_tile=True, num_simulations=5000)\n",
    "\n",
    "    # conn_before = GeoTiff.from_file(PRE_CONN)\n",
    "    # conn_before_tile = conn_before.get_all_as_tile()\n",
    "    # conn_before.draw_geotiff()\n",
    "\n",
    "    pre_conn_sum = optimizer.sum_of_tif(PRE_CONN)\n",
    "\n",
    "    with GeoTiff.from_file(optimizer.terrain_fn) as terrain_geotiff:\n",
    "        old_terrain = terrain_geotiff.get_pixel_value(x, y)\n",
    "        permeabilities.append(optimizer.permeability_dict[old_terrain])\n",
    "\n",
    "    optimizer.change_terrain(x, y, verbose=True)\n",
    "    post_ter = restored_ter.crop_to_new_file(POST_TER, [lat_max, lon_min, lat_min, lon_max], padding=0)\n",
    "    # post_ter.draw_geotiff()\n",
    "    post_ter.dataset.close()\n",
    "\n",
    "    repopulation.compute_connectivity(PRE_HAB, POST_TER, POST_CONN, POST_FLOW, transmission_d, single_tile=True, num_simulations=5000)\n",
    "    # conn_after = GeoTiff.from_file(POST_CONN)\n",
    "    # conn_after.draw_geotiff()\n",
    "    # conn_after_tile = conn_after.get_all_as_tile()\n",
    "    post_conn_sum = optimizer.sum_of_tif(POST_CONN)\n",
    "    \n",
    "    # change in connectivity:\n",
    "    delta_conn = int(post_conn_sum) - int(pre_conn_sum)\n",
    "    percent_change = delta_conn / pre_conn_sum\n",
    "\n",
    "    change_percents.append(percent_change)\n",
    "\n",
    "    total_delta_connectivity += delta_conn\n",
    "    total_percent_change += percent_change\n",
    "\n",
    "    # diff_tile = Tile(conn_after_tile.w, conn_after_tile.h, conn_after_tile.b, conn_after_tile.c, conn_after_tile.x, conn_after_tile.y, conn_after_tile.m-conn_before_tile.m)\n",
    "    # diff_tile.draw_tile()\n",
    "\n",
    "    print(f'pre-restoration sum of connectivity {pre_conn_sum}')\n",
    "    print(f'post-restoration sum of connectivity {post_conn_sum}')\n",
    "    print(f'change in connectivity: {delta_conn}, or {percent_change.round(7)}%')\n",
    "\n",
    "\n",
    "print(f\"total_delta_connectivity: {total_delta_connectivity}\")\n",
    "print(f\"Average percent change: {total_percent_change / len(highest_pixels)}\")\n",
    "\n"
   ]
  },
  {
   "cell_type": "code",
   "execution_count": 14,
   "metadata": {},
   "outputs": [
    {
     "data": {
      "text/plain": [
       "<Figure size 500x500 with 0 Axes>"
      ]
     },
     "metadata": {},
     "output_type": "display_data"
    },
    {
     "data": {
      "image/png": "[encoded data removed]",
      "text/plain": [
       "<Figure size 500x500 with 2 Axes>"
      ]
     },
     "metadata": {},
     "output_type": "display_data"
    },
    {
     "data": {
      "text/plain": [
       "<Figure size 500x500 with 0 Axes>"
      ]
     },
     "metadata": {},
     "output_type": "display_data"
    },
    {
     "data": {
      "image/png": "[encoded data removed]",
      "text/plain": [
       "<Figure size 500x500 with 2 Axes>"
      ]
     },
     "metadata": {},
     "output_type": "display_data"
    }
   ],
   "source": [
    "conn_before = GeoTiff.from_file(PRE_CONN)\n",
    "conn_before_tile = conn_before.get_all_as_tile()\n",
    "conn_before.draw_geotiff()\n",
    "\n",
    "conn_after = GeoTiff.from_file(POST_CONN)\n",
    "conn_after.draw_geotiff()\n",
    "conn_after_tile = conn_after.get_all_as_tile()"
   ]
  },
  {
   "cell_type": "code",
   "execution_count": 75,
   "metadata": {},
   "outputs": [
    {
     "name": "stdout",
     "output_type": "stream",
     "text": [
      "[36, 36, 36, 36, 36, 36, 35, 35, 35, 35, 35, 34, 34, 34, 34, 34, 34, 34, 33, 33, 33, 33, 33, 33, 33, 32, 32, 32, 32, 32, 32, 32, 32, 32, 32, 32, 32, 31, 31, 31, 31, 31, 31, 31, 31, 31, 31, 31, 31, 30]\n",
      "[0.09342301943198804, -0.005649717514124294, -0.012067578439259855, -0.01183159188690842, 0.07707631014403923, -0.012588212855235552, 0.15965346534653466, 0.14894398530762168, 0.3368747233289066, 0.05357369556937921, 0.04586713792272472, 0.023066970062017578, 0.03773584905660377, 0.02447980416156671, -0.011897919301069088, -0.028686396677050884, 0.1903114186851211, 0.09640221402214022, 0.11303129378794956, 0.024243908411901556, 0.04638635343408649, 0.12890700834789362, 0.02277385561375541, 0.19407321324811155, 0.13395012067578438, 0.08050478677110531, 0.004156617232000821, -0.006474648893120685, 0.007250580046403712, -0.001545993300695697, 0.021213026590976996, 0.006197171651495448, 0.0035687642397725667, 0.04862825469281289, -0.010820797044074954, 0.014726527805632753, -0.0002509357813512892, 0.01607765812225087, 0.12122926093514329, 0.04830917874396135, 0.021205887007437887, -0.02846201614572552, 0.042053938747524, 0.12850678733031673, 0.0019737531116822016, 0.15316901408450703, 0.13570487483530963, 0.008587639932525686, 0.0007897724468137618, 0.057000194539913104]\n"
     ]
    },
    {
     "data": {
      "image/png": "[encoded data removed]",
      "text/plain": [
       "<Figure size 300x300 with 1 Axes>"
      ]
     },
     "metadata": {},
     "output_type": "display_data"
    }
   ],
   "source": [
    "print(deaths)\n",
    "print(change_percents)\n",
    "plt.scatter(deaths, change_percents, color=\"red\")\n",
    "plt.xlabel(\"Deaths\")\n",
    "plt.ylabel(\"Change in Connectivity\")\n",
    "plt.show()"
   ]
  },
  {
   "cell_type": "code",
   "execution_count": 74,
   "metadata": {},
   "outputs": [
    {
     "name": "stdout",
     "output_type": "stream",
     "text": [
      "[[1.         0.12648271]\n",
      " [0.12648271 1.        ]]\n"
     ]
    }
   ],
   "source": [
    "print(np.corrcoef(deaths, change_percents))"
   ]
  },
  {
   "cell_type": "code",
   "execution_count": 72,
   "metadata": {},
   "outputs": [
    {
     "name": "stdout",
     "output_type": "stream",
     "text": [
      "1646\n"
     ]
    }
   ],
   "source": [
    "death_sum = 0\n",
    "for i in highest_death.values():\n",
    "    death_sum += i\n",
    "\n",
    "print(death_sum)\n"
   ]
  },
  {
   "cell_type": "markdown",
   "metadata": {},
   "source": [
    "6737/1646 = 4.093\n",
    "\n",
    "About 4x more connectivity units per potential unit\n",
    "\n",
    "TODO:\n",
    "- Look at correlation between amount of permiability restored, and % change in connectivity\n",
    "- visualize difference before -> after"
   ]
  },
  {
   "cell_type": "code",
   "execution_count": 73,
   "metadata": {},
   "outputs": [
    {
     "data": {
      "text/plain": [
       "8.899756986634264"
      ]
     },
     "execution_count": 73,
     "metadata": {},
     "output_type": "execute_result"
    }
   ],
   "source": [
    "14649/1646"
   ]
  },
  {
   "cell_type": "code",
   "execution_count": null,
   "metadata": {},
   "outputs": [],
   "source": []
  },
  {
   "cell_type": "markdown",
   "metadata": {},
   "source": [
    "Compare results to randomly chosen pixels:"
   ]
  },
  {
   "cell_type": "code",
   "execution_count": 79,
   "metadata": {},
   "outputs": [
    {
     "name": "stdout",
     "output_type": "stream",
     "text": [
      "312\n",
      "218\n",
      "(157, 112)\n",
      "(298, 206)\n",
      "(226, 128)\n",
      "(136, 1)\n",
      "(107, 176)\n",
      "(166, 146)\n",
      "(77, 216)\n",
      "(225, 35)\n",
      "(217, 51)\n",
      "(194, 201)\n",
      "(267, 22)\n",
      "(178, 10)\n",
      "(287, 178)\n",
      "(217, 105)\n",
      "(11, 115)\n",
      "(310, 28)\n",
      "(263, 139)\n",
      "(39, 117)\n",
      "(23, 47)\n",
      "(307, 100)\n",
      "(276, 54)\n",
      "(241, 116)\n",
      "(116, 90)\n",
      "(185, 32)\n",
      "(117, 108)\n",
      "(256, 118)\n",
      "(173, 87)\n",
      "(41, 104)\n",
      "(173, 89)\n",
      "(41, 125)\n",
      "(256, 167)\n",
      "(90, 159)\n",
      "(91, 92)\n",
      "(92, 131)\n",
      "(10, 99)\n",
      "(117, 46)\n",
      "(37, 9)\n",
      "(218, 136)\n",
      "(15, 208)\n",
      "(49, 217)\n",
      "(16, 190)\n",
      "(78, 30)\n",
      "(55, 143)\n",
      "(277, 149)\n",
      "(293, 134)\n",
      "(303, 151)\n",
      "(254, 161)\n",
      "(101, 37)\n",
      "(254, 6)\n",
      "(102, 11)\n"
     ]
    }
   ],
   "source": [
    "from random import randint\n",
    "\n",
    "# get n random (x, y) pairs in a range\n",
    "def gencoordinates(width, height, n):\n",
    "    seen = set()\n",
    "\n",
    "    x, y = randint(0, width), randint(0, height)\n",
    "\n",
    "    while len(seen) < n:\n",
    "        seen.add((x, y))\n",
    "        yield (x, y)\n",
    "        x, y = randint(0, width), randint(0, height)\n",
    "        while (x, y) in seen:\n",
    "            x, y = randint(0, width), randint(0, height)\n",
    "\n",
    "print(death_tif.width)\n",
    "print(death_tif.height)\n",
    "\n",
    "coords = gencoordinates(death_tif.width, death_tif.height, 50)\n",
    "for i in coords:\n",
    "    print(i)\n",
    "\n"
   ]
  },
  {
   "cell_type": "code",
   "execution_count": 81,
   "metadata": {},
   "outputs": [
    {
     "name": "stdout",
     "output_type": "stream",
     "text": [
      "Restoring pixel (15, 51) from permiability 1.0 to 1.0\n",
      "pre-restoration sum of connectivity 10930\n",
      "post-restoration sum of connectivity 10986\n",
      "change in connectivity: 56, or 0.0051235%\n",
      "Restoring pixel (217, 210) from permiability 1.0 to 1.0\n",
      "pre-restoration sum of connectivity 8190\n",
      "post-restoration sum of connectivity 8162\n",
      "change in connectivity: -28, or -0.0034188%\n",
      "Restoring pixel (124, 195) from permiability 1.0 to 1.0\n",
      "pre-restoration sum of connectivity 8313\n",
      "post-restoration sum of connectivity 8139\n",
      "change in connectivity: -174, or -0.0209311%\n",
      "Restoring pixel (209, 57) from permiability 1.0 to 1.0\n",
      "pre-restoration sum of connectivity 68\n",
      "post-restoration sum of connectivity 52\n",
      "change in connectivity: -16, or -0.2352941%\n",
      "Restoring pixel (242, 21) from permiability 1.0 to 1.0\n",
      "pre-restoration sum of connectivity 158636\n",
      "post-restoration sum of connectivity 158494\n",
      "change in connectivity: -142, or -0.0008951%\n",
      "Restoring pixel (271, 0) from permiability 1.0 to 1.0\n",
      "pre-restoration sum of connectivity 17550\n",
      "post-restoration sum of connectivity 17581\n",
      "change in connectivity: 31, or 0.0017664%\n",
      "Restoring pixel (310, 199) from permiability 1.0 to 1.0\n",
      "pre-restoration sum of connectivity 2894\n",
      "post-restoration sum of connectivity 3120\n",
      "change in connectivity: 226, or 0.0780926%\n",
      "Restoring pixel (110, 65) from permiability 1.0 to 1.0\n",
      "pre-restoration sum of connectivity 23567\n",
      "post-restoration sum of connectivity 23417\n",
      "change in connectivity: -150, or -0.0063648%\n",
      "Restoring pixel (185, 101) from permiability 1.0 to 1.0\n",
      "pre-restoration sum of connectivity 47142\n",
      "post-restoration sum of connectivity 46663\n",
      "change in connectivity: -479, or -0.0101608%\n",
      "Restoring pixel (28, 123) from permiability 0.0 to 1.0\n",
      "pre-restoration sum of connectivity 16168\n",
      "post-restoration sum of connectivity 16277\n",
      "change in connectivity: 109, or 0.0067417%\n",
      "Restoring pixel (103, 90) from permiability 1.0 to 1.0\n",
      "pre-restoration sum of connectivity 79141\n",
      "post-restoration sum of connectivity 79552\n",
      "change in connectivity: 411, or 0.0051933%\n",
      "Restoring pixel (301, 63) from permiability 1.0 to 1.0\n",
      "pre-restoration sum of connectivity 3118\n",
      "post-restoration sum of connectivity 2907\n",
      "change in connectivity: -211, or -0.0676716%\n",
      "Restoring pixel (243, 18) from permiability 1.0 to 1.0\n",
      "pre-restoration sum of connectivity 145620\n",
      "post-restoration sum of connectivity 147736\n",
      "change in connectivity: 2116, or 0.014531%\n",
      "Restoring pixel (136, 127) from permiability 1.0 to 1.0\n",
      "pre-restoration sum of connectivity 69628\n",
      "post-restoration sum of connectivity 69921\n",
      "change in connectivity: 293, or 0.0042081%\n",
      "Restoring pixel (229, 9) from permiability 1.0 to 1.0\n",
      "pre-restoration sum of connectivity 90318\n",
      "post-restoration sum of connectivity 90180\n",
      "change in connectivity: -138, or -0.0015279%\n",
      "Restoring pixel (179, 97) from permiability 1.0 to 1.0\n",
      "pre-restoration sum of connectivity 57131\n",
      "post-restoration sum of connectivity 57346\n",
      "change in connectivity: 215, or 0.0037633%\n",
      "Restoring pixel (162, 191) from permiability 1.0 to 1.0\n",
      "pre-restoration sum of connectivity 8753\n",
      "post-restoration sum of connectivity 8704\n",
      "change in connectivity: -49, or -0.0055981%\n",
      "Restoring pixel (95, 18) from permiability 1.0 to 1.0\n",
      "pre-restoration sum of connectivity 56170\n",
      "post-restoration sum of connectivity 56729\n",
      "change in connectivity: 559, or 0.0099519%\n",
      "Restoring pixel (43, 8) from permiability 1.0 to 1.0\n",
      "pre-restoration sum of connectivity 94774\n",
      "post-restoration sum of connectivity 93872\n",
      "change in connectivity: -902, or -0.0095174%\n",
      "Restoring pixel (154, 198) from permiability 1.0 to 1.0\n",
      "pre-restoration sum of connectivity 5065\n",
      "post-restoration sum of connectivity 5192\n",
      "change in connectivity: 127, or 0.025074%\n",
      "Restoring pixel (302, 27) from permiability 1.0 to 1.0\n",
      "pre-restoration sum of connectivity 23010\n",
      "post-restoration sum of connectivity 22420\n",
      "change in connectivity: -590, or -0.025641%\n",
      "Restoring pixel (6, 147) from permiability 0.01454014598540146 to 1.0\n",
      "pre-restoration sum of connectivity 6\n",
      "post-restoration sum of connectivity 3\n",
      "change in connectivity: -3, or -0.5%\n",
      "Restoring pixel (179, 161) from permiability 0.2715912408759124 to 1.0\n",
      "pre-restoration sum of connectivity 68346\n",
      "post-restoration sum of connectivity 68302\n",
      "change in connectivity: -44, or -0.0006438%\n",
      "Restoring pixel (111, 204) from permiability 0.01454014598540146 to 1.0\n",
      "pre-restoration sum of connectivity 14\n",
      "post-restoration sum of connectivity 10\n",
      "change in connectivity: -4, or -0.2857143%\n",
      "Restoring pixel (124, 121) from permiability 1.0 to 1.0\n",
      "pre-restoration sum of connectivity 83226\n",
      "post-restoration sum of connectivity 85026\n",
      "change in connectivity: 1800, or 0.0216279%\n",
      "Restoring pixel (310, 169) from permiability 1.0 to 1.0\n",
      "pre-restoration sum of connectivity 16768\n",
      "post-restoration sum of connectivity 16494\n",
      "change in connectivity: -274, or -0.0163406%\n",
      "Restoring pixel (198, 19) from permiability 1.0 to 1.0\n",
      "pre-restoration sum of connectivity 60\n",
      "post-restoration sum of connectivity 50\n",
      "change in connectivity: -10, or -0.1666667%\n",
      "Restoring pixel (40, 16) from permiability 1.0 to 1.0\n",
      "pre-restoration sum of connectivity 109045\n",
      "post-restoration sum of connectivity 109319\n",
      "change in connectivity: 274, or 0.0025127%\n",
      "Restoring pixel (37, 103) from permiability 1.0 to 1.0\n",
      "pre-restoration sum of connectivity 77038\n",
      "post-restoration sum of connectivity 76989\n",
      "change in connectivity: -49, or -0.000636%\n",
      "Restoring pixel (57, 75) from permiability 1.0 to 1.0\n",
      "pre-restoration sum of connectivity 8204\n",
      "post-restoration sum of connectivity 8325\n",
      "change in connectivity: 121, or 0.0147489%\n",
      "Restoring pixel (115, 38) from permiability 1.0 to 1.0\n",
      "pre-restoration sum of connectivity 41715\n",
      "post-restoration sum of connectivity 42502\n",
      "change in connectivity: 787, or 0.0188661%\n",
      "Restoring pixel (53, 144) from permiability 0.01454014598540146 to 1.0\n",
      "pre-restoration sum of connectivity 3051\n",
      "post-restoration sum of connectivity 3051\n",
      "change in connectivity: 0, or 0.0%\n",
      "Restoring pixel (220, 11) from permiability 1.0 to 1.0\n",
      "pre-restoration sum of connectivity 58537\n",
      "post-restoration sum of connectivity 59497\n",
      "change in connectivity: 960, or 0.0163999%\n",
      "Restoring pixel (207, 22) from permiability 1.0 to 1.0\n",
      "pre-restoration sum of connectivity 3881\n",
      "post-restoration sum of connectivity 3902\n",
      "change in connectivity: 21, or 0.005411%\n",
      "Restoring pixel (83, 75) from permiability 1.0 to 1.0\n",
      "pre-restoration sum of connectivity 12491\n",
      "post-restoration sum of connectivity 12527\n",
      "change in connectivity: 36, or 0.0028821%\n",
      "Restoring pixel (39, 35) from permiability 1.0 to 1.0\n",
      "pre-restoration sum of connectivity 77367\n",
      "post-restoration sum of connectivity 77327\n",
      "change in connectivity: -40, or -0.000517%\n",
      "Restoring pixel (109, 14) from permiability 1.0 to 1.0\n",
      "pre-restoration sum of connectivity 12514\n",
      "post-restoration sum of connectivity 12896\n",
      "change in connectivity: 382, or 0.0305258%\n",
      "Restoring pixel (168, 140) from permiability 1.0 to 1.0\n",
      "pre-restoration sum of connectivity 42514\n",
      "post-restoration sum of connectivity 43229\n",
      "change in connectivity: 715, or 0.016818%\n",
      "Restoring pixel (299, 115) from permiability 1.0 to 1.0\n",
      "pre-restoration sum of connectivity 50041\n",
      "post-restoration sum of connectivity 49740\n",
      "change in connectivity: -301, or -0.0060151%\n",
      "Restoring pixel (25, 31) from permiability 1.0 to 1.0\n",
      "pre-restoration sum of connectivity 72039\n",
      "post-restoration sum of connectivity 72162\n",
      "change in connectivity: 123, or 0.0017074%\n",
      "Restoring pixel (57, 56) from permiability 1.0 to 1.0\n",
      "pre-restoration sum of connectivity 64822\n",
      "post-restoration sum of connectivity 64197\n",
      "change in connectivity: -625, or -0.0096418%\n",
      "Restoring pixel (246, 18) from permiability 1.0 to 1.0\n",
      "pre-restoration sum of connectivity 146423\n",
      "post-restoration sum of connectivity 143748\n",
      "change in connectivity: -2675, or -0.018269%\n",
      "Restoring pixel (280, 147) from permiability 1.0 to 1.0\n",
      "pre-restoration sum of connectivity 36828\n",
      "post-restoration sum of connectivity 37099\n",
      "change in connectivity: 271, or 0.0073585%\n",
      "Restoring pixel (151, 2) from permiability 1.0 to 1.0\n"
     ]
    },
    {
     "name": "stderr",
     "output_type": "stream",
     "text": [
      "/var/folders/py/kw30nbf92q9fms5c67mmgz6m0000gn/T/ipykernel_60394/2493366834.py:57: RuntimeWarning: invalid value encountered in divide\n",
      "  percent_change = delta_conn / pre_conn_sum\n"
     ]
    },
    {
     "name": "stdout",
     "output_type": "stream",
     "text": [
      "pre-restoration sum of connectivity 0\n",
      "post-restoration sum of connectivity 0\n",
      "change in connectivity: 0, or nan%\n",
      "Restoring pixel (185, 111) from permiability 1.0 to 1.0\n",
      "pre-restoration sum of connectivity 29188\n",
      "post-restoration sum of connectivity 29714\n",
      "change in connectivity: 526, or 0.0180211%\n",
      "Restoring pixel (170, 145) from permiability 1.0 to 1.0\n",
      "pre-restoration sum of connectivity 41216\n",
      "post-restoration sum of connectivity 42336\n",
      "change in connectivity: 1120, or 0.0271739%\n",
      "Restoring pixel (201, 80) from permiability 1.0 to 1.0\n",
      "pre-restoration sum of connectivity 84128\n",
      "post-restoration sum of connectivity 84029\n",
      "change in connectivity: -99, or -0.0011768%\n",
      "Restoring pixel (55, 42) from permiability 1.0 to 1.0\n",
      "pre-restoration sum of connectivity 91522\n",
      "post-restoration sum of connectivity 92088\n",
      "change in connectivity: 566, or 0.0061843%\n",
      "Restoring pixel (35, 31) from permiability 1.0 to 1.0\n",
      "pre-restoration sum of connectivity 81241\n",
      "post-restoration sum of connectivity 82272\n",
      "change in connectivity: 1031, or 0.0126906%\n",
      "Restoring pixel (197, 17) from permiability 1.0 to 1.0\n",
      "pre-restoration sum of connectivity 84\n",
      "post-restoration sum of connectivity 96\n",
      "change in connectivity: 12, or 0.1428571%\n",
      "total_delta_connectivity: 5885\n"
     ]
    },
    {
     "ename": "TypeError",
     "evalue": "object of type 'generator' has no len()",
     "output_type": "error",
     "traceback": [
      "\u001b[0;31m---------------------------------------------------------------------------\u001b[0m",
      "\u001b[0;31mTypeError\u001b[0m                                 Traceback (most recent call last)",
      "Cell \u001b[0;32mIn[81], line 72\u001b[0m\n\u001b[1;32m     69\u001b[0m     \u001b[38;5;28mprint\u001b[39m(\u001b[38;5;124mf\u001b[39m\u001b[38;5;124m'\u001b[39m\u001b[38;5;124mchange in connectivity: \u001b[39m\u001b[38;5;132;01m{\u001b[39;00mdelta_conn\u001b[38;5;132;01m}\u001b[39;00m\u001b[38;5;124m, or \u001b[39m\u001b[38;5;132;01m{\u001b[39;00mpercent_change\u001b[38;5;241m.\u001b[39mround(\u001b[38;5;241m7\u001b[39m)\u001b[38;5;132;01m}\u001b[39;00m\u001b[38;5;124m%\u001b[39m\u001b[38;5;124m'\u001b[39m)\n\u001b[1;32m     71\u001b[0m \u001b[38;5;28mprint\u001b[39m(\u001b[38;5;124mf\u001b[39m\u001b[38;5;124m\"\u001b[39m\u001b[38;5;124mtotal_delta_connectivity: \u001b[39m\u001b[38;5;132;01m{\u001b[39;00mtotal_delta_connectivity\u001b[38;5;132;01m}\u001b[39;00m\u001b[38;5;124m\"\u001b[39m)\n\u001b[0;32m---> 72\u001b[0m \u001b[38;5;28mprint\u001b[39m(\u001b[38;5;124mf\u001b[39m\u001b[38;5;124m\"\u001b[39m\u001b[38;5;124mAverage percent change: \u001b[39m\u001b[38;5;132;01m{\u001b[39;00mtotal_percent_change\u001b[38;5;250m \u001b[39m\u001b[38;5;241m/\u001b[39m\u001b[38;5;250m \u001b[39m\u001b[38;5;28mlen\u001b[39m(coords)\u001b[38;5;132;01m}\u001b[39;00m\u001b[38;5;124m\"\u001b[39m)\n",
      "\u001b[0;31mTypeError\u001b[0m: object of type 'generator' has no len()"
     ]
    }
   ],
   "source": [
    "coords = gencoordinates(death_tif.width, death_tif.height, 50)\n",
    "\n",
    "ter = GeoTiff.from_file(optimizer.terrain_fn)\n",
    "restored_ter = GeoTiff.from_file(optimizer.restored_terr_fn)\n",
    "hab = GeoTiff.from_file(optimizer.habitat_fn)\n",
    "\n",
    "window_sz = 16\n",
    "\n",
    "total_delta_connectivity = 0\n",
    "total_percent_change = 0.0\n",
    "\n",
    "permeabilities = []\n",
    "deaths = []\n",
    "change_percents = []\n",
    "\n",
    "for i, (x, y) in enumerate(coords):\n",
    "    # deaths.append(highest_death[(x, y)])\n",
    "    lat_max, lon_max = rasterio.transform.xy(ter.dataset.transform, y-window_sz, x-window_sz)\n",
    "    lat_min, lon_min = rasterio.transform.xy(ter.dataset.transform, y+window_sz, x+window_sz)\n",
    "\n",
    "    pre_ter = ter.crop_to_new_file(PRE_TER, [lat_max, lon_min, lat_min, lon_max], padding=0)\n",
    "    # pre_ter.draw_geotiff()\n",
    "    pre_ter.dataset.close()\n",
    "\n",
    "    pre_hab = hab.crop_to_new_file(PRE_HAB, [lat_max, lon_min, lat_min, lon_max], padding=0)\n",
    "    # hab_tile = hab.get_all_as_tile().m.astype(np.float)\n",
    "    # pre_hab.draw_geotiff()\n",
    "    pre_hab.dataset.close()\n",
    "\n",
    "    # seed = torch.randint(1, 1000, (1,))[0]\n",
    "    # seed = i\n",
    "    repopulation.compute_connectivity(PRE_HAB, PRE_TER, PRE_CONN, PRE_FLOW, transmission_d, single_tile=True, num_simulations=5000)\n",
    "\n",
    "    # conn_before = GeoTiff.from_file(PRE_CONN)\n",
    "    # conn_before_tile = conn_before.get_all_as_tile()\n",
    "    # conn_before.draw_geotiff()\n",
    "\n",
    "    pre_conn_sum = optimizer.sum_of_tif(PRE_CONN)\n",
    "\n",
    "    with GeoTiff.from_file(optimizer.terrain_fn) as terrain_geotiff:\n",
    "        old_terrain = terrain_geotiff.get_pixel_value(x, y)\n",
    "        permeabilities.append(optimizer.permeability_dict[old_terrain])\n",
    "\n",
    "    optimizer.change_terrain(x, y, verbose=True)\n",
    "    post_ter = restored_ter.crop_to_new_file(POST_TER, [lat_max, lon_min, lat_min, lon_max], padding=0)\n",
    "    # post_ter.draw_geotiff()\n",
    "    post_ter.dataset.close()\n",
    "\n",
    "    repopulation.compute_connectivity(PRE_HAB, POST_TER, POST_CONN, POST_FLOW, transmission_d, single_tile=True, num_simulations=5000)\n",
    "    # conn_after = GeoTiff.from_file(POST_CONN)\n",
    "    # conn_after.draw_geotiff()\n",
    "    # conn_after_tile = conn_after.get_all_as_tile()\n",
    "    post_conn_sum = optimizer.sum_of_tif(POST_CONN)\n",
    "    \n",
    "    # change in connectivity:\n",
    "    delta_conn = int(post_conn_sum) - int(pre_conn_sum)\n",
    "    percent_change = delta_conn / pre_conn_sum\n",
    "\n",
    "    change_percents.append(percent_change)\n",
    "\n",
    "    total_delta_connectivity += delta_conn\n",
    "    total_percent_change += percent_change\n",
    "\n",
    "    # diff_tile = Tile(conn_after_tile.w, conn_after_tile.h, conn_after_tile.b, conn_after_tile.c, conn_after_tile.x, conn_after_tile.y, conn_after_tile.m-conn_before_tile.m)\n",
    "    # diff_tile.draw_tile()\n",
    "\n",
    "    print(f'pre-restoration sum of connectivity {pre_conn_sum}')\n",
    "    print(f'post-restoration sum of connectivity {post_conn_sum}')\n",
    "    print(f'change in connectivity: {delta_conn}, or {percent_change.round(7)}%')\n",
    "\n",
    "print(f\"total_delta_connectivity: {total_delta_connectivity}\")\n",
    "print(f\"Average percent change: {total_percent_change / len(coords)}\")\n",
    "\n"
   ]
  },
  {
   "cell_type": "code",
   "execution_count": 88,
   "metadata": {},
   "outputs": [
    {
     "name": "stdout",
     "output_type": "stream",
     "text": [
      "nan\n",
      "total_delta_connectivity: 5885\n",
      "Average percent change: nan\n"
     ]
    }
   ],
   "source": [
    "total_percent_change = 0\n",
    "for i in change_percents:\n",
    "    if type(i) == np.float64:\n",
    "        total_percent_change += i\n",
    "\n",
    "print(total_percent_change)\n",
    "\n",
    "print(f\"total_delta_connectivity: {total_delta_connectivity}\")\n",
    "print(f\"Average percent change: {total_percent_change / 50}\")"
   ]
  }
 ],
 "metadata": {
  "interpreter": {
   "hash": "cf1cc9488f986e55b9ad02ec3dbe006a9544ef0e041cc52f3db2baca54acebc8"
  },
  "kernelspec": {
   "display_name": "Python 3.9.7 64-bit ('base': conda)",
   "language": "python",
   "name": "python3"
  },
  "language_info": {
   "codemirror_mode": {
    "name": "ipython",
    "version": 3
   },
   "file_extension": ".py",
   "mimetype": "text/x-python",
   "name": "python",
   "nbconvert_exporter": "python",
   "pygments_lexer": "ipython3",
   "version": "3.9.7"
  },
  "orig_nbformat": 4
 },
 "nbformat": 4,
 "nbformat_minor": 2
}
