{
 "cells": [
  {
   "cell_type": "code",
   "execution_count": 1,
   "metadata": {},
   "outputs": [],
   "source": [
    "import os\n",
    "import sys\n",
    "sys.path.append('/Users/nvalett/Documents/Natalie/Species Dist Research/Thesis/EcoLinker')\n",
    "from EcoLinker.restorationOptimizer import restorationOptimizer\n",
    "import ecoscape_connectivity\n",
    "\n",
    "DATA_PATH=\"/Users/nvalett/Documents/Natalie/Species Dist Research/Thesis/EcoLinker/tests/assets/paper_repro\"\n",
    "\n",
    "HABITAT_PATH = os.path.join(DATA_PATH, \"habitat.tif\")\n",
    "TERRAIN_PATH = os.path.join(DATA_PATH, \"terrain.tif\")\n",
    "PERMEABILITY_PATH = os.path.join(DATA_PATH, \"transmission_refined_1.csv\")\n",
    "transmission_d = ecoscape_connectivity.util.read_transmission_csv(PERMEABILITY_PATH)\n",
    "\n",
    "CONNECTIVITY_PATH = os.path.join(DATA_PATH, \"repopulation_spreads_15_hop_3_sims_10000_texp_1.tif\")\n",
    "FLOW_PATH = os.path.join(DATA_PATH, \"gradient_spreads_15_hop_3_sims_1000_texp_1.tif\")"
   ]
  },
  {
   "cell_type": "code",
   "execution_count": 2,
   "metadata": {},
   "outputs": [
    {
     "name": "stdout",
     "output_type": "stream",
     "text": [
      "death at pixel x=1146, y=2291: 89\n",
      "death at pixel x=2224, y=4067: 90\n",
      "death at pixel x=1907, y=4085: 90\n",
      "death at pixel x=2225, y=4067: 91\n",
      "death at pixel x=2007, y=4152: 91\n",
      "death at pixel x=1910, y=4087: 92\n",
      "death at pixel x=2226, y=4068: 92\n",
      "death at pixel x=1043, y=2246: 94\n",
      "death at pixel x=1036, y=2245: 96\n",
      "death at pixel x=1755, y=3538: 99\n",
      "{(1755, 3538): 99, (1036, 2245): 96, (1043, 2246): 94, (2226, 4068): 92, (1910, 4087): 92, (2007, 4152): 91, (2225, 4067): 91, (1907, 4085): 90, (2224, 4067): 90}\n"
     ]
    }
   ],
   "source": [
    "from scgt import Tile, GeoTiff\n",
    "import numpy as np\n",
    "\n",
    "optimizer = restorationOptimizer(HABITAT_PATH, TERRAIN_PATH, CONNECTIVITY_PATH, FLOW_PATH, PERMEABILITY_PATH, 10)\n",
    "\n",
    "death_tif = optimizer.get_death_layer(\"death.tif\")\n",
    "# print(\"death:\")\n",
    "# death_tif.draw_geotiff()\n",
    "\n",
    "death_matrix = death_tif.get_all_as_tile().m.squeeze(0)\n",
    "flat_indices = np.argpartition(death_matrix.ravel(), -optimizer.pixels)[-optimizer.pixels:]\n",
    "row_indices, col_indices = np.unravel_index(flat_indices, death_matrix.shape)\n",
    "\n",
    "min_elements = death_matrix[row_indices, col_indices]\n",
    "min_elements_order = np.argsort(min_elements)\n",
    "row_indices, col_indices = row_indices[min_elements_order], col_indices[min_elements_order]\n",
    "\n",
    "for i in range(optimizer.pixels):\n",
    "    print(f\"death at pixel x={col_indices[i]}, y={row_indices[i]}: {death_matrix[row_indices[i]][col_indices[i]]}\")\n",
    "\n",
    "highest_death = optimizer.get_highest_death_pixels(death_tif)\n",
    "print(highest_death)"
   ]
  },
  {
   "cell_type": "code",
   "execution_count": null,
   "metadata": {},
   "outputs": [],
   "source": []
  }
 ],
 "metadata": {
  "interpreter": {
   "hash": "cf1cc9488f986e55b9ad02ec3dbe006a9544ef0e041cc52f3db2baca54acebc8"
  },
  "kernelspec": {
   "display_name": "Python 3.9.7 64-bit ('base': conda)",
   "language": "python",
   "name": "python3"
  },
  "language_info": {
   "codemirror_mode": {
    "name": "ipython",
    "version": 3
   },
   "file_extension": ".py",
   "mimetype": "text/x-python",
   "name": "python",
   "nbconvert_exporter": "python",
   "pygments_lexer": "ipython3",
   "version": "3.9.7"
  },
  "orig_nbformat": 4
 },
 "nbformat": 4,
 "nbformat_minor": 2
}
