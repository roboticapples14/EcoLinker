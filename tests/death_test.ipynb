{
 "cells": [
  {
   "cell_type": "code",
   "execution_count": 70,
   "metadata": {},
   "outputs": [],
   "source": [
    "import os\n",
    "import sys\n",
    "from scgt import GeoTiff\n",
    "sys.path.append('/Users/nvalett/Documents/Natalie/Species Dist Research/Code/ecoscape-earth/')\n",
    "sys.path.append('/Users/nvalett/Documents/Natalie/Species Dist Research/Code/ecoscape-earth/ecoscape-connectivity/')\n",
    "from EcoLinker.EcoLinker.restorationOptimizer import restorationOptimizer\n",
    "from ecoscape_connectivity_local import repopulation, util\n",
    "import matplotlib.pyplot as plt\n",
    "# import ecoscape_connectivity\n",
    "from scgt import Tile, GeoTiff\n",
    "import numpy as np\n",
    "import torch\n",
    "import rasterio\n",
    "\n",
    "DATA_PATH=\"/Users/nvalett/Documents/Natalie/Species Dist Research/Thesis/EcoLinker/tests/assets\"\n",
    "HABITAT_PATH = os.path.join(DATA_PATH, \"smol/hab_smol.tif\")\n",
    "TERRAIN_PATH = os.path.join(DATA_PATH, \"smol/terrain.tif\")\n",
    "RESTORED_TERRAIN_PATH = os.path.join(DATA_PATH, \"smol/restored_ter_smol.tif\")\n",
    "PERMEABILITY_PATH = os.path.join(DATA_PATH, \"paper_repro/transmission_refined_1.csv\")\n",
    "transmission_d = util.read_transmission_csv(PERMEABILITY_PATH)\n",
    "\n",
    "CONNECTIVITY_PATH = os.path.join(DATA_PATH, \"smol/repop.tif\")\n",
    "RESTORED_CONNECTIVITY_PATH = os.path.join(DATA_PATH, \"smol/repop_after_restoration.tif\")\n",
    "FLOW_PATH = os.path.join(DATA_PATH, \"smol/grad.tif\")\n",
    "RESTORED_FLOW_PATH = os.path.join(DATA_PATH, \"smol/grad_after_restoration.tif\")\n",
    "DEATH_PATH = os.path.join(DATA_PATH, \"smol/death.tif\")\n",
    "\n",
    "optimizer = restorationOptimizer(HABITAT_PATH, TERRAIN_PATH, RESTORED_TERRAIN_PATH, CONNECTIVITY_PATH, FLOW_PATH, RESTORED_CONNECTIVITY_PATH, RESTORED_FLOW_PATH, DEATH_PATH, PERMEABILITY_PATH, 50)"
   ]
  },
  {
   "cell_type": "code",
   "execution_count": null,
   "metadata": {},
   "outputs": [],
   "source": [
    "# set mpl params\n",
    "def setup_mpl():\n",
    "    plt.rcParams['font.family'] = \"Helvetica Neue\"\n",
    "    plt.rcParams['font.size'] = 11\n",
    "    plt.rcParams['figure.figsize'] = (3,3)\n",
    "    plt.rcParams['figure.dpi'] = 100\n",
    "    plt.rcParams['lines.linewidth'] = 1\n",
    "setup_mpl()"
   ]
  },
  {
   "cell_type": "markdown",
   "metadata": {},
   "source": [
    "Restoration based on highest death rates:\n",
    "1. Compute connectivity with pre-determined seeds\n",
    "2. Compute death layer by taking (flow/p) * (1-p)\n",
    "3. Find top n pixels with highest death rates\n",
    "4. Convert pixels to more permiable terrain"
   ]
  },
  {
   "cell_type": "code",
   "execution_count": null,
   "metadata": {},
   "outputs": [],
   "source": [
    "# Pre-set seeds for determinism...\n",
    "hab = GeoTiff.from_file(optimizer.habitat_fn)\n",
    "hab_tile = hab.get_all_as_tile().m.astype(np.float)\n",
    "seeds = (torch.rand(400,*(hab_tile.shape)) < 0.002) * hab_tile # 1% of pixels are seeds."
   ]
  },
  {
   "cell_type": "code",
   "execution_count": null,
   "metadata": {},
   "outputs": [],
   "source": [
    "# compute connectivity - not needed unless output is needed\n",
    "repopulation.compute_connectivity(HABITAT_PATH, TERRAIN_PATH, CONNECTIVITY_PATH, FLOW_PATH, transmission_d, single_tile=True)\n",
    "pre_restoration_conn = optimizer.sum_of_tif(CONNECTIVITY_PATH)"
   ]
  },
  {
   "cell_type": "code",
   "execution_count": 3,
   "metadata": {},
   "outputs": [
    {
     "name": "stderr",
     "output_type": "stream",
     "text": [
      "ERROR 1: PROJ: internal_proj_create_from_name: /Users/nvalett/opt/anaconda3/share/proj/proj.db lacks DATABASE.LAYOUT.VERSION.MAJOR / DATABASE.LAYOUT.VERSION.MINOR metadata. It comes from another PROJ installation.\n"
     ]
    },
    {
     "name": "stdout",
     "output_type": "stream",
     "text": [
      "Pre-restoration sum of connectivity 3393799\n"
     ]
    },
    {
     "name": "stderr",
     "output_type": "stream",
     "text": [
      "ERROR 1: PROJ: internal_proj_create_from_name: /Users/nvalett/opt/anaconda3/share/proj/proj.db lacks DATABASE.LAYOUT.VERSION.MAJOR / DATABASE.LAYOUT.VERSION.MINOR metadata. It comes from another PROJ installation.\n",
      "ERROR 1: PROJ: internal_proj_create_from_name: /Users/nvalett/opt/anaconda3/share/proj/proj.db lacks DATABASE.LAYOUT.VERSION.MAJOR / DATABASE.LAYOUT.VERSION.MINOR metadata. It comes from another PROJ installation.\n",
      "ERROR 1: PROJ: internal_proj_create_from_name: /Users/nvalett/opt/anaconda3/share/proj/proj.db lacks DATABASE.LAYOUT.VERSION.MAJOR / DATABASE.LAYOUT.VERSION.MINOR metadata. It comes from another PROJ installation.\n"
     ]
    },
    {
     "name": "stdout",
     "output_type": "stream",
     "text": [
      "Post-restoration sum of connectivity 3395963\n"
     ]
    }
   ],
   "source": [
    "death_tif = optimizer.get_death_layer(optimizer.death_fn)\n",
    "highest_death = optimizer.get_highest_death_pixels(death_tif)\n",
    "\n",
    "print(f'Pre-restoration sum of connectivity {pre_restoration_conn}')\n",
    "\n",
    "pre_restoration_conn = optimizer.sum_of_tif(CONNECTIVITY_PATH)\n",
    "optimizer.restore_pixels()\n",
    "\n",
    "# compute connectivity w/ restored terrain\n",
    "repopulation.compute_connectivity(HABITAT_PATH, RESTORED_TERRAIN_PATH, RESTORED_CONNECTIVITY_PATH, RESTORED_FLOW_PATH, transmission_d, single_tile=True, seeds=seeds)\n",
    "post_restoration_conn = optimizer.sum_of_tif(RESTORED_CONNECTIVITY_PATH)\n",
    "print(f'Post-restoration sum of connectivity {post_restoration_conn}')"
   ]
  },
  {
   "cell_type": "markdown",
   "metadata": {},
   "source": [
    "Compare new (post-restoration) connectivity to old connectivity\n",
    "    - Use same seeds to enforce determinism"
   ]
  },
  {
   "cell_type": "code",
   "execution_count": 4,
   "metadata": {},
   "outputs": [
    {
     "name": "stdout",
     "output_type": "stream",
     "text": [
      "pre-restoration sum of connectivity 3393799\n",
      "post-restoration sum of connectivity 3395963\n",
      "change in connectivity: 2164, or 0.0006376%\n"
     ]
    }
   ],
   "source": [
    "# change in connectivity:\n",
    "delta_conn = int(post_restoration_conn) - int(pre_restoration_conn)\n",
    "percent_change = delta_conn / pre_restoration_conn\n",
    "\n",
    "print(f'pre-restoration sum of connectivity {pre_restoration_conn}')\n",
    "print(f'post-restoration sum of connectivity {post_restoration_conn}')\n",
    "print(f'change in connectivity: {delta_conn}, or {percent_change.round(7)}%')"
   ]
  },
  {
   "cell_type": "markdown",
   "metadata": {},
   "source": [
    "Try to compute regional connectivity gain for each restored pixel..."
   ]
  },
  {
   "cell_type": "code",
   "execution_count": 34,
   "metadata": {},
   "outputs": [],
   "source": [
    "PRE_TER = os.path.join(DATA_PATH, \"smol/pre_ter.tif\")\n",
    "PRE_HAB = os.path.join(DATA_PATH, \"smol/pre_hab.tif\")\n",
    "PRE_CONN = os.path.join(DATA_PATH, \"smol/pre_conn.tif\")\n",
    "PRE_FLOW = os.path.join(DATA_PATH, \"smol/pre_flow.tif\")\n",
    "POST_TER = os.path.join(DATA_PATH, \"smol/post_ter.tif\")\n",
    "POST_HAB = os.path.join(DATA_PATH, \"smol/post_hab.tif\")\n",
    "POST_CONN = os.path.join(DATA_PATH, \"smol/post_conn.tif\")\n",
    "POST_FLOW = os.path.join(DATA_PATH, \"smol/post_flow.tif\")"
   ]
  },
  {
   "cell_type": "code",
   "execution_count": 71,
   "metadata": {},
   "outputs": [
    {
     "name": "stdout",
     "output_type": "stream",
     "text": [
      "{(243, 202): 36, (293, 199): 36, (207, 206): 36, (33, 132): 36, (236, 203): 36, (33, 133): 36, (262, 201): 35, (237, 203): 35, (246, 201): 35, (83, 143): 35, (72, 143): 35, (91, 151): 34, (82, 143): 34, (207, 205): 34, (63, 129): 34, (89, 146): 34, (245, 201): 34, (252, 199): 34, (242, 202): 33, (142, 188): 33, (224, 202): 33, (290, 202): 33, (184, 202): 33, (244, 201): 33, (262, 202): 33, (261, 202): 32, (89, 150): 32, (88, 146): 32, (193, 203): 32, (138, 162): 32, (78, 144): 32, (131, 167): 32, (130, 167): 32, (89, 147): 32, (189, 203): 32, (64, 129): 32, (134, 168): 32, (292, 199): 31, (238, 203): 31, (191, 204): 31, (187, 201): 31, (143, 191): 31, (224, 201): 31, (241, 202): 31, (232, 21): 31, (261, 201): 31, (268, 201): 31, (228, 196): 31, (143, 190): 31, (82, 142): 30}\n",
      "Restoring pixel (243, 202) from permiability 0.2715912408759124 to 1.0\n",
      "pre-restoration sum of connectivity 4014\n",
      "post-restoration sum of connectivity 4389\n",
      "change in connectivity: 375, or 0.093423%\n",
      "Restoring pixel (293, 199) from permiability 0.2715912408759124 to 1.0\n",
      "pre-restoration sum of connectivity 6903\n",
      "post-restoration sum of connectivity 6864\n",
      "change in connectivity: -39, or -0.0056497%\n",
      "Restoring pixel (207, 206) from permiability 0.2715912408759124 to 1.0\n",
      "pre-restoration sum of connectivity 6215\n",
      "post-restoration sum of connectivity 6140\n",
      "change in connectivity: -75, or -0.0120676%\n",
      "Restoring pixel (33, 132) from permiability 0.01454014598540146 to 1.0\n",
      "pre-restoration sum of connectivity 6508\n",
      "post-restoration sum of connectivity 6431\n",
      "change in connectivity: -77, or -0.0118316%\n",
      "Restoring pixel (236, 203) from permiability 0.2715912408759124 to 1.0\n",
      "pre-restoration sum of connectivity 6526\n",
      "post-restoration sum of connectivity 7029\n",
      "change in connectivity: 503, or 0.0770763%\n",
      "Restoring pixel (33, 133) from permiability 0.01454014598540146 to 1.0\n",
      "pre-restoration sum of connectivity 5243\n",
      "post-restoration sum of connectivity 5177\n",
      "change in connectivity: -66, or -0.0125882%\n",
      "Restoring pixel (262, 201) from permiability 0.2715912408759124 to 1.0\n",
      "pre-restoration sum of connectivity 2424\n",
      "post-restoration sum of connectivity 2811\n",
      "change in connectivity: 387, or 0.1596535%\n",
      "Restoring pixel (237, 203) from permiability 0.2715912408759124 to 1.0\n",
      "pre-restoration sum of connectivity 5445\n",
      "post-restoration sum of connectivity 6256\n",
      "change in connectivity: 811, or 0.148944%\n",
      "Restoring pixel (246, 201) from permiability 0.2715912408759124 to 1.0\n",
      "pre-restoration sum of connectivity 2259\n",
      "post-restoration sum of connectivity 3020\n",
      "change in connectivity: 761, or 0.3368747%\n",
      "Restoring pixel (83, 143) from permiability 0.2715912408759124 to 1.0\n",
      "pre-restoration sum of connectivity 15754\n",
      "post-restoration sum of connectivity 16598\n",
      "change in connectivity: 844, or 0.0535737%\n",
      "Restoring pixel (72, 143) from permiability 0.031532846715328466 to 1.0\n",
      "pre-restoration sum of connectivity 12449\n",
      "post-restoration sum of connectivity 13020\n",
      "change in connectivity: 571, or 0.0458671%\n",
      "Restoring pixel (91, 151) from permiability 0.2715912408759124 to 1.0\n",
      "pre-restoration sum of connectivity 22413\n",
      "post-restoration sum of connectivity 22930\n",
      "change in connectivity: 517, or 0.023067%\n",
      "Restoring pixel (82, 143) from permiability 0.2715912408759124 to 1.0\n",
      "pre-restoration sum of connectivity 15105\n",
      "post-restoration sum of connectivity 15675\n",
      "change in connectivity: 570, or 0.0377358%\n",
      "Restoring pixel (207, 205) from permiability 0.2715912408759124 to 1.0\n",
      "pre-restoration sum of connectivity 6536\n",
      "post-restoration sum of connectivity 6696\n",
      "change in connectivity: 160, or 0.0244798%\n",
      "Restoring pixel (63, 129) from permiability 0.2715912408759124 to 1.0\n",
      "pre-restoration sum of connectivity 34796\n",
      "post-restoration sum of connectivity 34382\n",
      "change in connectivity: -414, or -0.0118979%\n",
      "Restoring pixel (89, 146) from permiability 0.2715912408759124 to 1.0\n",
      "pre-restoration sum of connectivity 23112\n",
      "post-restoration sum of connectivity 22449\n",
      "change in connectivity: -663, or -0.0286864%\n",
      "Restoring pixel (245, 201) from permiability 0.2715912408759124 to 1.0\n",
      "pre-restoration sum of connectivity 3179\n",
      "post-restoration sum of connectivity 3784\n",
      "change in connectivity: 605, or 0.1903114%\n",
      "Restoring pixel (252, 199) from permiability 0.2715912408759124 to 1.0\n",
      "pre-restoration sum of connectivity 2168\n",
      "post-restoration sum of connectivity 2377\n",
      "change in connectivity: 209, or 0.0964022%\n",
      "Restoring pixel (242, 202) from permiability 0.2715912408759124 to 1.0\n",
      "pre-restoration sum of connectivity 4282\n",
      "post-restoration sum of connectivity 4766\n",
      "change in connectivity: 484, or 0.1130313%\n",
      "Restoring pixel (142, 188) from permiability 0.2715912408759124 to 1.0\n",
      "pre-restoration sum of connectivity 24501\n",
      "post-restoration sum of connectivity 25095\n",
      "change in connectivity: 594, or 0.0242439%\n",
      "Restoring pixel (224, 202) from permiability 0.2715912408759124 to 1.0\n",
      "pre-restoration sum of connectivity 13366\n",
      "post-restoration sum of connectivity 13986\n",
      "change in connectivity: 620, or 0.0463864%\n",
      "Restoring pixel (290, 202) from permiability 0.2715912408759124 to 1.0\n",
      "pre-restoration sum of connectivity 5151\n",
      "post-restoration sum of connectivity 5815\n",
      "change in connectivity: 664, or 0.128907%\n",
      "Restoring pixel (184, 202) from permiability 0.2715912408759124 to 1.0\n",
      "pre-restoration sum of connectivity 4391\n",
      "post-restoration sum of connectivity 4491\n",
      "change in connectivity: 100, or 0.0227739%\n",
      "Restoring pixel (244, 201) from permiability 0.2715912408759124 to 1.0\n",
      "pre-restoration sum of connectivity 3442\n",
      "post-restoration sum of connectivity 4110\n",
      "change in connectivity: 668, or 0.1940732%\n",
      "Restoring pixel (262, 202) from permiability 0.2715912408759124 to 1.0\n",
      "pre-restoration sum of connectivity 2486\n",
      "post-restoration sum of connectivity 2819\n",
      "change in connectivity: 333, or 0.1339501%\n",
      "Restoring pixel (261, 202) from permiability 0.2715912408759124 to 1.0\n",
      "pre-restoration sum of connectivity 2298\n",
      "post-restoration sum of connectivity 2483\n",
      "change in connectivity: 185, or 0.0805048%\n",
      "Restoring pixel (89, 150) from permiability 0.2715912408759124 to 1.0\n",
      "pre-restoration sum of connectivity 19487\n",
      "post-restoration sum of connectivity 19568\n",
      "change in connectivity: 81, or 0.0041566%\n",
      "Restoring pixel (88, 146) from permiability 0.2715912408759124 to 1.0\n",
      "pre-restoration sum of connectivity 21005\n",
      "post-restoration sum of connectivity 20869\n",
      "change in connectivity: -136, or -0.0064746%\n",
      "Restoring pixel (193, 203) from permiability 0.2715912408759124 to 1.0\n",
      "pre-restoration sum of connectivity 3448\n",
      "post-restoration sum of connectivity 3473\n",
      "change in connectivity: 25, or 0.0072506%\n",
      "Restoring pixel (138, 162) from permiability 0.04525547445255475 to 1.0\n",
      "pre-restoration sum of connectivity 38810\n",
      "post-restoration sum of connectivity 38750\n",
      "change in connectivity: -60, or -0.001546%\n",
      "Restoring pixel (78, 144) from permiability 0.2715912408759124 to 1.0\n",
      "pre-restoration sum of connectivity 13388\n",
      "post-restoration sum of connectivity 13672\n",
      "change in connectivity: 284, or 0.021213%\n",
      "Restoring pixel (131, 167) from permiability 0.04525547445255475 to 1.0\n",
      "pre-restoration sum of connectivity 49216\n",
      "post-restoration sum of connectivity 49521\n",
      "change in connectivity: 305, or 0.0061972%\n",
      "Restoring pixel (130, 167) from permiability 0.04525547445255475 to 1.0\n",
      "pre-restoration sum of connectivity 49597\n",
      "post-restoration sum of connectivity 49774\n",
      "change in connectivity: 177, or 0.0035688%\n",
      "Restoring pixel (89, 147) from permiability 0.2715912408759124 to 1.0\n",
      "pre-restoration sum of connectivity 21469\n",
      "post-restoration sum of connectivity 22513\n",
      "change in connectivity: 1044, or 0.0486283%\n",
      "Restoring pixel (189, 203) from permiability 0.2715912408759124 to 1.0\n",
      "pre-restoration sum of connectivity 3789\n",
      "post-restoration sum of connectivity 3748\n",
      "change in connectivity: -41, or -0.0108208%\n",
      "Restoring pixel (64, 129) from permiability 0.2715912408759124 to 1.0\n",
      "pre-restoration sum of connectivity 34903\n",
      "post-restoration sum of connectivity 35417\n",
      "change in connectivity: 514, or 0.0147265%\n",
      "Restoring pixel (134, 168) from permiability 0.04525547445255475 to 1.0\n",
      "pre-restoration sum of connectivity 47821\n",
      "post-restoration sum of connectivity 47809\n",
      "change in connectivity: -12, or -0.0002509%\n",
      "Restoring pixel (292, 199) from permiability 0.2715912408759124 to 1.0\n",
      "pre-restoration sum of connectivity 6593\n",
      "post-restoration sum of connectivity 6699\n",
      "change in connectivity: 106, or 0.0160777%\n",
      "Restoring pixel (238, 203) from permiability 0.2715912408759124 to 1.0\n",
      "pre-restoration sum of connectivity 5304\n",
      "post-restoration sum of connectivity 5947\n",
      "change in connectivity: 643, or 0.1212293%\n",
      "Restoring pixel (191, 204) from permiability 0.2715912408759124 to 1.0\n",
      "pre-restoration sum of connectivity 3519\n",
      "post-restoration sum of connectivity 3689\n",
      "change in connectivity: 170, or 0.0483092%\n",
      "Restoring pixel (187, 201) from permiability 0.2715912408759124 to 1.0\n",
      "pre-restoration sum of connectivity 6319\n",
      "post-restoration sum of connectivity 6453\n",
      "change in connectivity: 134, or 0.0212059%\n",
      "Restoring pixel (143, 191) from permiability 0.2715912408759124 to 1.0\n",
      "pre-restoration sum of connectivity 19324\n",
      "post-restoration sum of connectivity 18774\n",
      "change in connectivity: -550, or -0.028462%\n",
      "Restoring pixel (224, 201) from permiability 0.2715912408759124 to 1.0\n",
      "pre-restoration sum of connectivity 13126\n",
      "post-restoration sum of connectivity 13678\n",
      "change in connectivity: 552, or 0.0420539%\n",
      "Restoring pixel (241, 202) from permiability 0.2715912408759124 to 1.0\n",
      "pre-restoration sum of connectivity 4420\n",
      "post-restoration sum of connectivity 4988\n",
      "change in connectivity: 568, or 0.1285068%\n",
      "Restoring pixel (232, 21) from permiability 0.3585985401459854 to 1.0\n",
      "pre-restoration sum of connectivity 124129\n",
      "post-restoration sum of connectivity 124374\n",
      "change in connectivity: 245, or 0.0019738%\n",
      "Restoring pixel (261, 201) from permiability 0.2715912408759124 to 1.0\n",
      "pre-restoration sum of connectivity 2272\n",
      "post-restoration sum of connectivity 2620\n",
      "change in connectivity: 348, or 0.153169%\n",
      "Restoring pixel (268, 201) from permiability 0.2715912408759124 to 1.0\n",
      "pre-restoration sum of connectivity 4554\n",
      "post-restoration sum of connectivity 5172\n",
      "change in connectivity: 618, or 0.1357049%\n",
      "Restoring pixel (228, 196) from permiability 0.2715912408759124 to 1.0\n",
      "pre-restoration sum of connectivity 13042\n",
      "post-restoration sum of connectivity 13154\n",
      "change in connectivity: 112, or 0.0085876%\n",
      "Restoring pixel (143, 190) from permiability 0.2715912408759124 to 1.0\n",
      "pre-restoration sum of connectivity 20259\n",
      "post-restoration sum of connectivity 20275\n",
      "change in connectivity: 16, or 0.0007898%\n",
      "Restoring pixel (82, 142) from permiability 0.2715912408759124 to 1.0\n",
      "pre-restoration sum of connectivity 15421\n",
      "post-restoration sum of connectivity 16300\n",
      "change in connectivity: 879, or 0.0570002%\n",
      "total_delta_connectivity: 14649\n",
      "Average percent change: 0.054827044551741914\n"
     ]
    }
   ],
   "source": [
    "death_tif = optimizer.get_death_layer(optimizer.death_fn)\n",
    "highest_death = optimizer.get_highest_death_pixels(death_tif, n=50)\n",
    "print(highest_death)\n",
    "\n",
    "ter = GeoTiff.from_file(optimizer.terrain_fn)\n",
    "restored_ter = GeoTiff.from_file(optimizer.restored_terr_fn)\n",
    "hab = GeoTiff.from_file(optimizer.habitat_fn)\n",
    "\n",
    "window_sz = 16\n",
    "\n",
    "total_delta_connectivity = 0\n",
    "total_percent_change = 0.0\n",
    "\n",
    "permeabilities = []\n",
    "deaths = []\n",
    "change_percents = []\n",
    "\n",
    "for i, (x, y) in enumerate(highest_death.keys()):\n",
    "    deaths.append(highest_death[(x, y)])\n",
    "    lat_max, lon_max = rasterio.transform.xy(ter.dataset.transform, y-window_sz, x-window_sz)\n",
    "    lat_min, lon_min = rasterio.transform.xy(ter.dataset.transform, y+window_sz, x+window_sz)\n",
    "\n",
    "    pre_ter = ter.crop_to_new_file(PRE_TER, [lat_max, lon_min, lat_min, lon_max], padding=0)\n",
    "    # pre_ter.draw_geotiff()\n",
    "    pre_ter.dataset.close()\n",
    "\n",
    "    pre_hab = hab.crop_to_new_file(PRE_HAB, [lat_max, lon_min, lat_min, lon_max], padding=0)\n",
    "    # hab_tile = hab.get_all_as_tile().m.astype(np.float)\n",
    "    # pre_hab.draw_geotiff()\n",
    "    pre_hab.dataset.close()\n",
    "\n",
    "    # seed = torch.randint(1, 1000, (1,))[0]\n",
    "    # seed = i\n",
    "    repopulation.compute_connectivity(PRE_HAB, PRE_TER, PRE_CONN, PRE_FLOW, transmission_d, single_tile=True, num_simulations=5000)\n",
    "\n",
    "    # conn_before = GeoTiff.from_file(PRE_CONN)\n",
    "    # conn_before_tile = conn_before.get_all_as_tile()\n",
    "    # conn_before.draw_geotiff()\n",
    "\n",
    "    pre_conn_sum = optimizer.sum_of_tif(PRE_CONN)\n",
    "\n",
    "    with GeoTiff.from_file(optimizer.terrain_fn) as terrain_geotiff:\n",
    "        old_terrain = terrain_geotiff.get_pixel_value(x, y)\n",
    "        permeabilities.append(optimizer.permeability_dict[old_terrain])\n",
    "\n",
    "    optimizer.change_terrain(x, y, verbose=True)\n",
    "    post_ter = restored_ter.crop_to_new_file(POST_TER, [lat_max, lon_min, lat_min, lon_max], padding=0)\n",
    "    # post_ter.draw_geotiff()\n",
    "    post_ter.dataset.close()\n",
    "\n",
    "    repopulation.compute_connectivity(PRE_HAB, POST_TER, POST_CONN, POST_FLOW, transmission_d, single_tile=True, num_simulations=5000)\n",
    "    # conn_after = GeoTiff.from_file(POST_CONN)\n",
    "    # conn_after.draw_geotiff()\n",
    "    # conn_after_tile = conn_after.get_all_as_tile()\n",
    "    post_conn_sum = optimizer.sum_of_tif(POST_CONN)\n",
    "    \n",
    "    # change in connectivity:\n",
    "    delta_conn = int(post_conn_sum) - int(pre_conn_sum)\n",
    "    percent_change = delta_conn / pre_conn_sum\n",
    "\n",
    "    change_percents.append(percent_change)\n",
    "\n",
    "    total_delta_connectivity += delta_conn\n",
    "    total_percent_change += percent_change\n",
    "\n",
    "    # diff_tile = Tile(conn_after_tile.w, conn_after_tile.h, conn_after_tile.b, conn_after_tile.c, conn_after_tile.x, conn_after_tile.y, conn_after_tile.m-conn_before_tile.m)\n",
    "    # diff_tile.draw_tile()\n",
    "\n",
    "    print(f'pre-restoration sum of connectivity {pre_conn_sum}')\n",
    "    print(f'post-restoration sum of connectivity {post_conn_sum}')\n",
    "    print(f'change in connectivity: {delta_conn}, or {percent_change.round(7)}%')\n",
    "\n",
    "print(f\"total_delta_connectivity: {total_delta_connectivity}\")\n",
    "print(f\"Average percent change: {total_percent_change / len(highest_death.keys())}\")\n",
    "\n"
   ]
  },
  {
   "cell_type": "code",
   "execution_count": 75,
   "metadata": {},
   "outputs": [
    {
     "name": "stdout",
     "output_type": "stream",
     "text": [
      "[36, 36, 36, 36, 36, 36, 35, 35, 35, 35, 35, 34, 34, 34, 34, 34, 34, 34, 33, 33, 33, 33, 33, 33, 33, 32, 32, 32, 32, 32, 32, 32, 32, 32, 32, 32, 32, 31, 31, 31, 31, 31, 31, 31, 31, 31, 31, 31, 31, 30]\n",
      "[0.09342301943198804, -0.005649717514124294, -0.012067578439259855, -0.01183159188690842, 0.07707631014403923, -0.012588212855235552, 0.15965346534653466, 0.14894398530762168, 0.3368747233289066, 0.05357369556937921, 0.04586713792272472, 0.023066970062017578, 0.03773584905660377, 0.02447980416156671, -0.011897919301069088, -0.028686396677050884, 0.1903114186851211, 0.09640221402214022, 0.11303129378794956, 0.024243908411901556, 0.04638635343408649, 0.12890700834789362, 0.02277385561375541, 0.19407321324811155, 0.13395012067578438, 0.08050478677110531, 0.004156617232000821, -0.006474648893120685, 0.007250580046403712, -0.001545993300695697, 0.021213026590976996, 0.006197171651495448, 0.0035687642397725667, 0.04862825469281289, -0.010820797044074954, 0.014726527805632753, -0.0002509357813512892, 0.01607765812225087, 0.12122926093514329, 0.04830917874396135, 0.021205887007437887, -0.02846201614572552, 0.042053938747524, 0.12850678733031673, 0.0019737531116822016, 0.15316901408450703, 0.13570487483530963, 0.008587639932525686, 0.0007897724468137618, 0.057000194539913104]\n"
     ]
    },
    {
     "data": {
      "image/png": "[encoded data removed]",
      "text/plain": [
       "<Figure size 300x300 with 1 Axes>"
      ]
     },
     "metadata": {},
     "output_type": "display_data"
    }
   ],
   "source": [
    "print(deaths)\n",
    "print(change_percents)\n",
    "plt.scatter(deaths, change_percents, color=\"red\")\n",
    "plt.xlabel(\"Deaths\")\n",
    "plt.ylabel(\"Change in Connectivity\")\n",
    "plt.show()"
   ]
  },
  {
   "cell_type": "code",
   "execution_count": 74,
   "metadata": {},
   "outputs": [
    {
     "name": "stdout",
     "output_type": "stream",
     "text": [
      "[[1.         0.12648271]\n",
      " [0.12648271 1.        ]]\n"
     ]
    }
   ],
   "source": [
    "print(np.corrcoef(deaths, change_percents))"
   ]
  },
  {
   "cell_type": "code",
   "execution_count": 72,
   "metadata": {},
   "outputs": [
    {
     "name": "stdout",
     "output_type": "stream",
     "text": [
      "1646\n"
     ]
    }
   ],
   "source": [
    "death_sum = 0\n",
    "for i in highest_death.values():\n",
    "    death_sum += i\n",
    "\n",
    "print(death_sum)\n"
   ]
  },
  {
   "cell_type": "markdown",
   "metadata": {},
   "source": [
    "6737/1646 = 4.093\n",
    "\n",
    "About 4x more connectivity units per potential unit\n",
    "\n",
    "TODO:\n",
    "- Look at correlation between amount of permiability restored, and % change in connectivity\n",
    "- visualize difference before -> after"
   ]
  },
  {
   "cell_type": "code",
   "execution_count": 73,
   "metadata": {},
   "outputs": [
    {
     "data": {
      "text/plain": [
       "8.899756986634264"
      ]
     },
     "execution_count": 73,
     "metadata": {},
     "output_type": "execute_result"
    }
   ],
   "source": [
    "14649/1646"
   ]
  },
  {
   "cell_type": "code",
   "execution_count": null,
   "metadata": {},
   "outputs": [],
   "source": []
  }
 ],
 "metadata": {
  "interpreter": {
   "hash": "cf1cc9488f986e55b9ad02ec3dbe006a9544ef0e041cc52f3db2baca54acebc8"
  },
  "kernelspec": {
   "display_name": "Python 3.9.7 64-bit ('base': conda)",
   "language": "python",
   "name": "python3"
  },
  "language_info": {
   "codemirror_mode": {
    "name": "ipython",
    "version": 3
   },
   "file_extension": ".py",
   "mimetype": "text/x-python",
   "name": "python",
   "nbconvert_exporter": "python",
   "pygments_lexer": "ipython3",
   "version": "3.9.7"
  },
  "orig_nbformat": 4
 },
 "nbformat": 4,
 "nbformat_minor": 2
}
