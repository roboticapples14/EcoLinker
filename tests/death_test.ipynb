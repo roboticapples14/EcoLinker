{
 "cells": [
  {
   "cell_type": "code",
   "execution_count": null,
   "metadata": {},
   "outputs": [],
   "source": [
    "import os\n",
    "import sys\n",
    "from scgt import GeoTiff\n",
    "sys.path.append('/Users/nvalett/Documents/Natalie/Species Dist Research/Code/ecoscape-earth/')\n",
    "sys.path.append('/Users/nvalett/Documents/Natalie/Species Dist Research/Code/ecoscape-earth/ecoscape-connectivity/')\n",
    "from EcoLinker.EcoLinker.restorationOptimizer import restorationOptimizer\n",
    "from ecoscape_connectivity_local import repopulation, util\n",
    "# import ecoscape_connectivity\n",
    "from scgt import Tile, GeoTiff\n",
    "import numpy as np\n",
    "\n",
    "DATA_PATH=\"/Users/nvalett/Documents/Natalie/Species Dist Research/Thesis/EcoLinker/tests/assets\"\n",
    "HABITAT_PATH = os.path.join(DATA_PATH, \"smol/hab_smol.tif\")\n",
    "TERRAIN_PATH = os.path.join(DATA_PATH, \"smol/terrain.tif\")\n",
    "RESTORED_TERRAIN_PATH = os.path.join(DATA_PATH, \"smol/restored_ter_smol.tif\")\n",
    "PERMEABILITY_PATH = os.path.join(DATA_PATH, \"paper_repro/transmission_refined_1.csv\")\n",
    "transmission_d = util.read_transmission_csv(PERMEABILITY_PATH)\n",
    "\n",
    "CONNECTIVITY_PATH = os.path.join(DATA_PATH, \"smol/repop.tif\")\n",
    "RESTORED_CONNECTIVITY_PATH = os.path.join(DATA_PATH, \"smol/repop_after_restoration.tif\")\n",
    "FLOW_PATH = os.path.join(DATA_PATH, \"smol/grad.tif\")\n",
    "RESTORED_FLOW_PATH = os.path.join(DATA_PATH, \"smol/grad_after_restoration.tif\")\n",
    "DEATH_PATH = os.path.join(DATA_PATH, \"smol/death.tif\")\n",
    "\n",
    "optimizer = restorationOptimizer(HABITAT_PATH, TERRAIN_PATH, RESTORED_TERRAIN_PATH, CONNECTIVITY_PATH, FLOW_PATH, RESTORED_CONNECTIVITY_PATH, RESTORED_FLOW_PATH, DEATH_PATH, PERMEABILITY_PATH, 10)"
   ]
  },
  {
   "cell_type": "markdown",
   "metadata": {},
   "source": [
    "Use same seeds"
   ]
  },
  {
   "cell_type": "code",
   "execution_count": null,
   "metadata": {},
   "outputs": [],
   "source": [
    "# compute connectivity - not needed unless output is needed\n",
    "import torch\n",
    "hab = GeoTiff.from_file(optimizer.habitat_fn)\n",
    "hab_tile = hab.get_all_as_tile().m.astype(np.float)\n",
    "seeds = (torch.rand(400,*(hab_tile.shape)) < 0.002) * hab_tile # 1% of pixels are seeds.\n",
    "\n",
    "\n",
    "repopulation.compute_connectivity(HABITAT_PATH, TERRAIN_PATH, CONNECTIVITY_PATH, FLOW_PATH, transmission_d, single_tile=True, seeds=seeds)\n",
    "print(optimizer.sum_of_tif(CONNECTIVITY_PATH))"
   ]
  },
  {
   "cell_type": "code",
   "execution_count": null,
   "metadata": {},
   "outputs": [],
   "source": [
    "repopulation.compute_connectivity(HABITAT_PATH, TERRAIN_PATH, CONNECTIVITY_PATH, FLOW_PATH, transmission_d, single_tile=True)\n",
    "print(optimizer.sum_of_tif(CONNECTIVITY_PATH))"
   ]
  },
  {
   "cell_type": "markdown",
   "metadata": {},
   "source": [
    "Restoration based on highest death rates:\n",
    "1. Compute death layer by taking (flow/p) * (1-p)\n",
    "2. Find top n pixels with highest death rates\n",
    "3. Convert pixels to more permiable terrain"
   ]
  },
  {
   "cell_type": "code",
   "execution_count": null,
   "metadata": {},
   "outputs": [],
   "source": [
    "death_tif = optimizer.get_death_layer(optimizer.death_fn)\n",
    "highest_death = optimizer.get_highest_death_pixels(death_tif)\n",
    "pre_restoration_conn = optimizer.sum_of_tif(CONNECTIVITY_PATH)\n",
    "\n",
    "print(highest_death)\n",
    "\n",
    "print(optimizer.get_most_permiable_terrain())\n",
    "\n",
    "print('Restoration:')\n",
    "print(f'Pre-restoration sum of connectivity {pre_restoration_conn}')\n",
    "\n",
    "ter = GeoTiff.from_file(optimizer.terrain_fn)\n",
    "\n",
    "# restore pixels with highest death rates\n",
    "for x, y in highest_death.keys():\n",
    "    with GeoTiff.from_file(TERRAIN_PATH) as terrain_geotiff:\n",
    "        old_permiability = terrain_geotiff.get_pixel_value(x, y)\n",
    "\n",
    "    optimizer.change_terrain(x, y)\n",
    "\n",
    "    with GeoTiff.from_file(RESTORED_TERRAIN_PATH) as terrain_geotiff:\n",
    "        new_permiability = terrain_geotiff.get_pixel_value(x, y)\n",
    "    print(f'Restoring pixel ({x}, {y}) from permiability {optimizer.permeability_dict[old_permiability]} to {optimizer.permeability_dict[new_permiability]}')\n",
    "\n",
    "pre_restoration_conn = optimizer.sum_of_tif(CONNECTIVITY_PATH)\n",
    "optimizer.restore_pixels()"
   ]
  },
  {
   "cell_type": "markdown",
   "metadata": {},
   "source": [
    "Compare new (post-restoration) connectivity to old connectivity\n",
    "    - Use same seeds to enforce determinism"
   ]
  },
  {
   "cell_type": "code",
   "execution_count": null,
   "metadata": {},
   "outputs": [],
   "source": [
    "# compute connectivity - not needed unless output is needed\n",
    "repopulation.compute_connectivity(HABITAT_PATH, RESTORED_TERRAIN_PATH, RESTORED_CONNECTIVITY_PATH, RESTORED_FLOW_PATH, transmission_d, single_tile=True, seeds=seeds)\n",
    "post_restoration_conn = optimizer.sum_of_tif(RESTORED_CONNECTIVITY_PATH)\n",
    "\n",
    "# change in connectivity:\n",
    "delta_conn = int(post_restoration_conn) - int(pre_restoration_conn)\n",
    "percent_change = delta_conn / pre_restoration_conn\n",
    "\n",
    "print(f'pre-restoration sum of connectivity {pre_restoration_conn}')\n",
    "print(f'post-restoration sum of connectivity {post_restoration_conn}')\n",
    "print(f'change in connectivity: {delta_conn}, or {percent_change.round(7)}%')"
   ]
  },
  {
   "cell_type": "markdown",
   "metadata": {},
   "source": [
    "Try to compute regional connectivity gain for each restored pixel..."
   ]
  },
  {
   "cell_type": "code",
   "execution_count": null,
   "metadata": {},
   "outputs": [],
   "source": [
    "PRE_TER = os.path.join(DATA_PATH, \"smol/pre_ter.tif\")\n",
    "PRE_HAB = os.path.join(DATA_PATH, \"smol/pre_hab.tif\")\n",
    "PRE_CONN = os.path.join(DATA_PATH, \"smol/pre_conn.tif\")\n",
    "PRE_FLOW = os.path.join(DATA_PATH, \"smol/pre_flow.tif\")\n",
    "POST_TER = os.path.join(DATA_PATH, \"smol/post_ter.tif\")\n",
    "POST_HAB = os.path.join(DATA_PATH, \"smol/post_hab.tif\")\n",
    "POST_CONN = os.path.join(DATA_PATH, \"smol/post_conn.tif\")\n",
    "POST_FLOW = os.path.join(DATA_PATH, \"smol/post_flow.tif\")"
   ]
  },
  {
   "cell_type": "code",
   "execution_count": null,
   "metadata": {},
   "outputs": [],
   "source": [
    "import rasterio\n",
    "import torch\n",
    "\n",
    "death_tif = optimizer.get_death_layer(optimizer.death_fn)\n",
    "highest_death = optimizer.get_highest_death_pixels(death_tif, 2)\n",
    "\n",
    "print(highest_death)\n",
    "pre_restoration_conn = optimizer.sum_of_tif(CONNECTIVITY_PATH)\n",
    "\n",
    "ter = GeoTiff.from_file(optimizer.terrain_fn)\n",
    "hab = GeoTiff.from_file(optimizer.habitat_fn)\n",
    "\n",
    "window_sz = 32\n",
    "\n",
    "for x, y in highest_death.keys():\n",
    "    lat_max, lon_max = rasterio.transform.xy(ter.dataset.transform, y-window_sz, x-window_sz)\n",
    "    lat_min, lon_min = rasterio.transform.xy(ter.dataset.transform, y+window_sz, x+window_sz)\n",
    "\n",
    "    pre_ter = ter.crop_to_new_file(PRE_TER, [lat_max, lon_min, lat_min, lon_max], padding=0)\n",
    "    pre_ter.dataset.close()\n",
    "    pre_hab = hab.crop_to_new_file(PRE_HAB, [lat_max, lon_min, lat_min, lon_max], padding=0)\n",
    "    hab_tile = hab.get_all_as_tile().m.astype(np.float)\n",
    "    pre_hab.dataset.close()\n",
    "\n",
    "    seeds = (torch.rand(400,*(hab_tile.shape)) < 0.002) * hab_tile # 1% of pixels are seeds.\n",
    "    repopulation.compute_connectivity(PRE_HAB, PRE_TER, PRE_CONN, PRE_FLOW, transmission_d, single_tile=True, seeds=seeds)\n",
    "\n",
    "    pre_hab = GeoTiff.from_file(PRE_HAB)\n",
    "    pre_hab.draw_geotiff()\n",
    "    conn = GeoTiff.from_file(PRE_CONN)\n",
    "    conn.draw_geotiff()\n",
    "    # flow = GeoTiff.from_file(PRE_FLOW)\n",
    "    # flow.draw_geotiff()\n",
    "\n",
    "    pre_conn_sum = optimizer.sum_of_tif(PRE_CONN)\n",
    "\n",
    "    post_ter = ter.crop_to_new_file(POST_TER, [lat_max, lon_min, lat_min, lon_max], padding=0)\n",
    "    optimizer.change_terrain(x, y, POST_TER)\n",
    "\n",
    "    repopulation.compute_connectivity(PRE_HAB, POST_TER, POST_CONN, POST_FLOW, transmission_d, single_tile=True, seeds=seeds)\n",
    "    conn = GeoTiff.from_file(POST_CONN)\n",
    "    conn.draw_geotiff()\n",
    "    post_conn_sum = optimizer.sum_of_tif(POST_CONN)\n",
    "    \n",
    "    # change in connectivity:\n",
    "    delta_conn = int(post_conn_sum) - int(pre_conn_sum)\n",
    "    percent_change = delta_conn / pre_conn_sum\n",
    "\n",
    "    print(f'pre-restoration sum of connectivity {pre_conn_sum}')\n",
    "    print(f'post-restoration sum of connectivity {post_conn_sum}')\n",
    "    print(f'change in connectivity: {delta_conn}, or {percent_change.round(7)}%')"
   ]
  },
  {
   "cell_type": "code",
   "execution_count": null,
   "metadata": {},
   "outputs": [],
   "source": []
  }
 ],
 "metadata": {
  "interpreter": {
   "hash": "cf1cc9488f986e55b9ad02ec3dbe006a9544ef0e041cc52f3db2baca54acebc8"
  },
  "kernelspec": {
   "display_name": "Python 3.9.7 64-bit ('base': conda)",
   "language": "python",
   "name": "python3"
  },
  "language_info": {
   "codemirror_mode": {
    "name": "ipython",
    "version": 3
   },
   "file_extension": ".py",
   "mimetype": "text/x-python",
   "name": "python",
   "nbconvert_exporter": "python",
   "pygments_lexer": "ipython3",
   "version": "3.9.7"
  },
  "orig_nbformat": 4
 },
 "nbformat": 4,
 "nbformat_minor": 2
}
