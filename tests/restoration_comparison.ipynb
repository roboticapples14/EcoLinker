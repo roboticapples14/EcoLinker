{
 "cells": [
  {
   "cell_type": "code",
   "execution_count": 1,
   "metadata": {},
   "outputs": [],
   "source": [
    "import os\n",
    "import sys\n",
    "from scgt import GeoTiff\n",
    "sys.path.append('/Users/nvalett/Documents/Natalie/Species Dist Research/Code/ecoscape-earth/')\n",
    "sys.path.append('/Users/nvalett/Documents/Natalie/Species Dist Research/Code/ecoscape-earth/ecoscape-connectivity/')\n",
    "from EcoLinker.EcoLinker.restorationOptimizer import restorationOptimizer, defecitRestoration, lowResDefecitRestoration, probalisticDeficitRestoration, noisyDefecitRestoration, utopianRestoration, flowRestoration\n",
    "from ecoscape_connectivity_local import repopulation, util\n",
    "import matplotlib.pyplot as plt\n",
    "import ecoscape_connectivity\n",
    "from scgt import GeoTiff, Tile\n",
    "import numpy as np\n",
    "import torch\n",
    "import rasterio"
   ]
  },
  {
   "cell_type": "code",
   "execution_count": 2,
   "metadata": {},
   "outputs": [],
   "source": [
    "DATA_PATH=\"/Users/nvalett/Documents/Natalie/Species Dist Research/Thesis/EcoLinker/tests/assets\"\n",
    "HABITAT_PATH = os.path.join(DATA_PATH, \"smol/hab_smol.tif\")\n",
    "TERRAIN_PATH = os.path.join(DATA_PATH, \"smol/terrain.tif\")\n",
    "RESTORED_TERRAIN_PATH = os.path.join(DATA_PATH, \"smol/restored_ter_smol.tif\")\n",
    "PERMEABILITY_PATH = os.path.join(DATA_PATH, \"paper_repro/transmission_refined_1.csv\")\n",
    "\n",
    "CONNECTIVITY_PATH = os.path.join(DATA_PATH, \"smol/repop.tif\")\n",
    "NOISY_CONNECTIVITY_PATH = os.path.join(DATA_PATH, \"smol/repop_noisy.tif\")\n",
    "UTOPIAN_CONNECTIVITY_PATH = os.path.join(DATA_PATH, \"smol/repop_utopian.tif\")\n",
    "RESTORED_CONNECTIVITY_PATH = os.path.join(DATA_PATH, \"smol/repop_after_restoration.tif\")\n",
    "FLOW_PATH = os.path.join(DATA_PATH, \"smol/grad.tif\")\n",
    "NOISY_FLOW_PATH = os.path.join(DATA_PATH, \"smol/grad_noisy.tif\")\n",
    "UTOPIAN_FLOW_PATH = os.path.join(DATA_PATH, \"smol/grad_utopian.tif\")\n",
    "RESTORED_FLOW_PATH = os.path.join(DATA_PATH, \"smol/grad_after_restoration.tif\")\n",
    "DEATH_PATH = os.path.join(DATA_PATH, \"smol/death.tif\")\n",
    "LOW_RES_DEATH_PATH = os.path.join(DATA_PATH, \"smol/death.tif\")\n",
    "\n",
    "# terrain changed tiffs\n",
    "TERRAIN_CHANGED_DEFICIT = os.path.join(DATA_PATH, \"smol/changed_terrain_defecit_100.tif\")\n",
    "TERRAIN_CHANGED_NOISY = os.path.join(DATA_PATH, \"smol/changed_terrain_noisy.tif\")\n",
    "TERRAIN_CHANGED_UTOPIAN = os.path.join(DATA_PATH, \"smol/changed_terrain_utopian.tif\")\n",
    "TERRAIN_CHANGED_PROBALISTIC = os.path.join(DATA_PATH, \"smol/changed_terrain_prob_100.tif\")\n",
    "# changed connectivity\n",
    "CONNECTIVITY_DIFF_DEFECIT = os.path.join(DATA_PATH, \"smol/connectivity_diff_defecit_100.tif\")\n",
    "CONNECTIVITY_DIFF_NOISY = os.path.join(DATA_PATH, \"smol/connectivity_diff_noisy.tif\")\n",
    "CONNECTIVITY_DIFF_UTOPIAN = os.path.join(DATA_PATH, \"smol/connectivity_diff_utopian.tif\")\n",
    "CONNECTIVITY_DIFF_PROBALISTIC = os.path.join(DATA_PATH, \"smol/connectivity_diff_prob_100.tif\")\n",
    "\n",
    "PERMIABILITY_TIFF_PATH = os.path.join(DATA_PATH, \"smol/permiability.tif\")\n",
    "\n",
    "\n",
    "unrestorable = [104,500, 501, 502, 503,504,505,506,507,508,509,510,511,512,513,514,515,516,517,518,900, 901, 902, 903, 904, 905, 906,907,980,981,982,983,984,985,986,909,910,1000,1001,1002,1003,1004,1100,1101,1111,1112,1102,1103,1104,1105,1106,1200,1201,1202,1203,1204,1205,1206,1207,1300,1301,1302,1303,1304,1305,    1402]\n",
    "\n",
    "with GeoTiff.from_file(HABITAT_PATH) as hab:\n",
    "    hab_mat = hab.get_all_as_tile().m.squeeze(0)\n",
    "\n",
    "defecitOptimizer = defecitRestoration(HABITAT_PATH, TERRAIN_PATH, RESTORED_TERRAIN_PATH, CONNECTIVITY_PATH, FLOW_PATH, RESTORED_CONNECTIVITY_PATH, RESTORED_FLOW_PATH, DEATH_PATH, PERMEABILITY_PATH, 100, hab_mat, unrestorable)\n",
    "probalisticDefecitOptimizer = probalisticDeficitRestoration(HABITAT_PATH, TERRAIN_PATH, RESTORED_TERRAIN_PATH, CONNECTIVITY_PATH, FLOW_PATH, RESTORED_CONNECTIVITY_PATH, RESTORED_FLOW_PATH, DEATH_PATH, PERMEABILITY_PATH, 100, hab_mat, unrestorable)\n",
    "noisyOptimizer = noisyDefecitRestoration(HABITAT_PATH, TERRAIN_PATH, RESTORED_TERRAIN_PATH, CONNECTIVITY_PATH, FLOW_PATH, RESTORED_CONNECTIVITY_PATH, RESTORED_FLOW_PATH, DEATH_PATH, PERMEABILITY_PATH, 50, NOISY_CONNECTIVITY_PATH, NOISY_FLOW_PATH, 1, hab_mat, unrestorable)\n",
    "utopianOptimizer = utopianRestoration(HABITAT_PATH, TERRAIN_PATH, RESTORED_TERRAIN_PATH, CONNECTIVITY_PATH, FLOW_PATH, RESTORED_CONNECTIVITY_PATH, RESTORED_FLOW_PATH, DEATH_PATH, PERMEABILITY_PATH, 50, UTOPIAN_CONNECTIVITY_PATH, UTOPIAN_FLOW_PATH, 1.0, hab_mat, unrestorable)\n",
    "lowResDefecitOptimizer = lowResDefecitRestoration(HABITAT_PATH, TERRAIN_PATH, RESTORED_TERRAIN_PATH, CONNECTIVITY_PATH, RESTORED_CONNECTIVITY_PATH, FLOW_PATH, RESTORED_FLOW_PATH, DEATH_PATH, LOW_RES_DEATH_PATH, PERMEABILITY_PATH, 2, 2, 50, hab_mat, unrestorable)\n",
    "flowOptimizer = flowRestoration(HABITAT_PATH, TERRAIN_PATH, RESTORED_TERRAIN_PATH, CONNECTIVITY_PATH, FLOW_PATH, RESTORED_CONNECTIVITY_PATH, RESTORED_FLOW_PATH, DEATH_PATH, PERMEABILITY_PATH, 50, hab_mat, unrestorable)"
   ]
  },
  {
   "cell_type": "code",
   "execution_count": 3,
   "metadata": {},
   "outputs": [
    {
     "name": "stderr",
     "output_type": "stream",
     "text": [
      "ERROR 1: PROJ: internal_proj_create_from_name: /Users/nvalett/opt/anaconda3/share/proj/proj.db lacks DATABASE.LAYOUT.VERSION.MAJOR / DATABASE.LAYOUT.VERSION.MINOR metadata. It comes from another PROJ installation.\n",
      "ERROR 1: PROJ: internal_proj_create_from_name: /Users/nvalett/opt/anaconda3/share/proj/proj.db lacks DATABASE.LAYOUT.VERSION.MAJOR / DATABASE.LAYOUT.VERSION.MINOR metadata. It comes from another PROJ installation.\n",
      "ERROR 1: PROJ: internal_proj_create_from_name: /Users/nvalett/opt/anaconda3/share/proj/proj.db lacks DATABASE.LAYOUT.VERSION.MAJOR / DATABASE.LAYOUT.VERSION.MINOR metadata. It comes from another PROJ installation.\n"
     ]
    },
    {
     "name": "stdout",
     "output_type": "stream",
     "text": [
      "Delta connectivity: 5913\n",
      "Permiability Restored: 65.4474744525547\n",
      "Percent connectivity changed: 0.0021955694277818066%\n",
      "Connectivity/permiability_restored: 90.3472601419716\n"
     ]
    }
   ],
   "source": [
    "defecitOptimizer.run_connectivity()\n",
    "permiability_restored = defecitOptimizer.restore()\n",
    "defecitOptimizer.run_connectivity(restored=True)\n",
    "\n",
    "print(f\"Delta connectivity: {defecitOptimizer.get_delta_connectivity()}\")\n",
    "print(f\"Permiability Restored: {permiability_restored}\")\n",
    "print(f\"Percent connectivity changed: {defecitOptimizer.get_connectivity_percent_changed()}%\")\n",
    "print(f\"Connectivity/permiability_restored: {defecitOptimizer.get_delta_connectivity()/permiability_restored}\")"
   ]
  },
  {
   "cell_type": "code",
   "execution_count": 4,
   "metadata": {},
   "outputs": [
    {
     "name": "stdout",
     "output_type": "stream",
     "text": [
      "92\n"
     ]
    }
   ],
   "source": [
    "print(len(defecitOptimizer.changed_pixels))"
   ]
  },
  {
   "cell_type": "code",
   "execution_count": 5,
   "metadata": {},
   "outputs": [
    {
     "name": "stderr",
     "output_type": "stream",
     "text": [
      "ERROR 1: PROJ: internal_proj_create_from_name: /Users/nvalett/opt/anaconda3/share/proj/proj.db lacks DATABASE.LAYOUT.VERSION.MAJOR / DATABASE.LAYOUT.VERSION.MINOR metadata. It comes from another PROJ installation.\n",
      "ERROR 1: PROJ: internal_proj_create_from_name: /Users/nvalett/opt/anaconda3/share/proj/proj.db lacks DATABASE.LAYOUT.VERSION.MAJOR / DATABASE.LAYOUT.VERSION.MINOR metadata. It comes from another PROJ installation.\n",
      "ERROR 1: PROJ: internal_proj_create_from_name: /Users/nvalett/opt/anaconda3/share/proj/proj.db lacks DATABASE.LAYOUT.VERSION.MAJOR / DATABASE.LAYOUT.VERSION.MINOR metadata. It comes from another PROJ installation.\n"
     ]
    },
    {
     "name": "stdout",
     "output_type": "stream",
     "text": [
      "Delta connectivity: 111\n",
      "Permiability Restored: 1.000992700729927\n",
      "Percent connectivity changed: 4.1215661505797484e-05%\n",
      "Connectivity/permiability_restored: 110.8899194959748\n"
     ]
    }
   ],
   "source": [
    "# probalistic deficit restoration\n",
    "probalisticDefecitOptimizer.run_connectivity()\n",
    "permiability_restored = probalisticDefecitOptimizer.restore()\n",
    "probalisticDefecitOptimizer.run_connectivity(restored=True)\n",
    "print(f\"Delta connectivity: {probalisticDefecitOptimizer.get_delta_connectivity()}\")\n",
    "print(f\"Permiability Restored: {permiability_restored}\")\n",
    "print(f\"Percent connectivity changed: {probalisticDefecitOptimizer.get_connectivity_percent_changed()}%\")\n",
    "print(f\"Connectivity/permiability_restored: {probalisticDefecitOptimizer.get_delta_connectivity()/permiability_restored}\")"
   ]
  },
  {
   "cell_type": "code",
   "execution_count": 6,
   "metadata": {},
   "outputs": [
    {
     "name": "stdout",
     "output_type": "stream",
     "text": [
      "100\n"
     ]
    }
   ],
   "source": [
    "print(len(probalisticDefecitOptimizer.changed_pixels))"
   ]
  },
  {
   "cell_type": "code",
   "execution_count": 17,
   "metadata": {},
   "outputs": [
    {
     "name": "stderr",
     "output_type": "stream",
     "text": [
      "ERROR 1: PROJ: internal_proj_create_from_name: /Users/nvalett/opt/anaconda3/share/proj/proj.db lacks DATABASE.LAYOUT.VERSION.MAJOR / DATABASE.LAYOUT.VERSION.MINOR metadata. It comes from another PROJ installation.\n"
     ]
    },
    {
     "data": {
      "text/plain": [
       "<Figure size 500x500 with 0 Axes>"
      ]
     },
     "metadata": {},
     "output_type": "display_data"
    },
    {
     "data": {
      "image/png": "[encoded data removed]",
      "text/plain": [
       "<Figure size 500x500 with 2 Axes>"
      ]
     },
     "metadata": {},
     "output_type": "display_data"
    }
   ],
   "source": [
    "# paint changed terrain pixels\n",
    "probalisticDefecitOptimizer.paint_changed_terrain_geotiff(TERRAIN_CHANGED_PROBALISTIC)\n",
    "with GeoTiff.from_file(TERRAIN_CHANGED_PROBALISTIC) as terrain_changed:\n",
    "    terrain_changed.draw_geotiff()"
   ]
  },
  {
   "cell_type": "code",
   "execution_count": 18,
   "metadata": {},
   "outputs": [
    {
     "name": "stderr",
     "output_type": "stream",
     "text": [
      "ERROR 1: PROJ: internal_proj_create_from_name: /Users/nvalett/opt/anaconda3/share/proj/proj.db lacks DATABASE.LAYOUT.VERSION.MAJOR / DATABASE.LAYOUT.VERSION.MINOR metadata. It comes from another PROJ installation.\n"
     ]
    },
    {
     "data": {
      "text/plain": [
       "<Figure size 500x500 with 0 Axes>"
      ]
     },
     "metadata": {},
     "output_type": "display_data"
    },
    {
     "data": {
      "image/png": "[encoded data removed]",
      "text/plain": [
       "<Figure size 500x500 with 2 Axes>"
      ]
     },
     "metadata": {},
     "output_type": "display_data"
    }
   ],
   "source": [
    "# view diff of before and after\n",
    "probalisticDefecitOptimizer.get_connectivity_difference_tif(CONNECTIVITY_DIFF_PROBALISTIC)\n",
    "with GeoTiff.from_file(CONNECTIVITY_DIFF_PROBALISTIC) as connectivity_changed:\n",
    "    connectivity_changed.draw_geotiff()"
   ]
  },
  {
   "cell_type": "markdown",
   "metadata": {},
   "source": [
    "Low Res Deficit Optimizer"
   ]
  },
  {
   "cell_type": "code",
   "execution_count": 12,
   "metadata": {},
   "outputs": [
    {
     "name": "stderr",
     "output_type": "stream",
     "text": [
      "ERROR 1: PROJ: internal_proj_create_from_name: /Users/nvalett/opt/anaconda3/share/proj/proj.db lacks DATABASE.LAYOUT.VERSION.MAJOR / DATABASE.LAYOUT.VERSION.MINOR metadata. It comes from another PROJ installation.\n",
      "ERROR 1: PROJ: internal_proj_create_from_name: /Users/nvalett/opt/anaconda3/share/proj/proj.db lacks DATABASE.LAYOUT.VERSION.MAJOR / DATABASE.LAYOUT.VERSION.MINOR metadata. It comes from another PROJ installation.\n",
      "ERROR 1: PROJ: internal_proj_create_from_name: /Users/nvalett/opt/anaconda3/share/proj/proj.db lacks DATABASE.LAYOUT.VERSION.MAJOR / DATABASE.LAYOUT.VERSION.MINOR metadata. It comes from another PROJ installation.\n",
      "ERROR 1: PROJ: internal_proj_create_from_name: /Users/nvalett/opt/anaconda3/share/proj/proj.db lacks DATABASE.LAYOUT.VERSION.MAJOR / DATABASE.LAYOUT.VERSION.MINOR metadata. It comes from another PROJ installation.\n",
      "ERROR 1: PROJ: internal_proj_create_from_name: /Users/nvalett/opt/anaconda3/share/proj/proj.db lacks DATABASE.LAYOUT.VERSION.MAJOR / DATABASE.LAYOUT.VERSION.MINOR metadata. It comes from another PROJ installation.\n",
      "ERROR 1: PROJ: internal_proj_create_from_name: /Users/nvalett/opt/anaconda3/share/proj/proj.db lacks DATABASE.LAYOUT.VERSION.MAJOR / DATABASE.LAYOUT.VERSION.MINOR metadata. It comes from another PROJ installation.\n"
     ]
    },
    {
     "name": "stdout",
     "output_type": "stream",
     "text": [
      "Delta connectivity: 6456\n",
      "Permiability Restored: 19.854481751824824\n",
      "Percent connectivity changed: 0.002397191988120978%\n",
      "Connectivity/permiability_restored: 325.1658784499187\n"
     ]
    }
   ],
   "source": [
    "lowResDefecitOptimizer.run_connectivity()\n",
    "permiability_restored = lowResDefecitOptimizer.restore()\n",
    "lowResDefecitOptimizer.run_connectivity(restored=True)\n",
    "print(f\"Delta connectivity: {lowResDefecitOptimizer.get_delta_connectivity()}\")\n",
    "print(f\"Permiability Restored: {permiability_restored}\")\n",
    "print(f\"Percent connectivity changed: {lowResDefecitOptimizer.get_connectivity_percent_changed()}%\")\n",
    "print(f\"Connectivity/permiability_restored: {lowResDefecitOptimizer.get_delta_connectivity()/permiability_restored}\")"
   ]
  },
  {
   "cell_type": "code",
   "execution_count": 14,
   "metadata": {},
   "outputs": [
    {
     "name": "stdout",
     "output_type": "stream",
     "text": [
      "52\n"
     ]
    }
   ],
   "source": [
    "print(len(lowResDefecitOptimizer.changed_pixels))"
   ]
  },
  {
   "cell_type": "code",
   "execution_count": 15,
   "metadata": {},
   "outputs": [
    {
     "name": "stderr",
     "output_type": "stream",
     "text": [
      "ERROR 1: PROJ: internal_proj_create_from_name: /Users/nvalett/opt/anaconda3/share/proj/proj.db lacks DATABASE.LAYOUT.VERSION.MAJOR / DATABASE.LAYOUT.VERSION.MINOR metadata. It comes from another PROJ installation.\n"
     ]
    },
    {
     "data": {
      "text/plain": [
       "<Figure size 500x500 with 0 Axes>"
      ]
     },
     "metadata": {},
     "output_type": "display_data"
    },
    {
     "data": {
      "image/png": "[encoded data removed]",
      "text/plain": [
       "<Figure size 500x500 with 2 Axes>"
      ]
     },
     "metadata": {},
     "output_type": "display_data"
    }
   ],
   "source": [
    "# paint changed terrain pixels\n",
    "lowResDefecitOptimizer.paint_changed_terrain_geotiff(TERRAIN_CHANGED_PROBALISTIC)\n",
    "with GeoTiff.from_file(TERRAIN_CHANGED_PROBALISTIC) as terrain_changed:\n",
    "    terrain_changed.draw_geotiff()"
   ]
  },
  {
   "cell_type": "code",
   "execution_count": 16,
   "metadata": {},
   "outputs": [
    {
     "name": "stderr",
     "output_type": "stream",
     "text": [
      "ERROR 1: PROJ: internal_proj_create_from_name: /Users/nvalett/opt/anaconda3/share/proj/proj.db lacks DATABASE.LAYOUT.VERSION.MAJOR / DATABASE.LAYOUT.VERSION.MINOR metadata. It comes from another PROJ installation.\n"
     ]
    },
    {
     "data": {
      "text/plain": [
       "<Figure size 500x500 with 0 Axes>"
      ]
     },
     "metadata": {},
     "output_type": "display_data"
    },
    {
     "data": {
      "image/png": "[encoded data removed]",
      "text/plain": [
       "<Figure size 500x500 with 2 Axes>"
      ]
     },
     "metadata": {},
     "output_type": "display_data"
    }
   ],
   "source": [
    "# view diff of before and after\n",
    "lowResDefecitOptimizer.get_connectivity_difference_tif(CONNECTIVITY_DIFF_PROBALISTIC)\n",
    "with GeoTiff.from_file(CONNECTIVITY_DIFF_PROBALISTIC) as connectivity_changed:\n",
    "    connectivity_changed.draw_geotiff()"
   ]
  },
  {
   "cell_type": "code",
   "execution_count": 24,
   "metadata": {},
   "outputs": [
    {
     "name": "stderr",
     "output_type": "stream",
     "text": [
      "ERROR 1: PROJ: internal_proj_create_from_name: /Users/nvalett/opt/anaconda3/share/proj/proj.db lacks DATABASE.LAYOUT.VERSION.MAJOR / DATABASE.LAYOUT.VERSION.MINOR metadata. It comes from another PROJ installation.\n",
      "ERROR 1: PROJ: internal_proj_create_from_name: /Users/nvalett/opt/anaconda3/share/proj/proj.db lacks DATABASE.LAYOUT.VERSION.MAJOR / DATABASE.LAYOUT.VERSION.MINOR metadata. It comes from another PROJ installation.\n",
      "ERROR 1: PROJ: internal_proj_create_from_name: /Users/nvalett/opt/anaconda3/share/proj/proj.db lacks DATABASE.LAYOUT.VERSION.MAJOR / DATABASE.LAYOUT.VERSION.MINOR metadata. It comes from another PROJ installation.\n",
      "ERROR 1: PROJ: internal_proj_create_from_name: /Users/nvalett/opt/anaconda3/share/proj/proj.db lacks DATABASE.LAYOUT.VERSION.MAJOR / DATABASE.LAYOUT.VERSION.MINOR metadata. It comes from another PROJ installation.\n",
      "ERROR 1: PROJ: internal_proj_create_from_name: /Users/nvalett/opt/anaconda3/share/proj/proj.db lacks DATABASE.LAYOUT.VERSION.MAJOR / DATABASE.LAYOUT.VERSION.MINOR metadata. It comes from another PROJ installation.\n",
      "ERROR 1: PROJ: internal_proj_create_from_name: /Users/nvalett/opt/anaconda3/share/proj/proj.db lacks DATABASE.LAYOUT.VERSION.MAJOR / DATABASE.LAYOUT.VERSION.MINOR metadata. It comes from another PROJ installation.\n",
      "ERROR 1: PROJ: internal_proj_create_from_name: /Users/nvalett/opt/anaconda3/share/proj/proj.db lacks DATABASE.LAYOUT.VERSION.MAJOR / DATABASE.LAYOUT.VERSION.MINOR metadata. It comes from another PROJ installation.\n"
     ]
    },
    {
     "name": "stdout",
     "output_type": "stream",
     "text": [
      "Delta connectivity: 1356\n",
      "Permiability Restored: 36.277781022350354\n",
      "Percent connectivity changed: 0.0004128372912637114%\n",
      "Connectivity/permiability_restored: 37.37825086833681\n"
     ]
    }
   ],
   "source": [
    "noisyOptimizer.run_connectivity()\n",
    "noisyOptimizer.run_noisy_connectivity()\n",
    "permiability_restored = noisyOptimizer.restore()\n",
    "noisyOptimizer.run_connectivity(restored=True)\n",
    "print(f\"Delta connectivity: {noisyOptimizer.get_delta_connectivity()}\")\n",
    "print(f\"Permiability Restored: {permiability_restored}\")\n",
    "print(f\"Percent connectivity changed: {noisyOptimizer.get_connectivity_percent_changed()}%\")\n",
    "print(f\"Connectivity/permiability_restored: {noisyOptimizer.get_delta_connectivity()/permiability_restored}\")"
   ]
  },
  {
   "cell_type": "code",
   "execution_count": 26,
   "metadata": {},
   "outputs": [
    {
     "name": "stderr",
     "output_type": "stream",
     "text": [
      "ERROR 1: PROJ: internal_proj_create_from_name: /Users/nvalett/opt/anaconda3/share/proj/proj.db lacks DATABASE.LAYOUT.VERSION.MAJOR / DATABASE.LAYOUT.VERSION.MINOR metadata. It comes from another PROJ installation.\n"
     ]
    }
   ],
   "source": [
    "# paint changed terrain pixels\n",
    "noisyOptimizer.paint_changed_terrain_geotiff(TERRAIN_CHANGED_NOISY)"
   ]
  },
  {
   "cell_type": "code",
   "execution_count": 27,
   "metadata": {},
   "outputs": [
    {
     "name": "stderr",
     "output_type": "stream",
     "text": [
      "ERROR 1: PROJ: internal_proj_create_from_name: /Users/nvalett/opt/anaconda3/share/proj/proj.db lacks DATABASE.LAYOUT.VERSION.MAJOR / DATABASE.LAYOUT.VERSION.MINOR metadata. It comes from another PROJ installation.\n"
     ]
    }
   ],
   "source": [
    "# view diff of before and after\n",
    "noisyOptimizer.get_connectivity_difference_tif(CONNECTIVITY_DIFF_NOISY)"
   ]
  },
  {
   "cell_type": "markdown",
   "metadata": {},
   "source": [
    "# Flow based restoration"
   ]
  },
  {
   "cell_type": "code",
   "execution_count": 8,
   "metadata": {},
   "outputs": [
    {
     "name": "stderr",
     "output_type": "stream",
     "text": [
      "ERROR 1: PROJ: internal_proj_create_from_name: /Users/nvalett/opt/anaconda3/share/proj/proj.db lacks DATABASE.LAYOUT.VERSION.MAJOR / DATABASE.LAYOUT.VERSION.MINOR metadata. It comes from another PROJ installation.\n",
      "ERROR 1: PROJ: internal_proj_create_from_name: /Users/nvalett/opt/anaconda3/share/proj/proj.db lacks DATABASE.LAYOUT.VERSION.MAJOR / DATABASE.LAYOUT.VERSION.MINOR metadata. It comes from another PROJ installation.\n"
     ]
    },
    {
     "name": "stdout",
     "output_type": "stream",
     "text": [
      "Restoring pixel (124, 169) from permiability 0.9 to 1.0\n",
      "Restoring pixel (65, 37) from permiability 0.9 to 1.0\n",
      "Restoring pixel (262, 48) from permiability 0.9 to 1.0\n",
      "Restoring pixel (293, 126) from permiability 0.9 to 1.0\n",
      "Restoring pixel (257, 166) from permiability 0.9 to 1.0\n",
      "Restoring pixel (117, 157) from permiability 0.9 to 1.0\n",
      "Restoring pixel (289, 167) from permiability 0.9 to 1.0\n",
      "Restoring pixel (229, 144) from permiability 0.9 to 1.0\n",
      "Restoring pixel (129, 77) from permiability 0.9 to 1.0\n",
      "Restoring pixel (152, 132) from permiability 0.9 to 1.0\n",
      "Restoring pixel (119, 27) from permiability 0.9 to 1.0\n",
      "Restoring pixel (294, 117) from permiability 0.9 to 1.0\n",
      "Restoring pixel (295, 117) from permiability 0.9 to 1.0\n",
      "Restoring pixel (24, 23) from permiability 0.9 to 1.0\n",
      "Restoring pixel (182, 122) from permiability 0.9 to 1.0\n",
      "Restoring pixel (105, 33) from permiability 0.9 to 1.0\n",
      "Restoring pixel (214, 149) from permiability 0.9 to 1.0\n",
      "Restoring pixel (147, 161) from permiability 0.9 to 1.0\n",
      "Restoring pixel (165, 105) from permiability 0.9 to 1.0\n",
      "Restoring pixel (136, 173) from permiability 0.9 to 1.0\n",
      "Restoring pixel (85, 67) from permiability 0.9 to 1.0\n",
      "Restoring pixel (52, 32) from permiability 0.9 to 1.0\n",
      "Restoring pixel (175, 90) from permiability 0.9 to 1.0\n",
      "Restoring pixel (293, 117) from permiability 0.9 to 1.0\n",
      "Restoring pixel (134, 121) from permiability 0.9 to 1.0\n",
      "Restoring pixel (254, 25) from permiability 0.9 to 1.0\n",
      "Restoring pixel (188, 160) from permiability 0.9 to 1.0\n",
      "Restoring pixel (291, 116) from permiability 0.9 to 1.0\n",
      "Restoring pixel (165, 104) from permiability 0.9 to 1.0\n",
      "Restoring pixel (194, 132) from permiability 0.9 to 1.0\n",
      "Restoring pixel (52, 123) from permiability 0.9 to 1.0\n",
      "Restoring pixel (256, 162) from permiability 0.9 to 1.0\n",
      "Restoring pixel (142, 121) from permiability 0.9 to 1.0\n",
      "Restoring pixel (135, 173) from permiability 0.9 to 1.0\n",
      "Restoring pixel (290, 109) from permiability 0.9 to 1.0\n",
      "Restoring pixel (164, 105) from permiability 0.9 to 1.0\n",
      "Restoring pixel (154, 114) from permiability 0.9 to 1.0\n",
      "Restoring pixel (159, 82) from permiability 0.9 to 1.0\n",
      "Restoring pixel (81, 64) from permiability 0.9 to 1.0\n",
      "Restoring pixel (269, 64) from permiability 0.9 to 1.0\n",
      "Restoring pixel (116, 119) from permiability 0.9 to 1.0\n",
      "Restoring pixel (42, 109) from permiability 0.9 to 1.0\n",
      "Restoring pixel (140, 123) from permiability 0.9 to 1.0\n",
      "Restoring pixel (154, 113) from permiability 0.9 to 1.0\n",
      "Restoring pixel (177, 161) from permiability 0.9 to 1.0\n",
      "Restoring pixel (203, 130) from permiability 0.9 to 1.0\n",
      "Restoring pixel (168, 156) from permiability 0.9 to 1.0\n",
      "Restoring pixel (28, 37) from permiability 0.9 to 1.0\n",
      "Restoring pixel (256, 23) from permiability 0.9 to 1.0\n",
      "Restoring pixel (187, 160) from permiability 0.9 to 1.0\n"
     ]
    },
    {
     "name": "stderr",
     "output_type": "stream",
     "text": [
      "ERROR 1: PROJ: internal_proj_create_from_name: /Users/nvalett/opt/anaconda3/share/proj/proj.db lacks DATABASE.LAYOUT.VERSION.MAJOR / DATABASE.LAYOUT.VERSION.MINOR metadata. It comes from another PROJ installation.\n",
      "ERROR 1: PROJ: internal_proj_create_from_name: /Users/nvalett/opt/anaconda3/share/proj/proj.db lacks DATABASE.LAYOUT.VERSION.MAJOR / DATABASE.LAYOUT.VERSION.MINOR metadata. It comes from another PROJ installation.\n"
     ]
    },
    {
     "name": "stdout",
     "output_type": "stream",
     "text": [
      "Delta connectivity: 15522\n",
      "Permiability Restored: 4.999999999999998\n",
      "Percent connectivity changed: 0.005763508990026924%\n",
      "Connectivity/permiability_restored: 3104.400000000001\n"
     ]
    }
   ],
   "source": [
    "# Flow restoration\n",
    "flowOptimizer = flowRestoration(HABITAT_PATH, TERRAIN_PATH, RESTORED_TERRAIN_PATH, CONNECTIVITY_PATH, FLOW_PATH, RESTORED_CONNECTIVITY_PATH, RESTORED_FLOW_PATH, DEATH_PATH, PERMEABILITY_PATH, 50) #hab_mat, unrestorable)\n",
    "\n",
    "flowOptimizer.run_connectivity()\n",
    "permiability_restored = flowOptimizer.restore(verbose=True)\n",
    "flowOptimizer.run_connectivity(restored=True)\n",
    "print(f\"Delta connectivity: {flowOptimizer.get_delta_connectivity()}\")\n",
    "print(f\"Permiability Restored: {permiability_restored}\")\n",
    "print(f\"Percent connectivity changed: {flowOptimizer.get_connectivity_percent_changed()}%\")\n",
    "print(f\"Connectivity/permiability_restored: {flowOptimizer.get_delta_connectivity()/permiability_restored}\")"
   ]
  },
  {
   "cell_type": "code",
   "execution_count": 9,
   "metadata": {},
   "outputs": [
    {
     "name": "stderr",
     "output_type": "stream",
     "text": [
      "ERROR 1: PROJ: internal_proj_create_from_name: /Users/nvalett/opt/anaconda3/share/proj/proj.db lacks DATABASE.LAYOUT.VERSION.MAJOR / DATABASE.LAYOUT.VERSION.MINOR metadata. It comes from another PROJ installation.\n",
      "ERROR 1: PROJ: internal_proj_create_from_name: /Users/nvalett/opt/anaconda3/share/proj/proj.db lacks DATABASE.LAYOUT.VERSION.MAJOR / DATABASE.LAYOUT.VERSION.MINOR metadata. It comes from another PROJ installation.\n"
     ]
    }
   ],
   "source": [
    "TERRAIN_CHANGED_UTOPIAN = os.path.join(DATA_PATH, \"smol/changed_terrain_low_flow.tif\")\n",
    "CONNECTIVITY_DIFF_UTOPIAN = os.path.join(DATA_PATH, \"smol/connectivity_diff_low_flow.tif\")\n",
    "\n",
    "# paint changed terrain pixels\n",
    "flowOptimizer.paint_changed_terrain_geotiff(TERRAIN_CHANGED_UTOPIAN, flowOptimizer.changed_pixels, value=1)\n",
    "# view diff of before and after\n",
    "flowOptimizer.get_connectivity_difference_tif(CONNECTIVITY_DIFF_UTOPIAN)"
   ]
  },
  {
   "cell_type": "code",
   "execution_count": 10,
   "metadata": {},
   "outputs": [
    {
     "name": "stdout",
     "output_type": "stream",
     "text": [
      "74\n",
      "{(124, 169): 67, (65, 37): 66, (262, 48): 66, (293, 126): 65, (257, 166): 65, (117, 157): 64, (289, 167): 64, (229, 144): 64, (129, 77): 64, (152, 132): 64, (119, 27): 64, (294, 117): 64, (295, 117): 64, (24, 23): 63, (182, 122): 63, (105, 33): 63, (214, 149): 62, (147, 161): 62, (165, 105): 62, (136, 173): 62, (85, 67): 62, (52, 32): 62, (175, 90): 62, (293, 117): 62, (134, 121): 62, (254, 25): 62, (188, 160): 62, (291, 116): 61, (165, 104): 61, (194, 132): 61, (52, 123): 61, (256, 162): 61, (142, 121): 61, (135, 173): 61, (290, 109): 61, (164, 105): 60, (154, 114): 60, (159, 82): 60, (81, 64): 60, (269, 64): 60, (116, 119): 60, (42, 109): 60, (140, 123): 60, (154, 113): 60, (177, 161): 60, (203, 130): 60, (168, 156): 60, (28, 37): 60, (256, 23): 60, (187, 160): 60}\n"
     ]
    }
   ],
   "source": [
    "with GeoTiff.from_file(flowOptimizer.flow_fn) as flow_tif:\n",
    "    flow = np.array(flow_tif.get_all_as_tile().m)\n",
    "\n",
    "print(np.max(flow))\n",
    "highest_flow = flowOptimizer.get_highest_flow_pixels(flow, 50)\n",
    "print(highest_flow)"
   ]
  },
  {
   "cell_type": "markdown",
   "metadata": {},
   "source": [
    "# Utopian Tests\n",
    "## Test different values for:\n",
    "1. cost function exponent\n",
    "2. Utopian permiability\n",
    "3. Pixels restored\n",
    "\n",
    "## Findings:\n",
    "1. Highest connectivity is achieved when using exponent 2, which makes the values where actual grad is higher than utopian grad chosen more often, hmmm...\n",
    "Could we be going for the wrong thing?\n",
    "Seems that choosing pixels where flow is highest is giving results magnitudes better than before (up to 15x improvements)\n",
    "What happens if we just optimize for highest flow?"
   ]
  },
  {
   "cell_type": "code",
   "execution_count": 14,
   "metadata": {},
   "outputs": [
    {
     "name": "stderr",
     "output_type": "stream",
     "text": [
      "ERROR 1: PROJ: internal_proj_create_from_name: /Users/nvalett/opt/anaconda3/share/proj/proj.db lacks DATABASE.LAYOUT.VERSION.MAJOR / DATABASE.LAYOUT.VERSION.MINOR metadata. It comes from another PROJ installation.\n",
      "ERROR 1: PROJ: internal_proj_create_from_name: /Users/nvalett/opt/anaconda3/share/proj/proj.db lacks DATABASE.LAYOUT.VERSION.MAJOR / DATABASE.LAYOUT.VERSION.MINOR metadata. It comes from another PROJ installation.\n"
     ]
    },
    {
     "name": "stdout",
     "output_type": "stream",
     "text": [
      "Delta connectivity: 6905\n",
      "Permiability Restored: 3.9908613138686153\n",
      "Percent connectivity changed: 0.002563911195473258%\n",
      "Connectivity/permiability_restored: 1730.2029454154372\n"
     ]
    }
   ],
   "source": [
    "# utopian restoration with cost function (f1-f0)\n",
    "utopianOptimizer = utopianRestoration(HABITAT_PATH, TERRAIN_PATH, RESTORED_TERRAIN_PATH, CONNECTIVITY_PATH, FLOW_PATH, RESTORED_CONNECTIVITY_PATH, RESTORED_FLOW_PATH, DEATH_PATH, PERMEABILITY_PATH, 50, UTOPIAN_CONNECTIVITY_PATH, UTOPIAN_FLOW_PATH, 0.9, hab_mat, unrestorable, power=1)\n",
    "\n",
    "utopianOptimizer.run_connectivity()\n",
    "utopianOptimizer.run_utopian_connectivity()\n",
    "permiability_restored = utopianOptimizer.restore()\n",
    "utopianOptimizer.run_connectivity(restored=True)\n",
    "print(f\"Delta connectivity: {utopianOptimizer.get_delta_connectivity()}\")\n",
    "print(f\"Permiability Restored: {permiability_restored}\")\n",
    "print(f\"Percent connectivity changed: {utopianOptimizer.get_connectivity_percent_changed()}%\")\n",
    "print(f\"Connectivity/permiability_restored: {utopianOptimizer.get_delta_connectivity()/permiability_restored}\")"
   ]
  },
  {
   "cell_type": "code",
   "execution_count": 13,
   "metadata": {},
   "outputs": [
    {
     "name": "stderr",
     "output_type": "stream",
     "text": [
      "ERROR 1: PROJ: internal_proj_create_from_name: /Users/nvalett/opt/anaconda3/share/proj/proj.db lacks DATABASE.LAYOUT.VERSION.MAJOR / DATABASE.LAYOUT.VERSION.MINOR metadata. It comes from another PROJ installation.\n",
      "ERROR 1: PROJ: internal_proj_create_from_name: /Users/nvalett/opt/anaconda3/share/proj/proj.db lacks DATABASE.LAYOUT.VERSION.MAJOR / DATABASE.LAYOUT.VERSION.MINOR metadata. It comes from another PROJ installation.\n"
     ]
    }
   ],
   "source": [
    "TERRAIN_CHANGED_UTOPIAN = os.path.join(DATA_PATH, \"smol/changed_terrain_utopian_09_1.tif\")\n",
    "CONNECTIVITY_DIFF_UTOPIAN = os.path.join(DATA_PATH, \"smol/connectivity_diff_utopian_09_1.tif\")\n",
    "\n",
    "# paint changed terrain pixels\n",
    "diff = utopianOptimizer.get_flow_diff()\n",
    "highest_diff = utopianOptimizer.get_highest_diff_pixels(diff)\n",
    "utopianOptimizer.paint_changed_terrain_geotiff(TERRAIN_CHANGED_UTOPIAN)\n",
    "# view diff of before and after\n",
    "utopianOptimizer.get_connectivity_difference_tif(CONNECTIVITY_DIFF_UTOPIAN)"
   ]
  },
  {
   "cell_type": "code",
   "execution_count": 8,
   "metadata": {},
   "outputs": [
    {
     "name": "stderr",
     "output_type": "stream",
     "text": [
      "ERROR 1: PROJ: internal_proj_create_from_name: /Users/nvalett/opt/anaconda3/share/proj/proj.db lacks DATABASE.LAYOUT.VERSION.MAJOR / DATABASE.LAYOUT.VERSION.MINOR metadata. It comes from another PROJ installation.\n",
      "ERROR 1: PROJ: internal_proj_create_from_name: /Users/nvalett/opt/anaconda3/share/proj/proj.db lacks DATABASE.LAYOUT.VERSION.MAJOR / DATABASE.LAYOUT.VERSION.MINOR metadata. It comes from another PROJ installation.\n",
      "ERROR 1: PROJ: internal_proj_create_from_name: /Users/nvalett/opt/anaconda3/share/proj/proj.db lacks DATABASE.LAYOUT.VERSION.MAJOR / DATABASE.LAYOUT.VERSION.MINOR metadata. It comes from another PROJ installation.\n",
      "ERROR 1: PROJ: internal_proj_create_from_name: /Users/nvalett/opt/anaconda3/share/proj/proj.db lacks DATABASE.LAYOUT.VERSION.MAJOR / DATABASE.LAYOUT.VERSION.MINOR metadata. It comes from another PROJ installation.\n"
     ]
    },
    {
     "name": "stdout",
     "output_type": "stream",
     "text": [
      "Delta connectivity: 4584\n",
      "Permiability Restored: 71.11900730062773\n",
      "Percent connectivity changed: 0.0017020954265096907%\n",
      "Connectivity/permiability_restored: 64.45534286808781\n"
     ]
    }
   ],
   "source": [
    "# utopian restoration with cost function (f1-f0)\n",
    "utopianOptimizer = utopianRestoration(HABITAT_PATH, TERRAIN_PATH, RESTORED_TERRAIN_PATH, CONNECTIVITY_PATH, FLOW_PATH, RESTORED_CONNECTIVITY_PATH, RESTORED_FLOW_PATH, DEATH_PATH, PERMEABILITY_PATH, 100, UTOPIAN_CONNECTIVITY_PATH, UTOPIAN_FLOW_PATH, 0.8, hab_mat, unrestorable, power=2)\n",
    "\n",
    "# utopianOptimizer.run_connectivity()\n",
    "utopianOptimizer.run_utopian_connectivity()\n",
    "permiability_restored = utopianOptimizer.restore()\n",
    "utopianOptimizer.run_connectivity(restored=True)\n",
    "print(f\"Delta connectivity: {utopianOptimizer.get_delta_connectivity()}\")\n",
    "print(f\"Permiability Restored: {permiability_restored}\")\n",
    "print(f\"Percent connectivity changed: {utopianOptimizer.get_connectivity_percent_changed()}%\")\n",
    "print(f\"Connectivity/permiability_restored: {utopianOptimizer.get_delta_connectivity()/permiability_restored}\")"
   ]
  },
  {
   "cell_type": "code",
   "execution_count": 5,
   "metadata": {},
   "outputs": [
    {
     "name": "stderr",
     "output_type": "stream",
     "text": [
      "ERROR 1: PROJ: internal_proj_create_from_name: /Users/nvalett/opt/anaconda3/share/proj/proj.db lacks DATABASE.LAYOUT.VERSION.MAJOR / DATABASE.LAYOUT.VERSION.MINOR metadata. It comes from another PROJ installation.\n"
     ]
    }
   ],
   "source": [
    "FLOW_DIFF = os.path.join(DATA_PATH, \"smol/flow_diff_utopian_09_2_negs.tif\")\n",
    "\n",
    "utopianOptimizer.draw_flow_diff_tif(FLOW_DIFF)"
   ]
  },
  {
   "cell_type": "code",
   "execution_count": 9,
   "metadata": {},
   "outputs": [
    {
     "name": "stderr",
     "output_type": "stream",
     "text": [
      "ERROR 1: PROJ: internal_proj_create_from_name: /Users/nvalett/opt/anaconda3/share/proj/proj.db lacks DATABASE.LAYOUT.VERSION.MAJOR / DATABASE.LAYOUT.VERSION.MINOR metadata. It comes from another PROJ installation.\n",
      "ERROR 1: PROJ: internal_proj_create_from_name: /Users/nvalett/opt/anaconda3/share/proj/proj.db lacks DATABASE.LAYOUT.VERSION.MAJOR / DATABASE.LAYOUT.VERSION.MINOR metadata. It comes from another PROJ installation.\n"
     ]
    }
   ],
   "source": [
    "TERRAIN_CHANGED_UTOPIAN = os.path.join(DATA_PATH, \"smol/changed_terrain_utopian_08_2_negs.tif\")\n",
    "CONNECTIVITY_DIFF_UTOPIAN = os.path.join(DATA_PATH, \"smol/connectivity_diff_utopian_08_2_negs.tif\")\n",
    "# paint changed terrain pixels\n",
    "diff = utopianOptimizer.get_flow_diff()\n",
    "highest_diff = utopianOptimizer.get_highest_diff_pixels(diff)\n",
    "utopianOptimizer.paint_changed_terrain_geotiff(TERRAIN_CHANGED_UTOPIAN, highest_diff)\n",
    "# view diff of before and after\n",
    "utopianOptimizer.get_connectivity_difference_tif(CONNECTIVITY_DIFF_UTOPIAN)"
   ]
  },
  {
   "cell_type": "code",
   "execution_count": 29,
   "metadata": {},
   "outputs": [
    {
     "name": "stderr",
     "output_type": "stream",
     "text": [
      "ERROR 1: PROJ: internal_proj_create_from_name: /Users/nvalett/opt/anaconda3/share/proj/proj.db lacks DATABASE.LAYOUT.VERSION.MAJOR / DATABASE.LAYOUT.VERSION.MINOR metadata. It comes from another PROJ installation.\n",
      "ERROR 1: PROJ: internal_proj_create_from_name: /Users/nvalett/opt/anaconda3/share/proj/proj.db lacks DATABASE.LAYOUT.VERSION.MAJOR / DATABASE.LAYOUT.VERSION.MINOR metadata. It comes from another PROJ installation.\n",
      "ERROR 1: PROJ: internal_proj_create_from_name: /Users/nvalett/opt/anaconda3/share/proj/proj.db lacks DATABASE.LAYOUT.VERSION.MAJOR / DATABASE.LAYOUT.VERSION.MINOR metadata. It comes from another PROJ installation.\n",
      "ERROR 1: PROJ: internal_proj_create_from_name: /Users/nvalett/opt/anaconda3/share/proj/proj.db lacks DATABASE.LAYOUT.VERSION.MAJOR / DATABASE.LAYOUT.VERSION.MINOR metadata. It comes from another PROJ installation.\n"
     ]
    },
    {
     "name": "stdout",
     "output_type": "stream",
     "text": [
      "Delta connectivity: 5943\n",
      "Permiability Restored: 14.128408759124085\n",
      "Percent connectivity changed: 0.002206708795756346%\n",
      "Connectivity/permiability_restored: 420.64185014197216\n"
     ]
    }
   ],
   "source": [
    "utopianOptimizer = utopianRestoration(HABITAT_PATH, TERRAIN_PATH, RESTORED_TERRAIN_PATH, CONNECTIVITY_PATH, FLOW_PATH, RESTORED_CONNECTIVITY_PATH, RESTORED_FLOW_PATH, DEATH_PATH, PERMEABILITY_PATH, 50, UTOPIAN_CONNECTIVITY_PATH, UTOPIAN_FLOW_PATH, 0.9, power=2)\n",
    "\n",
    "# utopian restoration WITH COST FUNCTION (F1-F0)^3\n",
    "# utopianOptimizer.run_connectivity()\n",
    "utopianOptimizer.run_utopian_connectivity()\n",
    "permiability_restored = utopianOptimizer.restore()\n",
    "utopianOptimizer.run_connectivity(restored=True)\n",
    "print(f\"Delta connectivity: {utopianOptimizer.get_delta_connectivity()}\")\n",
    "print(f\"Permiability Restored: {permiability_restored}\")\n",
    "print(f\"Percent connectivity changed: {utopianOptimizer.get_connectivity_percent_changed()}%\")\n",
    "print(f\"Connectivity/permiability_restored: {utopianOptimizer.get_delta_connectivity()/permiability_restored}\")"
   ]
  },
  {
   "cell_type": "code",
   "execution_count": 31,
   "metadata": {},
   "outputs": [
    {
     "name": "stderr",
     "output_type": "stream",
     "text": [
      "ERROR 1: PROJ: internal_proj_create_from_name: /Users/nvalett/opt/anaconda3/share/proj/proj.db lacks DATABASE.LAYOUT.VERSION.MAJOR / DATABASE.LAYOUT.VERSION.MINOR metadata. It comes from another PROJ installation.\n"
     ]
    }
   ],
   "source": [
    "FLOW_DIFF = os.path.join(DATA_PATH, \"smol/flow_diff_utopian_09_2.tif\")\n",
    "\n",
    "utopianOptimizer.draw_flow_diff_tif(FLOW_DIFF)"
   ]
  },
  {
   "cell_type": "code",
   "execution_count": 20,
   "metadata": {},
   "outputs": [
    {
     "name": "stderr",
     "output_type": "stream",
     "text": [
      "ERROR 1: PROJ: internal_proj_create_from_name: /Users/nvalett/opt/anaconda3/share/proj/proj.db lacks DATABASE.LAYOUT.VERSION.MAJOR / DATABASE.LAYOUT.VERSION.MINOR metadata. It comes from another PROJ installation.\n",
      "ERROR 1: PROJ: internal_proj_create_from_name: /Users/nvalett/opt/anaconda3/share/proj/proj.db lacks DATABASE.LAYOUT.VERSION.MAJOR / DATABASE.LAYOUT.VERSION.MINOR metadata. It comes from another PROJ installation.\n",
      "ERROR 1: PROJ: internal_proj_create_from_name: /Users/nvalett/opt/anaconda3/share/proj/proj.db lacks DATABASE.LAYOUT.VERSION.MAJOR / DATABASE.LAYOUT.VERSION.MINOR metadata. It comes from another PROJ installation.\n",
      "ERROR 1: PROJ: internal_proj_create_from_name: /Users/nvalett/opt/anaconda3/share/proj/proj.db lacks DATABASE.LAYOUT.VERSION.MAJOR / DATABASE.LAYOUT.VERSION.MINOR metadata. It comes from another PROJ installation.\n"
     ]
    },
    {
     "name": "stdout",
     "output_type": "stream",
     "text": [
      "Delta connectivity: 7565\n",
      "Permiability Restored: 6.099999999999997\n",
      "Percent connectivity changed: 0.002808977290913135%\n",
      "Connectivity/permiability_restored: 1240.16393442623\n"
     ]
    }
   ],
   "source": [
    "utopianOptimizer = utopianRestoration(HABITAT_PATH, TERRAIN_PATH, RESTORED_TERRAIN_PATH, CONNECTIVITY_PATH, FLOW_PATH, RESTORED_CONNECTIVITY_PATH, RESTORED_FLOW_PATH, DEATH_PATH, PERMEABILITY_PATH, 50, UTOPIAN_CONNECTIVITY_PATH, UTOPIAN_FLOW_PATH, 0.8, power=2)\n",
    "\n",
    "# utopian restoration WITH COST FUNCTION (F1-F0)^2\n",
    "# utopianOptimizer.run_connectivity()\n",
    "utopianOptimizer.run_utopian_connectivity()\n",
    "permiability_restored = utopianOptimizer.restore()\n",
    "utopianOptimizer.run_connectivity(restored=True)\n",
    "print(f\"Delta connectivity: {utopianOptimizer.get_delta_connectivity()}\")\n",
    "print(f\"Permiability Restored: {permiability_restored}\")\n",
    "print(f\"Percent connectivity changed: {utopianOptimizer.get_connectivity_percent_changed()}%\")\n",
    "print(f\"Connectivity/permiability_restored: {utopianOptimizer.get_delta_connectivity()/permiability_restored}\")"
   ]
  },
  {
   "cell_type": "code",
   "execution_count": 21,
   "metadata": {},
   "outputs": [
    {
     "name": "stderr",
     "output_type": "stream",
     "text": [
      "ERROR 1: PROJ: internal_proj_create_from_name: /Users/nvalett/opt/anaconda3/share/proj/proj.db lacks DATABASE.LAYOUT.VERSION.MAJOR / DATABASE.LAYOUT.VERSION.MINOR metadata. It comes from another PROJ installation.\n"
     ]
    }
   ],
   "source": [
    "FLOW_DIFF = os.path.join(DATA_PATH, \"smol/flow_diff_utopian_08_2.tif\")\n",
    "\n",
    "utopianOptimizer.draw_flow_diff_tif(FLOW_DIFF)"
   ]
  },
  {
   "cell_type": "code",
   "execution_count": 5,
   "metadata": {},
   "outputs": [
    {
     "name": "stderr",
     "output_type": "stream",
     "text": [
      "ERROR 1: PROJ: internal_proj_create_from_name: /Users/nvalett/opt/anaconda3/share/proj/proj.db lacks DATABASE.LAYOUT.VERSION.MAJOR / DATABASE.LAYOUT.VERSION.MINOR metadata. It comes from another PROJ installation.\n",
      "ERROR 1: PROJ: internal_proj_create_from_name: /Users/nvalett/opt/anaconda3/share/proj/proj.db lacks DATABASE.LAYOUT.VERSION.MAJOR / DATABASE.LAYOUT.VERSION.MINOR metadata. It comes from another PROJ installation.\n"
     ]
    }
   ],
   "source": [
    "TERRAIN_CHANGED_UTOPIAN = os.path.join(DATA_PATH, \"smol/changed_terrain_utopian_09_3.tif\")\n",
    "CONNECTIVITY_DIFF_UTOPIAN = os.path.join(DATA_PATH, \"smol/connectivity_diff_utopian_09_3.tif\")\n",
    "\n",
    "# paint changed terrain pixels\n",
    "diff = utopianOptimizer.get_flow_diff()\n",
    "highest_diff = utopianOptimizer.get_highest_diff_pixels(diff)\n",
    "utopianOptimizer.paint_changed_terrain_geotiff(TERRAIN_CHANGED_UTOPIAN, highest_diff)\n",
    "# view diff of before and after\n",
    "utopianOptimizer.get_connectivity_difference_tif(CONNECTIVITY_DIFF_UTOPIAN)"
   ]
  },
  {
   "cell_type": "code",
   "execution_count": 3,
   "metadata": {},
   "outputs": [
    {
     "name": "stderr",
     "output_type": "stream",
     "text": [
      "ERROR 1: PROJ: internal_proj_create_from_name: /Users/nvalett/opt/anaconda3/share/proj/proj.db lacks DATABASE.LAYOUT.VERSION.MAJOR / DATABASE.LAYOUT.VERSION.MINOR metadata. It comes from another PROJ installation.\n",
      "ERROR 1: PROJ: internal_proj_create_from_name: /Users/nvalett/opt/anaconda3/share/proj/proj.db lacks DATABASE.LAYOUT.VERSION.MAJOR / DATABASE.LAYOUT.VERSION.MINOR metadata. It comes from another PROJ installation.\n",
      "ERROR 1: PROJ: internal_proj_create_from_name: /Users/nvalett/opt/anaconda3/share/proj/proj.db lacks DATABASE.LAYOUT.VERSION.MAJOR / DATABASE.LAYOUT.VERSION.MINOR metadata. It comes from another PROJ installation.\n",
      "ERROR 1: PROJ: internal_proj_create_from_name: /Users/nvalett/opt/anaconda3/share/proj/proj.db lacks DATABASE.LAYOUT.VERSION.MAJOR / DATABASE.LAYOUT.VERSION.MINOR metadata. It comes from another PROJ installation.\n",
      "ERROR 1: PROJ: internal_proj_create_from_name: /Users/nvalett/opt/anaconda3/share/proj/proj.db lacks DATABASE.LAYOUT.VERSION.MAJOR / DATABASE.LAYOUT.VERSION.MINOR metadata. It comes from another PROJ installation.\n",
      "ERROR 1: PROJ: internal_proj_create_from_name: /Users/nvalett/opt/anaconda3/share/proj/proj.db lacks DATABASE.LAYOUT.VERSION.MAJOR / DATABASE.LAYOUT.VERSION.MINOR metadata. It comes from another PROJ installation.\n"
     ]
    },
    {
     "name": "stdout",
     "output_type": "stream",
     "text": [
      "Delta connectivity: 2051\n",
      "Permiability Restored: 36.58651094935766\n",
      "Percent connectivity changed: 0.0007615614571927085%\n",
      "Connectivity/permiability_restored: 56.05891206294458\n"
     ]
    }
   ],
   "source": [
    "utopianOptimizer = utopianRestoration(HABITAT_PATH, TERRAIN_PATH, RESTORED_TERRAIN_PATH, CONNECTIVITY_PATH, FLOW_PATH, RESTORED_CONNECTIVITY_PATH, RESTORED_FLOW_PATH, DEATH_PATH, PERMEABILITY_PATH, 50, UTOPIAN_CONNECTIVITY_PATH, UTOPIAN_FLOW_PATH, 0.9)\n",
    "\n",
    "# utopian restoration WITH COST FUNCTION (F1-F0)^3\n",
    "utopianOptimizer.run_connectivity()\n",
    "utopianOptimizer.run_utopian_connectivity()\n",
    "permiability_restored = utopianOptimizer.restore()\n",
    "utopianOptimizer.run_connectivity(restored=True)\n",
    "print(f\"Delta connectivity: {utopianOptimizer.get_delta_connectivity()}\")\n",
    "print(f\"Permiability Restored: {permiability_restored}\")\n",
    "print(f\"Percent connectivity changed: {utopianOptimizer.get_connectivity_percent_changed()}%\")\n",
    "print(f\"Connectivity/permiability_restored: {utopianOptimizer.get_delta_connectivity()/permiability_restored}\")"
   ]
  },
  {
   "cell_type": "markdown",
   "metadata": {},
   "source": [
    "## Test corridor"
   ]
  },
  {
   "cell_type": "code",
   "execution_count": 64,
   "metadata": {},
   "outputs": [
    {
     "name": "stdout",
     "output_type": "stream",
     "text": [
      "44\n"
     ]
    },
    {
     "name": "stderr",
     "output_type": "stream",
     "text": [
      "ERROR 1: PROJ: internal_proj_create_from_name: /Users/nvalett/opt/anaconda3/share/proj/proj.db lacks DATABASE.LAYOUT.VERSION.MAJOR / DATABASE.LAYOUT.VERSION.MINOR metadata. It comes from another PROJ installation.\n",
      "ERROR 1: PROJ: internal_proj_create_from_name: /Users/nvalett/opt/anaconda3/share/proj/proj.db lacks DATABASE.LAYOUT.VERSION.MAJOR / DATABASE.LAYOUT.VERSION.MINOR metadata. It comes from another PROJ installation.\n",
      "ERROR 1: PROJ: internal_proj_create_from_name: /Users/nvalett/opt/anaconda3/share/proj/proj.db lacks DATABASE.LAYOUT.VERSION.MAJOR / DATABASE.LAYOUT.VERSION.MINOR metadata. It comes from another PROJ installation.\n",
      "ERROR 1: PROJ: internal_proj_create_from_name: /Users/nvalett/opt/anaconda3/share/proj/proj.db lacks DATABASE.LAYOUT.VERSION.MAJOR / DATABASE.LAYOUT.VERSION.MINOR metadata. It comes from another PROJ installation.\n"
     ]
    },
    {
     "name": "stdout",
     "output_type": "stream",
     "text": [
      "Delta connectivity: 77\n",
      "Permiability Restored: 3.700000000000002\n",
      "Percent connectivity changed: 2.344282553636119e-05%\n",
      "Connectivity/permiability_restored: 20.8108108108108\n"
     ]
    }
   ],
   "source": [
    "# xys = [(235, 67), (234, 67), (236, 67), (235, 66), (235, 68), (234, 66), (236, 68), (235, 69), (229, 71)]\n",
    "defecitOptimizer2 = defecitRestoration(HABITAT_PATH, TERRAIN_PATH, RESTORED_TERRAIN_PATH, CONNECTIVITY_PATH, FLOW_PATH, RESTORED_CONNECTIVITY_PATH, RESTORED_FLOW_PATH, DEATH_PATH, PERMEABILITY_PATH, 250)\n",
    "\n",
    "# reset restored terrain tif\n",
    "current_terr_tile = GeoTiff.from_file(defecitOptimizer2.terrain_fn).get_all_as_tile()\n",
    "with GeoTiff.from_file(defecitOptimizer2.restored_terr_fn) as restored_terr:\n",
    "    restored_terr.set_tile(current_terr_tile)\n",
    "\n",
    "xys = {}\n",
    "for rows in range(45, 100, 5):\n",
    "    for cols in range(238, 245, 2):\n",
    "        xys[(cols, rows)] = 1\n",
    "\n",
    "print(len(xys))\n",
    "\n",
    "defecitOptimizer2.run_connectivity()\n",
    "permiability_change = 0\n",
    "for x, y in xys.keys():\n",
    "    permiability_change += defecitOptimizer2.change_terrain(x, y)\n",
    "defecitOptimizer2.run_connectivity(restored=True)\n",
    "print(f\"Delta connectivity: {defecitOptimizer2.get_delta_connectivity()}\")\n",
    "print(f\"Permiability Restored: {permiability_change}\")\n",
    "print(f\"Percent connectivity changed: {defecitOptimizer2.get_connectivity_percent_changed()}%\")\n",
    "print(f\"Connectivity/permiability_restored: {defecitOptimizer2.get_delta_connectivity()/permiability_change}\")"
   ]
  },
  {
   "cell_type": "code",
   "execution_count": 61,
   "metadata": {},
   "outputs": [
    {
     "name": "stderr",
     "output_type": "stream",
     "text": [
      "ERROR 1: PROJ: internal_proj_create_from_name: /Users/nvalett/opt/anaconda3/share/proj/proj.db lacks DATABASE.LAYOUT.VERSION.MAJOR / DATABASE.LAYOUT.VERSION.MINOR metadata. It comes from another PROJ installation.\n",
      "ERROR 1: PROJ: internal_proj_create_from_name: /Users/nvalett/opt/anaconda3/share/proj/proj.db lacks DATABASE.LAYOUT.VERSION.MAJOR / DATABASE.LAYOUT.VERSION.MINOR metadata. It comes from another PROJ installation.\n"
     ]
    }
   ],
   "source": [
    "# paint changed terrain pixels\n",
    "defecitOptimizer2.paint_changed_terrain_geotiff(TERRAIN_CHANGED_DEFICIT, changed_pixels=xys)\n",
    "\n",
    "# view diff of before and after\n",
    "defecitOptimizer2.get_connectivity_difference_tif(CONNECTIVITY_DIFF_DEFECIT)"
   ]
  }
 ],
 "metadata": {
  "interpreter": {
   "hash": "cf1cc9488f986e55b9ad02ec3dbe006a9544ef0e041cc52f3db2baca54acebc8"
  },
  "kernelspec": {
   "display_name": "Python 3.9.7 64-bit ('base': conda)",
   "language": "python",
   "name": "python3"
  },
  "language_info": {
   "codemirror_mode": {
    "name": "ipython",
    "version": 3
   },
   "file_extension": ".py",
   "mimetype": "text/x-python",
   "name": "python",
   "nbconvert_exporter": "python",
   "pygments_lexer": "ipython3",
   "version": "3.9.18"
  },
  "orig_nbformat": 4
 },
 "nbformat": 4,
 "nbformat_minor": 2
}
