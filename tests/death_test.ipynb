{
 "cells": [
  {
   "cell_type": "code",
   "execution_count": 1,
   "metadata": {},
   "outputs": [],
   "source": [
    "import os\n",
    "import sys\n",
    "sys.path.append('/Users/nvalett/Documents/Natalie/Species Dist Research/Thesis/EcoLinker')\n",
    "from EcoLinker.restorationOptimizer import restorationOptimizer\n",
    "import ecoscape_connectivity\n",
    "from scgt import Tile, GeoTiff\n",
    "import numpy as np\n",
    "\n",
    "DATA_PATH=\"/Users/nvalett/Documents/Natalie/Species Dist Research/Thesis/EcoLinker/tests/assets/paper_repro\"\n",
    "\n",
    "HABITAT_PATH = os.path.join(DATA_PATH, \"habitat.tif\")\n",
    "TERRAIN_PATH = os.path.join(DATA_PATH, \"terrain.tif\")\n",
    "PERMEABILITY_PATH = os.path.join(DATA_PATH, \"transmission_refined_1.csv\")\n",
    "transmission_d = ecoscape_connectivity.util.read_transmission_csv(PERMEABILITY_PATH)\n",
    "\n",
    "CONNECTIVITY_PATH = os.path.join(DATA_PATH, \"repop.tif\")\n",
    "FLOW_PATH = os.path.join(DATA_PATH, \"grad.tif\")\n",
    "\n",
    "optimizer = restorationOptimizer(HABITAT_PATH, TERRAIN_PATH, CONNECTIVITY_PATH, FLOW_PATH, PERMEABILITY_PATH, 10)"
   ]
  },
  {
   "cell_type": "code",
   "execution_count": 2,
   "metadata": {},
   "outputs": [
    {
     "name": "stdout",
     "output_type": "stream",
     "text": [
      "death:\n"
     ]
    }
   ],
   "source": [
    "death_tif = optimizer.get_death_layer(\"death.tif\")\n",
    "print(\"death:\")\n",
    "# death_tif.draw_geotiff()"
   ]
  },
  {
   "cell_type": "code",
   "execution_count": 3,
   "metadata": {},
   "outputs": [
    {
     "name": "stdout",
     "output_type": "stream",
     "text": [
      "{(1161, 3335): 60, (862, 2169): 58, (859, 2160): 57, (864, 2173): 56, (864, 2174): 56, (1441, 2115): 56, (864, 2172): 56, (865, 2173): 55, (993, 1858): 55}\n",
      "104\n",
      "Restoration:\n",
      "Pre-restoration sum of connectivity 174190808\n",
      "Restoring pixel (1161, 3335) from permiability 0.0009343065693430657 to 1.0\n",
      "Restoring pixel (862, 2169) from permiability 0.031532846715328466 to 1.0\n",
      "Restoring pixel (859, 2160) from permiability 0.031532846715328466 to 1.0\n",
      "Restoring pixel (864, 2173) from permiability 0.031532846715328466 to 1.0\n",
      "Restoring pixel (864, 2174) from permiability 0.031532846715328466 to 1.0\n",
      "Restoring pixel (1441, 2115) from permiability 0.031532846715328466 to 1.0\n",
      "Restoring pixel (864, 2172) from permiability 0.031532846715328466 to 1.0\n",
      "Restoring pixel (865, 2173) from permiability 0.031532846715328466 to 1.0\n",
      "Restoring pixel (993, 1858) from permiability 0.04525547445255475 to 1.0\n"
     ]
    }
   ],
   "source": [
    "highest_death = optimizer.get_highest_death_pixels(death_tif)\n",
    "print(highest_death)\n",
    "\n",
    "print(optimizer.get_most_permiable_terrain())\n",
    "\n",
    "print('Restoration:')\n",
    "print(f'Pre-restoration sum of connectivity {optimizer.sum_of_connectivity()}')\n",
    "\n",
    "for x, y in highest_death.keys():\n",
    "    with GeoTiff.from_file(optimizer.terrain_fn) as terrain_geotiff:\n",
    "        old_permiability = terrain_geotiff.get_pixel_value(x, y)\n",
    "\n",
    "    optimizer.change_terrain(x, y)\n",
    "\n",
    "    with GeoTiff.from_file(optimizer.terrain_fn) as terrain_geotiff:\n",
    "        new_permiability = terrain_geotiff.get_pixel_value(x, y)\n",
    "    print(f'Restoring pixel ({x}, {y}) from permiability {optimizer.permeability_dict[old_permiability]} to {optimizer.permeability_dict[new_permiability]}')"
   ]
  },
  {
   "cell_type": "code",
   "execution_count": 4,
   "metadata": {},
   "outputs": [],
   "source": [
    "# compute connectivity - not needed unless output is needed\n",
    "ecoscape_connectivity.compute_connectivity(HABITAT_PATH, TERRAIN_PATH, 'repop_after_restoration.tif', None, transmission_d)\n",
    "print(f'post-restoration sum of connectivity {optimizer.sum_of_connectivity()}')"
   ]
  },
  {
   "cell_type": "code",
   "execution_count": null,
   "metadata": {},
   "outputs": [],
   "source": []
  }
 ],
 "metadata": {
  "interpreter": {
   "hash": "cf1cc9488f986e55b9ad02ec3dbe006a9544ef0e041cc52f3db2baca54acebc8"
  },
  "kernelspec": {
   "display_name": "Python 3.9.7 64-bit ('base': conda)",
   "language": "python",
   "name": "python3"
  },
  "language_info": {
   "codemirror_mode": {
    "name": "ipython",
    "version": 3
   },
   "file_extension": ".py",
   "mimetype": "text/x-python",
   "name": "python",
   "nbconvert_exporter": "python",
   "pygments_lexer": "ipython3",
   "version": "3.9.7"
  },
  "orig_nbformat": 4
 },
 "nbformat": 4,
 "nbformat_minor": 2
}
