{
 "cells": [
  {
   "cell_type": "code",
   "execution_count": 2,
   "metadata": {},
   "outputs": [],
   "source": [
    "import os\n",
    "import sys\n",
    "from scgt import GeoTiff\n",
    "sys.path.append('/Users/nvalett/Documents/Natalie/Species Dist Research/Code/ecoscape-earth/')\n",
    "sys.path.append('/Users/nvalett/Documents/Natalie/Species Dist Research/Code/ecoscape-earth/ecoscape-connectivity/')\n",
    "from EcoLinker.EcoLinker.restorationOptimizer import restorationOptimizer, defecitRestoration, lowResDefecitRestoration, probalisticDeficitRestoration, noisyDefecitRestoration, utopianRestoration\n",
    "from ecoscape_connectivity_local import repopulation, util\n",
    "import matplotlib.pyplot as plt\n",
    "import ecoscape_connectivity\n",
    "from scgt import GeoTiff, Tile\n",
    "import numpy as np\n",
    "import torch\n",
    "import rasterio"
   ]
  },
  {
   "cell_type": "code",
   "execution_count": 14,
   "metadata": {},
   "outputs": [],
   "source": [
    "DATA_PATH=\"/Users/nvalett/Documents/Natalie/Species Dist Research/Thesis/EcoLinker/tests/assets\"\n",
    "HABITAT_PATH = os.path.join(DATA_PATH, \"smol/hab_smol.tif\")\n",
    "TERRAIN_PATH = os.path.join(DATA_PATH, \"smol/terrain.tif\")\n",
    "RESTORED_TERRAIN_PATH = os.path.join(DATA_PATH, \"smol/restored_ter_smol.tif\")\n",
    "PERMEABILITY_PATH = os.path.join(DATA_PATH, \"paper_repro/transmission_refined_1.csv\")\n",
    "\n",
    "CONNECTIVITY_PATH = os.path.join(DATA_PATH, \"smol/repop.tif\")\n",
    "NOISY_CONNECTIVITY_PATH = os.path.join(DATA_PATH, \"smol/repop_noisy.tif\")\n",
    "UTOPIAN_CONNECTIVITY_PATH = os.path.join(DATA_PATH, \"smol/repop_utopian.tif\")\n",
    "RESTORED_CONNECTIVITY_PATH = os.path.join(DATA_PATH, \"smol/repop_after_restoration.tif\")\n",
    "FLOW_PATH = os.path.join(DATA_PATH, \"smol/grad.tif\")\n",
    "NOISY_FLOW_PATH = os.path.join(DATA_PATH, \"smol/grad_noisy.tif\")\n",
    "UTOPIAN_FLOW_PATH = os.path.join(DATA_PATH, \"smol/grad_utopian.tif\")\n",
    "RESTORED_FLOW_PATH = os.path.join(DATA_PATH, \"smol/grad_after_restoration.tif\")\n",
    "DEATH_PATH = os.path.join(DATA_PATH, \"smol/death.tif\")\n",
    "LOW_RES_DEATH_PATH = os.path.join(DATA_PATH, \"smol/death.tif\")\n",
    "\n",
    "# terrain changed tiffs\n",
    "TERRAIN_CHANGED_DEFICIT = os.path.join(DATA_PATH, \"smol/changed_terrain_defecit_100.tif\")\n",
    "TERRAIN_CHANGED_NOISY = os.path.join(DATA_PATH, \"smol/changed_terrain_noisy.tif\")\n",
    "TERRAIN_CHANGED_UTOPIAN = os.path.join(DATA_PATH, \"smol/changed_terrain_utopian.tif\")\n",
    "TERRAIN_CHANGED_PROBALISTIC = os.path.join(DATA_PATH, \"smol/changed_terrain_prob_100.tif\")\n",
    "# changed connectivity\n",
    "CONNECTIVITY_DIFF_DEFECIT = os.path.join(DATA_PATH, \"smol/connectivity_diff_defecit_100.tif\")\n",
    "CONNECTIVITY_DIFF_NOISY = os.path.join(DATA_PATH, \"smol/connectivity_diff_noisy.tif\")\n",
    "CONNECTIVITY_DIFF_UTOPIAN = os.path.join(DATA_PATH, \"smol/connectivity_diff_utopian.tif\")\n",
    "CONNECTIVITY_DIFF_PROBALISTIC = os.path.join(DATA_PATH, \"smol/connectivity_diff_prob_100.tif\")\n",
    "\n",
    "PERMIABILITY_TIFF_PATH = os.path.join(DATA_PATH, \"smol/permiability.tif\")\n",
    "\n",
    "\n",
    "unrestorable = [104,   500, 501, 502, 503,504,505,506,507,508,509,510,511,512,513,514,515,516,517,518,900, 901, 902, 903, 904, 905, 906,907,980,981,982,983,984,985,986,909,910,1000,1001,1002,1003,1004,1100,1101,1111,1112,1102,1103,1104,1105,1106,1200,1201,1202,1203,1204,1205,1206,1207,1300,1301,1302,1303,1304,1305,    1402]\n",
    "\n",
    "defecitOptimizer = defecitRestoration(HABITAT_PATH, TERRAIN_PATH, RESTORED_TERRAIN_PATH, CONNECTIVITY_PATH, FLOW_PATH, RESTORED_CONNECTIVITY_PATH, RESTORED_FLOW_PATH, DEATH_PATH, PERMEABILITY_PATH, 100, unrestorable)\n",
    "probalisticDefecitOptimizer = probalisticDeficitRestoration(HABITAT_PATH, TERRAIN_PATH, RESTORED_TERRAIN_PATH, CONNECTIVITY_PATH, FLOW_PATH, RESTORED_CONNECTIVITY_PATH, RESTORED_FLOW_PATH, DEATH_PATH, PERMEABILITY_PATH, 100)\n",
    "noisyOptimizer = noisyDefecitRestoration(HABITAT_PATH, TERRAIN_PATH, RESTORED_TERRAIN_PATH, CONNECTIVITY_PATH, FLOW_PATH, RESTORED_CONNECTIVITY_PATH, RESTORED_FLOW_PATH, DEATH_PATH, PERMEABILITY_PATH, 50, NOISY_CONNECTIVITY_PATH, NOISY_FLOW_PATH, rand_divisor=1)\n",
    "utopianOptimizer = utopianRestoration(HABITAT_PATH, TERRAIN_PATH, RESTORED_TERRAIN_PATH, CONNECTIVITY_PATH, FLOW_PATH, RESTORED_CONNECTIVITY_PATH, RESTORED_FLOW_PATH, DEATH_PATH, PERMEABILITY_PATH, 50, UTOPIAN_CONNECTIVITY_PATH, UTOPIAN_FLOW_PATH, permiability=1.0)"
   ]
  },
  {
   "cell_type": "code",
   "execution_count": 15,
   "metadata": {},
   "outputs": [
    {
     "name": "stderr",
     "output_type": "stream",
     "text": [
      "ERROR 1: PROJ: internal_proj_create_from_name: /Users/nvalett/opt/anaconda3/share/proj/proj.db lacks DATABASE.LAYOUT.VERSION.MAJOR / DATABASE.LAYOUT.VERSION.MINOR metadata. It comes from another PROJ installation.\n"
     ]
    },
    {
     "name": "stdout",
     "output_type": "stream",
     "text": [
      "x: 131, y: 168: 38\n",
      "terrain_geotiff.height: 218\n",
      "terrain_geotiff.width: 312\n",
      "x: 79, y: 143: 38\n",
      "terrain_geotiff.height: 218\n",
      "terrain_geotiff.width: 312\n",
      "x: 88, y: 147: 36\n",
      "terrain_geotiff.height: 218\n",
      "terrain_geotiff.width: 312\n",
      "x: 232, y: 23: 35\n",
      "terrain_geotiff.height: 218\n",
      "terrain_geotiff.width: 312\n",
      "x: 232, y: 25: 35\n",
      "terrain_geotiff.height: 218\n",
      "terrain_geotiff.width: 312\n",
      "x: 232, y: 26: 35\n",
      "terrain_geotiff.height: 218\n",
      "terrain_geotiff.width: 312\n",
      "x: 232, y: 24: 35\n",
      "terrain_geotiff.height: 218\n",
      "terrain_geotiff.width: 312\n",
      "x: 94, y: 156: 34\n",
      "terrain_geotiff.height: 218\n",
      "terrain_geotiff.width: 312\n",
      "x: 143, y: 191: 33\n",
      "terrain_geotiff.height: 218\n",
      "terrain_geotiff.width: 312\n",
      "x: 143, y: 190: 33\n",
      "terrain_geotiff.height: 218\n",
      "terrain_geotiff.width: 312\n",
      "x: 89, y: 147: 33\n",
      "terrain_geotiff.height: 218\n",
      "terrain_geotiff.width: 312\n",
      "x: 221, y: 199: 32\n",
      "terrain_geotiff.height: 218\n",
      "terrain_geotiff.width: 312\n",
      "x: 135, y: 171: 32\n",
      "terrain_geotiff.height: 218\n",
      "terrain_geotiff.width: 312\n",
      "x: 232, y: 27: 32\n",
      "terrain_geotiff.height: 218\n",
      "terrain_geotiff.width: 312\n",
      "x: 130, y: 205: 32\n",
      "terrain_geotiff.height: 218\n",
      "terrain_geotiff.width: 312\n",
      "x: 89, y: 146: 32\n",
      "terrain_geotiff.height: 218\n",
      "terrain_geotiff.width: 312\n",
      "x: 135, y: 168: 32\n",
      "terrain_geotiff.height: 218\n",
      "terrain_geotiff.width: 312\n",
      "x: 142, y: 185: 32\n",
      "terrain_geotiff.height: 218\n",
      "terrain_geotiff.width: 312\n",
      "x: 202, y: 201: 32\n",
      "terrain_geotiff.height: 218\n",
      "terrain_geotiff.width: 312\n",
      "x: 241, y: 201: 31\n",
      "terrain_geotiff.height: 218\n",
      "terrain_geotiff.width: 312\n",
      "x: 230, y: 203: 31\n",
      "terrain_geotiff.height: 218\n",
      "terrain_geotiff.width: 312\n",
      "x: 220, y: 199: 31\n",
      "terrain_geotiff.height: 218\n",
      "terrain_geotiff.width: 312\n",
      "x: 242, y: 202: 31\n",
      "terrain_geotiff.height: 218\n",
      "terrain_geotiff.width: 312\n",
      "x: 233, y: 28: 31\n",
      "terrain_geotiff.height: 218\n",
      "terrain_geotiff.width: 312\n",
      "x: 234, y: 21: 31\n",
      "terrain_geotiff.height: 218\n",
      "terrain_geotiff.width: 312\n",
      "x: 214, y: 186: 31\n",
      "terrain_geotiff.height: 218\n",
      "terrain_geotiff.width: 312\n",
      "x: 229, y: 203: 30\n",
      "terrain_geotiff.height: 218\n",
      "terrain_geotiff.width: 312\n",
      "x: 90, y: 152: 29\n",
      "terrain_geotiff.height: 218\n",
      "terrain_geotiff.width: 312\n",
      "x: 91, y: 152: 29\n",
      "terrain_geotiff.height: 218\n",
      "terrain_geotiff.width: 312\n",
      "x: 181, y: 207: 29\n",
      "terrain_geotiff.height: 218\n",
      "terrain_geotiff.width: 312\n",
      "x: 88, y: 146: 28\n",
      "terrain_geotiff.height: 218\n",
      "terrain_geotiff.width: 312\n",
      "x: 228, y: 203: 28\n",
      "terrain_geotiff.height: 218\n",
      "terrain_geotiff.width: 312\n",
      "x: 182, y: 207: 28\n",
      "terrain_geotiff.height: 218\n",
      "terrain_geotiff.width: 312\n",
      "x: 243, y: 202: 28\n",
      "terrain_geotiff.height: 218\n",
      "terrain_geotiff.width: 312\n",
      "x: 214, y: 187: 28\n",
      "terrain_geotiff.height: 218\n",
      "terrain_geotiff.width: 312\n",
      "x: 233, y: 29: 28\n",
      "terrain_geotiff.height: 218\n",
      "terrain_geotiff.width: 312\n",
      "x: 242, y: 201: 28\n",
      "terrain_geotiff.height: 218\n",
      "terrain_geotiff.width: 312\n",
      "x: 143, y: 172: 27\n",
      "terrain_geotiff.height: 218\n",
      "terrain_geotiff.width: 312\n",
      "x: 91, y: 151: 27\n",
      "terrain_geotiff.height: 218\n",
      "terrain_geotiff.width: 312\n",
      "x: 90, y: 153: 27\n",
      "terrain_geotiff.height: 218\n",
      "terrain_geotiff.width: 312\n",
      "x: 143, y: 185: 27\n",
      "terrain_geotiff.height: 218\n",
      "terrain_geotiff.width: 312\n",
      "x: 134, y: 168: 26\n",
      "terrain_geotiff.height: 218\n",
      "terrain_geotiff.width: 312\n",
      "x: 231, y: 28: 26\n",
      "terrain_geotiff.height: 218\n",
      "terrain_geotiff.width: 312\n",
      "x: 132, y: 173: 26\n",
      "terrain_geotiff.height: 218\n",
      "terrain_geotiff.width: 312\n",
      "x: 136, y: 162: 26\n",
      "terrain_geotiff.height: 218\n",
      "terrain_geotiff.width: 312\n",
      "x: 232, y: 28: 26\n",
      "terrain_geotiff.height: 218\n",
      "terrain_geotiff.width: 312\n",
      "x: 138, y: 162: 26\n",
      "terrain_geotiff.height: 218\n",
      "terrain_geotiff.width: 312\n",
      "x: 134, y: 162: 26\n",
      "terrain_geotiff.height: 218\n",
      "terrain_geotiff.width: 312\n",
      "x: 184, y: 202: 25\n",
      "terrain_geotiff.height: 218\n",
      "terrain_geotiff.width: 312\n",
      "x: 232, y: 21: 25\n",
      "terrain_geotiff.height: 218\n",
      "terrain_geotiff.width: 312\n",
      "x: 81, y: 143: 25\n",
      "terrain_geotiff.height: 218\n",
      "terrain_geotiff.width: 312\n",
      "x: 183, y: 203: 25\n",
      "terrain_geotiff.height: 218\n",
      "terrain_geotiff.width: 312\n",
      "x: 234, y: 30: 25\n",
      "terrain_geotiff.height: 218\n",
      "terrain_geotiff.width: 312\n",
      "x: 64, y: 129: 25\n",
      "terrain_geotiff.height: 218\n",
      "terrain_geotiff.width: 312\n",
      "x: 96, y: 157: 25\n",
      "terrain_geotiff.height: 218\n",
      "terrain_geotiff.width: 312\n",
      "x: 94, y: 158: 24\n",
      "terrain_geotiff.height: 218\n",
      "terrain_geotiff.width: 312\n",
      "x: 95, y: 158: 24\n",
      "terrain_geotiff.height: 218\n",
      "terrain_geotiff.width: 312\n",
      "x: 171, y: 213: 24\n",
      "terrain_geotiff.height: 218\n",
      "terrain_geotiff.width: 312\n",
      "x: 95, y: 152: 24\n",
      "terrain_geotiff.height: 218\n",
      "terrain_geotiff.width: 312\n",
      "x: 179, y: 162: 24\n",
      "terrain_geotiff.height: 218\n",
      "terrain_geotiff.width: 312\n",
      "x: 229, y: 199: 23\n",
      "terrain_geotiff.height: 218\n",
      "terrain_geotiff.width: 312\n",
      "x: 180, y: 162: 23\n",
      "terrain_geotiff.height: 218\n",
      "terrain_geotiff.width: 312\n",
      "x: 180, y: 207: 23\n",
      "terrain_geotiff.height: 218\n",
      "terrain_geotiff.width: 312\n",
      "x: 211, y: 205: 23\n",
      "terrain_geotiff.height: 218\n",
      "terrain_geotiff.width: 312\n",
      "x: 230, y: 196: 23\n",
      "terrain_geotiff.height: 218\n",
      "terrain_geotiff.width: 312\n",
      "x: 289, y: 202: 23\n",
      "terrain_geotiff.height: 218\n",
      "terrain_geotiff.width: 312\n",
      "x: 230, y: 27: 23\n",
      "terrain_geotiff.height: 218\n",
      "terrain_geotiff.width: 312\n",
      "x: 144, y: 172: 23\n",
      "terrain_geotiff.height: 218\n",
      "terrain_geotiff.width: 312\n",
      "x: 98, y: 157: 23\n",
      "terrain_geotiff.height: 218\n",
      "terrain_geotiff.width: 312\n",
      "x: 229, y: 28: 23\n",
      "terrain_geotiff.height: 218\n",
      "terrain_geotiff.width: 312\n",
      "x: 269, y: 202: 23\n",
      "terrain_geotiff.height: 218\n",
      "terrain_geotiff.width: 312\n",
      "x: 63, y: 130: 23\n",
      "terrain_geotiff.height: 218\n",
      "terrain_geotiff.width: 312\n",
      "x: 229, y: 27: 22\n",
      "terrain_geotiff.height: 218\n",
      "terrain_geotiff.width: 312\n",
      "x: 231, y: 27: 22\n",
      "terrain_geotiff.height: 218\n",
      "terrain_geotiff.width: 312\n",
      "x: 250, y: 192: 21\n",
      "terrain_geotiff.height: 218\n",
      "terrain_geotiff.width: 312\n",
      "x: 249, y: 192: 21\n",
      "terrain_geotiff.height: 218\n",
      "terrain_geotiff.width: 312\n",
      "x: 248, y: 192: 21\n",
      "terrain_geotiff.height: 218\n",
      "terrain_geotiff.width: 312\n",
      "x: 134, y: 204: 21\n",
      "terrain_geotiff.height: 218\n",
      "terrain_geotiff.width: 312\n",
      "x: 179, y: 208: 21\n",
      "terrain_geotiff.height: 218\n",
      "terrain_geotiff.width: 312\n",
      "x: 286, y: 202: 21\n",
      "terrain_geotiff.height: 218\n",
      "terrain_geotiff.width: 312\n",
      "x: 181, y: 162: 21\n",
      "terrain_geotiff.height: 218\n",
      "terrain_geotiff.width: 312\n",
      "x: 92, y: 156: 21\n",
      "terrain_geotiff.height: 218\n",
      "terrain_geotiff.width: 312\n",
      "x: 90, y: 154: 21\n",
      "terrain_geotiff.height: 218\n",
      "terrain_geotiff.width: 312\n",
      "x: 297, y: 200: 21\n",
      "terrain_geotiff.height: 218\n",
      "terrain_geotiff.width: 312\n",
      "x: 82, y: 143: 21\n",
      "terrain_geotiff.height: 218\n",
      "terrain_geotiff.width: 312\n",
      "x: 96, y: 158: 21\n",
      "terrain_geotiff.height: 218\n",
      "terrain_geotiff.width: 312\n",
      "x: 82, y: 142: 21\n",
      "terrain_geotiff.height: 218\n",
      "terrain_geotiff.width: 312\n",
      "x: 293, y: 200: 19\n",
      "terrain_geotiff.height: 218\n",
      "terrain_geotiff.width: 312\n",
      "x: 288, y: 202: 19\n",
      "terrain_geotiff.height: 218\n",
      "terrain_geotiff.width: 312\n",
      "x: 291, y: 198: 19\n",
      "terrain_geotiff.height: 218\n",
      "terrain_geotiff.width: 312\n",
      "x: 242, y: 192: 19\n",
      "terrain_geotiff.height: 218\n",
      "terrain_geotiff.width: 312\n",
      "x: 266, y: 202: 19\n",
      "terrain_geotiff.height: 218\n",
      "terrain_geotiff.width: 312\n",
      "x: 252, y: 188: 19\n",
      "terrain_geotiff.height: 218\n",
      "terrain_geotiff.width: 312\n",
      "x: 268, y: 202: 19\n",
      "terrain_geotiff.height: 218\n",
      "terrain_geotiff.width: 312\n",
      "x: 239, y: 22: 19\n",
      "terrain_geotiff.height: 218\n",
      "terrain_geotiff.width: 312\n",
      "x: 233, y: 30: 19\n",
      "terrain_geotiff.height: 218\n",
      "terrain_geotiff.width: 312\n",
      "x: 222, y: 201: 19\n",
      "terrain_geotiff.height: 218\n",
      "terrain_geotiff.width: 312\n",
      "x: 134, y: 205: 19\n",
      "terrain_geotiff.height: 218\n",
      "terrain_geotiff.width: 312\n",
      "x: 267, y: 201: 19\n",
      "terrain_geotiff.height: 218\n",
      "terrain_geotiff.width: 312\n",
      "x: 94, y: 157: 19\n",
      "terrain_geotiff.height: 218\n",
      "terrain_geotiff.width: 312\n"
     ]
    },
    {
     "name": "stderr",
     "output_type": "stream",
     "text": [
      "ERROR 1: PROJ: internal_proj_create_from_name: /Users/nvalett/opt/anaconda3/share/proj/proj.db lacks DATABASE.LAYOUT.VERSION.MAJOR / DATABASE.LAYOUT.VERSION.MINOR metadata. It comes from another PROJ installation.\n",
      "ERROR 1: PROJ: internal_proj_create_from_name: /Users/nvalett/opt/anaconda3/share/proj/proj.db lacks DATABASE.LAYOUT.VERSION.MAJOR / DATABASE.LAYOUT.VERSION.MINOR metadata. It comes from another PROJ installation.\n"
     ]
    },
    {
     "name": "stdout",
     "output_type": "stream",
     "text": [
      "Delta connectivity: 5913\n",
      "Permiability Restored: 65.4474744525547\n",
      "Percent connectivity changed: 0.0021955694277818066%\n",
      "Connectivity/permiability_restored: 90.3472601419716\n"
     ]
    }
   ],
   "source": [
    "# defecitOptimizer.run_connectivity()\n",
    "permiability_restored = defecitOptimizer.restore()\n",
    "defecitOptimizer.run_connectivity(restored=True)\n",
    "\n",
    "print(f\"Delta connectivity: {defecitOptimizer.get_delta_connectivity()}\")\n",
    "print(f\"Permiability Restored: {permiability_restored}\")\n",
    "print(f\"Percent connectivity changed: {defecitOptimizer.get_connectivity_percent_changed()}%\")\n",
    "print(f\"Connectivity/permiability_restored: {defecitOptimizer.get_delta_connectivity()/permiability_restored}\")"
   ]
  },
  {
   "cell_type": "code",
   "execution_count": 16,
   "metadata": {},
   "outputs": [
    {
     "name": "stdout",
     "output_type": "stream",
     "text": [
      "104\n"
     ]
    }
   ],
   "source": [
    "print((defecitOptimizer.get_most_permiable_terrain()))"
   ]
  },
  {
   "cell_type": "code",
   "execution_count": 9,
   "metadata": {},
   "outputs": [
    {
     "name": "stderr",
     "output_type": "stream",
     "text": [
      "ERROR 1: PROJ: internal_proj_create_from_name: /Users/nvalett/opt/anaconda3/share/proj/proj.db lacks DATABASE.LAYOUT.VERSION.MAJOR / DATABASE.LAYOUT.VERSION.MINOR metadata. It comes from another PROJ installation.\n"
     ]
    },
    {
     "data": {
      "text/plain": [
       "<Figure size 500x500 with 0 Axes>"
      ]
     },
     "metadata": {},
     "output_type": "display_data"
    },
    {
     "data": {
      "image/png": "[encoded data removed]",
      "text/plain": [
       "<Figure size 500x500 with 2 Axes>"
      ]
     },
     "metadata": {},
     "output_type": "display_data"
    }
   ],
   "source": [
    "# paint changed terrain pixels\n",
    "defecitOptimizer.paint_changed_terrain_geotiff(TERRAIN_CHANGED_DEFICIT)\n",
    "with GeoTiff.from_file(TERRAIN_CHANGED_DEFICIT) as terrain_changed:\n",
    "    terrain_changed.draw_geotiff()"
   ]
  },
  {
   "cell_type": "code",
   "execution_count": 10,
   "metadata": {},
   "outputs": [
    {
     "name": "stderr",
     "output_type": "stream",
     "text": [
      "ERROR 1: PROJ: internal_proj_create_from_name: /Users/nvalett/opt/anaconda3/share/proj/proj.db lacks DATABASE.LAYOUT.VERSION.MAJOR / DATABASE.LAYOUT.VERSION.MINOR metadata. It comes from another PROJ installation.\n"
     ]
    },
    {
     "data": {
      "text/plain": [
       "<Figure size 500x500 with 0 Axes>"
      ]
     },
     "metadata": {},
     "output_type": "display_data"
    },
    {
     "data": {
      "image/png": "[encoded data removed]",
      "text/plain": [
       "<Figure size 500x500 with 2 Axes>"
      ]
     },
     "metadata": {},
     "output_type": "display_data"
    }
   ],
   "source": [
    "# view diff of before and after\n",
    "defecitOptimizer.get_connectivity_difference_tif(CONNECTIVITY_DIFF_DEFECIT)\n",
    "with GeoTiff.from_file(CONNECTIVITY_DIFF_DEFECIT) as connectivity_changed:\n",
    "    connectivity_changed.draw_geotiff()"
   ]
  },
  {
   "cell_type": "code",
   "execution_count": 16,
   "metadata": {},
   "outputs": [
    {
     "name": "stderr",
     "output_type": "stream",
     "text": [
      "ERROR 1: PROJ: internal_proj_create_from_name: /Users/nvalett/opt/anaconda3/share/proj/proj.db lacks DATABASE.LAYOUT.VERSION.MAJOR / DATABASE.LAYOUT.VERSION.MINOR metadata. It comes from another PROJ installation.\n",
      "ERROR 1: PROJ: internal_proj_create_from_name: /Users/nvalett/opt/anaconda3/share/proj/proj.db lacks DATABASE.LAYOUT.VERSION.MAJOR / DATABASE.LAYOUT.VERSION.MINOR metadata. It comes from another PROJ installation.\n",
      "ERROR 1: PROJ: internal_proj_create_from_name: /Users/nvalett/opt/anaconda3/share/proj/proj.db lacks DATABASE.LAYOUT.VERSION.MAJOR / DATABASE.LAYOUT.VERSION.MINOR metadata. It comes from another PROJ installation.\n",
      "ERROR 1: PROJ: internal_proj_create_from_name: /Users/nvalett/opt/anaconda3/share/proj/proj.db lacks DATABASE.LAYOUT.VERSION.MAJOR / DATABASE.LAYOUT.VERSION.MINOR metadata. It comes from another PROJ installation.\n",
      "ERROR 1: PROJ: internal_proj_create_from_name: /Users/nvalett/opt/anaconda3/share/proj/proj.db lacks DATABASE.LAYOUT.VERSION.MAJOR / DATABASE.LAYOUT.VERSION.MINOR metadata. It comes from another PROJ installation.\n"
     ]
    },
    {
     "name": "stdout",
     "output_type": "stream",
     "text": [
      "Delta connectivity: 2576\n",
      "Permiability Restored: 9.990861313868594\n",
      "Percent connectivity changed: 0.0009565003967471561%\n",
      "Connectivity/permiability_restored: 257.83562788767597\n"
     ]
    }
   ],
   "source": [
    "# probalistic deficit restoration\n",
    "probalisticDefecitOptimizer.run_connectivity()\n",
    "permiability_restored = probalisticDefecitOptimizer.restore()\n",
    "probalisticDefecitOptimizer.run_connectivity(restored=True)\n",
    "print(f\"Delta connectivity: {probalisticDefecitOptimizer.get_delta_connectivity()}\")\n",
    "print(f\"Permiability Restored: {permiability_restored}\")\n",
    "print(f\"Percent connectivity changed: {probalisticDefecitOptimizer.get_connectivity_percent_changed()}%\")\n",
    "print(f\"Connectivity/permiability_restored: {probalisticDefecitOptimizer.get_delta_connectivity()/permiability_restored}\")"
   ]
  },
  {
   "cell_type": "code",
   "execution_count": 17,
   "metadata": {},
   "outputs": [
    {
     "name": "stderr",
     "output_type": "stream",
     "text": [
      "ERROR 1: PROJ: internal_proj_create_from_name: /Users/nvalett/opt/anaconda3/share/proj/proj.db lacks DATABASE.LAYOUT.VERSION.MAJOR / DATABASE.LAYOUT.VERSION.MINOR metadata. It comes from another PROJ installation.\n"
     ]
    },
    {
     "data": {
      "text/plain": [
       "<Figure size 500x500 with 0 Axes>"
      ]
     },
     "metadata": {},
     "output_type": "display_data"
    },
    {
     "data": {
      "image/png": "[encoded data removed]",
      "text/plain": [
       "<Figure size 500x500 with 2 Axes>"
      ]
     },
     "metadata": {},
     "output_type": "display_data"
    }
   ],
   "source": [
    "# paint changed terrain pixels\n",
    "probalisticDefecitOptimizer.paint_changed_terrain_geotiff(TERRAIN_CHANGED_PROBALISTIC)\n",
    "with GeoTiff.from_file(TERRAIN_CHANGED_PROBALISTIC) as terrain_changed:\n",
    "    terrain_changed.draw_geotiff()"
   ]
  },
  {
   "cell_type": "code",
   "execution_count": 18,
   "metadata": {},
   "outputs": [
    {
     "name": "stderr",
     "output_type": "stream",
     "text": [
      "ERROR 1: PROJ: internal_proj_create_from_name: /Users/nvalett/opt/anaconda3/share/proj/proj.db lacks DATABASE.LAYOUT.VERSION.MAJOR / DATABASE.LAYOUT.VERSION.MINOR metadata. It comes from another PROJ installation.\n"
     ]
    },
    {
     "data": {
      "text/plain": [
       "<Figure size 500x500 with 0 Axes>"
      ]
     },
     "metadata": {},
     "output_type": "display_data"
    },
    {
     "data": {
      "image/png": "[encoded data removed]",
      "text/plain": [
       "<Figure size 500x500 with 2 Axes>"
      ]
     },
     "metadata": {},
     "output_type": "display_data"
    }
   ],
   "source": [
    "# view diff of before and after\n",
    "probalisticDefecitOptimizer.get_connectivity_difference_tif(CONNECTIVITY_DIFF_PROBALISTIC)\n",
    "with GeoTiff.from_file(CONNECTIVITY_DIFF_PROBALISTIC) as connectivity_changed:\n",
    "    connectivity_changed.draw_geotiff()"
   ]
  },
  {
   "cell_type": "markdown",
   "metadata": {},
   "source": [
    "Low Res Deficit Optimizer"
   ]
  },
  {
   "cell_type": "code",
   "execution_count": 3,
   "metadata": {},
   "outputs": [
    {
     "name": "stderr",
     "output_type": "stream",
     "text": [
      "ERROR 1: PROJ: internal_proj_create_from_name: /Users/nvalett/opt/anaconda3/share/proj/proj.db lacks DATABASE.LAYOUT.VERSION.MAJOR / DATABASE.LAYOUT.VERSION.MINOR metadata. It comes from another PROJ installation.\n",
      "ERROR 1: PROJ: internal_proj_create_from_name: /Users/nvalett/opt/anaconda3/share/proj/proj.db lacks DATABASE.LAYOUT.VERSION.MAJOR / DATABASE.LAYOUT.VERSION.MINOR metadata. It comes from another PROJ installation.\n",
      "ERROR 1: PROJ: internal_proj_create_from_name: /Users/nvalett/opt/anaconda3/share/proj/proj.db lacks DATABASE.LAYOUT.VERSION.MAJOR / DATABASE.LAYOUT.VERSION.MINOR metadata. It comes from another PROJ installation.\n",
      "ERROR 1: PROJ: internal_proj_create_from_name: /Users/nvalett/opt/anaconda3/share/proj/proj.db lacks DATABASE.LAYOUT.VERSION.MAJOR / DATABASE.LAYOUT.VERSION.MINOR metadata. It comes from another PROJ installation.\n",
      "ERROR 1: PROJ: internal_proj_create_from_name: /Users/nvalett/opt/anaconda3/share/proj/proj.db lacks DATABASE.LAYOUT.VERSION.MAJOR / DATABASE.LAYOUT.VERSION.MINOR metadata. It comes from another PROJ installation.\n",
      "ERROR 1: PROJ: internal_proj_create_from_name: /Users/nvalett/opt/anaconda3/share/proj/proj.db lacks DATABASE.LAYOUT.VERSION.MAJOR / DATABASE.LAYOUT.VERSION.MINOR metadata. It comes from another PROJ installation.\n"
     ]
    },
    {
     "name": "stdout",
     "output_type": "stream",
     "text": [
      "Delta connectivity: 6456\n",
      "Permiability Restored: 19.854481751824824\n",
      "Percent connectivity changed: 0.002397191988120978%\n",
      "Connectivity/permiability_restored: 325.1658784499187\n"
     ]
    }
   ],
   "source": [
    "lowResDefecitRestoration = lowResDefecitRestoration(HABITAT_PATH, TERRAIN_PATH, RESTORED_TERRAIN_PATH, CONNECTIVITY_PATH, RESTORED_CONNECTIVITY_PATH, FLOW_PATH, RESTORED_FLOW_PATH, DEATH_PATH, LOW_RES_DEATH_PATH, PERMEABILITY_PATH, 2, 2, 50)\n",
    "\n",
    "lowResDefecitRestoration.run_connectivity()\n",
    "permiability_restored = lowResDefecitRestoration.restore()\n",
    "lowResDefecitRestoration.run_connectivity(restored=True)\n",
    "print(f\"Delta connectivity: {defecitOptimizer.get_delta_connectivity()}\")\n",
    "print(f\"Permiability Restored: {permiability_restored}\")\n",
    "print(f\"Percent connectivity changed: {defecitOptimizer.get_connectivity_percent_changed()}%\")\n",
    "print(f\"Connectivity/permiability_restored: {defecitOptimizer.get_delta_connectivity()/permiability_restored}\")"
   ]
  },
  {
   "cell_type": "code",
   "execution_count": 24,
   "metadata": {},
   "outputs": [
    {
     "name": "stderr",
     "output_type": "stream",
     "text": [
      "ERROR 1: PROJ: internal_proj_create_from_name: /Users/nvalett/opt/anaconda3/share/proj/proj.db lacks DATABASE.LAYOUT.VERSION.MAJOR / DATABASE.LAYOUT.VERSION.MINOR metadata. It comes from another PROJ installation.\n",
      "ERROR 1: PROJ: internal_proj_create_from_name: /Users/nvalett/opt/anaconda3/share/proj/proj.db lacks DATABASE.LAYOUT.VERSION.MAJOR / DATABASE.LAYOUT.VERSION.MINOR metadata. It comes from another PROJ installation.\n",
      "ERROR 1: PROJ: internal_proj_create_from_name: /Users/nvalett/opt/anaconda3/share/proj/proj.db lacks DATABASE.LAYOUT.VERSION.MAJOR / DATABASE.LAYOUT.VERSION.MINOR metadata. It comes from another PROJ installation.\n",
      "ERROR 1: PROJ: internal_proj_create_from_name: /Users/nvalett/opt/anaconda3/share/proj/proj.db lacks DATABASE.LAYOUT.VERSION.MAJOR / DATABASE.LAYOUT.VERSION.MINOR metadata. It comes from another PROJ installation.\n",
      "ERROR 1: PROJ: internal_proj_create_from_name: /Users/nvalett/opt/anaconda3/share/proj/proj.db lacks DATABASE.LAYOUT.VERSION.MAJOR / DATABASE.LAYOUT.VERSION.MINOR metadata. It comes from another PROJ installation.\n",
      "ERROR 1: PROJ: internal_proj_create_from_name: /Users/nvalett/opt/anaconda3/share/proj/proj.db lacks DATABASE.LAYOUT.VERSION.MAJOR / DATABASE.LAYOUT.VERSION.MINOR metadata. It comes from another PROJ installation.\n",
      "ERROR 1: PROJ: internal_proj_create_from_name: /Users/nvalett/opt/anaconda3/share/proj/proj.db lacks DATABASE.LAYOUT.VERSION.MAJOR / DATABASE.LAYOUT.VERSION.MINOR metadata. It comes from another PROJ installation.\n"
     ]
    },
    {
     "name": "stdout",
     "output_type": "stream",
     "text": [
      "Delta connectivity: 1356\n",
      "Permiability Restored: 36.277781022350354\n",
      "Percent connectivity changed: 0.0004128372912637114%\n",
      "Connectivity/permiability_restored: 37.37825086833681\n"
     ]
    }
   ],
   "source": [
    "noisyOptimizer.run_connectivity()\n",
    "noisyOptimizer.run_noisy_connectivity()\n",
    "permiability_restored = noisyOptimizer.restore()\n",
    "noisyOptimizer.run_connectivity(restored=True)\n",
    "print(f\"Delta connectivity: {noisyOptimizer.get_delta_connectivity()}\")\n",
    "print(f\"Permiability Restored: {permiability_restored}\")\n",
    "print(f\"Percent connectivity changed: {noisyOptimizer.get_connectivity_percent_changed()}%\")\n",
    "print(f\"Connectivity/permiability_restored: {noisyOptimizer.get_delta_connectivity()/permiability_restored}\")"
   ]
  },
  {
   "cell_type": "code",
   "execution_count": 26,
   "metadata": {},
   "outputs": [
    {
     "name": "stderr",
     "output_type": "stream",
     "text": [
      "ERROR 1: PROJ: internal_proj_create_from_name: /Users/nvalett/opt/anaconda3/share/proj/proj.db lacks DATABASE.LAYOUT.VERSION.MAJOR / DATABASE.LAYOUT.VERSION.MINOR metadata. It comes from another PROJ installation.\n"
     ]
    }
   ],
   "source": [
    "# paint changed terrain pixels\n",
    "noisyOptimizer.paint_changed_terrain_geotiff(TERRAIN_CHANGED_NOISY)"
   ]
  },
  {
   "cell_type": "code",
   "execution_count": 27,
   "metadata": {},
   "outputs": [
    {
     "name": "stderr",
     "output_type": "stream",
     "text": [
      "ERROR 1: PROJ: internal_proj_create_from_name: /Users/nvalett/opt/anaconda3/share/proj/proj.db lacks DATABASE.LAYOUT.VERSION.MAJOR / DATABASE.LAYOUT.VERSION.MINOR metadata. It comes from another PROJ installation.\n"
     ]
    }
   ],
   "source": [
    "# view diff of before and after\n",
    "noisyOptimizer.get_connectivity_difference_tif(CONNECTIVITY_DIFF_NOISY)"
   ]
  },
  {
   "cell_type": "code",
   "execution_count": 28,
   "metadata": {},
   "outputs": [
    {
     "name": "stderr",
     "output_type": "stream",
     "text": [
      "ERROR 1: PROJ: internal_proj_create_from_name: /Users/nvalett/opt/anaconda3/share/proj/proj.db lacks DATABASE.LAYOUT.VERSION.MAJOR / DATABASE.LAYOUT.VERSION.MINOR metadata. It comes from another PROJ installation.\n",
      "ERROR 1: PROJ: internal_proj_create_from_name: /Users/nvalett/opt/anaconda3/share/proj/proj.db lacks DATABASE.LAYOUT.VERSION.MAJOR / DATABASE.LAYOUT.VERSION.MINOR metadata. It comes from another PROJ installation.\n",
      "ERROR 1: PROJ: internal_proj_create_from_name: /Users/nvalett/opt/anaconda3/share/proj/proj.db lacks DATABASE.LAYOUT.VERSION.MAJOR / DATABASE.LAYOUT.VERSION.MINOR metadata. It comes from another PROJ installation.\n",
      "ERROR 1: PROJ: internal_proj_create_from_name: /Users/nvalett/opt/anaconda3/share/proj/proj.db lacks DATABASE.LAYOUT.VERSION.MAJOR / DATABASE.LAYOUT.VERSION.MINOR metadata. It comes from another PROJ installation.\n"
     ]
    },
    {
     "name": "stdout",
     "output_type": "stream",
     "text": [
      "{(19, 4): 62, (235, 14): 60, (233, 23): 60, (228, 11): 59, (233, 13): 58, (230, 15): 58, (223, 13): 57, (230, 28): 57, (224, 12): 57, (226, 13): 57, (226, 14): 57, (119, 100): 57, (230, 16): 57, (226, 10): 57, (242, 164): 56, (230, 14): 56, (223, 10): 56, (182, 162): 56, (231, 12): 56, (245, 17): 56, (238, 13): 56, (229, 15): 56, (229, 14): 56, (122, 97): 56, (243, 159): 56, (121, 98): 56, (235, 28): 56, (195, 87): 56, (239, 23): 56, (283, 50): 56, (50, 97): 55, (209, 143): 55, (231, 17): 55, (156, 166): 55, (224, 11): 55, (223, 11): 55, (284, 51): 55, (238, 22): 55, (238, 24): 55, (227, 12): 55, (238, 23): 55, (10, 4): 55, (237, 23): 55, (225, 14): 54, (162, 162): 54, (48, 112): 54, (181, 161): 54, (175, 155): 54, (231, 15): 54, (242, 19): 54}\n"
     ]
    },
    {
     "name": "stderr",
     "output_type": "stream",
     "text": [
      "ERROR 1: PROJ: internal_proj_create_from_name: /Users/nvalett/opt/anaconda3/share/proj/proj.db lacks DATABASE.LAYOUT.VERSION.MAJOR / DATABASE.LAYOUT.VERSION.MINOR metadata. It comes from another PROJ installation.\n",
      "ERROR 1: PROJ: internal_proj_create_from_name: /Users/nvalett/opt/anaconda3/share/proj/proj.db lacks DATABASE.LAYOUT.VERSION.MAJOR / DATABASE.LAYOUT.VERSION.MINOR metadata. It comes from another PROJ installation.\n"
     ]
    },
    {
     "name": "stdout",
     "output_type": "stream",
     "text": [
      "Delta connectivity: 1118\n",
      "Permiability Restored: 31.91635036510222\n",
      "Percent connectivity changed: 0.0003403776486967768%\n",
      "Connectivity/permiability_restored: 35.02906777281267\n"
     ]
    }
   ],
   "source": [
    "# utopian restoration\n",
    "utopianOptimizer.run_connectivity()\n",
    "utopianOptimizer.run_utopian_connectivity()\n",
    "permiability_restored = utopianOptimizer.restore()\n",
    "utopianOptimizer.run_connectivity(restored=True)\n",
    "print(f\"Delta connectivity: {utopianOptimizer.get_delta_connectivity()}\")\n",
    "print(f\"Permiability Restored: {permiability_restored}\")\n",
    "print(f\"Percent connectivity changed: {utopianOptimizer.get_connectivity_percent_changed()}%\")\n",
    "print(f\"Connectivity/permiability_restored: {utopianOptimizer.get_delta_connectivity()/permiability_restored}\")"
   ]
  },
  {
   "cell_type": "code",
   "execution_count": 29,
   "metadata": {},
   "outputs": [
    {
     "name": "stderr",
     "output_type": "stream",
     "text": [
      "ERROR 1: PROJ: internal_proj_create_from_name: /Users/nvalett/opt/anaconda3/share/proj/proj.db lacks DATABASE.LAYOUT.VERSION.MAJOR / DATABASE.LAYOUT.VERSION.MINOR metadata. It comes from another PROJ installation.\n"
     ]
    }
   ],
   "source": [
    "# paint changed terrain pixels\n",
    "diff = utopianOptimizer.get_flow_diff()\n",
    "highest_diff = utopianOptimizer.get_highest_diff_pixels(diff)\n",
    "utopianOptimizer.paint_changed_terrain_geotiff(TERRAIN_CHANGED_UTOPIAN, highest_diff)"
   ]
  },
  {
   "cell_type": "code",
   "execution_count": 30,
   "metadata": {},
   "outputs": [
    {
     "name": "stderr",
     "output_type": "stream",
     "text": [
      "ERROR 1: PROJ: internal_proj_create_from_name: /Users/nvalett/opt/anaconda3/share/proj/proj.db lacks DATABASE.LAYOUT.VERSION.MAJOR / DATABASE.LAYOUT.VERSION.MINOR metadata. It comes from another PROJ installation.\n"
     ]
    }
   ],
   "source": [
    "# view diff of before and after\n",
    "utopianOptimizer.get_connectivity_difference_tif(CONNECTIVITY_DIFF_UTOPIAN)"
   ]
  },
  {
   "cell_type": "markdown",
   "metadata": {},
   "source": [
    "## Now with more pixels restored..."
   ]
  },
  {
   "cell_type": "code",
   "execution_count": 70,
   "metadata": {},
   "outputs": [],
   "source": [
    "DATA_PATH=\"/Users/nvalett/Documents/Natalie/Species Dist Research/Thesis/EcoLinker/tests/assets\"\n",
    "HABITAT_PATH = os.path.join(DATA_PATH, \"smol/hab_smol.tif\")\n",
    "TERRAIN_PATH = os.path.join(DATA_PATH, \"smol/terrain.tif\")\n",
    "RESTORED_TERRAIN_PATH = os.path.join(DATA_PATH, \"smol/restored_ter_smol.tif\")\n",
    "PERMEABILITY_PATH = os.path.join(DATA_PATH, \"paper_repro/transmission_refined_1.csv\")\n",
    "\n",
    "CONNECTIVITY_PATH = os.path.join(DATA_PATH, \"smol/repop.tif\")\n",
    "NOISY_CONNECTIVITY_PATH = os.path.join(DATA_PATH, \"smol/repop_noisy.tif\")\n",
    "UTOPIAN_CONNECTIVITY_PATH = os.path.join(DATA_PATH, \"smol/repop_utopian.tif\")\n",
    "RESTORED_CONNECTIVITY_PATH = os.path.join(DATA_PATH, \"smol/repop_after_restoration.tif\")\n",
    "FLOW_PATH = os.path.join(DATA_PATH, \"smol/grad.tif\")\n",
    "NOISY_FLOW_PATH = os.path.join(DATA_PATH, \"smol/grad_noisy.tif\")\n",
    "UTOPIAN_FLOW_PATH = os.path.join(DATA_PATH, \"smol/grad_utopian.tif\")\n",
    "RESTORED_FLOW_PATH = os.path.join(DATA_PATH, \"smol/grad_after_restoration.tif\")\n",
    "DEATH_PATH = os.path.join(DATA_PATH, \"smol/death.tif\")\n",
    "\n",
    "# terrain changed tiffs\n",
    "TERRAIN_CHANGED_DEFICIT = os.path.join(DATA_PATH, \"smol/changed_terrain_defecit_250.tif\")\n",
    "TERRAIN_CHANGED_NOISY = os.path.join(DATA_PATH, \"smol/changed_terrain_noisy_100.tif\")\n",
    "TERRAIN_CHANGED_UTOPIAN = os.path.join(DATA_PATH, \"smol/changed_terrain_utopian_250.tif\")\n",
    "# changed connectivity\n",
    "CONNECTIVITY_DIFF_DEFECIT = os.path.join(DATA_PATH, \"smol/connectivity_diff_defecit_250.tif\")\n",
    "CONNECTIVITY_DIFF_NOISY = os.path.join(DATA_PATH, \"smol/connectivity_diff_noisy_100.tif\")\n",
    "CONNECTIVITY_DIFF_UTOPIAN = os.path.join(DATA_PATH, \"smol/connectivity_diff_utopian_250.tif\")\n",
    "\n",
    "defecitOptimizer = defecitRestoration(HABITAT_PATH, TERRAIN_PATH, RESTORED_TERRAIN_PATH, CONNECTIVITY_PATH, FLOW_PATH, RESTORED_CONNECTIVITY_PATH, RESTORED_FLOW_PATH, DEATH_PATH, PERMEABILITY_PATH, 250)\n",
    "noisyOptimizer = noisyDefecitRestoration(HABITAT_PATH, TERRAIN_PATH, RESTORED_TERRAIN_PATH, CONNECTIVITY_PATH, FLOW_PATH, RESTORED_CONNECTIVITY_PATH, RESTORED_FLOW_PATH, DEATH_PATH, PERMEABILITY_PATH, 100, NOISY_CONNECTIVITY_PATH, NOISY_FLOW_PATH, rand_divisor=1)\n",
    "utopianOptimizer = utopianRestoration(HABITAT_PATH, TERRAIN_PATH, RESTORED_TERRAIN_PATH, CONNECTIVITY_PATH, FLOW_PATH, RESTORED_CONNECTIVITY_PATH, RESTORED_FLOW_PATH, DEATH_PATH, PERMEABILITY_PATH, 250, UTOPIAN_CONNECTIVITY_PATH, UTOPIAN_FLOW_PATH, permiability=1.0)"
   ]
  },
  {
   "cell_type": "code",
   "execution_count": 69,
   "metadata": {},
   "outputs": [
    {
     "name": "stderr",
     "output_type": "stream",
     "text": [
      "ERROR 1: PROJ: internal_proj_create_from_name: /Users/nvalett/opt/anaconda3/share/proj/proj.db lacks DATABASE.LAYOUT.VERSION.MAJOR / DATABASE.LAYOUT.VERSION.MINOR metadata. It comes from another PROJ installation.\n",
      "ERROR 1: PROJ: internal_proj_create_from_name: /Users/nvalett/opt/anaconda3/share/proj/proj.db lacks DATABASE.LAYOUT.VERSION.MAJOR / DATABASE.LAYOUT.VERSION.MINOR metadata. It comes from another PROJ installation.\n",
      "ERROR 1: PROJ: internal_proj_create_from_name: /Users/nvalett/opt/anaconda3/share/proj/proj.db lacks DATABASE.LAYOUT.VERSION.MAJOR / DATABASE.LAYOUT.VERSION.MINOR metadata. It comes from another PROJ installation.\n",
      "ERROR 1: PROJ: internal_proj_create_from_name: /Users/nvalett/opt/anaconda3/share/proj/proj.db lacks DATABASE.LAYOUT.VERSION.MAJOR / DATABASE.LAYOUT.VERSION.MINOR metadata. It comes from another PROJ installation.\n",
      "ERROR 1: PROJ: internal_proj_create_from_name: /Users/nvalett/opt/anaconda3/share/proj/proj.db lacks DATABASE.LAYOUT.VERSION.MAJOR / DATABASE.LAYOUT.VERSION.MINOR metadata. It comes from another PROJ installation.\n"
     ]
    },
    {
     "name": "stdout",
     "output_type": "stream",
     "text": [
      "Delta connectivity: 13359\n",
      "Permiability Restored: 135.31962044291953\n",
      "Percent connectivity changed: 0.004067178004418821%\n",
      "Connectivity/permiability_restored: 98.72182582447523\n"
     ]
    },
    {
     "name": "stderr",
     "output_type": "stream",
     "text": [
      "ERROR 1: PROJ: internal_proj_create_from_name: /Users/nvalett/opt/anaconda3/share/proj/proj.db lacks DATABASE.LAYOUT.VERSION.MAJOR / DATABASE.LAYOUT.VERSION.MINOR metadata. It comes from another PROJ installation.\n",
      "ERROR 1: PROJ: internal_proj_create_from_name: /Users/nvalett/opt/anaconda3/share/proj/proj.db lacks DATABASE.LAYOUT.VERSION.MAJOR / DATABASE.LAYOUT.VERSION.MINOR metadata. It comes from another PROJ installation.\n"
     ]
    }
   ],
   "source": [
    "defecitOptimizer.run_connectivity()\n",
    "permiability_restored = defecitOptimizer.restore()\n",
    "defecitOptimizer.run_connectivity(restored=True)\n",
    "print(f\"Delta connectivity: {defecitOptimizer.get_delta_connectivity()}\")\n",
    "print(f\"Permiability Restored: {permiability_restored}\")\n",
    "print(f\"Percent connectivity changed: {defecitOptimizer.get_connectivity_percent_changed()}%\")\n",
    "print(f\"Connectivity/permiability_restored: {defecitOptimizer.get_delta_connectivity()/permiability_restored}\")\n",
    "\n",
    "# paint changed terrain pixels\n",
    "defecitOptimizer.paint_changed_terrain_geotiff(TERRAIN_CHANGED_DEFICIT)\n",
    "\n",
    "# view diff of before and after\n",
    "defecitOptimizer.get_connectivity_difference_tif(CONNECTIVITY_DIFF_DEFECIT)"
   ]
  },
  {
   "cell_type": "code",
   "execution_count": 39,
   "metadata": {},
   "outputs": [
    {
     "name": "stderr",
     "output_type": "stream",
     "text": [
      "ERROR 1: PROJ: internal_proj_create_from_name: /Users/nvalett/opt/anaconda3/share/proj/proj.db lacks DATABASE.LAYOUT.VERSION.MAJOR / DATABASE.LAYOUT.VERSION.MINOR metadata. It comes from another PROJ installation.\n",
      "ERROR 1: PROJ: internal_proj_create_from_name: /Users/nvalett/opt/anaconda3/share/proj/proj.db lacks DATABASE.LAYOUT.VERSION.MAJOR / DATABASE.LAYOUT.VERSION.MINOR metadata. It comes from another PROJ installation.\n",
      "ERROR 1: PROJ: internal_proj_create_from_name: /Users/nvalett/opt/anaconda3/share/proj/proj.db lacks DATABASE.LAYOUT.VERSION.MAJOR / DATABASE.LAYOUT.VERSION.MINOR metadata. It comes from another PROJ installation.\n",
      "ERROR 1: PROJ: internal_proj_create_from_name: /Users/nvalett/opt/anaconda3/share/proj/proj.db lacks DATABASE.LAYOUT.VERSION.MAJOR / DATABASE.LAYOUT.VERSION.MINOR metadata. It comes from another PROJ installation.\n",
      "ERROR 1: PROJ: internal_proj_create_from_name: /Users/nvalett/opt/anaconda3/share/proj/proj.db lacks DATABASE.LAYOUT.VERSION.MAJOR / DATABASE.LAYOUT.VERSION.MINOR metadata. It comes from another PROJ installation.\n",
      "ERROR 1: PROJ: internal_proj_create_from_name: /Users/nvalett/opt/anaconda3/share/proj/proj.db lacks DATABASE.LAYOUT.VERSION.MAJOR / DATABASE.LAYOUT.VERSION.MINOR metadata. It comes from another PROJ installation.\n",
      "ERROR 1: PROJ: internal_proj_create_from_name: /Users/nvalett/opt/anaconda3/share/proj/proj.db lacks DATABASE.LAYOUT.VERSION.MAJOR / DATABASE.LAYOUT.VERSION.MINOR metadata. It comes from another PROJ installation.\n"
     ]
    },
    {
     "name": "stdout",
     "output_type": "stream",
     "text": [
      "Delta connectivity: 2328\n",
      "Permiability Restored: 72.68116788502192\n",
      "Percent connectivity changed: 0.0007087649071253098%\n",
      "Connectivity/permiability_restored: 32.03030534240703\n"
     ]
    },
    {
     "name": "stderr",
     "output_type": "stream",
     "text": [
      "ERROR 1: PROJ: internal_proj_create_from_name: /Users/nvalett/opt/anaconda3/share/proj/proj.db lacks DATABASE.LAYOUT.VERSION.MAJOR / DATABASE.LAYOUT.VERSION.MINOR metadata. It comes from another PROJ installation.\n",
      "ERROR 1: PROJ: internal_proj_create_from_name: /Users/nvalett/opt/anaconda3/share/proj/proj.db lacks DATABASE.LAYOUT.VERSION.MAJOR / DATABASE.LAYOUT.VERSION.MINOR metadata. It comes from another PROJ installation.\n"
     ]
    }
   ],
   "source": [
    "noisyOptimizer.run_connectivity()\n",
    "noisyOptimizer.run_noisy_connectivity()\n",
    "permiability_restored = noisyOptimizer.restore()\n",
    "noisyOptimizer.run_connectivity(restored=True)\n",
    "print(f\"Delta connectivity: {noisyOptimizer.get_delta_connectivity()}\")\n",
    "print(f\"Permiability Restored: {permiability_restored}\")\n",
    "print(f\"Percent connectivity changed: {noisyOptimizer.get_connectivity_percent_changed()}%\")\n",
    "print(f\"Connectivity/permiability_restored: {noisyOptimizer.get_delta_connectivity()/permiability_restored}\")\n",
    "\n",
    "# paint changed terrain pixels\n",
    "noisyOptimizer.paint_changed_terrain_geotiff(TERRAIN_CHANGED_NOISY)\n",
    "\n",
    "# view diff of before and after\n",
    "noisyOptimizer.get_connectivity_difference_tif(CONNECTIVITY_DIFF_NOISY)"
   ]
  },
  {
   "cell_type": "code",
   "execution_count": 71,
   "metadata": {},
   "outputs": [
    {
     "name": "stderr",
     "output_type": "stream",
     "text": [
      "ERROR 1: PROJ: internal_proj_create_from_name: /Users/nvalett/opt/anaconda3/share/proj/proj.db lacks DATABASE.LAYOUT.VERSION.MAJOR / DATABASE.LAYOUT.VERSION.MINOR metadata. It comes from another PROJ installation.\n",
      "ERROR 1: PROJ: internal_proj_create_from_name: /Users/nvalett/opt/anaconda3/share/proj/proj.db lacks DATABASE.LAYOUT.VERSION.MAJOR / DATABASE.LAYOUT.VERSION.MINOR metadata. It comes from another PROJ installation.\n",
      "ERROR 1: PROJ: internal_proj_create_from_name: /Users/nvalett/opt/anaconda3/share/proj/proj.db lacks DATABASE.LAYOUT.VERSION.MAJOR / DATABASE.LAYOUT.VERSION.MINOR metadata. It comes from another PROJ installation.\n",
      "ERROR 1: PROJ: internal_proj_create_from_name: /Users/nvalett/opt/anaconda3/share/proj/proj.db lacks DATABASE.LAYOUT.VERSION.MAJOR / DATABASE.LAYOUT.VERSION.MINOR metadata. It comes from another PROJ installation.\n"
     ]
    },
    {
     "name": "stdout",
     "output_type": "stream",
     "text": [
      "{(19, 4): 62, (233, 23): 60, (235, 14): 60, (228, 11): 59, (233, 13): 58, (230, 15): 58, (226, 10): 57, (230, 28): 57, (119, 100): 57, (224, 12): 57, (226, 14): 57, (226, 13): 57, (223, 13): 57, (230, 16): 57, (245, 17): 56, (229, 15): 56, (122, 97): 56, (239, 23): 56, (121, 98): 56, (230, 14): 56, (229, 14): 56, (238, 13): 56, (242, 164): 56, (182, 162): 56, (231, 12): 56, (235, 28): 56, (223, 10): 56, (195, 87): 56, (243, 159): 56, (283, 50): 56, (231, 17): 55, (50, 97): 55, (156, 166): 55, (10, 4): 55, (284, 51): 55, (209, 143): 55, (223, 11): 55, (238, 24): 55, (224, 11): 55, (238, 22): 55, (227, 12): 55, (238, 23): 55, (237, 23): 55, (175, 155): 54, (222, 141): 54, (231, 15): 54, (227, 10): 54, (225, 10): 54, (224, 10): 54, (145, 168): 54, (242, 19): 54, (225, 14): 54, (234, 22): 54, (226, 11): 54, (224, 9): 54, (162, 162): 54, (48, 112): 54, (225, 11): 54, (225, 12): 54, (68, 48): 54, (261, 30): 54, (181, 161): 54, (152, 160): 54, (42, 17): 54, (227, 16): 54, (227, 11): 54, (227, 15): 53, (237, 14): 53, (233, 22): 53, (265, 14): 53, (146, 168): 53, (85, 15): 53, (110, 159): 53, (202, 80): 53, (147, 166): 53, (241, 131): 53, (70, 131): 53, (155, 161): 53, (52, 33): 53, (142, 170): 53, (243, 150): 53, (231, 29): 53, (141, 177): 53, (99, 151): 53, (193, 83): 53, (57, 126): 53, (58, 125): 53, (39, 58): 53, (188, 81): 53, (176, 154): 53, (119, 94): 53, (288, 41): 52, (160, 154): 52, (88, 42): 52, (166, 74): 52, (148, 160): 52, (196, 166): 52, (75, 20): 52, (67, 41): 52, (254, 42): 52, (83, 21): 52, (110, 33): 52, (280, 29): 52, (230, 140): 52, (142, 175): 52, (249, 137): 52, (31, 87): 52, (229, 4): 52, (228, 27): 52, (91, 26): 52, (67, 130): 52, (61, 130): 52, (94, 117): 52, (59, 129): 52, (130, 172): 52, (17, 8): 52, (144, 169): 52, (45, 121): 52, (176, 156): 52, (68, 36): 52, (56, 129): 52, (158, 158): 52, (159, 165): 51, (61, 127): 51, (146, 161): 51, (256, 22): 51, (126, 85): 51, (132, 172): 51, (210, 99): 51, (24, 96): 51, (24, 113): 51, (153, 161): 51, (32, 113): 51, (36, 92): 51, (152, 162): 51, (113, 96): 51, (162, 154): 51, (154, 153): 51, (150, 164): 51, (84, 22): 51, (51, 22): 51, (144, 168): 51, (187, 177): 51, (20, 110): 51, (174, 154): 51, (101, 161): 51, (155, 155): 51, (49, 98): 51, (99, 34): 51, (148, 166): 51, (33, 117): 51, (233, 21): 51, (87, 41): 51, (179, 161): 51, (177, 155): 51, (70, 38): 51, (190, 125): 51, (43, 122): 51, (146, 165): 51, (164, 152): 51, (229, 139): 51, (43, 120): 51, (175, 167): 51, (165, 159): 51, (58, 128): 51, (19, 92): 50, (84, 16): 50, (130, 157): 50, (12, 106): 50, (147, 167): 50, (152, 161): 50, (69, 37): 50, (165, 96): 50, (232, 22): 50, (155, 153): 50, (146, 87): 50, (150, 93): 50, (97, 156): 50, (237, 22): 50, (50, 125): 50, (99, 146): 50, (73, 125): 50, (73, 112): 50, (168, 153): 50, (60, 130): 50, (41, 93): 50, (12, 120): 50, (117, 168): 50, (191, 182): 50, (162, 153): 50, (71, 133): 50, (142, 167): 50, (109, 34): 50, (28, 116): 50, (253, 25): 50, (215, 93): 50, (134, 172): 50, (262, 9): 50, (98, 155): 50, (142, 176): 50, (68, 131): 50, (121, 102): 50, (99, 30): 50, (110, 35): 50, (62, 128): 50, (60, 131): 50, (58, 131): 50, (22, 113): 50, (209, 100): 50, (62, 129): 50, (142, 177): 50, (20, 10): 50, (19, 10): 50, (166, 155): 50, (43, 24): 50, (167, 151): 50, (287, 169): 50, (206, 97): 50, (189, 80): 50, (103, 83): 50, (125, 106): 50, (250, 11): 50, (183, 162): 50, (237, 12): 50, (69, 132): 50, (128, 170): 50, (269, 18): 50, (167, 131): 50, (187, 152): 50, (149, 158): 50, (147, 165): 50, (43, 123): 50, (151, 158): 50, (97, 154): 50, (30, 115): 50, (257, 160): 50, (87, 10): 50, (146, 158): 50, (286, 37): 49, (66, 38): 49, (158, 168): 49, (161, 152): 49, (149, 160): 49, (54, 113): 49, (219, 153): 49, (151, 161): 49, (53, 24): 49, (47, 14): 49, (11, 95): 49, (51, 126): 49}\n"
     ]
    },
    {
     "name": "stderr",
     "output_type": "stream",
     "text": [
      "ERROR 1: PROJ: internal_proj_create_from_name: /Users/nvalett/opt/anaconda3/share/proj/proj.db lacks DATABASE.LAYOUT.VERSION.MAJOR / DATABASE.LAYOUT.VERSION.MINOR metadata. It comes from another PROJ installation.\n",
      "ERROR 1: PROJ: internal_proj_create_from_name: /Users/nvalett/opt/anaconda3/share/proj/proj.db lacks DATABASE.LAYOUT.VERSION.MAJOR / DATABASE.LAYOUT.VERSION.MINOR metadata. It comes from another PROJ installation.\n"
     ]
    },
    {
     "name": "stdout",
     "output_type": "stream",
     "text": [
      "Delta connectivity: 6387\n",
      "Permiability Restored: 137.45369343274425\n",
      "Percent connectivity changed: 0.0019445367103992069%\n",
      "Connectivity/permiability_restored: 46.466557867542086\n"
     ]
    },
    {
     "name": "stderr",
     "output_type": "stream",
     "text": [
      "ERROR 1: PROJ: internal_proj_create_from_name: /Users/nvalett/opt/anaconda3/share/proj/proj.db lacks DATABASE.LAYOUT.VERSION.MAJOR / DATABASE.LAYOUT.VERSION.MINOR metadata. It comes from another PROJ installation.\n",
      "ERROR 1: PROJ: internal_proj_create_from_name: /Users/nvalett/opt/anaconda3/share/proj/proj.db lacks DATABASE.LAYOUT.VERSION.MAJOR / DATABASE.LAYOUT.VERSION.MINOR metadata. It comes from another PROJ installation.\n"
     ]
    }
   ],
   "source": [
    "# utopian restoration\n",
    "utopianOptimizer.run_connectivity()\n",
    "utopianOptimizer.run_utopian_connectivity()\n",
    "permiability_restored = utopianOptimizer.restore()\n",
    "utopianOptimizer.run_connectivity(restored=True)\n",
    "print(f\"Delta connectivity: {utopianOptimizer.get_delta_connectivity()}\")\n",
    "print(f\"Permiability Restored: {permiability_restored}\")\n",
    "print(f\"Percent connectivity changed: {utopianOptimizer.get_connectivity_percent_changed()}%\")\n",
    "print(f\"Connectivity/permiability_restored: {utopianOptimizer.get_delta_connectivity()/permiability_restored}\")\n",
    "\n",
    "# paint changed terrain pixels\n",
    "diff = utopianOptimizer.get_flow_diff()\n",
    "highest_diff = utopianOptimizer.get_highest_diff_pixels(diff)\n",
    "utopianOptimizer.paint_changed_terrain_geotiff(TERRAIN_CHANGED_UTOPIAN, highest_diff)\n",
    "\n",
    "# view diff of before and after\n",
    "utopianOptimizer.get_connectivity_difference_tif(CONNECTIVITY_DIFF_UTOPIAN)"
   ]
  },
  {
   "cell_type": "markdown",
   "metadata": {},
   "source": [
    "## Test corridor"
   ]
  },
  {
   "cell_type": "code",
   "execution_count": 64,
   "metadata": {},
   "outputs": [
    {
     "name": "stdout",
     "output_type": "stream",
     "text": [
      "44\n"
     ]
    },
    {
     "name": "stderr",
     "output_type": "stream",
     "text": [
      "ERROR 1: PROJ: internal_proj_create_from_name: /Users/nvalett/opt/anaconda3/share/proj/proj.db lacks DATABASE.LAYOUT.VERSION.MAJOR / DATABASE.LAYOUT.VERSION.MINOR metadata. It comes from another PROJ installation.\n",
      "ERROR 1: PROJ: internal_proj_create_from_name: /Users/nvalett/opt/anaconda3/share/proj/proj.db lacks DATABASE.LAYOUT.VERSION.MAJOR / DATABASE.LAYOUT.VERSION.MINOR metadata. It comes from another PROJ installation.\n",
      "ERROR 1: PROJ: internal_proj_create_from_name: /Users/nvalett/opt/anaconda3/share/proj/proj.db lacks DATABASE.LAYOUT.VERSION.MAJOR / DATABASE.LAYOUT.VERSION.MINOR metadata. It comes from another PROJ installation.\n",
      "ERROR 1: PROJ: internal_proj_create_from_name: /Users/nvalett/opt/anaconda3/share/proj/proj.db lacks DATABASE.LAYOUT.VERSION.MAJOR / DATABASE.LAYOUT.VERSION.MINOR metadata. It comes from another PROJ installation.\n"
     ]
    },
    {
     "name": "stdout",
     "output_type": "stream",
     "text": [
      "Delta connectivity: 77\n",
      "Permiability Restored: 3.700000000000002\n",
      "Percent connectivity changed: 2.344282553636119e-05%\n",
      "Connectivity/permiability_restored: 20.8108108108108\n"
     ]
    }
   ],
   "source": [
    "# xys = [(235, 67), (234, 67), (236, 67), (235, 66), (235, 68), (234, 66), (236, 68), (235, 69), (229, 71)]\n",
    "defecitOptimizer2 = defecitRestoration(HABITAT_PATH, TERRAIN_PATH, RESTORED_TERRAIN_PATH, CONNECTIVITY_PATH, FLOW_PATH, RESTORED_CONNECTIVITY_PATH, RESTORED_FLOW_PATH, DEATH_PATH, PERMEABILITY_PATH, 250)\n",
    "\n",
    "# reset restored terrain tif\n",
    "current_terr_tile = GeoTiff.from_file(defecitOptimizer2.terrain_fn).get_all_as_tile()\n",
    "with GeoTiff.from_file(defecitOptimizer2.restored_terr_fn) as restored_terr:\n",
    "    restored_terr.set_tile(current_terr_tile)\n",
    "\n",
    "xys = {}\n",
    "for rows in range(45, 100, 5):\n",
    "    for cols in range(238, 245, 2):\n",
    "        xys[(cols, rows)] = 1\n",
    "\n",
    "print(len(xys))\n",
    "\n",
    "defecitOptimizer2.run_connectivity()\n",
    "permiability_change = 0\n",
    "for x, y in xys.keys():\n",
    "    permiability_change += defecitOptimizer2.change_terrain(x, y)\n",
    "defecitOptimizer2.run_connectivity(restored=True)\n",
    "print(f\"Delta connectivity: {defecitOptimizer2.get_delta_connectivity()}\")\n",
    "print(f\"Permiability Restored: {permiability_change}\")\n",
    "print(f\"Percent connectivity changed: {defecitOptimizer2.get_connectivity_percent_changed()}%\")\n",
    "print(f\"Connectivity/permiability_restored: {defecitOptimizer2.get_delta_connectivity()/permiability_change}\")"
   ]
  },
  {
   "cell_type": "code",
   "execution_count": 61,
   "metadata": {},
   "outputs": [
    {
     "name": "stderr",
     "output_type": "stream",
     "text": [
      "ERROR 1: PROJ: internal_proj_create_from_name: /Users/nvalett/opt/anaconda3/share/proj/proj.db lacks DATABASE.LAYOUT.VERSION.MAJOR / DATABASE.LAYOUT.VERSION.MINOR metadata. It comes from another PROJ installation.\n",
      "ERROR 1: PROJ: internal_proj_create_from_name: /Users/nvalett/opt/anaconda3/share/proj/proj.db lacks DATABASE.LAYOUT.VERSION.MAJOR / DATABASE.LAYOUT.VERSION.MINOR metadata. It comes from another PROJ installation.\n"
     ]
    }
   ],
   "source": [
    "# paint changed terrain pixels\n",
    "defecitOptimizer2.paint_changed_terrain_geotiff(TERRAIN_CHANGED_DEFICIT, changed_pixels=xys)\n",
    "\n",
    "# view diff of before and after\n",
    "defecitOptimizer2.get_connectivity_difference_tif(CONNECTIVITY_DIFF_DEFECIT)"
   ]
  },
  {
   "cell_type": "code",
   "execution_count": null,
   "metadata": {},
   "outputs": [],
   "source": []
  }
 ],
 "metadata": {
  "interpreter": {
   "hash": "cf1cc9488f986e55b9ad02ec3dbe006a9544ef0e041cc52f3db2baca54acebc8"
  },
  "kernelspec": {
   "display_name": "Python 3.9.7 64-bit ('base': conda)",
   "language": "python",
   "name": "python3"
  },
  "language_info": {
   "codemirror_mode": {
    "name": "ipython",
    "version": 3
   },
   "file_extension": ".py",
   "mimetype": "text/x-python",
   "name": "python",
   "nbconvert_exporter": "python",
   "pygments_lexer": "ipython3",
   "version": "3.9.18"
  },
  "orig_nbformat": 4
 },
 "nbformat": 4,
 "nbformat_minor": 2
}
